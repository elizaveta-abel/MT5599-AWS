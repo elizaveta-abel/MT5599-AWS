{
 "cells": [
  {
   "cell_type": "markdown",
   "id": "daa1258f-8a9f-4ce4-ae34-f30dcc3004f6",
   "metadata": {},
   "source": [
    "Get gazeteer of location names: http://www.geonames.org/\n",
    "Paper that describes how to do it: https://core.ac.uk/download/pdf/322380584.pdf\n",
    "Unique combinations: https://core.ac.uk/download/pdf/322380584.pdf\n"
   ]
  },
  {
   "cell_type": "code",
   "execution_count": null,
   "id": "a88d3d46-9332-40aa-acef-2f9afcf05586",
   "metadata": {},
   "outputs": [],
   "source": []
  },
  {
   "cell_type": "code",
   "execution_count": null,
   "id": "f11539f2-316e-4b33-83bb-8819255498e9",
   "metadata": {},
   "outputs": [],
   "source": []
  },
  {
   "cell_type": "code",
   "execution_count": null,
   "id": "da429c18-ab78-4fed-a511-a0240e73c8ae",
   "metadata": {},
   "outputs": [],
   "source": []
  },
  {
   "cell_type": "code",
   "execution_count": null,
   "id": "b57634d9-587d-4d06-b6eb-1980c9b2b35a",
   "metadata": {},
   "outputs": [],
   "source": []
  },
  {
   "cell_type": "code",
   "execution_count": null,
   "id": "a9a1c25c-cbb5-4f51-9809-b0655797ff30",
   "metadata": {},
   "outputs": [],
   "source": []
  }
 ],
 "metadata": {
  "kernelspec": {
   "display_name": "Python 3 (Data Science)",
   "language": "python",
   "name": "python3__SAGEMAKER_INTERNAL__arn:aws:sagemaker:eu-west-2:712779665605:image/datascience-1.0"
  },
  "language_info": {
   "codemirror_mode": {
    "name": "ipython",
    "version": 3
   },
   "file_extension": ".py",
   "mimetype": "text/x-python",
   "name": "python",
   "nbconvert_exporter": "python",
   "pygments_lexer": "ipython3",
   "version": "3.7.10"
  }
 },
 "nbformat": 4,
 "nbformat_minor": 5
}
