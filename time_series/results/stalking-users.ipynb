{
 "cells": [
  {
   "cell_type": "markdown",
   "id": "b9869564-327b-4b37-9023-e84bf63774c1",
   "metadata": {},
   "source": [
    "# Stalking Users"
   ]
  },
  {
   "cell_type": "code",
   "execution_count": 2,
   "id": "5a172070-5d0c-42e1-b930-6e05bc1adbb8",
   "metadata": {},
   "outputs": [
    {
     "name": "stderr",
     "output_type": "stream",
     "text": [
      "100%|██████████| 112/112 [24:03<00:00, 12.89s/it]\n"
     ]
    }
   ],
   "source": [
    "import pandas as pd\n",
    "import tqdm\n",
    "\n",
    "# combining all into one dataframe for analysis\n",
    "\n",
    "dfs = []\n",
    "\n",
    "for i in tqdm.tqdm(range(0, 112)):\n",
    "    df = pd.read_feather(\"s3://mt5599/final/processed_tweets_\" + str(i) + \".feather\")\n",
    "\n",
    "    dfs.append(df)"
   ]
  },
  {
   "cell_type": "code",
   "execution_count": 3,
   "id": "57a4e8cc-ac23-4828-b98a-df73b3871bac",
   "metadata": {
    "tags": []
   },
   "outputs": [
    {
     "data": {
      "text/plain": [
       "182571272"
      ]
     },
     "execution_count": 3,
     "metadata": {},
     "output_type": "execute_result"
    }
   ],
   "source": [
    "df = pd.concat(dfs, axis=0, ignore_index=True)\n",
    "df = df.drop_duplicates(\"id\").reset_index()\n",
    "df.to_feather(\"s3://mt5599/dissertation/stalking_users.feather\")\n",
    "df.shape[0]"
   ]
  },
  {
   "cell_type": "code",
   "execution_count": 12,
   "id": "1799482e-cb8f-4283-807d-57bf39d9bc3c",
   "metadata": {
    "tags": []
   },
   "outputs": [
    {
     "data": {
      "text/plain": [
       "Index(['index', 'id', 'DateTime', 'coordinates', 'place', 'username',\n",
       "       'user_id', 'user_location', 'tweet_content', 'lang', 'tweet_clean',\n",
       "       'place_full_name', 'place_name', 'place_type', 'place_country',\n",
       "       'place_country_code', 'coordinates_longitude', 'coordinates_latitude',\n",
       "       'ner_type', 'ner_word', 'gmaps_lat', 'gmaps_long', 'gmaps_address',\n",
       "       'distance'],\n",
       "      dtype='object')"
      ]
     },
     "execution_count": 12,
     "metadata": {},
     "output_type": "execute_result"
    }
   ],
   "source": [
    "df.columns"
   ]
  },
  {
   "cell_type": "code",
   "execution_count": 13,
   "id": "658cd3fe-b3ce-48ca-9d76-e2218d401eef",
   "metadata": {
    "tags": []
   },
   "outputs": [
    {
     "data": {
      "text/plain": [
       "es     158831071\n",
       "und      4950029\n",
       "pt       4898848\n",
       "en       4268288\n",
       "zxx      1251938\n",
       "         ...    \n",
       "te             2\n",
       "or             2\n",
       "km             2\n",
       "my             2\n",
       "ug             1\n",
       "Name: lang, Length: 72, dtype: int64"
      ]
     },
     "execution_count": 13,
     "metadata": {},
     "output_type": "execute_result"
    }
   ],
   "source": [
    "df.lang.value_counts(dropna=False)"
   ]
  },
  {
   "cell_type": "code",
   "execution_count": 8,
   "id": "42f91910-132f-4860-b283-ad42d6ca8805",
   "metadata": {
    "tags": []
   },
   "outputs": [
    {
     "name": "stdout",
     "output_type": "stream",
     "text": [
      "There were a total of 182571272 tweets from  89369 users whose tweets were collected and processed. 56435136  of those tweets were geotagged,  5825772 had a location mention,  4391768 had a geoparsed location.\n"
     ]
    }
   ],
   "source": [
    "print(\"There were a total of\", df.shape[0], \"tweets from \", len(df.username.unique()),\n",
    "      \"users whose tweets were collected and processed.\",\n",
    "     df[pd.notnull(df.place_full_name)].shape[0], \" of those tweets were geotagged, \",\n",
    "    df[df.ner_type == \"LOC\"].shape[0], \"had a location mention, \",\n",
    "     df[pd.notnull(df.gmaps_lat)].shape[0], \"had a geoparsed location.\")"
   ]
  },
  {
   "cell_type": "code",
   "execution_count": 9,
   "id": "c466660f-d989-41b0-ad11-2e8b9e443fe8",
   "metadata": {
    "tags": []
   },
   "outputs": [],
   "source": [
    "summary_table = df.groupby(['username'])[\"id\"].count().reset_index(name='counts')\n",
    "summary_table_geotagged = df[pd.notnull(df.place_full_name)].groupby(['username'])[\"id\"].count().reset_index(name='counts')"
   ]
  },
  {
   "cell_type": "code",
   "execution_count": 10,
   "id": "d4b48238-5a64-4e12-b04d-885ff9801210",
   "metadata": {
    "tags": []
   },
   "outputs": [
    {
     "name": "stdout",
     "output_type": "stream",
     "text": [
      "Over the relevant time period, Table  shows the summary statistics of tweets per user.\n",
      "\n",
      "Mean &  2042.8926361490003  &  631.7672424408647\n",
      "Median &  1164.0  &  286.0\n",
      "Max &  155484  &  155464\n",
      "Min &  1  &  1\n",
      "Std &  2822.51317317166  &  1208.6650806269374\n"
     ]
    }
   ],
   "source": [
    "import numpy as np\n",
    "\n",
    "print(\"Over the relevant time period, Table  shows the summary statistics of tweets per user.\")\n",
    "print()\n",
    "print(\"Mean & \", np.mean(summary_table.counts), \" & \", np.mean(summary_table_geotagged.counts))\n",
    "print(\"Median & \", np.median(summary_table.counts), \" & \", np.median(summary_table_geotagged.counts))\n",
    "print(\"Max & \", np.max(summary_table.counts), \" & \", np.max(summary_table_geotagged.counts))\n",
    "print(\"Min & \", np.min(summary_table.counts), \" & \", np.min(summary_table_geotagged.counts))\n",
    "print(\"Std & \", np.std(summary_table.counts), \" & \", np.std(summary_table_geotagged.counts))"
   ]
  },
  {
   "cell_type": "code",
   "execution_count": 11,
   "id": "48539c3a-1169-4fec-936e-c001c2262e7c",
   "metadata": {
    "tags": []
   },
   "outputs": [
    {
     "name": "stdout",
     "output_type": "stream",
     "text": [
      "Shape of df:  (188, 4)\n",
      "\n",
      "The number of users that tweeted only from Argentina was  188 , which is  0.21036377267285075 % of the total users. This is interesting as they could have still travelled within Argentina.\n"
     ]
    }
   ],
   "source": [
    "import pandas as pd\n",
    "\n",
    "# users that tweeted from Argentina\n",
    "argentina = df[df.place_country_code == \"AR\"].groupby(['username'])[\"id\"].count().reset_index(name='counts_1')\n",
    "\n",
    "all_ = df.groupby(['username'])[\"id\"].count().reset_index(name='counts_2')\n",
    "\n",
    "only_argentina = pd.merge(argentina, all_, how=\"left\", on=\"username\")\n",
    "only_argentina[\"only_argentina\"] = np.where(only_argentina[\"counts_1\"] == only_argentina[\"counts_2\"], \"only AR\", \"elsewhere\")\n",
    "only_argentina = only_argentina[only_argentina.only_argentina == \"only AR\"]\n",
    "\n",
    "print(\"Shape of df: \", only_argentina.shape)\n",
    "print()\n",
    "print(\"The number of users that tweeted only from Argentina was \", only_argentina.shape[0],\n",
    "      \", which is \", only_argentina.shape[0] / len(all_.username.unique()) * 100,\"% of the total users.\",\n",
    "     \"This is interesting as they could have still travelled within Argentina.\")"
   ]
  },
  {
   "cell_type": "code",
   "execution_count": 5,
   "id": "bab3c70c-5c2b-406d-aea0-bc3da6692348",
   "metadata": {
    "tags": []
   },
   "outputs": [
    {
     "data": {
      "text/plain": [
       "'\\n\\nimport numpy as np\\nimport tqdm\\n\\ndates = pd.to_datetime(pd.date_range(start=\\'2015-09-27\\', end=\\'2016-11-06\\', freq=\\'W\\', tz=\"UTC\"))\\n\\ndates_arr = []\\nfor i in range(len(dates)-1):\\n    dates_arr.append(dates[i:i+2]) \\n    \\nstay_leave = pd.DataFrame({\"username\": df.username.unique()})\\n\\nfor username in tqdm.tqdm(range(len(stay_leave))):\\n    \\n    tweeted_all_months = [None]*len(dates_arr)\\n    geotagged_all_months = [None]*len(dates_arr)\\n    \\n    average_tweets_per_month = [None]*len(dates_arr)\\n    average_geotagged_per_month = [None]*len(dates_arr)\\n    \\n    for i in range(len(dates_arr)):\\n        \\n        date = dates_arr[i]\\n        start_date = date[0]\\n        end_date = date[1]\\n        \\n        mask = (df.username == username) & (df.DateTime > start_date) & (df.DateTime <= end_date)\\n        \\n        tweets_this_month = df[mask]\\n        geotagged_this_month = df[mask & (pd.notnull(df.place_full_name))]\\n        \\n        tweeted_all_months[i] = tweets_this_month.shape[0] > 0\\n        geotagged_all_months[i] = geotagged_this_month.shape[0] > 0\\n        \\n        average_tweets_per_month[i] = tweets_this_month.shape[0]\\n        average_geotagged_per_month[i] = geotagged_this_month.shape[0]\\n        \\n    # people who tweeted at least once a month\\n    stay_leave.loc[stay_leave.username == username, \"tweeted_all_weeks\"] = tweeted_all_months == True\\n    stay_leave.loc[stay_leave.username == username, \"geotagged_all_weeks\"] = geotagged_all_months == True\\n    \\n    # number of average tweets per month per user\\n    stay_leave.loc[stay_leave.username == username, \"mean_tweets_per_week\"] = np.mean(average_tweets_per_month)\\n    stay_leave.loc[stay_leave.username == username, \"mean_geotagged_per_week\"] = np.mean(average_geotagged_per_month)\\n    \\n    # number of median tweets per month per user\\n    #stay_leave.loc[stay_leave.username == username, \"median_tweets_per_week\"] = np.median(average_tweets_per_month)\\n    #stay_leave.loc[stay_leave.username == username, \"median_geotagged_per_week\"] = np.median(average_geotagged_per_month)\\n'"
      ]
     },
     "execution_count": 5,
     "metadata": {},
     "output_type": "execute_result"
    }
   ],
   "source": [
    "\"\"\"\n",
    "\n",
    "import numpy as np\n",
    "import tqdm\n",
    "\n",
    "dates = pd.to_datetime(pd.date_range(start='2015-09-27', end='2016-11-06', freq='W', tz=\"UTC\"))\n",
    "\n",
    "dates_arr = []\n",
    "for i in range(len(dates)-1):\n",
    "    dates_arr.append(dates[i:i+2]) \n",
    "    \n",
    "stay_leave = pd.DataFrame({\"username\": df.username.unique()})\n",
    "\n",
    "for username in tqdm.tqdm(range(len(stay_leave))):\n",
    "    \n",
    "    tweeted_all_months = [None]*len(dates_arr)\n",
    "    geotagged_all_months = [None]*len(dates_arr)\n",
    "    \n",
    "    average_tweets_per_month = [None]*len(dates_arr)\n",
    "    average_geotagged_per_month = [None]*len(dates_arr)\n",
    "    \n",
    "    for i in range(len(dates_arr)):\n",
    "        \n",
    "        date = dates_arr[i]\n",
    "        start_date = date[0]\n",
    "        end_date = date[1]\n",
    "        \n",
    "        mask = (df.username == username) & (df.DateTime > start_date) & (df.DateTime <= end_date)\n",
    "        \n",
    "        tweets_this_month = df[mask]\n",
    "        geotagged_this_month = df[mask & (pd.notnull(df.place_full_name))]\n",
    "        \n",
    "        tweeted_all_months[i] = tweets_this_month.shape[0] > 0\n",
    "        geotagged_all_months[i] = geotagged_this_month.shape[0] > 0\n",
    "        \n",
    "        average_tweets_per_month[i] = tweets_this_month.shape[0]\n",
    "        average_geotagged_per_month[i] = geotagged_this_month.shape[0]\n",
    "        \n",
    "    # people who tweeted at least once a month\n",
    "    stay_leave.loc[stay_leave.username == username, \"tweeted_all_weeks\"] = tweeted_all_months == True\n",
    "    stay_leave.loc[stay_leave.username == username, \"geotagged_all_weeks\"] = geotagged_all_months == True\n",
    "    \n",
    "    # number of average tweets per month per user\n",
    "    stay_leave.loc[stay_leave.username == username, \"mean_tweets_per_week\"] = np.mean(average_tweets_per_month)\n",
    "    stay_leave.loc[stay_leave.username == username, \"mean_geotagged_per_week\"] = np.mean(average_geotagged_per_month)\n",
    "    \n",
    "    # number of median tweets per month per user\n",
    "    #stay_leave.loc[stay_leave.username == username, \"median_tweets_per_week\"] = np.median(average_tweets_per_month)\n",
    "    #stay_leave.loc[stay_leave.username == username, \"median_geotagged_per_week\"] = np.median(average_geotagged_per_month)\n",
    "\"\"\" "
   ]
  },
  {
   "cell_type": "code",
   "execution_count": null,
   "id": "51327e69-904a-40a8-b001-18522ae4c9b1",
   "metadata": {},
   "outputs": [],
   "source": [
    "# number of people who tweeted at least once a week\n",
    "stay_leave.tweeted_all_weeks.value_counts(dropna=False)"
   ]
  },
  {
   "cell_type": "code",
   "execution_count": null,
   "id": "443db337-31d9-4954-aa3e-f47b3ca4d36a",
   "metadata": {},
   "outputs": [],
   "source": [
    "stay_leave.geotagged_all_weeks.value_counts(dropna=False)"
   ]
  },
  {
   "cell_type": "code",
   "execution_count": null,
   "id": "d27b8f16-719e-4a97-99ca-6911f7365d17",
   "metadata": {},
   "outputs": [],
   "source": [
    "# number of average tweets per week per user\n",
    "#stay_leave.mean_tweets_per_week.value_counts(dropna=False)\n",
    "print(\"Table ___ shows the mean and median numbers of total tweets and geotagged tweets per user per week.\")\n",
    "print()\n",
    "print(\"& Total & Geotagged \\\\\")\n",
    "print(\"Mean & \", np.mean(stay_leave.mean_tweets_per_week), \" & \", np.mean(stay_leave.mean_geotagged_per_week), \" \\\\\")\n",
    "print(\"Median & \", np.median(stay_leave.mean_tweets_per_week), \" & \", np.median(stay_leave.mean_geotagged_per_week), \" \\\\\")"
   ]
  }
 ],
 "metadata": {
  "instance_type": "ml.t3.medium",
  "kernelspec": {
   "display_name": "Python 3 (Data Science)",
   "language": "python",
   "name": "python3__SAGEMAKER_INTERNAL__arn:aws:sagemaker:eu-west-2:712779665605:image/datascience-1.0"
  },
  "language_info": {
   "codemirror_mode": {
    "name": "ipython",
    "version": 3
   },
   "file_extension": ".py",
   "mimetype": "text/x-python",
   "name": "python",
   "nbconvert_exporter": "python",
   "pygments_lexer": "ipython3",
   "version": "3.7.10"
  }
 },
 "nbformat": 4,
 "nbformat_minor": 5
}
