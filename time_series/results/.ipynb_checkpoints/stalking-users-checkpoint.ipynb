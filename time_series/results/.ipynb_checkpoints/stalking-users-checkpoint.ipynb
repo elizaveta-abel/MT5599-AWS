{
 "cells": [
  {
   "cell_type": "markdown",
   "id": "b9869564-327b-4b37-9023-e84bf63774c1",
   "metadata": {},
   "source": [
    "# Stalking Users"
   ]
  },
  {
   "cell_type": "code",
   "execution_count": 2,
   "id": "5a172070-5d0c-42e1-b930-6e05bc1adbb8",
   "metadata": {},
   "outputs": [
    {
     "name": "stderr",
     "output_type": "stream",
     "text": [
      "100%|██████████| 112/112 [24:15<00:00, 13.00s/it]\n"
     ]
    }
   ],
   "source": [
    "import pandas as pd\n",
    "import tqdm\n",
    "\n",
    "# combining all into one dataframe for analysis\n",
    "\n",
    "dfs = []\n",
    "\n",
    "for i in tqdm.tqdm(range(0, 112)):\n",
    "    df = pd.read_feather(\"s3://mt5599/final/processed_tweets_\" + str(i) + \".feather\")\n",
    "\n",
    "    dfs.append(df)"
   ]
  },
  {
   "cell_type": "code",
   "execution_count": null,
   "id": "57a4e8cc-ac23-4828-b98a-df73b3871bac",
   "metadata": {
    "tags": []
   },
   "outputs": [],
   "source": [
    "df = pd.concat(dfs, axis=0, ignore_index=True)\n",
    "df = df.drop_duplicates(\"id\").reset_index()\n",
    "df.to_feather(\"s3://mt5599/dissertation/stalking_users.feather\")\n",
    "df.shape[0]"
   ]
  },
  {
   "cell_type": "code",
   "execution_count": null,
   "id": "9c2e3f20-2854-47fc-92b0-b462d394f0a0",
   "metadata": {
    "tags": []
   },
   "outputs": [],
   "source": [
    "# count how many tweets have a mentioned location\n",
    "\n",
    "df0 = pd.concat(dfs, axis=0, ignore_index=True)\n",
    "df0 = df0[df0.ner_type == \"LOC\"]\n",
    "df0 = df0.drop_duplicates(\"id\").reset_index()\n",
    "df0\n",
    "#df.to_feather(\"s3://mt5599/dissertation/stalking_users.feather\")\n",
    "#df.shape[0]"
   ]
  },
  {
   "cell_type": "code",
   "execution_count": null,
   "id": "1799482e-cb8f-4283-807d-57bf39d9bc3c",
   "metadata": {
    "tags": []
   },
   "outputs": [],
   "source": [
    "df.columns"
   ]
  },
  {
   "cell_type": "code",
   "execution_count": null,
   "id": "658cd3fe-b3ce-48ca-9d76-e2218d401eef",
   "metadata": {
    "tags": []
   },
   "outputs": [],
   "source": [
    "df.lang.value_counts(dropna=False)"
   ]
  },
  {
   "cell_type": "code",
   "execution_count": null,
   "id": "42f91910-132f-4860-b283-ad42d6ca8805",
   "metadata": {
    "tags": []
   },
   "outputs": [],
   "source": [
    "print(\"There were a total of\", df.shape[0], \"tweets from \", len(df.username.unique()),\n",
    "      \"users whose tweets were collected and processed.\",\n",
    "     df[pd.notnull(df.place_full_name)].shape[0], \" of those tweets were geotagged, \",\n",
    "    df0.shape[0], \"had a location mention, \",\n",
    "     df0[pd.notnull(df0.gmaps_lat)].shape[0], \"had a geoparsed location.\")"
   ]
  },
  {
   "cell_type": "code",
   "execution_count": null,
   "id": "c466660f-d989-41b0-ad11-2e8b9e443fe8",
   "metadata": {
    "tags": []
   },
   "outputs": [],
   "source": [
    "summary_table = df.groupby(['username'])[\"id\"].count().reset_index(name='total_tweets')\n",
    "summary_table_geotagged = df[pd.notnull(df.place_full_name)].groupby(['username'])[\"id\"].count().reset_index(name='geotagged_tweets')\n",
    "summary_table_mentioned = df0.groupby([\"username\"])[\"id\"].count().reset_index(name=\"tweets_with_LOC\")\n",
    "summary_table_geoparsed = df0[pd.notnull(df0.gmaps_address)].groupby([\"username\"])[\"id\"].count().reset_index(name=\"geoparsed_tweets\")"
   ]
  },
  {
   "cell_type": "code",
   "execution_count": null,
   "id": "088811be-f0af-46d6-8166-632ba5d7b305",
   "metadata": {
    "tags": []
   },
   "outputs": [],
   "source": [
    "s = summary_table.merge(summary_table_geotagged, how=\"left\", on=\"username\")\n",
    "s = s.merge(summary_table_mentioned, how=\"left\", on=\"username\")\n",
    "s = s.merge(summary_table_geoparsed, how=\"left\", on=\"username\")\n",
    "s = s.fillna(0)\n",
    "s"
   ]
  },
  {
   "cell_type": "code",
   "execution_count": null,
   "id": "d4b48238-5a64-4e12-b04d-885ff9801210",
   "metadata": {
    "tags": []
   },
   "outputs": [],
   "source": [
    "import numpy as np\n",
    "\n",
    "print(\"Over the relevant time period, Table  shows the summary statistics of tweets per user.\")\n",
    "print()\n",
    "print(\"Mean & \", np.mean(summary_table.total_tweets),\n",
    "      \" & \", np.mean(summary_table_geotagged.geotagged_tweets),\n",
    "      \" & \", np.mean(summary_table_mentioned.tweets_with_LOC),\n",
    "      \" & \", np.mean(summary_table_geoparsed.geoparsed_tweets))\n",
    "print(\"Median & \", np.median(summary_table.total_tweets),\n",
    "      \" & \", np.median(summary_table_geotagged.geotagged_tweets),\n",
    "      \" & \", np.median(summary_table_mentioned.tweets_with_LOC),\n",
    "      \" & \", np.median(summary_table_geoparsed.geoparsed_tweets))\n",
    "print(\"Max & \", np.max(summary_table.total_tweets),\n",
    "      \" & \", np.max(summary_table_geotagged.geotagged_tweets),\n",
    "      \" & \", np.max(summary_table_mentioned.tweets_with_LOC),\n",
    "      \" & \", np.max(summary_table_geoparsed.geoparsed_tweets))\n",
    "print(\"Min & \", np.min(summary_table.total_tweets),\n",
    "      \" & \", np.min(summary_table_geotagged.geotagged_tweets),\n",
    "      \" & \", np.min(summary_table_mentioned.tweets_with_LOC),\n",
    "      \" & \", np.min(summary_table_geoparsed.geoparsed_tweets))\n",
    "print(\"Std & \", np.std(summary_table.total_tweets),\n",
    "      \" & \", np.std(summary_table_geotagged.geotagged_tweets),\n",
    "      \" & \", np.std(summary_table_mentioned.tweets_with_LOC),\n",
    "      \" & \", np.std(summary_table_geoparsed.geoparsed_tweets))"
   ]
  },
  {
   "cell_type": "code",
   "execution_count": null,
   "id": "ed53b8e4-08b2-4cb6-8e11-96c8e770eb31",
   "metadata": {
    "tags": []
   },
   "outputs": [],
   "source": [
    "import seaborn as sns\n",
    "import matplotlib.pyplot as plt\n",
    "\n",
    "# Set figure size and style\n",
    "sns.set(rc={'figure.figsize':(10,10)})\n",
    "#sns.set_style(style={'axes.edgecolor': 'black', 'axes.facecolor': 'white'})\n",
    "\n",
    "fig, axes = plt.subplots(4, 1)\n",
    "fig.suptitle('Distribution of Tweets')\n",
    "\n",
    "# Plot the density plot of the \"distance\" column from ddf_duplicates\n",
    "sns.kdeplot(data = s[\"total_tweets\"], ax = axes[0])\n",
    "sns.kdeplot(data = s[\"geotagged_tweets\"], ax = axes[1])\n",
    "sns.kdeplot(data = s[\"tweets_with_LOC\"], ax = axes[2])\n",
    "sns.kdeplot(data = s[\"geoparsed_tweets\"], ax = axes[3])\n",
    "\n",
    "# Plot the density plot of the \"distance\" column from ddf_noduplicates\n",
    "#sns.distplot(ddf_noduplicates['distance'], color='red', label='No Duplicates', kde=False)\n",
    "\n",
    "# Rename axis labels\n",
    "#plt.xlabel('Distance (km)')\n",
    "#plt.ylabel('Density')\n",
    "\n",
    "# Add legend\n",
    "\n",
    "fig.text(0.5, 0.01, 'Number of Tweets', ha='center')\n",
    "fig.text(0.01, 0.5, 'Frequency', va='center', rotation='vertical')\n",
    "\n",
    "#plt.legend()\n",
    "plt.savefig('user_tweets.png')\n",
    "plt.show()"
   ]
  },
  {
   "cell_type": "code",
   "execution_count": null,
   "id": "48539c3a-1169-4fec-936e-c001c2262e7c",
   "metadata": {
    "tags": []
   },
   "outputs": [],
   "source": [
    "import pandas as pd\n",
    "\n",
    "# users that tweeted from Argentina\n",
    "argentina = df[df.place_country_code == \"AR\"].groupby(['username'])[\"id\"].count().reset_index(name='counts_1')\n",
    "\n",
    "all_ = df.groupby(['username'])[\"id\"].count().reset_index(name='counts_2')\n",
    "\n",
    "only_argentina = pd.merge(argentina, all_, how=\"left\", on=\"username\")\n",
    "only_argentina[\"only_argentina\"] = np.where(only_argentina[\"counts_1\"] == only_argentina[\"counts_2\"], \"only AR\", \"elsewhere\")\n",
    "only_argentina = only_argentina[only_argentina.only_argentina == \"only AR\"]\n",
    "\n",
    "print(\"Shape of df: \", only_argentina.shape)\n",
    "print()\n",
    "print(\"The number of users that tweeted only from Argentina was \", only_argentina.shape[0],\n",
    "      \", which is \", only_argentina.shape[0] / len(all_.username.unique()) * 100,\"% of the total users.\",\n",
    "     \"This is interesting as they could have still travelled within Argentina.\")"
   ]
  },
  {
   "cell_type": "code",
   "execution_count": null,
   "id": "bab3c70c-5c2b-406d-aea0-bc3da6692348",
   "metadata": {
    "tags": []
   },
   "outputs": [],
   "source": [
    "\"\"\"\n",
    "\n",
    "import numpy as np\n",
    "import tqdm\n",
    "\n",
    "dates = pd.to_datetime(pd.date_range(start='2015-09-27', end='2016-11-06', freq='W', tz=\"UTC\"))\n",
    "\n",
    "dates_arr = []\n",
    "for i in range(len(dates)-1):\n",
    "    dates_arr.append(dates[i:i+2]) \n",
    "    \n",
    "stay_leave = pd.DataFrame({\"username\": df.username.unique()})\n",
    "\n",
    "for username in tqdm.tqdm(range(len(stay_leave))):\n",
    "    \n",
    "    tweeted_all_months = [None]*len(dates_arr)\n",
    "    geotagged_all_months = [None]*len(dates_arr)\n",
    "    \n",
    "    average_tweets_per_month = [None]*len(dates_arr)\n",
    "    average_geotagged_per_month = [None]*len(dates_arr)\n",
    "    \n",
    "    for i in range(len(dates_arr)):\n",
    "        \n",
    "        date = dates_arr[i]\n",
    "        start_date = date[0]\n",
    "        end_date = date[1]\n",
    "        \n",
    "        mask = (df.username == username) & (df.DateTime > start_date) & (df.DateTime <= end_date)\n",
    "        \n",
    "        tweets_this_month = df[mask]\n",
    "        geotagged_this_month = df[mask & (pd.notnull(df.place_full_name))]\n",
    "        \n",
    "        tweeted_all_months[i] = tweets_this_month.shape[0] > 0\n",
    "        geotagged_all_months[i] = geotagged_this_month.shape[0] > 0\n",
    "        \n",
    "        average_tweets_per_month[i] = tweets_this_month.shape[0]\n",
    "        average_geotagged_per_month[i] = geotagged_this_month.shape[0]\n",
    "        \n",
    "    # people who tweeted at least once a month\n",
    "    stay_leave.loc[stay_leave.username == username, \"tweeted_all_weeks\"] = tweeted_all_months == True\n",
    "    stay_leave.loc[stay_leave.username == username, \"geotagged_all_weeks\"] = geotagged_all_months == True\n",
    "    \n",
    "    # number of average tweets per month per user\n",
    "    stay_leave.loc[stay_leave.username == username, \"mean_tweets_per_week\"] = np.mean(average_tweets_per_month)\n",
    "    stay_leave.loc[stay_leave.username == username, \"mean_geotagged_per_week\"] = np.mean(average_geotagged_per_month)\n",
    "    \n",
    "    # number of median tweets per month per user\n",
    "    #stay_leave.loc[stay_leave.username == username, \"median_tweets_per_week\"] = np.median(average_tweets_per_month)\n",
    "    #stay_leave.loc[stay_leave.username == username, \"median_geotagged_per_week\"] = np.median(average_geotagged_per_month)\n",
    "\"\"\" "
   ]
  },
  {
   "cell_type": "code",
   "execution_count": null,
   "id": "51327e69-904a-40a8-b001-18522ae4c9b1",
   "metadata": {},
   "outputs": [],
   "source": [
    "# number of people who tweeted at least once a week\n",
    "stay_leave.tweeted_all_weeks.value_counts(dropna=False)"
   ]
  },
  {
   "cell_type": "code",
   "execution_count": null,
   "id": "443db337-31d9-4954-aa3e-f47b3ca4d36a",
   "metadata": {},
   "outputs": [],
   "source": [
    "stay_leave.geotagged_all_weeks.value_counts(dropna=False)"
   ]
  },
  {
   "cell_type": "code",
   "execution_count": null,
   "id": "d27b8f16-719e-4a97-99ca-6911f7365d17",
   "metadata": {},
   "outputs": [],
   "source": [
    "# number of average tweets per week per user\n",
    "#stay_leave.mean_tweets_per_week.value_counts(dropna=False)\n",
    "print(\"Table ___ shows the mean and median numbers of total tweets and geotagged tweets per user per week.\")\n",
    "print()\n",
    "print(\"& Total & Geotagged \\\\\")\n",
    "print(\"Mean & \", np.mean(stay_leave.mean_tweets_per_week), \" & \", np.mean(stay_leave.mean_geotagged_per_week), \" \\\\\")\n",
    "print(\"Median & \", np.median(stay_leave.mean_tweets_per_week), \" & \", np.median(stay_leave.mean_geotagged_per_week), \" \\\\\")"
   ]
  }
 ],
 "metadata": {
  "instance_type": "ml.m5.16xlarge",
  "kernelspec": {
   "display_name": "Python 3 (Data Science)",
   "language": "python",
   "name": "python3__SAGEMAKER_INTERNAL__arn:aws:sagemaker:eu-west-2:712779665605:image/datascience-1.0"
  },
  "language_info": {
   "codemirror_mode": {
    "name": "ipython",
    "version": 3
   },
   "file_extension": ".py",
   "mimetype": "text/x-python",
   "name": "python",
   "nbconvert_exporter": "python",
   "pygments_lexer": "ipython3",
   "version": "3.7.10"
  }
 },
 "nbformat": 4,
 "nbformat_minor": 5
}
