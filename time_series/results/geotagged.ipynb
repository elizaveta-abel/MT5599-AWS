{
 "cells": [
  {
   "cell_type": "markdown",
   "id": "78ce254e-82d5-4216-99d1-c25aa3492ddd",
   "metadata": {},
   "source": [
    "# Geotagged Only"
   ]
  },
  {
   "cell_type": "code",
   "execution_count": 2,
   "id": "8de8662f-0057-4a95-accb-8281753ab4fb",
   "metadata": {},
   "outputs": [
    {
     "name": "stdout",
     "output_type": "stream",
     "text": [
      "Collecting epiweeks\n",
      "  Using cached epiweeks-2.1.4-py3-none-any.whl (5.9 kB)\n",
      "Installing collected packages: epiweeks\n",
      "Successfully installed epiweeks-2.1.4\n",
      "\u001b[33mWARNING: Running pip as the 'root' user can result in broken permissions and conflicting behaviour with the system package manager. It is recommended to use a virtual environment instead: https://pip.pypa.io/warnings/venv\u001b[0m\u001b[33m\n",
      "\u001b[0m\n",
      "\u001b[1m[\u001b[0m\u001b[34;49mnotice\u001b[0m\u001b[1;39;49m]\u001b[0m\u001b[39;49m A new release of pip is available: \u001b[0m\u001b[31;49m23.0\u001b[0m\u001b[39;49m -> \u001b[0m\u001b[32;49m23.0.1\u001b[0m\n",
      "\u001b[1m[\u001b[0m\u001b[34;49mnotice\u001b[0m\u001b[1;39;49m]\u001b[0m\u001b[39;49m To update, run: \u001b[0m\u001b[32;49mpip install --upgrade pip\u001b[0m\n",
      "Collecting kaleido\n",
      "  Using cached kaleido-0.2.1-py2.py3-none-manylinux1_x86_64.whl (79.9 MB)\n",
      "Installing collected packages: kaleido\n",
      "Successfully installed kaleido-0.2.1\n",
      "\u001b[33mWARNING: Running pip as the 'root' user can result in broken permissions and conflicting behaviour with the system package manager. It is recommended to use a virtual environment instead: https://pip.pypa.io/warnings/venv\u001b[0m\u001b[33m\n",
      "\u001b[0m\n",
      "\u001b[1m[\u001b[0m\u001b[34;49mnotice\u001b[0m\u001b[1;39;49m]\u001b[0m\u001b[39;49m A new release of pip is available: \u001b[0m\u001b[31;49m23.0\u001b[0m\u001b[39;49m -> \u001b[0m\u001b[32;49m23.0.1\u001b[0m\n",
      "\u001b[1m[\u001b[0m\u001b[34;49mnotice\u001b[0m\u001b[1;39;49m]\u001b[0m\u001b[39;49m To update, run: \u001b[0m\u001b[32;49mpip install --upgrade pip\u001b[0m\n"
     ]
    }
   ],
   "source": [
    "!pip install epiweeks\n",
    "!pip install -U kaleido"
   ]
  },
  {
   "cell_type": "code",
   "execution_count": 3,
   "id": "036ea77b-39dd-4e59-9020-3ed261785cc0",
   "metadata": {},
   "outputs": [],
   "source": [
    "import tqdm\n",
    "import pandas as pd\n",
    "from multiprocessing import Pool # multithreading\n",
    "from epiweeks import Week\n",
    "\n",
    "# granularity\n",
    "def granularity_helper(row):\n",
    "    \n",
    "    s = row[1][\"gmaps_address\"]\n",
    "    \n",
    "    week = Week.fromdate(row[1][\"DateTime\"], system=\"iso\")\n",
    "    row[1][\"epi_week\"] = week.cdcformat()\n",
    "    return row[1]\n",
    "\n",
    "\n",
    "\n",
    "def granularity(df):\n",
    "    \n",
    "    pool = Pool(processes=round(len(df.index)/10000))\n",
    "\n",
    "    result_arr = []\n",
    "    \n",
    "\n",
    "    for result in tqdm.tqdm(pool.imap_unordered(granularity_helper, df.iterrows()),\n",
    "                            total=len(df.index)):\n",
    "        result_arr.append(result)\n",
    "    \n",
    "\n",
    "    df = pd.concat(result_arr, axis=1).transpose().sort_index()\n",
    "\n",
    "                \n",
    "    return df"
   ]
  },
  {
   "cell_type": "code",
   "execution_count": 4,
   "id": "4e60be6f-0b41-4752-ab52-c9f304c0e4e5",
   "metadata": {
    "collapsed": true,
    "jupyter": {
     "outputs_hidden": true
    },
    "tags": []
   },
   "outputs": [
    {
     "name": "stdout",
     "output_type": "stream",
     "text": [
      "starting  91\n"
     ]
    },
    {
     "name": "stderr",
     "output_type": "stream",
     "text": [
      "100%|██████████| 461013/461013 [02:57<00:00, 2599.26it/s]\n"
     ]
    },
    {
     "name": "stdout",
     "output_type": "stream",
     "text": [
      "starting  92\n"
     ]
    },
    {
     "name": "stderr",
     "output_type": "stream",
     "text": [
      "100%|██████████| 473844/473844 [03:00<00:00, 2627.92it/s]\n"
     ]
    },
    {
     "name": "stdout",
     "output_type": "stream",
     "text": [
      "starting  93\n"
     ]
    },
    {
     "name": "stderr",
     "output_type": "stream",
     "text": [
      "100%|██████████| 448392/448392 [02:56<00:00, 2535.67it/s]\n"
     ]
    },
    {
     "name": "stdout",
     "output_type": "stream",
     "text": [
      "starting  94\n"
     ]
    },
    {
     "name": "stderr",
     "output_type": "stream",
     "text": [
      "100%|██████████| 426705/426705 [02:38<00:00, 2685.62it/s]\n"
     ]
    },
    {
     "name": "stdout",
     "output_type": "stream",
     "text": [
      "starting  95\n"
     ]
    },
    {
     "name": "stderr",
     "output_type": "stream",
     "text": [
      "100%|██████████| 442166/442166 [02:55<00:00, 2522.49it/s]\n"
     ]
    },
    {
     "name": "stdout",
     "output_type": "stream",
     "text": [
      "starting  96\n"
     ]
    },
    {
     "name": "stderr",
     "output_type": "stream",
     "text": [
      "100%|██████████| 487806/487806 [03:15<00:00, 2491.92it/s]\n"
     ]
    },
    {
     "name": "stdout",
     "output_type": "stream",
     "text": [
      "starting  97\n"
     ]
    },
    {
     "name": "stderr",
     "output_type": "stream",
     "text": [
      "100%|██████████| 504368/504368 [03:13<00:00, 2605.96it/s]\n"
     ]
    },
    {
     "name": "stdout",
     "output_type": "stream",
     "text": [
      "starting  98\n"
     ]
    },
    {
     "name": "stderr",
     "output_type": "stream",
     "text": [
      "100%|██████████| 469258/469258 [03:08<00:00, 2487.74it/s]\n"
     ]
    },
    {
     "name": "stdout",
     "output_type": "stream",
     "text": [
      "starting  99\n"
     ]
    },
    {
     "name": "stderr",
     "output_type": "stream",
     "text": [
      "100%|██████████| 430003/430003 [02:46<00:00, 2586.85it/s]\n"
     ]
    },
    {
     "name": "stdout",
     "output_type": "stream",
     "text": [
      "starting  100\n"
     ]
    },
    {
     "name": "stderr",
     "output_type": "stream",
     "text": [
      "100%|██████████| 401253/401253 [02:40<00:00, 2501.40it/s]\n"
     ]
    },
    {
     "name": "stdout",
     "output_type": "stream",
     "text": [
      "starting  101\n"
     ]
    },
    {
     "name": "stderr",
     "output_type": "stream",
     "text": [
      "100%|██████████| 413354/413354 [02:48<00:00, 2452.68it/s]\n"
     ]
    },
    {
     "name": "stdout",
     "output_type": "stream",
     "text": [
      "starting  102\n"
     ]
    },
    {
     "name": "stderr",
     "output_type": "stream",
     "text": [
      "100%|██████████| 520385/520385 [03:32<00:00, 2445.97it/s]\n"
     ]
    },
    {
     "name": "stdout",
     "output_type": "stream",
     "text": [
      "starting  103\n"
     ]
    },
    {
     "name": "stderr",
     "output_type": "stream",
     "text": [
      "100%|██████████| 427426/427426 [02:56<00:00, 2427.04it/s]\n"
     ]
    },
    {
     "name": "stdout",
     "output_type": "stream",
     "text": [
      "starting  104\n"
     ]
    },
    {
     "name": "stderr",
     "output_type": "stream",
     "text": [
      "100%|██████████| 419649/419649 [02:53<00:00, 2422.12it/s]\n"
     ]
    },
    {
     "name": "stdout",
     "output_type": "stream",
     "text": [
      "starting  105\n"
     ]
    },
    {
     "name": "stderr",
     "output_type": "stream",
     "text": [
      "100%|██████████| 376360/376360 [02:37<00:00, 2396.50it/s]\n"
     ]
    },
    {
     "name": "stdout",
     "output_type": "stream",
     "text": [
      "starting  106\n"
     ]
    },
    {
     "name": "stderr",
     "output_type": "stream",
     "text": [
      "100%|██████████| 451433/451433 [03:03<00:00, 2459.13it/s]\n"
     ]
    },
    {
     "name": "stdout",
     "output_type": "stream",
     "text": [
      "starting  107\n"
     ]
    },
    {
     "name": "stderr",
     "output_type": "stream",
     "text": [
      "100%|██████████| 427368/427368 [02:59<00:00, 2374.59it/s]\n"
     ]
    },
    {
     "name": "stdout",
     "output_type": "stream",
     "text": [
      "starting  108\n"
     ]
    },
    {
     "name": "stderr",
     "output_type": "stream",
     "text": [
      "100%|██████████| 380312/380312 [02:42<00:00, 2344.21it/s]\n"
     ]
    },
    {
     "name": "stdout",
     "output_type": "stream",
     "text": [
      "starting  109\n"
     ]
    },
    {
     "name": "stderr",
     "output_type": "stream",
     "text": [
      "100%|██████████| 393183/393183 [02:44<00:00, 2389.75it/s]\n"
     ]
    },
    {
     "name": "stdout",
     "output_type": "stream",
     "text": [
      "starting  110\n"
     ]
    },
    {
     "name": "stderr",
     "output_type": "stream",
     "text": [
      "100%|██████████| 384443/384443 [02:44<00:00, 2340.73it/s]\n"
     ]
    },
    {
     "name": "stdout",
     "output_type": "stream",
     "text": [
      "starting  111\n"
     ]
    },
    {
     "name": "stderr",
     "output_type": "stream",
     "text": [
      "100%|██████████| 362741/362741 [02:37<00:00, 2309.85it/s]\n"
     ]
    }
   ],
   "source": [
    "################ GEOTAGGED ONLY ##########################\n",
    "\n",
    "# get distances column from all datasets\n",
    "# first determine if there are any duplicate tweet ids in there\n",
    "\n",
    "import pandas as pd\n",
    "import tqdm\n",
    "\n",
    "for i in range(91, 112):\n",
    "    print(\"starting \", i)\n",
    "    df = pd.read_feather(\"s3://mt5599/final/processed_tweets_\" + str(i) + \".feather\")\n",
    "\n",
    "    # keep tweets with no distances and NER mention\n",
    "    df = df[pd.notnull(df.place_full_name)]\n",
    "    df = granularity(df)\n",
    "    df = df.reset_index()\n",
    "    df.to_feather(\"s3://mt5599/dissertation/geotagged_\" + str(i) + \".feather\" )\n",
    "\n"
   ]
  },
  {
   "cell_type": "code",
   "execution_count": null,
   "id": "f5d9bf71-84d9-4b5c-a2c0-8ea5f3a5eeac",
   "metadata": {},
   "outputs": [],
   "source": []
  },
  {
   "cell_type": "code",
   "execution_count": 5,
   "id": "33f10113-474a-4fa2-8011-cc6bc5eb64d2",
   "metadata": {},
   "outputs": [
    {
     "name": "stderr",
     "output_type": "stream",
     "text": [
      "100%|██████████| 112/112 [08:15<00:00,  4.42s/it]\n"
     ]
    }
   ],
   "source": [
    "# combining into one dataset\n",
    "\n",
    "import tqdm\n",
    "import pandas as pd\n",
    "\n",
    "dfs = []\n",
    "\n",
    "for i in tqdm.tqdm(range(0, 112)):\n",
    "    df = pd.read_feather(\"s3://mt5599/dissertation/geotagged_\" + str(i) + \".feather\")\n",
    "\n",
    "    dfs.append(df)\n",
    "\n",
    "df = pd.concat(dfs, axis=0, ignore_index=True).reset_index(drop=True).reset_index()\n",
    "df.to_feather(\"s3://mt5599/final/geotagged.feather\")\n"
   ]
  },
  {
   "cell_type": "code",
   "execution_count": 1,
   "id": "6dfdb808-d041-44cd-944c-392365bb04cc",
   "metadata": {},
   "outputs": [
    {
     "name": "stdout",
     "output_type": "stream",
     "text": [
      "read\n",
      "cleaning\n"
     ]
    },
    {
     "data": {
      "text/html": [
       "<div>\n",
       "<style scoped>\n",
       "    .dataframe tbody tr th:only-of-type {\n",
       "        vertical-align: middle;\n",
       "    }\n",
       "\n",
       "    .dataframe tbody tr th {\n",
       "        vertical-align: top;\n",
       "    }\n",
       "\n",
       "    .dataframe thead th {\n",
       "        text-align: right;\n",
       "    }\n",
       "</style>\n",
       "<table border=\"1\" class=\"dataframe\">\n",
       "  <thead>\n",
       "    <tr style=\"text-align: right;\">\n",
       "      <th></th>\n",
       "      <th>id</th>\n",
       "      <th>DateTime</th>\n",
       "      <th>coordinates</th>\n",
       "      <th>place</th>\n",
       "      <th>username</th>\n",
       "      <th>user_id</th>\n",
       "      <th>user_location</th>\n",
       "      <th>tweet_content</th>\n",
       "      <th>lang</th>\n",
       "      <th>tweet_clean</th>\n",
       "      <th>...</th>\n",
       "      <th>place_country_code</th>\n",
       "      <th>coordinates_longitude</th>\n",
       "      <th>coordinates_latitude</th>\n",
       "      <th>ner_type</th>\n",
       "      <th>ner_word</th>\n",
       "      <th>gmaps_lat</th>\n",
       "      <th>gmaps_long</th>\n",
       "      <th>gmaps_address</th>\n",
       "      <th>distance</th>\n",
       "      <th>epi_week</th>\n",
       "    </tr>\n",
       "  </thead>\n",
       "  <tbody>\n",
       "    <tr>\n",
       "      <th>0</th>\n",
       "      <td>676710697422725120</td>\n",
       "      <td>2015-12-15 10:29:37+00:00</td>\n",
       "      <td>Coordinates(longitude=-57.5592828, latitude=-3...</td>\n",
       "      <td>Place(fullName='Mar del Plata, Argentina', nam...</td>\n",
       "      <td>darcena2553</td>\n",
       "      <td>2358639522</td>\n",
       "      <td>No soy unica soy diferente</td>\n",
       "      <td>A rendir</td>\n",
       "      <td>es</td>\n",
       "      <td>A rendir</td>\n",
       "      <td>...</td>\n",
       "      <td>AR</td>\n",
       "      <td>-57.559283</td>\n",
       "      <td>-38.058940</td>\n",
       "      <td>None</td>\n",
       "      <td>None</td>\n",
       "      <td>NaN</td>\n",
       "      <td>NaN</td>\n",
       "      <td>None</td>\n",
       "      <td>NaN</td>\n",
       "      <td>201551</td>\n",
       "    </tr>\n",
       "    <tr>\n",
       "      <th>1</th>\n",
       "      <td>674648800020033536</td>\n",
       "      <td>2015-12-09 17:56:22+00:00</td>\n",
       "      <td>Coordinates(longitude=-57.5548276, latitude=-3...</td>\n",
       "      <td>Place(fullName='Mar del Plata, Argentina', nam...</td>\n",
       "      <td>darcena2553</td>\n",
       "      <td>2358639522</td>\n",
       "      <td>No soy unica soy diferente</td>\n",
       "      <td>¿Que paso?</td>\n",
       "      <td>es</td>\n",
       "      <td>Que paso?</td>\n",
       "      <td>...</td>\n",
       "      <td>AR</td>\n",
       "      <td>-57.554828</td>\n",
       "      <td>-38.059752</td>\n",
       "      <td>None</td>\n",
       "      <td>None</td>\n",
       "      <td>NaN</td>\n",
       "      <td>NaN</td>\n",
       "      <td>None</td>\n",
       "      <td>NaN</td>\n",
       "      <td>201550</td>\n",
       "    </tr>\n",
       "    <tr>\n",
       "      <th>2</th>\n",
       "      <td>671493815635746816</td>\n",
       "      <td>2015-12-01 00:59:36+00:00</td>\n",
       "      <td>Coordinates(longitude=-57.5548158, latitude=-3...</td>\n",
       "      <td>Place(fullName='Mar del Plata, Argentina', nam...</td>\n",
       "      <td>darcena2553</td>\n",
       "      <td>2358639522</td>\n",
       "      <td>No soy unica soy diferente</td>\n",
       "      <td>Tu cuerpo me hace babear inundando el colegio ...</td>\n",
       "      <td>es</td>\n",
       "      <td>Tu cuerpo me hace babear inundando el colegio ...</td>\n",
       "      <td>...</td>\n",
       "      <td>AR</td>\n",
       "      <td>-57.554816</td>\n",
       "      <td>-38.059739</td>\n",
       "      <td>None</td>\n",
       "      <td>None</td>\n",
       "      <td>NaN</td>\n",
       "      <td>NaN</td>\n",
       "      <td>None</td>\n",
       "      <td>NaN</td>\n",
       "      <td>201549</td>\n",
       "    </tr>\n",
       "    <tr>\n",
       "      <th>3</th>\n",
       "      <td>669967909456879616</td>\n",
       "      <td>2015-11-26 19:56:11+00:00</td>\n",
       "      <td>Coordinates(longitude=-57.5591638, latitude=-3...</td>\n",
       "      <td>Place(fullName='Mar del Plata, Argentina', nam...</td>\n",
       "      <td>darcena2553</td>\n",
       "      <td>2358639522</td>\n",
       "      <td>No soy unica soy diferente</td>\n",
       "      <td>Vieja del orto ,ojala que se muera y se PUDRA ...</td>\n",
       "      <td>es</td>\n",
       "      <td>Vieja del orto ,ojala que se muera y se PUDRA ...</td>\n",
       "      <td>...</td>\n",
       "      <td>AR</td>\n",
       "      <td>-57.559164</td>\n",
       "      <td>-38.058979</td>\n",
       "      <td>None</td>\n",
       "      <td>None</td>\n",
       "      <td>NaN</td>\n",
       "      <td>NaN</td>\n",
       "      <td>None</td>\n",
       "      <td>NaN</td>\n",
       "      <td>201548</td>\n",
       "    </tr>\n",
       "    <tr>\n",
       "      <th>4</th>\n",
       "      <td>668096786893021184</td>\n",
       "      <td>2015-11-21 16:01:01+00:00</td>\n",
       "      <td>Coordinates(longitude=-57.5548388, latitude=-3...</td>\n",
       "      <td>Place(fullName='Mar del Plata, Argentina', nam...</td>\n",
       "      <td>darcena2553</td>\n",
       "      <td>2358639522</td>\n",
       "      <td>No soy unica soy diferente</td>\n",
       "      <td>Me miras yo te miro ,me sonrreis y me matas ,m...</td>\n",
       "      <td>es</td>\n",
       "      <td>Me miras yo te miro ,me sonrreis y me matas ,m...</td>\n",
       "      <td>...</td>\n",
       "      <td>AR</td>\n",
       "      <td>-57.554839</td>\n",
       "      <td>-38.059755</td>\n",
       "      <td>None</td>\n",
       "      <td>None</td>\n",
       "      <td>NaN</td>\n",
       "      <td>NaN</td>\n",
       "      <td>None</td>\n",
       "      <td>NaN</td>\n",
       "      <td>201547</td>\n",
       "    </tr>\n",
       "    <tr>\n",
       "      <th>...</th>\n",
       "      <td>...</td>\n",
       "      <td>...</td>\n",
       "      <td>...</td>\n",
       "      <td>...</td>\n",
       "      <td>...</td>\n",
       "      <td>...</td>\n",
       "      <td>...</td>\n",
       "      <td>...</td>\n",
       "      <td>...</td>\n",
       "      <td>...</td>\n",
       "      <td>...</td>\n",
       "      <td>...</td>\n",
       "      <td>...</td>\n",
       "      <td>...</td>\n",
       "      <td>...</td>\n",
       "      <td>...</td>\n",
       "      <td>...</td>\n",
       "      <td>...</td>\n",
       "      <td>...</td>\n",
       "      <td>...</td>\n",
       "      <td>...</td>\n",
       "    </tr>\n",
       "    <tr>\n",
       "      <th>61395063</th>\n",
       "      <td>725087645500624896</td>\n",
       "      <td>2016-04-26 22:22:20+00:00</td>\n",
       "      <td>Coordinates(longitude=-56.7153342, latitude=-3...</td>\n",
       "      <td>Place(fullName='San Clemente del Tuyú, Argenti...</td>\n",
       "      <td>ludmi526</td>\n",
       "      <td>3224699505</td>\n",
       "      <td>La Costa, Argentina</td>\n",
       "      <td>Un tal Martes💫 @ bellasartessanclemente https:...</td>\n",
       "      <td>it</td>\n",
       "      <td>Un tal Martes @ bellasartessanclemente</td>\n",
       "      <td>...</td>\n",
       "      <td>AR</td>\n",
       "      <td>-56.715334</td>\n",
       "      <td>-36.378340</td>\n",
       "      <td>PER</td>\n",
       "      <td>Martes</td>\n",
       "      <td>NaN</td>\n",
       "      <td>NaN</td>\n",
       "      <td>None</td>\n",
       "      <td>NaN</td>\n",
       "      <td>201617</td>\n",
       "    </tr>\n",
       "    <tr>\n",
       "      <th>61395064</th>\n",
       "      <td>724364680278491136</td>\n",
       "      <td>2016-04-24 22:29:32+00:00</td>\n",
       "      <td>Coordinates(longitude=-56.68988962, latitude=-...</td>\n",
       "      <td>Place(fullName='La Costa, Argentina', name='La...</td>\n",
       "      <td>ludmi526</td>\n",
       "      <td>3224699505</td>\n",
       "      <td>La Costa, Argentina</td>\n",
       "      <td>Una de anoche. @ Santa Teresita La Costa https...</td>\n",
       "      <td>es</td>\n",
       "      <td>Una de anoche. @ Santa Teresita La Costa</td>\n",
       "      <td>...</td>\n",
       "      <td>AR</td>\n",
       "      <td>-56.689890</td>\n",
       "      <td>-36.538927</td>\n",
       "      <td>LOC</td>\n",
       "      <td>Santa Teresita La Costa</td>\n",
       "      <td>-36.544051</td>\n",
       "      <td>-56.690393</td>\n",
       "      <td>Santa Teresita, Buenos Aires Province, Argentina</td>\n",
       "      <td>0.570435</td>\n",
       "      <td>201616</td>\n",
       "    </tr>\n",
       "    <tr>\n",
       "      <th>61395065</th>\n",
       "      <td>724358546779983872</td>\n",
       "      <td>2016-04-24 22:05:10+00:00</td>\n",
       "      <td>Coordinates(longitude=-56.68988962, latitude=-...</td>\n",
       "      <td>Place(fullName='La Costa, Argentina', name='La...</td>\n",
       "      <td>ludmi526</td>\n",
       "      <td>3224699505</td>\n",
       "      <td>La Costa, Argentina</td>\n",
       "      <td>I need you. @ Santa Teresita La Costa https://...</td>\n",
       "      <td>it</td>\n",
       "      <td>I need you. @ Santa Teresita La Costa</td>\n",
       "      <td>...</td>\n",
       "      <td>AR</td>\n",
       "      <td>-56.689890</td>\n",
       "      <td>-36.538927</td>\n",
       "      <td>LOC</td>\n",
       "      <td>Santa Teresita La Costa</td>\n",
       "      <td>-36.544051</td>\n",
       "      <td>-56.690393</td>\n",
       "      <td>Santa Teresita, Buenos Aires Province, Argentina</td>\n",
       "      <td>0.570435</td>\n",
       "      <td>201616</td>\n",
       "    </tr>\n",
       "    <tr>\n",
       "      <th>61395066</th>\n",
       "      <td>723655990579724288</td>\n",
       "      <td>2016-04-22 23:33:27+00:00</td>\n",
       "      <td>Coordinates(longitude=-56.7153342, latitude=-3...</td>\n",
       "      <td>Place(fullName='San Clemente del Tuyú, Argenti...</td>\n",
       "      <td>ludmi526</td>\n",
       "      <td>3224699505</td>\n",
       "      <td>La Costa, Argentina</td>\n",
       "      <td>!!!! @ bellasartessanclemente https://t.co/x2E...</td>\n",
       "      <td>it</td>\n",
       "      <td>!!!! @ bellasartessanclemente</td>\n",
       "      <td>...</td>\n",
       "      <td>AR</td>\n",
       "      <td>-56.715334</td>\n",
       "      <td>-36.378340</td>\n",
       "      <td>None</td>\n",
       "      <td>None</td>\n",
       "      <td>NaN</td>\n",
       "      <td>NaN</td>\n",
       "      <td>None</td>\n",
       "      <td>NaN</td>\n",
       "      <td>201616</td>\n",
       "    </tr>\n",
       "    <tr>\n",
       "      <th>61395067</th>\n",
       "      <td>717079983957606400</td>\n",
       "      <td>2016-04-04 20:02:45+00:00</td>\n",
       "      <td>Coordinates(longitude=-56.746971, latitude=-36...</td>\n",
       "      <td>Place(fullName='San Clemente del Tuyú, Argenti...</td>\n",
       "      <td>ludmi526</td>\n",
       "      <td>3224699505</td>\n",
       "      <td>La Costa, Argentina</td>\n",
       "      <td>Dijimos foto escrachosa y bueno... https://t.c...</td>\n",
       "      <td>es</td>\n",
       "      <td>Dijimos foto escrachosa y bueno...</td>\n",
       "      <td>...</td>\n",
       "      <td>AR</td>\n",
       "      <td>-56.746971</td>\n",
       "      <td>-36.390925</td>\n",
       "      <td>None</td>\n",
       "      <td>None</td>\n",
       "      <td>NaN</td>\n",
       "      <td>NaN</td>\n",
       "      <td>None</td>\n",
       "      <td>NaN</td>\n",
       "      <td>201614</td>\n",
       "    </tr>\n",
       "  </tbody>\n",
       "</table>\n",
       "<p>56447902 rows × 24 columns</p>\n",
       "</div>"
      ],
      "text/plain": [
       "                          id                  DateTime  \\\n",
       "0         676710697422725120 2015-12-15 10:29:37+00:00   \n",
       "1         674648800020033536 2015-12-09 17:56:22+00:00   \n",
       "2         671493815635746816 2015-12-01 00:59:36+00:00   \n",
       "3         669967909456879616 2015-11-26 19:56:11+00:00   \n",
       "4         668096786893021184 2015-11-21 16:01:01+00:00   \n",
       "...                      ...                       ...   \n",
       "61395063  725087645500624896 2016-04-26 22:22:20+00:00   \n",
       "61395064  724364680278491136 2016-04-24 22:29:32+00:00   \n",
       "61395065  724358546779983872 2016-04-24 22:05:10+00:00   \n",
       "61395066  723655990579724288 2016-04-22 23:33:27+00:00   \n",
       "61395067  717079983957606400 2016-04-04 20:02:45+00:00   \n",
       "\n",
       "                                                coordinates  \\\n",
       "0         Coordinates(longitude=-57.5592828, latitude=-3...   \n",
       "1         Coordinates(longitude=-57.5548276, latitude=-3...   \n",
       "2         Coordinates(longitude=-57.5548158, latitude=-3...   \n",
       "3         Coordinates(longitude=-57.5591638, latitude=-3...   \n",
       "4         Coordinates(longitude=-57.5548388, latitude=-3...   \n",
       "...                                                     ...   \n",
       "61395063  Coordinates(longitude=-56.7153342, latitude=-3...   \n",
       "61395064  Coordinates(longitude=-56.68988962, latitude=-...   \n",
       "61395065  Coordinates(longitude=-56.68988962, latitude=-...   \n",
       "61395066  Coordinates(longitude=-56.7153342, latitude=-3...   \n",
       "61395067  Coordinates(longitude=-56.746971, latitude=-36...   \n",
       "\n",
       "                                                      place     username  \\\n",
       "0         Place(fullName='Mar del Plata, Argentina', nam...  darcena2553   \n",
       "1         Place(fullName='Mar del Plata, Argentina', nam...  darcena2553   \n",
       "2         Place(fullName='Mar del Plata, Argentina', nam...  darcena2553   \n",
       "3         Place(fullName='Mar del Plata, Argentina', nam...  darcena2553   \n",
       "4         Place(fullName='Mar del Plata, Argentina', nam...  darcena2553   \n",
       "...                                                     ...          ...   \n",
       "61395063  Place(fullName='San Clemente del Tuyú, Argenti...     ludmi526   \n",
       "61395064  Place(fullName='La Costa, Argentina', name='La...     ludmi526   \n",
       "61395065  Place(fullName='La Costa, Argentina', name='La...     ludmi526   \n",
       "61395066  Place(fullName='San Clemente del Tuyú, Argenti...     ludmi526   \n",
       "61395067  Place(fullName='San Clemente del Tuyú, Argenti...     ludmi526   \n",
       "\n",
       "             user_id               user_location  \\\n",
       "0         2358639522  No soy unica soy diferente   \n",
       "1         2358639522  No soy unica soy diferente   \n",
       "2         2358639522  No soy unica soy diferente   \n",
       "3         2358639522  No soy unica soy diferente   \n",
       "4         2358639522  No soy unica soy diferente   \n",
       "...              ...                         ...   \n",
       "61395063  3224699505         La Costa, Argentina   \n",
       "61395064  3224699505         La Costa, Argentina   \n",
       "61395065  3224699505         La Costa, Argentina   \n",
       "61395066  3224699505         La Costa, Argentina   \n",
       "61395067  3224699505         La Costa, Argentina   \n",
       "\n",
       "                                              tweet_content lang  \\\n",
       "0                                                  A rendir   es   \n",
       "1                                                ¿Que paso?   es   \n",
       "2         Tu cuerpo me hace babear inundando el colegio ...   es   \n",
       "3         Vieja del orto ,ojala que se muera y se PUDRA ...   es   \n",
       "4         Me miras yo te miro ,me sonrreis y me matas ,m...   es   \n",
       "...                                                     ...  ...   \n",
       "61395063  Un tal Martes💫 @ bellasartessanclemente https:...   it   \n",
       "61395064  Una de anoche. @ Santa Teresita La Costa https...   es   \n",
       "61395065  I need you. @ Santa Teresita La Costa https://...   it   \n",
       "61395066  !!!! @ bellasartessanclemente https://t.co/x2E...   it   \n",
       "61395067  Dijimos foto escrachosa y bueno... https://t.c...   es   \n",
       "\n",
       "                                                tweet_clean  ...  \\\n",
       "0                                                  A rendir  ...   \n",
       "1                                                 Que paso?  ...   \n",
       "2         Tu cuerpo me hace babear inundando el colegio ...  ...   \n",
       "3         Vieja del orto ,ojala que se muera y se PUDRA ...  ...   \n",
       "4         Me miras yo te miro ,me sonrreis y me matas ,m...  ...   \n",
       "...                                                     ...  ...   \n",
       "61395063            Un tal Martes @ bellasartessanclemente   ...   \n",
       "61395064          Una de anoche. @ Santa Teresita La Costa   ...   \n",
       "61395065             I need you. @ Santa Teresita La Costa   ...   \n",
       "61395066                     !!!! @ bellasartessanclemente   ...   \n",
       "61395067                Dijimos foto escrachosa y bueno...   ...   \n",
       "\n",
       "         place_country_code coordinates_longitude coordinates_latitude  \\\n",
       "0                        AR            -57.559283           -38.058940   \n",
       "1                        AR            -57.554828           -38.059752   \n",
       "2                        AR            -57.554816           -38.059739   \n",
       "3                        AR            -57.559164           -38.058979   \n",
       "4                        AR            -57.554839           -38.059755   \n",
       "...                     ...                   ...                  ...   \n",
       "61395063                 AR            -56.715334           -36.378340   \n",
       "61395064                 AR            -56.689890           -36.538927   \n",
       "61395065                 AR            -56.689890           -36.538927   \n",
       "61395066                 AR            -56.715334           -36.378340   \n",
       "61395067                 AR            -56.746971           -36.390925   \n",
       "\n",
       "         ner_type                 ner_word  gmaps_lat  gmaps_long  \\\n",
       "0            None                     None        NaN         NaN   \n",
       "1            None                     None        NaN         NaN   \n",
       "2            None                     None        NaN         NaN   \n",
       "3            None                     None        NaN         NaN   \n",
       "4            None                     None        NaN         NaN   \n",
       "...           ...                      ...        ...         ...   \n",
       "61395063      PER                   Martes        NaN         NaN   \n",
       "61395064      LOC  Santa Teresita La Costa -36.544051  -56.690393   \n",
       "61395065      LOC  Santa Teresita La Costa -36.544051  -56.690393   \n",
       "61395066     None                     None        NaN         NaN   \n",
       "61395067     None                     None        NaN         NaN   \n",
       "\n",
       "                                             gmaps_address  distance  epi_week  \n",
       "0                                                     None       NaN    201551  \n",
       "1                                                     None       NaN    201550  \n",
       "2                                                     None       NaN    201549  \n",
       "3                                                     None       NaN    201548  \n",
       "4                                                     None       NaN    201547  \n",
       "...                                                    ...       ...       ...  \n",
       "61395063                                              None       NaN    201617  \n",
       "61395064  Santa Teresita, Buenos Aires Province, Argentina  0.570435    201616  \n",
       "61395065  Santa Teresita, Buenos Aires Province, Argentina  0.570435    201616  \n",
       "61395066                                              None       NaN    201616  \n",
       "61395067                                              None       NaN    201614  \n",
       "\n",
       "[56447902 rows x 24 columns]"
      ]
     },
     "execution_count": 1,
     "metadata": {},
     "output_type": "execute_result"
    }
   ],
   "source": [
    "import pandas as pd\n",
    "\n",
    "df = pd.read_feather(\"s3://mt5599/final/geotagged.feather\")\n",
    "print(\"read\")\n",
    "df = df.drop_duplicates(\"id\").drop([\"level_0\", \"index\"], axis=1)\n",
    "print(\"cleaning\")\n",
    "df"
   ]
  },
  {
   "cell_type": "code",
   "execution_count": 3,
   "id": "3d750666-3cb8-4bb9-b719-d1140ed082a8",
   "metadata": {
    "tags": []
   },
   "outputs": [
    {
     "name": "stdout",
     "output_type": "stream",
     "text": [
      "ef{tab:geotagged-locations} shows the number of top 20 most geotagged countries, with 'Other' denoting other countries (does not include un-geotagged tweets).\n"
     ]
    },
    {
     "data": {
      "text/html": [
       "<div>\n",
       "<style scoped>\n",
       "    .dataframe tbody tr th:only-of-type {\n",
       "        vertical-align: middle;\n",
       "    }\n",
       "\n",
       "    .dataframe tbody tr th {\n",
       "        vertical-align: top;\n",
       "    }\n",
       "\n",
       "    .dataframe thead th {\n",
       "        text-align: right;\n",
       "    }\n",
       "</style>\n",
       "<table border=\"1\" class=\"dataframe\">\n",
       "  <thead>\n",
       "    <tr style=\"text-align: right;\">\n",
       "      <th></th>\n",
       "      <th>loc</th>\n",
       "      <th>loc_counts</th>\n",
       "      <th>loc_prop</th>\n",
       "    </tr>\n",
       "  </thead>\n",
       "  <tbody>\n",
       "    <tr>\n",
       "      <th>0</th>\n",
       "      <td>Argentina</td>\n",
       "      <td>55743738.0</td>\n",
       "      <td>0.987525</td>\n",
       "    </tr>\n",
       "    <tr>\n",
       "      <th>1</th>\n",
       "      <td>United States</td>\n",
       "      <td>152911.0</td>\n",
       "      <td>0.002709</td>\n",
       "    </tr>\n",
       "    <tr>\n",
       "      <th>2</th>\n",
       "      <td>Brazil</td>\n",
       "      <td>128727.0</td>\n",
       "      <td>0.002280</td>\n",
       "    </tr>\n",
       "    <tr>\n",
       "      <th>3</th>\n",
       "      <td>Chile</td>\n",
       "      <td>68889.0</td>\n",
       "      <td>0.001220</td>\n",
       "    </tr>\n",
       "    <tr>\n",
       "      <th>4</th>\n",
       "      <td>Uruguay</td>\n",
       "      <td>55464.0</td>\n",
       "      <td>0.000983</td>\n",
       "    </tr>\n",
       "    <tr>\n",
       "      <th>5</th>\n",
       "      <td>Spain</td>\n",
       "      <td>36813.0</td>\n",
       "      <td>0.000652</td>\n",
       "    </tr>\n",
       "    <tr>\n",
       "      <th>6</th>\n",
       "      <td>Mexico</td>\n",
       "      <td>30013.0</td>\n",
       "      <td>0.000532</td>\n",
       "    </tr>\n",
       "    <tr>\n",
       "      <th>7</th>\n",
       "      <td>Paraguay</td>\n",
       "      <td>29848.0</td>\n",
       "      <td>0.000529</td>\n",
       "    </tr>\n",
       "    <tr>\n",
       "      <th>8</th>\n",
       "      <td>Colombia</td>\n",
       "      <td>18635.0</td>\n",
       "      <td>0.000330</td>\n",
       "    </tr>\n",
       "    <tr>\n",
       "      <th>9</th>\n",
       "      <td>Italy</td>\n",
       "      <td>15074.0</td>\n",
       "      <td>0.000267</td>\n",
       "    </tr>\n",
       "    <tr>\n",
       "      <th>10</th>\n",
       "      <td>United Kingdom</td>\n",
       "      <td>14844.0</td>\n",
       "      <td>0.000263</td>\n",
       "    </tr>\n",
       "    <tr>\n",
       "      <th>11</th>\n",
       "      <td>Venezuela</td>\n",
       "      <td>14505.0</td>\n",
       "      <td>0.000257</td>\n",
       "    </tr>\n",
       "    <tr>\n",
       "      <th>12</th>\n",
       "      <td>Ecuador</td>\n",
       "      <td>13178.0</td>\n",
       "      <td>0.000233</td>\n",
       "    </tr>\n",
       "    <tr>\n",
       "      <th>13</th>\n",
       "      <td>France</td>\n",
       "      <td>12456.0</td>\n",
       "      <td>0.000221</td>\n",
       "    </tr>\n",
       "    <tr>\n",
       "      <th>14</th>\n",
       "      <td>Russia</td>\n",
       "      <td>9022.0</td>\n",
       "      <td>0.000160</td>\n",
       "    </tr>\n",
       "    <tr>\n",
       "      <th>15</th>\n",
       "      <td>Peru</td>\n",
       "      <td>8327.0</td>\n",
       "      <td>0.000148</td>\n",
       "    </tr>\n",
       "    <tr>\n",
       "      <th>16</th>\n",
       "      <td>Germany</td>\n",
       "      <td>6775.0</td>\n",
       "      <td>0.000120</td>\n",
       "    </tr>\n",
       "    <tr>\n",
       "      <th>17</th>\n",
       "      <td>Japan</td>\n",
       "      <td>5729.0</td>\n",
       "      <td>0.000101</td>\n",
       "    </tr>\n",
       "    <tr>\n",
       "      <th>18</th>\n",
       "      <td>Dominican Republic</td>\n",
       "      <td>5140.0</td>\n",
       "      <td>0.000091</td>\n",
       "    </tr>\n",
       "    <tr>\n",
       "      <th>19</th>\n",
       "      <td>Canada</td>\n",
       "      <td>5104.0</td>\n",
       "      <td>0.000090</td>\n",
       "    </tr>\n",
       "    <tr>\n",
       "      <th>20</th>\n",
       "      <td>Other</td>\n",
       "      <td>67692.0</td>\n",
       "      <td>0.001199</td>\n",
       "    </tr>\n",
       "  </tbody>\n",
       "</table>\n",
       "</div>"
      ],
      "text/plain": [
       "                   loc  loc_counts  loc_prop\n",
       "0            Argentina  55743738.0  0.987525\n",
       "1        United States    152911.0  0.002709\n",
       "2               Brazil    128727.0  0.002280\n",
       "3                Chile     68889.0  0.001220\n",
       "4              Uruguay     55464.0  0.000983\n",
       "5                Spain     36813.0  0.000652\n",
       "6               Mexico     30013.0  0.000532\n",
       "7             Paraguay     29848.0  0.000529\n",
       "8             Colombia     18635.0  0.000330\n",
       "9                Italy     15074.0  0.000267\n",
       "10      United Kingdom     14844.0  0.000263\n",
       "11           Venezuela     14505.0  0.000257\n",
       "12             Ecuador     13178.0  0.000233\n",
       "13              France     12456.0  0.000221\n",
       "14              Russia      9022.0  0.000160\n",
       "15                Peru      8327.0  0.000148\n",
       "16             Germany      6775.0  0.000120\n",
       "17               Japan      5729.0  0.000101\n",
       "18  Dominican Republic      5140.0  0.000091\n",
       "19              Canada      5104.0  0.000090\n",
       "20               Other     67692.0  0.001199"
      ]
     },
     "execution_count": 3,
     "metadata": {},
     "output_type": "execute_result"
    }
   ],
   "source": [
    "# Investigating top 20 most geotagged countries and their frequencies\n",
    "\n",
    "loc_vc = df.place_country.value_counts().rename_axis('unique_values').reset_index(name='counts')\n",
    "loc_total = sum(loc_vc.counts)\n",
    "#df_only = df[df.ner_type != \"LOC\"]\n",
    "#only_loc_vc = df_only.place_country.value_counts().rename_axis('unique_values').reset_index(name='counts')\n",
    "#only_loc_total = sum(loc_only_vc.counts)\n",
    "\n",
    "vc = pd.DataFrame(data = {\"loc\": [],\n",
    "                          \"loc_counts\": [],\n",
    "                          \"loc_prop\": []})\n",
    "                    #     \"only_loc\": [],\n",
    "                   #      \"only_loc_counts\": [],\n",
    "                   #      \"only_loc_prop\": []})\n",
    "\n",
    "n = 20\n",
    "for i in range(n):\n",
    "    vc.loc[i, \"loc\"] = loc_vc.loc[i, \"unique_values\"]\n",
    "    vc.loc[i, \"loc_counts\"] = loc_vc.loc[i, \"counts\"]\n",
    "    vc.loc[i, \"loc_prop\"] = loc_vc.loc[i, \"counts\"] / loc_total\n",
    "    \n",
    "  #  vc.loc[i, \"only_loc\"] = only_loc_vc.loc[i, \"unique_values\"]\n",
    "  #  vc.loc[i, \"only_loc_counts\"] = only_loc_vc.loc[i, \"counts\"]\n",
    "  #  vc.loc[i, \"only_loc_prop\"] = only_loc_vc.loc[i, \"counts\"] / only_loc_total\n",
    "    \n",
    "vc.loc[n+1, \"loc\"] = \"Other\"\n",
    "vc.loc[n+1, \"loc_counts\"] = loc_total - sum(loc_vc.loc[0:n, \"counts\"])\n",
    "vc.loc[n+1, \"loc_prop\"] = vc.loc[n+1, \"loc_counts\"] / loc_total\n",
    "#vc.loc[n+1, \"only_loc\"] = \"Other\"\n",
    "#vc.loc[n+1, \"only_loc_counts\"] = only_loc_total - sum(only_loc_vc.loc[0:n, \"counts\"])\n",
    "#vc.loc[n+1, \"only_loc_prop\"] = vc.loc[n+1, \"only_loc_counts\"] / only_loc_total\n",
    "\n",
    "vc.reset_index(inplace=True, drop=True)\n",
    "#vc.drop(0, axis=0, inplace=True)\n",
    "print(\"Table \\ref{tab:geotagged-locations} shows the number of top 20 most geotagged countries,\",\n",
    "      \"with 'Other' denoting other countries (does not include un-geotagged tweets).\")\n",
    "vc"
   ]
  },
  {
   "cell_type": "code",
   "execution_count": 39,
   "id": "90c06716-a652-48ee-9dea-566abc7873f4",
   "metadata": {
    "tags": []
   },
   "outputs": [
    {
     "name": "stdout",
     "output_type": "stream",
     "text": [
      "For each user, the countries they geotagged over the course of the relevant time period were found.\n",
      "\n",
      "The mean number of geotagged countries was  1.3829887270651189 and the median was  1.0\n",
      "ef{tab:geotagged-locations-users} shows their breakdown.\n"
     ]
    },
    {
     "data": {
      "text/html": [
       "<div>\n",
       "<style scoped>\n",
       "    .dataframe tbody tr th:only-of-type {\n",
       "        vertical-align: middle;\n",
       "    }\n",
       "\n",
       "    .dataframe tbody tr th {\n",
       "        vertical-align: top;\n",
       "    }\n",
       "\n",
       "    .dataframe thead th {\n",
       "        text-align: right;\n",
       "    }\n",
       "</style>\n",
       "<table border=\"1\" class=\"dataframe\">\n",
       "  <thead>\n",
       "    <tr style=\"text-align: right;\">\n",
       "      <th></th>\n",
       "      <th>country</th>\n",
       "    </tr>\n",
       "  </thead>\n",
       "  <tbody>\n",
       "    <tr>\n",
       "      <th>Argentina</th>\n",
       "      <td>89329</td>\n",
       "    </tr>\n",
       "    <tr>\n",
       "      <th>Brazil</th>\n",
       "      <td>6008</td>\n",
       "    </tr>\n",
       "    <tr>\n",
       "      <th>United States</th>\n",
       "      <td>5410</td>\n",
       "    </tr>\n",
       "    <tr>\n",
       "      <th>Chile</th>\n",
       "      <td>2970</td>\n",
       "    </tr>\n",
       "    <tr>\n",
       "      <th>Uruguay</th>\n",
       "      <td>2113</td>\n",
       "    </tr>\n",
       "    <tr>\n",
       "      <th>...</th>\n",
       "      <td>...</td>\n",
       "    </tr>\n",
       "    <tr>\n",
       "      <th>Eritrea</th>\n",
       "      <td>1</td>\n",
       "    </tr>\n",
       "    <tr>\n",
       "      <th>Liechtenstein</th>\n",
       "      <td>1</td>\n",
       "    </tr>\n",
       "    <tr>\n",
       "      <th>Djibouti</th>\n",
       "      <td>1</td>\n",
       "    </tr>\n",
       "    <tr>\n",
       "      <th>Equatorial Guinea</th>\n",
       "      <td>1</td>\n",
       "    </tr>\n",
       "    <tr>\n",
       "      <th>Lesotho</th>\n",
       "      <td>1</td>\n",
       "    </tr>\n",
       "  </tbody>\n",
       "</table>\n",
       "<p>212 rows × 1 columns</p>\n",
       "</div>"
      ],
      "text/plain": [
       "                   country\n",
       "Argentina            89329\n",
       "Brazil                6008\n",
       "United States         5410\n",
       "Chile                 2970\n",
       "Uruguay               2113\n",
       "...                    ...\n",
       "Eritrea                  1\n",
       "Liechtenstein            1\n",
       "Djibouti                 1\n",
       "Equatorial Guinea        1\n",
       "Lesotho                  1\n",
       "\n",
       "[212 rows x 1 columns]"
      ]
     },
     "execution_count": 39,
     "metadata": {},
     "output_type": "execute_result"
    }
   ],
   "source": [
    "print(\"For each user, the countries they geotagged over the course of the relevant time period were found.\")\n",
    "\n",
    "import itertools\n",
    "import numpy as np\n",
    "\n",
    "user_df = df.groupby(['username'])[\"place_country\"].unique().reset_index(name='countries')\n",
    "\n",
    "# number of countries per user\n",
    "countries_per_user = user_df.countries.str.len()\n",
    "\n",
    "print()\n",
    "print(\"The mean number of geotagged countries was \", np.mean(countries_per_user),\n",
    "     \"and the median was \", np.median(countries_per_user))\n",
    "\n",
    "user_countries = user_df.countries.tolist()\n",
    "all_countries = pd.DataFrame({\"country\":list(itertools.chain.from_iterable(user_countries))})\n",
    "temp = pd.DataFrame(all_countries.country.value_counts())\n",
    "common_countries = temp\n",
    "\n",
    "print(\"Table \\ref{tab:geotagged-locations-users} shows their breakdown.\")\n",
    "temp"
   ]
  },
  {
   "cell_type": "code",
   "execution_count": 41,
   "id": "38af897b-14b0-4c66-b0f6-02c6d2fd6260",
   "metadata": {
    "tags": []
   },
   "outputs": [
    {
     "name": "stderr",
     "output_type": "stream",
     "text": [
      "/opt/conda/lib/python3.7/site-packages/ipykernel_launcher.py:10: SettingWithCopyWarning:\n",
      "\n",
      "\n",
      "A value is trying to be set on a copy of a slice from a DataFrame\n",
      "\n",
      "See the caveats in the documentation: https://pandas.pydata.org/pandas-docs/stable/user_guide/indexing.html#returning-a-view-versus-a-copy\n",
      "\n"
     ]
    },
    {
     "data": {
      "text/html": [
       "<div>\n",
       "<style scoped>\n",
       "    .dataframe tbody tr th:only-of-type {\n",
       "        vertical-align: middle;\n",
       "    }\n",
       "\n",
       "    .dataframe tbody tr th {\n",
       "        vertical-align: top;\n",
       "    }\n",
       "\n",
       "    .dataframe thead th {\n",
       "        text-align: right;\n",
       "    }\n",
       "</style>\n",
       "<table border=\"1\" class=\"dataframe\">\n",
       "  <thead>\n",
       "    <tr style=\"text-align: right;\">\n",
       "      <th></th>\n",
       "      <th>country</th>\n",
       "      <th>counts</th>\n",
       "      <th>prop</th>\n",
       "    </tr>\n",
       "  </thead>\n",
       "  <tbody>\n",
       "    <tr>\n",
       "      <th>0</th>\n",
       "      <td>Argentina</td>\n",
       "      <td>89329.0</td>\n",
       "      <td>0.723072</td>\n",
       "    </tr>\n",
       "    <tr>\n",
       "      <th>1</th>\n",
       "      <td>Brazil</td>\n",
       "      <td>6008.0</td>\n",
       "      <td>0.048632</td>\n",
       "    </tr>\n",
       "    <tr>\n",
       "      <th>2</th>\n",
       "      <td>United States</td>\n",
       "      <td>5410.0</td>\n",
       "      <td>0.043791</td>\n",
       "    </tr>\n",
       "    <tr>\n",
       "      <th>3</th>\n",
       "      <td>Chile</td>\n",
       "      <td>2970.0</td>\n",
       "      <td>0.024041</td>\n",
       "    </tr>\n",
       "    <tr>\n",
       "      <th>4</th>\n",
       "      <td>Uruguay</td>\n",
       "      <td>2113.0</td>\n",
       "      <td>0.017104</td>\n",
       "    </tr>\n",
       "    <tr>\n",
       "      <th>5</th>\n",
       "      <td>Mexico</td>\n",
       "      <td>1693.0</td>\n",
       "      <td>0.013704</td>\n",
       "    </tr>\n",
       "    <tr>\n",
       "      <th>6</th>\n",
       "      <td>Spain</td>\n",
       "      <td>1681.0</td>\n",
       "      <td>0.013607</td>\n",
       "    </tr>\n",
       "    <tr>\n",
       "      <th>7</th>\n",
       "      <td>Italy</td>\n",
       "      <td>1017.0</td>\n",
       "      <td>0.008232</td>\n",
       "    </tr>\n",
       "    <tr>\n",
       "      <th>8</th>\n",
       "      <td>Peru</td>\n",
       "      <td>959.0</td>\n",
       "      <td>0.007763</td>\n",
       "    </tr>\n",
       "    <tr>\n",
       "      <th>9</th>\n",
       "      <td>United Kingdom</td>\n",
       "      <td>939.0</td>\n",
       "      <td>0.007601</td>\n",
       "    </tr>\n",
       "    <tr>\n",
       "      <th>10</th>\n",
       "      <td>Paraguay</td>\n",
       "      <td>938.0</td>\n",
       "      <td>0.007593</td>\n",
       "    </tr>\n",
       "    <tr>\n",
       "      <th>11</th>\n",
       "      <td>France</td>\n",
       "      <td>883.0</td>\n",
       "      <td>0.007147</td>\n",
       "    </tr>\n",
       "    <tr>\n",
       "      <th>12</th>\n",
       "      <td>Colombia</td>\n",
       "      <td>788.0</td>\n",
       "      <td>0.006378</td>\n",
       "    </tr>\n",
       "    <tr>\n",
       "      <th>13</th>\n",
       "      <td>Dominican Republic</td>\n",
       "      <td>444.0</td>\n",
       "      <td>0.003594</td>\n",
       "    </tr>\n",
       "    <tr>\n",
       "      <th>14</th>\n",
       "      <td>Germany</td>\n",
       "      <td>429.0</td>\n",
       "      <td>0.003473</td>\n",
       "    </tr>\n",
       "    <tr>\n",
       "      <th>15</th>\n",
       "      <td>The Netherlands</td>\n",
       "      <td>402.0</td>\n",
       "      <td>0.003254</td>\n",
       "    </tr>\n",
       "    <tr>\n",
       "      <th>16</th>\n",
       "      <td>Ecuador</td>\n",
       "      <td>393.0</td>\n",
       "      <td>0.003181</td>\n",
       "    </tr>\n",
       "    <tr>\n",
       "      <th>17</th>\n",
       "      <td>Japan</td>\n",
       "      <td>280.0</td>\n",
       "      <td>0.002266</td>\n",
       "    </tr>\n",
       "    <tr>\n",
       "      <th>18</th>\n",
       "      <td>Venezuela</td>\n",
       "      <td>267.0</td>\n",
       "      <td>0.002161</td>\n",
       "    </tr>\n",
       "    <tr>\n",
       "      <th>19</th>\n",
       "      <td>Panama</td>\n",
       "      <td>266.0</td>\n",
       "      <td>0.002153</td>\n",
       "    </tr>\n",
       "    <tr>\n",
       "      <th>20</th>\n",
       "      <td>Other</td>\n",
       "      <td>6332.0</td>\n",
       "      <td>0.051254</td>\n",
       "    </tr>\n",
       "  </tbody>\n",
       "</table>\n",
       "</div>"
      ],
      "text/plain": [
       "               country   counts      prop\n",
       "0            Argentina  89329.0  0.723072\n",
       "1               Brazil   6008.0  0.048632\n",
       "2        United States   5410.0  0.043791\n",
       "3                Chile   2970.0  0.024041\n",
       "4              Uruguay   2113.0  0.017104\n",
       "5               Mexico   1693.0  0.013704\n",
       "6                Spain   1681.0  0.013607\n",
       "7                Italy   1017.0  0.008232\n",
       "8                 Peru    959.0  0.007763\n",
       "9       United Kingdom    939.0  0.007601\n",
       "10            Paraguay    938.0  0.007593\n",
       "11              France    883.0  0.007147\n",
       "12            Colombia    788.0  0.006378\n",
       "13  Dominican Republic    444.0  0.003594\n",
       "14             Germany    429.0  0.003473\n",
       "15     The Netherlands    402.0  0.003254\n",
       "16             Ecuador    393.0  0.003181\n",
       "17               Japan    280.0  0.002266\n",
       "18           Venezuela    267.0  0.002161\n",
       "19              Panama    266.0  0.002153\n",
       "20               Other   6332.0  0.051254"
      ]
     },
     "execution_count": 41,
     "metadata": {},
     "output_type": "execute_result"
    }
   ],
   "source": [
    "temp = temp.reset_index().rename({\"index\":\"country\", \"country\":\"counts\"},axis=1)\n",
    "total_loc = temp.counts.sum()\n",
    "temp[\"prop\"] = temp[\"counts\"]/total_loc\n",
    "\n",
    "n = 20\n",
    "\n",
    "temp_keep = temp[0:n]\n",
    "discarded = temp[n:temp.shape[0]]\n",
    "\n",
    "temp_keep.loc[n, \"country\"] = \"Other\"\n",
    "temp_keep.loc[n, \"counts\"] = discarded.counts.sum()\n",
    "temp_keep.loc[n, \"prop\"] = temp_keep.loc[n, \"counts\"] / total_loc\n",
    "\n",
    "temp = temp_keep\n",
    "#common_countries = temp\n",
    "\n",
    "#print(\"Table \\ref{tab:geotagged-locations-users} shows their breakdown.\")\n",
    "temp"
   ]
  },
  {
   "cell_type": "code",
   "execution_count": 5,
   "id": "26bce112-631c-4ec5-8c2f-b39a930d311c",
   "metadata": {
    "tags": []
   },
   "outputs": [
    {
     "name": "stdout",
     "output_type": "stream",
     "text": [
      "ef{tab:geotagged-locations} shows the number of top 20 most geotagged locations within Argentina, with 'Other' denoting other countries (does not include un-geotagged tweets).\n"
     ]
    },
    {
     "data": {
      "text/html": [
       "<div>\n",
       "<style scoped>\n",
       "    .dataframe tbody tr th:only-of-type {\n",
       "        vertical-align: middle;\n",
       "    }\n",
       "\n",
       "    .dataframe tbody tr th {\n",
       "        vertical-align: top;\n",
       "    }\n",
       "\n",
       "    .dataframe thead th {\n",
       "        text-align: right;\n",
       "    }\n",
       "</style>\n",
       "<table border=\"1\" class=\"dataframe\">\n",
       "  <thead>\n",
       "    <tr style=\"text-align: right;\">\n",
       "      <th></th>\n",
       "      <th>loc</th>\n",
       "      <th>loc_counts</th>\n",
       "      <th>loc_prop</th>\n",
       "    </tr>\n",
       "  </thead>\n",
       "  <tbody>\n",
       "    <tr>\n",
       "      <th>0</th>\n",
       "      <td>Ciudad Autónoma de Buenos Aires</td>\n",
       "      <td>6013615.0</td>\n",
       "      <td>0.107880</td>\n",
       "    </tr>\n",
       "    <tr>\n",
       "      <th>1</th>\n",
       "      <td>Córdoba</td>\n",
       "      <td>4963649.0</td>\n",
       "      <td>0.089044</td>\n",
       "    </tr>\n",
       "    <tr>\n",
       "      <th>2</th>\n",
       "      <td>Buenos Aires</td>\n",
       "      <td>3530325.0</td>\n",
       "      <td>0.063331</td>\n",
       "    </tr>\n",
       "    <tr>\n",
       "      <th>3</th>\n",
       "      <td>La Plata</td>\n",
       "      <td>1824224.0</td>\n",
       "      <td>0.032725</td>\n",
       "    </tr>\n",
       "    <tr>\n",
       "      <th>4</th>\n",
       "      <td>Rosario</td>\n",
       "      <td>1787751.0</td>\n",
       "      <td>0.032071</td>\n",
       "    </tr>\n",
       "    <tr>\n",
       "      <th>5</th>\n",
       "      <td>Santa Fe</td>\n",
       "      <td>1258011.0</td>\n",
       "      <td>0.022568</td>\n",
       "    </tr>\n",
       "    <tr>\n",
       "      <th>6</th>\n",
       "      <td>Mar del Plata</td>\n",
       "      <td>1136730.0</td>\n",
       "      <td>0.020392</td>\n",
       "    </tr>\n",
       "    <tr>\n",
       "      <th>7</th>\n",
       "      <td>Entre Ríos</td>\n",
       "      <td>1108310.0</td>\n",
       "      <td>0.019882</td>\n",
       "    </tr>\n",
       "    <tr>\n",
       "      <th>8</th>\n",
       "      <td>Corrientes</td>\n",
       "      <td>1076449.0</td>\n",
       "      <td>0.019311</td>\n",
       "    </tr>\n",
       "    <tr>\n",
       "      <th>9</th>\n",
       "      <td>Neuquén</td>\n",
       "      <td>913416.0</td>\n",
       "      <td>0.016386</td>\n",
       "    </tr>\n",
       "    <tr>\n",
       "      <th>10</th>\n",
       "      <td>Lomas de Zamora</td>\n",
       "      <td>806670.0</td>\n",
       "      <td>0.014471</td>\n",
       "    </tr>\n",
       "    <tr>\n",
       "      <th>11</th>\n",
       "      <td>Río Negro</td>\n",
       "      <td>786264.0</td>\n",
       "      <td>0.014105</td>\n",
       "    </tr>\n",
       "    <tr>\n",
       "      <th>12</th>\n",
       "      <td>Bahía Blanca</td>\n",
       "      <td>751970.0</td>\n",
       "      <td>0.013490</td>\n",
       "    </tr>\n",
       "    <tr>\n",
       "      <th>13</th>\n",
       "      <td>Santa Fé</td>\n",
       "      <td>742449.0</td>\n",
       "      <td>0.013319</td>\n",
       "    </tr>\n",
       "    <tr>\n",
       "      <th>14</th>\n",
       "      <td>Lanús Oeste</td>\n",
       "      <td>735798.0</td>\n",
       "      <td>0.013200</td>\n",
       "    </tr>\n",
       "    <tr>\n",
       "      <th>15</th>\n",
       "      <td>Almirante Brown</td>\n",
       "      <td>700483.0</td>\n",
       "      <td>0.012566</td>\n",
       "    </tr>\n",
       "    <tr>\n",
       "      <th>16</th>\n",
       "      <td>Quilmes</td>\n",
       "      <td>697071.0</td>\n",
       "      <td>0.012505</td>\n",
       "    </tr>\n",
       "    <tr>\n",
       "      <th>17</th>\n",
       "      <td>González Catán</td>\n",
       "      <td>687619.0</td>\n",
       "      <td>0.012335</td>\n",
       "    </tr>\n",
       "    <tr>\n",
       "      <th>18</th>\n",
       "      <td>Mendoza</td>\n",
       "      <td>657052.0</td>\n",
       "      <td>0.011787</td>\n",
       "    </tr>\n",
       "    <tr>\n",
       "      <th>19</th>\n",
       "      <td>Ciudad del Libertador General San Martín</td>\n",
       "      <td>602969.0</td>\n",
       "      <td>0.010817</td>\n",
       "    </tr>\n",
       "    <tr>\n",
       "      <th>20</th>\n",
       "      <td>Other</td>\n",
       "      <td>24361219.0</td>\n",
       "      <td>0.437022</td>\n",
       "    </tr>\n",
       "  </tbody>\n",
       "</table>\n",
       "</div>"
      ],
      "text/plain": [
       "                                         loc  loc_counts  loc_prop\n",
       "0            Ciudad Autónoma de Buenos Aires   6013615.0  0.107880\n",
       "1                                    Córdoba   4963649.0  0.089044\n",
       "2                               Buenos Aires   3530325.0  0.063331\n",
       "3                                   La Plata   1824224.0  0.032725\n",
       "4                                    Rosario   1787751.0  0.032071\n",
       "5                                   Santa Fe   1258011.0  0.022568\n",
       "6                              Mar del Plata   1136730.0  0.020392\n",
       "7                                 Entre Ríos   1108310.0  0.019882\n",
       "8                                 Corrientes   1076449.0  0.019311\n",
       "9                                    Neuquén    913416.0  0.016386\n",
       "10                           Lomas de Zamora    806670.0  0.014471\n",
       "11                                 Río Negro    786264.0  0.014105\n",
       "12                              Bahía Blanca    751970.0  0.013490\n",
       "13                                  Santa Fé    742449.0  0.013319\n",
       "14                               Lanús Oeste    735798.0  0.013200\n",
       "15                           Almirante Brown    700483.0  0.012566\n",
       "16                                   Quilmes    697071.0  0.012505\n",
       "17                            González Catán    687619.0  0.012335\n",
       "18                                   Mendoza    657052.0  0.011787\n",
       "19  Ciudad del Libertador General San Martín    602969.0  0.010817\n",
       "20                                     Other  24361219.0  0.437022"
      ]
     },
     "execution_count": 5,
     "metadata": {},
     "output_type": "execute_result"
    }
   ],
   "source": [
    "# ARGENTINA - tweets\n",
    "\n",
    "ar = df[df.place_country_code == \"AR\"]\n",
    "\n",
    "loc_vc = ar.place_name.value_counts().rename_axis('unique_values').reset_index(name='counts')\n",
    "loc_total = sum(loc_vc.counts)\n",
    "#df_only = df[df.ner_type != \"LOC\"]\n",
    "#only_loc_vc = df_only.place_country.value_counts().rename_axis('unique_values').reset_index(name='counts')\n",
    "#only_loc_total = sum(loc_only_vc.counts)\n",
    "\n",
    "vc = pd.DataFrame(data = {\"loc\": [],\n",
    "                          \"loc_counts\": [],\n",
    "                          \"loc_prop\": []})\n",
    "                    #     \"only_loc\": [],\n",
    "                   #      \"only_loc_counts\": [],\n",
    "                   #      \"only_loc_prop\": []})\n",
    "\n",
    "n = 20\n",
    "for i in range(n):\n",
    "    vc.loc[i, \"loc\"] = loc_vc.loc[i, \"unique_values\"]\n",
    "    vc.loc[i, \"loc_counts\"] = loc_vc.loc[i, \"counts\"]\n",
    "    vc.loc[i, \"loc_prop\"] = loc_vc.loc[i, \"counts\"] / loc_total\n",
    "    \n",
    "  #  vc.loc[i, \"only_loc\"] = only_loc_vc.loc[i, \"unique_values\"]\n",
    "  #  vc.loc[i, \"only_loc_counts\"] = only_loc_vc.loc[i, \"counts\"]\n",
    "  #  vc.loc[i, \"only_loc_prop\"] = only_loc_vc.loc[i, \"counts\"] / only_loc_total\n",
    "    \n",
    "vc.loc[n+1, \"loc\"] = \"Other\"\n",
    "vc.loc[n+1, \"loc_counts\"] = loc_total - sum(loc_vc.loc[0:n, \"counts\"])\n",
    "vc.loc[n+1, \"loc_prop\"] = vc.loc[n+1, \"loc_counts\"] / loc_total\n",
    "#vc.loc[n+1, \"only_loc\"] = \"Other\"\n",
    "#vc.loc[n+1, \"only_loc_counts\"] = only_loc_total - sum(only_loc_vc.loc[0:n, \"counts\"])\n",
    "#vc.loc[n+1, \"only_loc_prop\"] = vc.loc[n+1, \"only_loc_counts\"] / only_loc_total\n",
    "\n",
    "vc.reset_index(inplace=True, drop=True)\n",
    "#vc.drop(0, axis=0, inplace=True)\n",
    "print(\"Table \\ref{tab:geotagged-locations} shows the number of top 20 most geotagged locations within Argentina,\",\n",
    "      \"with 'Other' denoting other countries (does not include un-geotagged tweets).\")\n",
    "vc"
   ]
  },
  {
   "cell_type": "code",
   "execution_count": 6,
   "id": "30d8a2c3-13c7-4c85-9cbf-8bd8e4bde21b",
   "metadata": {
    "tags": []
   },
   "outputs": [
    {
     "name": "stdout",
     "output_type": "stream",
     "text": [
      "ef{tab:geotagged-locations} shows the number of top 20 most geotagged locations within Argentina, with 'Other' denoting other countries (does not include un-geotagged tweets).\n"
     ]
    },
    {
     "data": {
      "text/html": [
       "<div>\n",
       "<style scoped>\n",
       "    .dataframe tbody tr th:only-of-type {\n",
       "        vertical-align: middle;\n",
       "    }\n",
       "\n",
       "    .dataframe tbody tr th {\n",
       "        vertical-align: top;\n",
       "    }\n",
       "\n",
       "    .dataframe thead th {\n",
       "        text-align: right;\n",
       "    }\n",
       "</style>\n",
       "<table border=\"1\" class=\"dataframe\">\n",
       "  <thead>\n",
       "    <tr style=\"text-align: right;\">\n",
       "      <th></th>\n",
       "      <th>loc</th>\n",
       "      <th>loc_counts</th>\n",
       "      <th>loc_prop</th>\n",
       "    </tr>\n",
       "  </thead>\n",
       "  <tbody>\n",
       "    <tr>\n",
       "      <th>0</th>\n",
       "      <td>Manhattan</td>\n",
       "      <td>13989.0</td>\n",
       "      <td>0.091516</td>\n",
       "    </tr>\n",
       "    <tr>\n",
       "      <th>1</th>\n",
       "      <td>United States</td>\n",
       "      <td>13751.0</td>\n",
       "      <td>0.089959</td>\n",
       "    </tr>\n",
       "    <tr>\n",
       "      <th>2</th>\n",
       "      <td>New York</td>\n",
       "      <td>11383.0</td>\n",
       "      <td>0.074468</td>\n",
       "    </tr>\n",
       "    <tr>\n",
       "      <th>3</th>\n",
       "      <td>Florida</td>\n",
       "      <td>10991.0</td>\n",
       "      <td>0.071903</td>\n",
       "    </tr>\n",
       "    <tr>\n",
       "      <th>4</th>\n",
       "      <td>Alaska</td>\n",
       "      <td>9713.0</td>\n",
       "      <td>0.063543</td>\n",
       "    </tr>\n",
       "    <tr>\n",
       "      <th>5</th>\n",
       "      <td>Miami Beach</td>\n",
       "      <td>9235.0</td>\n",
       "      <td>0.060416</td>\n",
       "    </tr>\n",
       "    <tr>\n",
       "      <th>6</th>\n",
       "      <td>California</td>\n",
       "      <td>7967.0</td>\n",
       "      <td>0.052120</td>\n",
       "    </tr>\n",
       "    <tr>\n",
       "      <th>7</th>\n",
       "      <td>Miami</td>\n",
       "      <td>4486.0</td>\n",
       "      <td>0.029347</td>\n",
       "    </tr>\n",
       "    <tr>\n",
       "      <th>8</th>\n",
       "      <td>Buenos Aires</td>\n",
       "      <td>3165.0</td>\n",
       "      <td>0.020705</td>\n",
       "    </tr>\n",
       "    <tr>\n",
       "      <th>9</th>\n",
       "      <td>North Carolina</td>\n",
       "      <td>3124.0</td>\n",
       "      <td>0.020437</td>\n",
       "    </tr>\n",
       "    <tr>\n",
       "      <th>10</th>\n",
       "      <td>Orlando</td>\n",
       "      <td>2929.0</td>\n",
       "      <td>0.019162</td>\n",
       "    </tr>\n",
       "    <tr>\n",
       "      <th>11</th>\n",
       "      <td>Paterson</td>\n",
       "      <td>2487.0</td>\n",
       "      <td>0.016270</td>\n",
       "    </tr>\n",
       "    <tr>\n",
       "      <th>12</th>\n",
       "      <td>Los Angeles</td>\n",
       "      <td>2411.0</td>\n",
       "      <td>0.015773</td>\n",
       "    </tr>\n",
       "    <tr>\n",
       "      <th>13</th>\n",
       "      <td>Nevada</td>\n",
       "      <td>2279.0</td>\n",
       "      <td>0.014909</td>\n",
       "    </tr>\n",
       "    <tr>\n",
       "      <th>14</th>\n",
       "      <td>Brooklyn</td>\n",
       "      <td>2128.0</td>\n",
       "      <td>0.013921</td>\n",
       "    </tr>\n",
       "    <tr>\n",
       "      <th>15</th>\n",
       "      <td>Hawaii</td>\n",
       "      <td>2045.0</td>\n",
       "      <td>0.013378</td>\n",
       "    </tr>\n",
       "    <tr>\n",
       "      <th>16</th>\n",
       "      <td>Washington</td>\n",
       "      <td>1967.0</td>\n",
       "      <td>0.012868</td>\n",
       "    </tr>\n",
       "    <tr>\n",
       "      <th>17</th>\n",
       "      <td>San Francisco</td>\n",
       "      <td>1779.0</td>\n",
       "      <td>0.011638</td>\n",
       "    </tr>\n",
       "    <tr>\n",
       "      <th>18</th>\n",
       "      <td>Hollywood</td>\n",
       "      <td>1603.0</td>\n",
       "      <td>0.010487</td>\n",
       "    </tr>\n",
       "    <tr>\n",
       "      <th>19</th>\n",
       "      <td>Oklahoma</td>\n",
       "      <td>1331.0</td>\n",
       "      <td>0.008707</td>\n",
       "    </tr>\n",
       "    <tr>\n",
       "      <th>20</th>\n",
       "      <td>Other</td>\n",
       "      <td>42858.0</td>\n",
       "      <td>0.280378</td>\n",
       "    </tr>\n",
       "  </tbody>\n",
       "</table>\n",
       "</div>"
      ],
      "text/plain": [
       "               loc  loc_counts  loc_prop\n",
       "0        Manhattan     13989.0  0.091516\n",
       "1    United States     13751.0  0.089959\n",
       "2         New York     11383.0  0.074468\n",
       "3          Florida     10991.0  0.071903\n",
       "4           Alaska      9713.0  0.063543\n",
       "5      Miami Beach      9235.0  0.060416\n",
       "6       California      7967.0  0.052120\n",
       "7            Miami      4486.0  0.029347\n",
       "8     Buenos Aires      3165.0  0.020705\n",
       "9   North Carolina      3124.0  0.020437\n",
       "10         Orlando      2929.0  0.019162\n",
       "11        Paterson      2487.0  0.016270\n",
       "12     Los Angeles      2411.0  0.015773\n",
       "13          Nevada      2279.0  0.014909\n",
       "14        Brooklyn      2128.0  0.013921\n",
       "15          Hawaii      2045.0  0.013378\n",
       "16      Washington      1967.0  0.012868\n",
       "17   San Francisco      1779.0  0.011638\n",
       "18       Hollywood      1603.0  0.010487\n",
       "19        Oklahoma      1331.0  0.008707\n",
       "20           Other     42858.0  0.280378"
      ]
     },
     "execution_count": 6,
     "metadata": {},
     "output_type": "execute_result"
    }
   ],
   "source": [
    "# UNITED STATES - tweets\n",
    "\n",
    "us = df[df.place_country_code == \"US\"]\n",
    "\n",
    "loc_vc = us.place_name.value_counts().rename_axis('unique_values').reset_index(name='counts')\n",
    "loc_total = sum(loc_vc.counts)\n",
    "#df_only = df[df.ner_type != \"LOC\"]\n",
    "#only_loc_vc = df_only.place_country.value_counts().rename_axis('unique_values').reset_index(name='counts')\n",
    "#only_loc_total = sum(loc_only_vc.counts)\n",
    "\n",
    "vc = pd.DataFrame(data = {\"loc\": [],\n",
    "                          \"loc_counts\": [],\n",
    "                          \"loc_prop\": []})\n",
    "                    #     \"only_loc\": [],\n",
    "                   #      \"only_loc_counts\": [],\n",
    "                   #      \"only_loc_prop\": []})\n",
    "\n",
    "n = 20\n",
    "for i in range(n):\n",
    "    vc.loc[i, \"loc\"] = loc_vc.loc[i, \"unique_values\"]\n",
    "    vc.loc[i, \"loc_counts\"] = loc_vc.loc[i, \"counts\"]\n",
    "    vc.loc[i, \"loc_prop\"] = loc_vc.loc[i, \"counts\"] / loc_total\n",
    "    \n",
    "  #  vc.loc[i, \"only_loc\"] = only_loc_vc.loc[i, \"unique_values\"]\n",
    "  #  vc.loc[i, \"only_loc_counts\"] = only_loc_vc.loc[i, \"counts\"]\n",
    "  #  vc.loc[i, \"only_loc_prop\"] = only_loc_vc.loc[i, \"counts\"] / only_loc_total\n",
    "    \n",
    "vc.loc[n+1, \"loc\"] = \"Other\"\n",
    "vc.loc[n+1, \"loc_counts\"] = loc_total - sum(loc_vc.loc[0:n, \"counts\"])\n",
    "vc.loc[n+1, \"loc_prop\"] = vc.loc[n+1, \"loc_counts\"] / loc_total\n",
    "#vc.loc[n+1, \"only_loc\"] = \"Other\"\n",
    "#vc.loc[n+1, \"only_loc_counts\"] = only_loc_total - sum(only_loc_vc.loc[0:n, \"counts\"])\n",
    "#vc.loc[n+1, \"only_loc_prop\"] = vc.loc[n+1, \"only_loc_counts\"] / only_loc_total\n",
    "\n",
    "vc.reset_index(inplace=True, drop=True)\n",
    "#vc.drop(0, axis=0, inplace=True)\n",
    "print(\"Table \\ref{tab:geotagged-locations} shows the number of top 20 most geotagged locations within Argentina,\",\n",
    "      \"with 'Other' denoting other countries (does not include un-geotagged tweets).\")\n",
    "vc"
   ]
  },
  {
   "cell_type": "code",
   "execution_count": 7,
   "id": "eecc7272-7b6f-4d77-8e63-4b859536b295",
   "metadata": {
    "tags": []
   },
   "outputs": [
    {
     "name": "stdout",
     "output_type": "stream",
     "text": [
      "ef{tab:geotagged-locations} shows the number of top 20 most geotagged locations within Argentina, with 'Other' denoting other countries (does not include un-geotagged tweets).\n"
     ]
    },
    {
     "data": {
      "text/html": [
       "<div>\n",
       "<style scoped>\n",
       "    .dataframe tbody tr th:only-of-type {\n",
       "        vertical-align: middle;\n",
       "    }\n",
       "\n",
       "    .dataframe tbody tr th {\n",
       "        vertical-align: top;\n",
       "    }\n",
       "\n",
       "    .dataframe thead th {\n",
       "        text-align: right;\n",
       "    }\n",
       "</style>\n",
       "<table border=\"1\" class=\"dataframe\">\n",
       "  <thead>\n",
       "    <tr style=\"text-align: right;\">\n",
       "      <th></th>\n",
       "      <th>loc</th>\n",
       "      <th>loc_counts</th>\n",
       "      <th>loc_prop</th>\n",
       "    </tr>\n",
       "  </thead>\n",
       "  <tbody>\n",
       "    <tr>\n",
       "      <th>0</th>\n",
       "      <td>Florianópolis</td>\n",
       "      <td>23620.0</td>\n",
       "      <td>0.183489</td>\n",
       "    </tr>\n",
       "    <tr>\n",
       "      <th>1</th>\n",
       "      <td>Rio de Janeiro</td>\n",
       "      <td>17070.0</td>\n",
       "      <td>0.132606</td>\n",
       "    </tr>\n",
       "    <tr>\n",
       "      <th>2</th>\n",
       "      <td>Bombinhas</td>\n",
       "      <td>12285.0</td>\n",
       "      <td>0.095435</td>\n",
       "    </tr>\n",
       "    <tr>\n",
       "      <th>3</th>\n",
       "      <td>Ananindeua</td>\n",
       "      <td>8702.0</td>\n",
       "      <td>0.067600</td>\n",
       "    </tr>\n",
       "    <tr>\n",
       "      <th>4</th>\n",
       "      <td>Balneário Camboriú</td>\n",
       "      <td>5449.0</td>\n",
       "      <td>0.042330</td>\n",
       "    </tr>\n",
       "    <tr>\n",
       "      <th>5</th>\n",
       "      <td>Sao Paulo</td>\n",
       "      <td>5069.0</td>\n",
       "      <td>0.039378</td>\n",
       "    </tr>\n",
       "    <tr>\n",
       "      <th>6</th>\n",
       "      <td>Foz do Iguaçu</td>\n",
       "      <td>4787.0</td>\n",
       "      <td>0.037187</td>\n",
       "    </tr>\n",
       "    <tr>\n",
       "      <th>7</th>\n",
       "      <td>Itapema</td>\n",
       "      <td>4393.0</td>\n",
       "      <td>0.034126</td>\n",
       "    </tr>\n",
       "    <tr>\n",
       "      <th>8</th>\n",
       "      <td>Armação dos Búzios</td>\n",
       "      <td>2785.0</td>\n",
       "      <td>0.021635</td>\n",
       "    </tr>\n",
       "    <tr>\n",
       "      <th>9</th>\n",
       "      <td>Ipanema</td>\n",
       "      <td>2399.0</td>\n",
       "      <td>0.018636</td>\n",
       "    </tr>\n",
       "    <tr>\n",
       "      <th>10</th>\n",
       "      <td>Cuiabá</td>\n",
       "      <td>1796.0</td>\n",
       "      <td>0.013952</td>\n",
       "    </tr>\n",
       "    <tr>\n",
       "      <th>11</th>\n",
       "      <td>Porto Alegre</td>\n",
       "      <td>1766.0</td>\n",
       "      <td>0.013719</td>\n",
       "    </tr>\n",
       "    <tr>\n",
       "      <th>12</th>\n",
       "      <td>São Vicente</td>\n",
       "      <td>1151.0</td>\n",
       "      <td>0.008941</td>\n",
       "    </tr>\n",
       "    <tr>\n",
       "      <th>13</th>\n",
       "      <td>Natal</td>\n",
       "      <td>1087.0</td>\n",
       "      <td>0.008444</td>\n",
       "    </tr>\n",
       "    <tr>\n",
       "      <th>14</th>\n",
       "      <td>São Sebastião</td>\n",
       "      <td>1082.0</td>\n",
       "      <td>0.008405</td>\n",
       "    </tr>\n",
       "    <tr>\n",
       "      <th>15</th>\n",
       "      <td>Torres</td>\n",
       "      <td>1032.0</td>\n",
       "      <td>0.008017</td>\n",
       "    </tr>\n",
       "    <tr>\n",
       "      <th>16</th>\n",
       "      <td>Mata de São João</td>\n",
       "      <td>1014.0</td>\n",
       "      <td>0.007877</td>\n",
       "    </tr>\n",
       "    <tr>\n",
       "      <th>17</th>\n",
       "      <td>Rio Grande do Sul</td>\n",
       "      <td>909.0</td>\n",
       "      <td>0.007061</td>\n",
       "    </tr>\n",
       "    <tr>\n",
       "      <th>18</th>\n",
       "      <td>Porto Seguro</td>\n",
       "      <td>892.0</td>\n",
       "      <td>0.006929</td>\n",
       "    </tr>\n",
       "    <tr>\n",
       "      <th>19</th>\n",
       "      <td>Salvador</td>\n",
       "      <td>892.0</td>\n",
       "      <td>0.006929</td>\n",
       "    </tr>\n",
       "    <tr>\n",
       "      <th>20</th>\n",
       "      <td>Other</td>\n",
       "      <td>29667.0</td>\n",
       "      <td>0.230464</td>\n",
       "    </tr>\n",
       "  </tbody>\n",
       "</table>\n",
       "</div>"
      ],
      "text/plain": [
       "                   loc  loc_counts  loc_prop\n",
       "0        Florianópolis     23620.0  0.183489\n",
       "1       Rio de Janeiro     17070.0  0.132606\n",
       "2            Bombinhas     12285.0  0.095435\n",
       "3           Ananindeua      8702.0  0.067600\n",
       "4   Balneário Camboriú      5449.0  0.042330\n",
       "5            Sao Paulo      5069.0  0.039378\n",
       "6        Foz do Iguaçu      4787.0  0.037187\n",
       "7              Itapema      4393.0  0.034126\n",
       "8   Armação dos Búzios      2785.0  0.021635\n",
       "9              Ipanema      2399.0  0.018636\n",
       "10              Cuiabá      1796.0  0.013952\n",
       "11        Porto Alegre      1766.0  0.013719\n",
       "12         São Vicente      1151.0  0.008941\n",
       "13               Natal      1087.0  0.008444\n",
       "14       São Sebastião      1082.0  0.008405\n",
       "15              Torres      1032.0  0.008017\n",
       "16    Mata de São João      1014.0  0.007877\n",
       "17   Rio Grande do Sul       909.0  0.007061\n",
       "18        Porto Seguro       892.0  0.006929\n",
       "19            Salvador       892.0  0.006929\n",
       "20               Other     29667.0  0.230464"
      ]
     },
     "execution_count": 7,
     "metadata": {},
     "output_type": "execute_result"
    }
   ],
   "source": [
    "# BRAZIL - tweets\n",
    "\n",
    "br = df[df.place_country_code == \"BR\"]\n",
    "\n",
    "loc_vc = br.place_name.value_counts().rename_axis('unique_values').reset_index(name='counts')\n",
    "loc_total = sum(loc_vc.counts)\n",
    "#df_only = df[df.ner_type != \"LOC\"]\n",
    "#only_loc_vc = df_only.place_country.value_counts().rename_axis('unique_values').reset_index(name='counts')\n",
    "#only_loc_total = sum(loc_only_vc.counts)\n",
    "\n",
    "vc = pd.DataFrame(data = {\"loc\": [],\n",
    "                          \"loc_counts\": [],\n",
    "                          \"loc_prop\": []})\n",
    "                    #     \"only_loc\": [],\n",
    "                   #      \"only_loc_counts\": [],\n",
    "                   #      \"only_loc_prop\": []})\n",
    "\n",
    "n = 20\n",
    "for i in range(n):\n",
    "    vc.loc[i, \"loc\"] = loc_vc.loc[i, \"unique_values\"]\n",
    "    vc.loc[i, \"loc_counts\"] = loc_vc.loc[i, \"counts\"]\n",
    "    vc.loc[i, \"loc_prop\"] = loc_vc.loc[i, \"counts\"] / loc_total\n",
    "    \n",
    "  #  vc.loc[i, \"only_loc\"] = only_loc_vc.loc[i, \"unique_values\"]\n",
    "  #  vc.loc[i, \"only_loc_counts\"] = only_loc_vc.loc[i, \"counts\"]\n",
    "  #  vc.loc[i, \"only_loc_prop\"] = only_loc_vc.loc[i, \"counts\"] / only_loc_total\n",
    "    \n",
    "vc.loc[n+1, \"loc\"] = \"Other\"\n",
    "vc.loc[n+1, \"loc_counts\"] = loc_total - sum(loc_vc.loc[0:n, \"counts\"])\n",
    "vc.loc[n+1, \"loc_prop\"] = vc.loc[n+1, \"loc_counts\"] / loc_total\n",
    "#vc.loc[n+1, \"only_loc\"] = \"Other\"\n",
    "#vc.loc[n+1, \"only_loc_counts\"] = only_loc_total - sum(only_loc_vc.loc[0:n, \"counts\"])\n",
    "#vc.loc[n+1, \"only_loc_prop\"] = vc.loc[n+1, \"only_loc_counts\"] / only_loc_total\n",
    "\n",
    "vc.reset_index(inplace=True, drop=True)\n",
    "#vc.drop(0, axis=0, inplace=True)\n",
    "print(\"Table \\ref{tab:geotagged-locations} shows the number of top 20 most geotagged locations within Argentina,\",\n",
    "      \"with 'Other' denoting other countries (does not include un-geotagged tweets).\")\n",
    "vc"
   ]
  },
  {
   "cell_type": "code",
   "execution_count": 42,
   "id": "f69b1846-9562-4839-8d75-4d0c65d45c51",
   "metadata": {
    "tags": []
   },
   "outputs": [
    {
     "name": "stdout",
     "output_type": "stream",
     "text": [
      "ef{tab:geotagged-locations-users} shows the breakdown of top 20 most common geotags within Argentina aggregated by user to avoid the problem of varying tweeting frequencies.\n"
     ]
    },
    {
     "data": {
      "text/html": [
       "<div>\n",
       "<style scoped>\n",
       "    .dataframe tbody tr th:only-of-type {\n",
       "        vertical-align: middle;\n",
       "    }\n",
       "\n",
       "    .dataframe tbody tr th {\n",
       "        vertical-align: top;\n",
       "    }\n",
       "\n",
       "    .dataframe thead th {\n",
       "        text-align: right;\n",
       "    }\n",
       "</style>\n",
       "<table border=\"1\" class=\"dataframe\">\n",
       "  <thead>\n",
       "    <tr style=\"text-align: right;\">\n",
       "      <th></th>\n",
       "      <th>country</th>\n",
       "    </tr>\n",
       "  </thead>\n",
       "  <tbody>\n",
       "    <tr>\n",
       "      <th>Ciudad Autónoma de Buenos Aires</th>\n",
       "      <td>40660</td>\n",
       "    </tr>\n",
       "    <tr>\n",
       "      <th>Buenos Aires</th>\n",
       "      <td>31355</td>\n",
       "    </tr>\n",
       "    <tr>\n",
       "      <th>Córdoba</th>\n",
       "      <td>18180</td>\n",
       "    </tr>\n",
       "    <tr>\n",
       "      <th>Villa Soldati</th>\n",
       "      <td>9549</td>\n",
       "    </tr>\n",
       "    <tr>\n",
       "      <th>Santa Fe</th>\n",
       "      <td>9251</td>\n",
       "    </tr>\n",
       "    <tr>\n",
       "      <th>...</th>\n",
       "      <td>...</td>\n",
       "    </tr>\n",
       "    <tr>\n",
       "      <th>Los Lagos</th>\n",
       "      <td>9</td>\n",
       "    </tr>\n",
       "    <tr>\n",
       "      <th>Burruyacú</th>\n",
       "      <td>7</td>\n",
       "    </tr>\n",
       "    <tr>\n",
       "      <th>El Manzano</th>\n",
       "      <td>6</td>\n",
       "    </tr>\n",
       "    <tr>\n",
       "      <th>Villa Los Álamos</th>\n",
       "      <td>4</td>\n",
       "    </tr>\n",
       "    <tr>\n",
       "      <th>Los Nogales</th>\n",
       "      <td>1</td>\n",
       "    </tr>\n",
       "  </tbody>\n",
       "</table>\n",
       "<p>310 rows × 1 columns</p>\n",
       "</div>"
      ],
      "text/plain": [
       "                                 country\n",
       "Ciudad Autónoma de Buenos Aires    40660\n",
       "Buenos Aires                       31355\n",
       "Córdoba                            18180\n",
       "Villa Soldati                       9549\n",
       "Santa Fe                            9251\n",
       "...                                  ...\n",
       "Los Lagos                              9\n",
       "Burruyacú                              7\n",
       "El Manzano                             6\n",
       "Villa Los Álamos                       4\n",
       "Los Nogales                            1\n",
       "\n",
       "[310 rows x 1 columns]"
      ]
     },
     "execution_count": 42,
     "metadata": {},
     "output_type": "execute_result"
    }
   ],
   "source": [
    "# ARGENTINA GEOTAGS - by user\n",
    "\n",
    "ar = df[df.place_country_code == \"AR\"]\n",
    "\n",
    "import itertools\n",
    "\n",
    "user_ar = ar.groupby(['username'])[\"place_name\"].unique().reset_index(name='countries')\n",
    "\n",
    "# number of countries per user\n",
    "countries_per_user = user_ar.countries.str.len()\n",
    "\n",
    "#print()\n",
    "#print(\"The mean number of geotagged placenames in Argentina was \", np.mean(countries_per_user),\n",
    "#     \"and the median was \", np.median(countries_per_user))\n",
    "\n",
    "user_countries = user_ar.countries.tolist()\n",
    "all_countries = pd.DataFrame({\"country\":list(itertools.chain.from_iterable(user_countries))})\n",
    "temp = pd.DataFrame(all_countries.country.value_counts())\n",
    "\n",
    "print(\"Table \\ref{tab:geotagged-locations-users} shows the breakdown of top 20 most common geotags\",\n",
    "      \"within Argentina aggregated by user to avoid the problem of varying tweeting frequencies.\")\n",
    "temp"
   ]
  },
  {
   "cell_type": "code",
   "execution_count": 43,
   "id": "2710601d-40ec-4fe9-95dd-3cf95d9334a6",
   "metadata": {
    "tags": []
   },
   "outputs": [
    {
     "name": "stderr",
     "output_type": "stream",
     "text": [
      "/opt/conda/lib/python3.7/site-packages/ipykernel_launcher.py:10: SettingWithCopyWarning:\n",
      "\n",
      "\n",
      "A value is trying to be set on a copy of a slice from a DataFrame\n",
      "\n",
      "See the caveats in the documentation: https://pandas.pydata.org/pandas-docs/stable/user_guide/indexing.html#returning-a-view-versus-a-copy\n",
      "\n"
     ]
    },
    {
     "data": {
      "text/html": [
       "<div>\n",
       "<style scoped>\n",
       "    .dataframe tbody tr th:only-of-type {\n",
       "        vertical-align: middle;\n",
       "    }\n",
       "\n",
       "    .dataframe tbody tr th {\n",
       "        vertical-align: top;\n",
       "    }\n",
       "\n",
       "    .dataframe thead th {\n",
       "        text-align: right;\n",
       "    }\n",
       "</style>\n",
       "<table border=\"1\" class=\"dataframe\">\n",
       "  <thead>\n",
       "    <tr style=\"text-align: right;\">\n",
       "      <th></th>\n",
       "      <th>place</th>\n",
       "      <th>counts</th>\n",
       "      <th>prop</th>\n",
       "    </tr>\n",
       "  </thead>\n",
       "  <tbody>\n",
       "    <tr>\n",
       "      <th>0</th>\n",
       "      <td>Ciudad Autónoma de Buenos Aires</td>\n",
       "      <td>40660.0</td>\n",
       "      <td>0.093223</td>\n",
       "    </tr>\n",
       "    <tr>\n",
       "      <th>1</th>\n",
       "      <td>Buenos Aires</td>\n",
       "      <td>31355.0</td>\n",
       "      <td>0.071889</td>\n",
       "    </tr>\n",
       "    <tr>\n",
       "      <th>2</th>\n",
       "      <td>Córdoba</td>\n",
       "      <td>18180.0</td>\n",
       "      <td>0.041682</td>\n",
       "    </tr>\n",
       "    <tr>\n",
       "      <th>3</th>\n",
       "      <td>Villa Soldati</td>\n",
       "      <td>9549.0</td>\n",
       "      <td>0.021893</td>\n",
       "    </tr>\n",
       "    <tr>\n",
       "      <th>4</th>\n",
       "      <td>Santa Fe</td>\n",
       "      <td>9251.0</td>\n",
       "      <td>0.021210</td>\n",
       "    </tr>\n",
       "    <tr>\n",
       "      <th>5</th>\n",
       "      <td>La Plata</td>\n",
       "      <td>9196.0</td>\n",
       "      <td>0.021084</td>\n",
       "    </tr>\n",
       "    <tr>\n",
       "      <th>6</th>\n",
       "      <td>Rosario</td>\n",
       "      <td>8842.0</td>\n",
       "      <td>0.020272</td>\n",
       "    </tr>\n",
       "    <tr>\n",
       "      <th>7</th>\n",
       "      <td>Mar del Plata</td>\n",
       "      <td>7868.0</td>\n",
       "      <td>0.018039</td>\n",
       "    </tr>\n",
       "    <tr>\n",
       "      <th>8</th>\n",
       "      <td>Entre Ríos</td>\n",
       "      <td>7867.0</td>\n",
       "      <td>0.018037</td>\n",
       "    </tr>\n",
       "    <tr>\n",
       "      <th>9</th>\n",
       "      <td>San Isidro</td>\n",
       "      <td>7216.0</td>\n",
       "      <td>0.016544</td>\n",
       "    </tr>\n",
       "    <tr>\n",
       "      <th>10</th>\n",
       "      <td>Tigre</td>\n",
       "      <td>7098.0</td>\n",
       "      <td>0.016274</td>\n",
       "    </tr>\n",
       "    <tr>\n",
       "      <th>11</th>\n",
       "      <td>Avellaneda</td>\n",
       "      <td>6644.0</td>\n",
       "      <td>0.015233</td>\n",
       "    </tr>\n",
       "    <tr>\n",
       "      <th>12</th>\n",
       "      <td>Vicente López</td>\n",
       "      <td>6390.0</td>\n",
       "      <td>0.014651</td>\n",
       "    </tr>\n",
       "    <tr>\n",
       "      <th>13</th>\n",
       "      <td>González Catán</td>\n",
       "      <td>6357.0</td>\n",
       "      <td>0.014575</td>\n",
       "    </tr>\n",
       "    <tr>\n",
       "      <th>14</th>\n",
       "      <td>Argentina</td>\n",
       "      <td>6252.0</td>\n",
       "      <td>0.014334</td>\n",
       "    </tr>\n",
       "    <tr>\n",
       "      <th>15</th>\n",
       "      <td>Ciudad del Libertador General San Martín</td>\n",
       "      <td>6132.0</td>\n",
       "      <td>0.014059</td>\n",
       "    </tr>\n",
       "    <tr>\n",
       "      <th>16</th>\n",
       "      <td>Morón</td>\n",
       "      <td>5888.0</td>\n",
       "      <td>0.013500</td>\n",
       "    </tr>\n",
       "    <tr>\n",
       "      <th>17</th>\n",
       "      <td>Lomas de Zamora</td>\n",
       "      <td>5577.0</td>\n",
       "      <td>0.012787</td>\n",
       "    </tr>\n",
       "    <tr>\n",
       "      <th>18</th>\n",
       "      <td>Caseros</td>\n",
       "      <td>5244.0</td>\n",
       "      <td>0.012023</td>\n",
       "    </tr>\n",
       "    <tr>\n",
       "      <th>19</th>\n",
       "      <td>Buenos Aires City Region</td>\n",
       "      <td>4966.0</td>\n",
       "      <td>0.011386</td>\n",
       "    </tr>\n",
       "    <tr>\n",
       "      <th>20</th>\n",
       "      <td>Other</td>\n",
       "      <td>225628.0</td>\n",
       "      <td>0.517306</td>\n",
       "    </tr>\n",
       "  </tbody>\n",
       "</table>\n",
       "</div>"
      ],
      "text/plain": [
       "                                       place    counts      prop\n",
       "0            Ciudad Autónoma de Buenos Aires   40660.0  0.093223\n",
       "1                               Buenos Aires   31355.0  0.071889\n",
       "2                                    Córdoba   18180.0  0.041682\n",
       "3                              Villa Soldati    9549.0  0.021893\n",
       "4                                   Santa Fe    9251.0  0.021210\n",
       "5                                   La Plata    9196.0  0.021084\n",
       "6                                    Rosario    8842.0  0.020272\n",
       "7                              Mar del Plata    7868.0  0.018039\n",
       "8                                 Entre Ríos    7867.0  0.018037\n",
       "9                                 San Isidro    7216.0  0.016544\n",
       "10                                     Tigre    7098.0  0.016274\n",
       "11                                Avellaneda    6644.0  0.015233\n",
       "12                             Vicente López    6390.0  0.014651\n",
       "13                            González Catán    6357.0  0.014575\n",
       "14                                 Argentina    6252.0  0.014334\n",
       "15  Ciudad del Libertador General San Martín    6132.0  0.014059\n",
       "16                                     Morón    5888.0  0.013500\n",
       "17                           Lomas de Zamora    5577.0  0.012787\n",
       "18                                   Caseros    5244.0  0.012023\n",
       "19                  Buenos Aires City Region    4966.0  0.011386\n",
       "20                                     Other  225628.0  0.517306"
      ]
     },
     "execution_count": 43,
     "metadata": {},
     "output_type": "execute_result"
    }
   ],
   "source": [
    "temp = temp.reset_index().rename({\"index\":\"place\", \"country\":\"counts\"},axis=1)\n",
    "total_loc = temp.counts.sum()\n",
    "temp[\"prop\"] = temp[\"counts\"]/total_loc\n",
    "\n",
    "n = 20\n",
    "\n",
    "temp_keep = temp[0:n]\n",
    "discarded = temp[n:temp.shape[0]]\n",
    "\n",
    "temp_keep.loc[n, \"place\"] = \"Other\"\n",
    "temp_keep.loc[n, \"counts\"] = discarded.counts.sum()\n",
    "temp_keep.loc[n, \"prop\"] = temp_keep.loc[n, \"counts\"] / total_loc\n",
    "\n",
    "temp = temp_keep\n",
    "#common_countries = temp\n",
    "\n",
    "#print(\"Table \\ref{tab:geotagged-locations-users} shows their breakdown.\")\n",
    "temp"
   ]
  },
  {
   "cell_type": "code",
   "execution_count": 44,
   "id": "e4b9ab54-2dca-4dfe-b7fb-1f7ee0f10397",
   "metadata": {
    "tags": []
   },
   "outputs": [
    {
     "name": "stdout",
     "output_type": "stream",
     "text": [
      "There were a total of  55743738  geotagged tweets from Argentina.\n"
     ]
    }
   ],
   "source": [
    "print(\"There were a total of \", ar.shape[0],\" geotagged tweets from Argentina.\")"
   ]
  },
  {
   "cell_type": "code",
   "execution_count": 49,
   "id": "93943bfe-2e12-4279-9d2d-e4f5e2e71b83",
   "metadata": {
    "tags": []
   },
   "outputs": [
    {
     "name": "stdout",
     "output_type": "stream",
     "text": [
      "ef{tab:geotagged-locations-users} shows the breakdown of top 20 most common geotags within Argentina aggregated by user to avoid the problem of varying tweeting frequencies.\n"
     ]
    },
    {
     "data": {
      "text/html": [
       "<div>\n",
       "<style scoped>\n",
       "    .dataframe tbody tr th:only-of-type {\n",
       "        vertical-align: middle;\n",
       "    }\n",
       "\n",
       "    .dataframe tbody tr th {\n",
       "        vertical-align: top;\n",
       "    }\n",
       "\n",
       "    .dataframe thead th {\n",
       "        text-align: right;\n",
       "    }\n",
       "</style>\n",
       "<table border=\"1\" class=\"dataframe\">\n",
       "  <thead>\n",
       "    <tr style=\"text-align: right;\">\n",
       "      <th></th>\n",
       "      <th>country</th>\n",
       "    </tr>\n",
       "  </thead>\n",
       "  <tbody>\n",
       "    <tr>\n",
       "      <th>Florida</th>\n",
       "      <td>1294</td>\n",
       "    </tr>\n",
       "    <tr>\n",
       "      <th>Miami Beach</th>\n",
       "      <td>1226</td>\n",
       "    </tr>\n",
       "    <tr>\n",
       "      <th>Manhattan</th>\n",
       "      <td>1040</td>\n",
       "    </tr>\n",
       "    <tr>\n",
       "      <th>Miami</th>\n",
       "      <td>946</td>\n",
       "    </tr>\n",
       "    <tr>\n",
       "      <th>Orlando</th>\n",
       "      <td>709</td>\n",
       "    </tr>\n",
       "    <tr>\n",
       "      <th>...</th>\n",
       "      <td>...</td>\n",
       "    </tr>\n",
       "    <tr>\n",
       "      <th>Rayo</th>\n",
       "      <td>1</td>\n",
       "    </tr>\n",
       "    <tr>\n",
       "      <th>Boca Velázquez</th>\n",
       "      <td>1</td>\n",
       "    </tr>\n",
       "    <tr>\n",
       "      <th>March Air Reserve Base</th>\n",
       "      <td>1</td>\n",
       "    </tr>\n",
       "    <tr>\n",
       "      <th>Almácigo Alto</th>\n",
       "      <td>1</td>\n",
       "    </tr>\n",
       "    <tr>\n",
       "      <th>Herbie The Love Bug Buildings</th>\n",
       "      <td>1</td>\n",
       "    </tr>\n",
       "  </tbody>\n",
       "</table>\n",
       "<p>2960 rows × 1 columns</p>\n",
       "</div>"
      ],
      "text/plain": [
       "                               country\n",
       "Florida                           1294\n",
       "Miami Beach                       1226\n",
       "Manhattan                         1040\n",
       "Miami                              946\n",
       "Orlando                            709\n",
       "...                                ...\n",
       "Rayo                                 1\n",
       "Boca Velázquez                       1\n",
       "March Air Reserve Base               1\n",
       "Almácigo Alto                        1\n",
       "Herbie The Love Bug Buildings        1\n",
       "\n",
       "[2960 rows x 1 columns]"
      ]
     },
     "execution_count": 49,
     "metadata": {},
     "output_type": "execute_result"
    }
   ],
   "source": [
    "# UNITED STATES GEOTAGS - by user\n",
    "\n",
    "us = df[df.place_country_code == \"US\"]\n",
    "\n",
    "import itertools\n",
    "\n",
    "user_ar = us.groupby(['username'])[\"place_name\"].unique().reset_index(name='countries')\n",
    "\n",
    "# number of countries per user\n",
    "countries_per_user = user_ar.countries.str.len()\n",
    "\n",
    "#print()\n",
    "#print(\"The mean number of geotagged placenames in Argentina was \", np.mean(countries_per_user),\n",
    "#     \"and the median was \", np.median(countries_per_user))\n",
    "\n",
    "user_countries = user_ar.countries.tolist()\n",
    "all_countries = pd.DataFrame({\"country\":list(itertools.chain.from_iterable(user_countries))})\n",
    "temp = pd.DataFrame(all_countries.country.value_counts())\n",
    "\n",
    "print(\"Table \\ref{tab:geotagged-locations-users} shows the breakdown of top 20 most common geotags\",\n",
    "      \"within Argentina aggregated by user to avoid the problem of varying tweeting frequencies.\")\n",
    "temp"
   ]
  },
  {
   "cell_type": "code",
   "execution_count": 46,
   "id": "be672136-4580-45bc-b38e-34fed390b4ee",
   "metadata": {
    "tags": []
   },
   "outputs": [
    {
     "name": "stderr",
     "output_type": "stream",
     "text": [
      "/opt/conda/lib/python3.7/site-packages/ipykernel_launcher.py:10: SettingWithCopyWarning:\n",
      "\n",
      "\n",
      "A value is trying to be set on a copy of a slice from a DataFrame\n",
      "\n",
      "See the caveats in the documentation: https://pandas.pydata.org/pandas-docs/stable/user_guide/indexing.html#returning-a-view-versus-a-copy\n",
      "\n"
     ]
    },
    {
     "data": {
      "text/html": [
       "<div>\n",
       "<style scoped>\n",
       "    .dataframe tbody tr th:only-of-type {\n",
       "        vertical-align: middle;\n",
       "    }\n",
       "\n",
       "    .dataframe tbody tr th {\n",
       "        vertical-align: top;\n",
       "    }\n",
       "\n",
       "    .dataframe thead th {\n",
       "        text-align: right;\n",
       "    }\n",
       "</style>\n",
       "<table border=\"1\" class=\"dataframe\">\n",
       "  <thead>\n",
       "    <tr style=\"text-align: right;\">\n",
       "      <th></th>\n",
       "      <th>place</th>\n",
       "      <th>counts</th>\n",
       "      <th>prop</th>\n",
       "    </tr>\n",
       "  </thead>\n",
       "  <tbody>\n",
       "    <tr>\n",
       "      <th>0</th>\n",
       "      <td>Florida</td>\n",
       "      <td>1294.0</td>\n",
       "      <td>0.076855</td>\n",
       "    </tr>\n",
       "    <tr>\n",
       "      <th>1</th>\n",
       "      <td>Miami Beach</td>\n",
       "      <td>1226.0</td>\n",
       "      <td>0.072816</td>\n",
       "    </tr>\n",
       "    <tr>\n",
       "      <th>2</th>\n",
       "      <td>Manhattan</td>\n",
       "      <td>1040.0</td>\n",
       "      <td>0.061769</td>\n",
       "    </tr>\n",
       "    <tr>\n",
       "      <th>3</th>\n",
       "      <td>Miami</td>\n",
       "      <td>946.0</td>\n",
       "      <td>0.056186</td>\n",
       "    </tr>\n",
       "    <tr>\n",
       "      <th>4</th>\n",
       "      <td>Orlando</td>\n",
       "      <td>709.0</td>\n",
       "      <td>0.042110</td>\n",
       "    </tr>\n",
       "    <tr>\n",
       "      <th>5</th>\n",
       "      <td>New York</td>\n",
       "      <td>417.0</td>\n",
       "      <td>0.024767</td>\n",
       "    </tr>\n",
       "    <tr>\n",
       "      <th>6</th>\n",
       "      <td>Los Angeles</td>\n",
       "      <td>389.0</td>\n",
       "      <td>0.023104</td>\n",
       "    </tr>\n",
       "    <tr>\n",
       "      <th>7</th>\n",
       "      <td>United States</td>\n",
       "      <td>350.0</td>\n",
       "      <td>0.020788</td>\n",
       "    </tr>\n",
       "    <tr>\n",
       "      <th>8</th>\n",
       "      <td>Brooklyn</td>\n",
       "      <td>257.0</td>\n",
       "      <td>0.015264</td>\n",
       "    </tr>\n",
       "    <tr>\n",
       "      <th>9</th>\n",
       "      <td>Queens</td>\n",
       "      <td>227.0</td>\n",
       "      <td>0.013482</td>\n",
       "    </tr>\n",
       "    <tr>\n",
       "      <th>10</th>\n",
       "      <td>San Francisco</td>\n",
       "      <td>196.0</td>\n",
       "      <td>0.011641</td>\n",
       "    </tr>\n",
       "    <tr>\n",
       "      <th>11</th>\n",
       "      <td>California</td>\n",
       "      <td>192.0</td>\n",
       "      <td>0.011403</td>\n",
       "    </tr>\n",
       "    <tr>\n",
       "      <th>12</th>\n",
       "      <td>Hollywood</td>\n",
       "      <td>163.0</td>\n",
       "      <td>0.009681</td>\n",
       "    </tr>\n",
       "    <tr>\n",
       "      <th>13</th>\n",
       "      <td>Sunny Isles Beach</td>\n",
       "      <td>163.0</td>\n",
       "      <td>0.009681</td>\n",
       "    </tr>\n",
       "    <tr>\n",
       "      <th>14</th>\n",
       "      <td>Paradise</td>\n",
       "      <td>161.0</td>\n",
       "      <td>0.009562</td>\n",
       "    </tr>\n",
       "    <tr>\n",
       "      <th>15</th>\n",
       "      <td>Washington</td>\n",
       "      <td>156.0</td>\n",
       "      <td>0.009265</td>\n",
       "    </tr>\n",
       "    <tr>\n",
       "      <th>16</th>\n",
       "      <td>Fort Lauderdale</td>\n",
       "      <td>156.0</td>\n",
       "      <td>0.009265</td>\n",
       "    </tr>\n",
       "    <tr>\n",
       "      <th>17</th>\n",
       "      <td>Las Vegas</td>\n",
       "      <td>152.0</td>\n",
       "      <td>0.009028</td>\n",
       "    </tr>\n",
       "    <tr>\n",
       "      <th>18</th>\n",
       "      <td>Doral</td>\n",
       "      <td>129.0</td>\n",
       "      <td>0.007662</td>\n",
       "    </tr>\n",
       "    <tr>\n",
       "      <th>19</th>\n",
       "      <td>Chicago</td>\n",
       "      <td>118.0</td>\n",
       "      <td>0.007008</td>\n",
       "    </tr>\n",
       "    <tr>\n",
       "      <th>20</th>\n",
       "      <td>Other</td>\n",
       "      <td>8396.0</td>\n",
       "      <td>0.498664</td>\n",
       "    </tr>\n",
       "  </tbody>\n",
       "</table>\n",
       "</div>"
      ],
      "text/plain": [
       "                place  counts      prop\n",
       "0             Florida  1294.0  0.076855\n",
       "1         Miami Beach  1226.0  0.072816\n",
       "2           Manhattan  1040.0  0.061769\n",
       "3               Miami   946.0  0.056186\n",
       "4             Orlando   709.0  0.042110\n",
       "5            New York   417.0  0.024767\n",
       "6         Los Angeles   389.0  0.023104\n",
       "7       United States   350.0  0.020788\n",
       "8            Brooklyn   257.0  0.015264\n",
       "9              Queens   227.0  0.013482\n",
       "10      San Francisco   196.0  0.011641\n",
       "11         California   192.0  0.011403\n",
       "12          Hollywood   163.0  0.009681\n",
       "13  Sunny Isles Beach   163.0  0.009681\n",
       "14           Paradise   161.0  0.009562\n",
       "15         Washington   156.0  0.009265\n",
       "16    Fort Lauderdale   156.0  0.009265\n",
       "17          Las Vegas   152.0  0.009028\n",
       "18              Doral   129.0  0.007662\n",
       "19            Chicago   118.0  0.007008\n",
       "20              Other  8396.0  0.498664"
      ]
     },
     "execution_count": 46,
     "metadata": {},
     "output_type": "execute_result"
    }
   ],
   "source": [
    "temp = temp.reset_index().rename({\"index\":\"place\", \"country\":\"counts\"},axis=1)\n",
    "total_loc = temp.counts.sum()\n",
    "temp[\"prop\"] = temp[\"counts\"]/total_loc\n",
    "\n",
    "n = 20\n",
    "\n",
    "temp_keep = temp[0:n]\n",
    "discarded = temp[n:temp.shape[0]]\n",
    "\n",
    "temp_keep.loc[n, \"place\"] = \"Other\"\n",
    "temp_keep.loc[n, \"counts\"] = discarded.counts.sum()\n",
    "temp_keep.loc[n, \"prop\"] = temp_keep.loc[n, \"counts\"] / total_loc\n",
    "\n",
    "temp = temp_keep\n",
    "#common_countries = temp\n",
    "\n",
    "#print(\"Table \\ref{tab:geotagged-locations-users} shows their breakdown.\")\n",
    "temp"
   ]
  },
  {
   "cell_type": "code",
   "execution_count": 47,
   "id": "e8b6a9fe-074e-4d8b-86b0-6cc036ea40d7",
   "metadata": {
    "tags": []
   },
   "outputs": [
    {
     "name": "stdout",
     "output_type": "stream",
     "text": [
      "ef{tab:geotagged-locations-users} shows the breakdown of top 20 most common geotags within Argentina aggregated by user to avoid the problem of varying tweeting frequencies.\n"
     ]
    },
    {
     "data": {
      "text/html": [
       "<div>\n",
       "<style scoped>\n",
       "    .dataframe tbody tr th:only-of-type {\n",
       "        vertical-align: middle;\n",
       "    }\n",
       "\n",
       "    .dataframe tbody tr th {\n",
       "        vertical-align: top;\n",
       "    }\n",
       "\n",
       "    .dataframe thead th {\n",
       "        text-align: right;\n",
       "    }\n",
       "</style>\n",
       "<table border=\"1\" class=\"dataframe\">\n",
       "  <thead>\n",
       "    <tr style=\"text-align: right;\">\n",
       "      <th></th>\n",
       "      <th>country</th>\n",
       "    </tr>\n",
       "  </thead>\n",
       "  <tbody>\n",
       "    <tr>\n",
       "      <th>Florianópolis</th>\n",
       "      <td>1140</td>\n",
       "    </tr>\n",
       "    <tr>\n",
       "      <th>Rio de Janeiro</th>\n",
       "      <td>1032</td>\n",
       "    </tr>\n",
       "    <tr>\n",
       "      <th>Foz do Iguaçu</th>\n",
       "      <td>701</td>\n",
       "    </tr>\n",
       "    <tr>\n",
       "      <th>Bombinhas</th>\n",
       "      <td>627</td>\n",
       "    </tr>\n",
       "    <tr>\n",
       "      <th>Balneário Camboriú</th>\n",
       "      <td>464</td>\n",
       "    </tr>\n",
       "    <tr>\n",
       "      <th>...</th>\n",
       "      <td>...</td>\n",
       "    </tr>\n",
       "    <tr>\n",
       "      <th>Pousada Borekoko</th>\n",
       "      <td>1</td>\n",
       "    </tr>\n",
       "    <tr>\n",
       "      <th>Hotel Canzi</th>\n",
       "      <td>1</td>\n",
       "    </tr>\n",
       "    <tr>\n",
       "      <th>Balneário Arroio do Silva</th>\n",
       "      <td>1</td>\n",
       "    </tr>\n",
       "    <tr>\n",
       "      <th>Palotina</th>\n",
       "      <td>1</td>\n",
       "    </tr>\n",
       "    <tr>\n",
       "      <th>Mairi</th>\n",
       "      <td>1</td>\n",
       "    </tr>\n",
       "  </tbody>\n",
       "</table>\n",
       "<p>1522 rows × 1 columns</p>\n",
       "</div>"
      ],
      "text/plain": [
       "                           country\n",
       "Florianópolis                 1140\n",
       "Rio de Janeiro                1032\n",
       "Foz do Iguaçu                  701\n",
       "Bombinhas                      627\n",
       "Balneário Camboriú             464\n",
       "...                            ...\n",
       "Pousada Borekoko                 1\n",
       "Hotel Canzi                      1\n",
       "Balneário Arroio do Silva        1\n",
       "Palotina                         1\n",
       "Mairi                            1\n",
       "\n",
       "[1522 rows x 1 columns]"
      ]
     },
     "execution_count": 47,
     "metadata": {},
     "output_type": "execute_result"
    }
   ],
   "source": [
    "# BRAZIL GEOTAGS - by user\n",
    "\n",
    "br = df[df.place_country_code == \"BR\"]\n",
    "\n",
    "import itertools\n",
    "\n",
    "user_ar = br.groupby(['username'])[\"place_name\"].unique().reset_index(name='countries')\n",
    "\n",
    "# number of countries per user\n",
    "countries_per_user = user_ar.countries.str.len()\n",
    "\n",
    "#print()\n",
    "#print(\"The mean number of geotagged placenames in Argentina was \", np.mean(countries_per_user),\n",
    "#     \"and the median was \", np.median(countries_per_user))\n",
    "\n",
    "user_countries = user_ar.countries.tolist()\n",
    "all_countries = pd.DataFrame({\"country\":list(itertools.chain.from_iterable(user_countries))})\n",
    "temp = pd.DataFrame(all_countries.country.value_counts())\n",
    "\n",
    "print(\"Table \\ref{tab:geotagged-locations-users} shows the breakdown of top 20 most common geotags\",\n",
    "      \"within Argentina aggregated by user to avoid the problem of varying tweeting frequencies.\")\n",
    "temp"
   ]
  },
  {
   "cell_type": "code",
   "execution_count": 48,
   "id": "d83fe0c9-1807-4f6a-8b60-6822cee8713d",
   "metadata": {
    "tags": []
   },
   "outputs": [
    {
     "name": "stderr",
     "output_type": "stream",
     "text": [
      "/opt/conda/lib/python3.7/site-packages/ipykernel_launcher.py:10: SettingWithCopyWarning:\n",
      "\n",
      "\n",
      "A value is trying to be set on a copy of a slice from a DataFrame\n",
      "\n",
      "See the caveats in the documentation: https://pandas.pydata.org/pandas-docs/stable/user_guide/indexing.html#returning-a-view-versus-a-copy\n",
      "\n"
     ]
    },
    {
     "data": {
      "text/html": [
       "<div>\n",
       "<style scoped>\n",
       "    .dataframe tbody tr th:only-of-type {\n",
       "        vertical-align: middle;\n",
       "    }\n",
       "\n",
       "    .dataframe tbody tr th {\n",
       "        vertical-align: top;\n",
       "    }\n",
       "\n",
       "    .dataframe thead th {\n",
       "        text-align: right;\n",
       "    }\n",
       "</style>\n",
       "<table border=\"1\" class=\"dataframe\">\n",
       "  <thead>\n",
       "    <tr style=\"text-align: right;\">\n",
       "      <th></th>\n",
       "      <th>place</th>\n",
       "      <th>counts</th>\n",
       "      <th>prop</th>\n",
       "    </tr>\n",
       "  </thead>\n",
       "  <tbody>\n",
       "    <tr>\n",
       "      <th>0</th>\n",
       "      <td>Florianópolis</td>\n",
       "      <td>1140.0</td>\n",
       "      <td>0.096178</td>\n",
       "    </tr>\n",
       "    <tr>\n",
       "      <th>1</th>\n",
       "      <td>Rio de Janeiro</td>\n",
       "      <td>1032.0</td>\n",
       "      <td>0.087067</td>\n",
       "    </tr>\n",
       "    <tr>\n",
       "      <th>2</th>\n",
       "      <td>Foz do Iguaçu</td>\n",
       "      <td>701.0</td>\n",
       "      <td>0.059141</td>\n",
       "    </tr>\n",
       "    <tr>\n",
       "      <th>3</th>\n",
       "      <td>Bombinhas</td>\n",
       "      <td>627.0</td>\n",
       "      <td>0.052898</td>\n",
       "    </tr>\n",
       "    <tr>\n",
       "      <th>4</th>\n",
       "      <td>Balneário Camboriú</td>\n",
       "      <td>464.0</td>\n",
       "      <td>0.039146</td>\n",
       "    </tr>\n",
       "    <tr>\n",
       "      <th>5</th>\n",
       "      <td>Sao Paulo</td>\n",
       "      <td>383.0</td>\n",
       "      <td>0.032312</td>\n",
       "    </tr>\n",
       "    <tr>\n",
       "      <th>6</th>\n",
       "      <td>Armação dos Búzios</td>\n",
       "      <td>296.0</td>\n",
       "      <td>0.024973</td>\n",
       "    </tr>\n",
       "    <tr>\n",
       "      <th>7</th>\n",
       "      <td>Guarulhos</td>\n",
       "      <td>285.0</td>\n",
       "      <td>0.024045</td>\n",
       "    </tr>\n",
       "    <tr>\n",
       "      <th>8</th>\n",
       "      <td>Itapema</td>\n",
       "      <td>283.0</td>\n",
       "      <td>0.023876</td>\n",
       "    </tr>\n",
       "    <tr>\n",
       "      <th>9</th>\n",
       "      <td>Santa Catarina</td>\n",
       "      <td>166.0</td>\n",
       "      <td>0.014005</td>\n",
       "    </tr>\n",
       "    <tr>\n",
       "      <th>10</th>\n",
       "      <td>São Gabriel</td>\n",
       "      <td>159.0</td>\n",
       "      <td>0.013414</td>\n",
       "    </tr>\n",
       "    <tr>\n",
       "      <th>11</th>\n",
       "      <td>Uruguaiana</td>\n",
       "      <td>137.0</td>\n",
       "      <td>0.011558</td>\n",
       "    </tr>\n",
       "    <tr>\n",
       "      <th>12</th>\n",
       "      <td>Torres</td>\n",
       "      <td>128.0</td>\n",
       "      <td>0.010799</td>\n",
       "    </tr>\n",
       "    <tr>\n",
       "      <th>13</th>\n",
       "      <td>Salvador</td>\n",
       "      <td>126.0</td>\n",
       "      <td>0.010630</td>\n",
       "    </tr>\n",
       "    <tr>\n",
       "      <th>14</th>\n",
       "      <td>Porto Seguro</td>\n",
       "      <td>123.0</td>\n",
       "      <td>0.010377</td>\n",
       "    </tr>\n",
       "    <tr>\n",
       "      <th>15</th>\n",
       "      <td>Porto Alegre</td>\n",
       "      <td>119.0</td>\n",
       "      <td>0.010040</td>\n",
       "    </tr>\n",
       "    <tr>\n",
       "      <th>16</th>\n",
       "      <td>Angra dos Reis</td>\n",
       "      <td>117.0</td>\n",
       "      <td>0.009871</td>\n",
       "    </tr>\n",
       "    <tr>\n",
       "      <th>17</th>\n",
       "      <td>Brazil</td>\n",
       "      <td>115.0</td>\n",
       "      <td>0.009702</td>\n",
       "    </tr>\n",
       "    <tr>\n",
       "      <th>18</th>\n",
       "      <td>Garopaba</td>\n",
       "      <td>107.0</td>\n",
       "      <td>0.009027</td>\n",
       "    </tr>\n",
       "    <tr>\n",
       "      <th>19</th>\n",
       "      <td>Brasília</td>\n",
       "      <td>103.0</td>\n",
       "      <td>0.008690</td>\n",
       "    </tr>\n",
       "    <tr>\n",
       "      <th>20</th>\n",
       "      <td>Other</td>\n",
       "      <td>5242.0</td>\n",
       "      <td>0.442251</td>\n",
       "    </tr>\n",
       "  </tbody>\n",
       "</table>\n",
       "</div>"
      ],
      "text/plain": [
       "                 place  counts      prop\n",
       "0        Florianópolis  1140.0  0.096178\n",
       "1       Rio de Janeiro  1032.0  0.087067\n",
       "2        Foz do Iguaçu   701.0  0.059141\n",
       "3            Bombinhas   627.0  0.052898\n",
       "4   Balneário Camboriú   464.0  0.039146\n",
       "5            Sao Paulo   383.0  0.032312\n",
       "6   Armação dos Búzios   296.0  0.024973\n",
       "7            Guarulhos   285.0  0.024045\n",
       "8              Itapema   283.0  0.023876\n",
       "9       Santa Catarina   166.0  0.014005\n",
       "10         São Gabriel   159.0  0.013414\n",
       "11          Uruguaiana   137.0  0.011558\n",
       "12              Torres   128.0  0.010799\n",
       "13            Salvador   126.0  0.010630\n",
       "14        Porto Seguro   123.0  0.010377\n",
       "15        Porto Alegre   119.0  0.010040\n",
       "16      Angra dos Reis   117.0  0.009871\n",
       "17              Brazil   115.0  0.009702\n",
       "18            Garopaba   107.0  0.009027\n",
       "19            Brasília   103.0  0.008690\n",
       "20               Other  5242.0  0.442251"
      ]
     },
     "execution_count": 48,
     "metadata": {},
     "output_type": "execute_result"
    }
   ],
   "source": [
    "temp = temp.reset_index().rename({\"index\":\"place\", \"country\":\"counts\"},axis=1)\n",
    "total_loc = temp.counts.sum()\n",
    "temp[\"prop\"] = temp[\"counts\"]/total_loc\n",
    "\n",
    "n = 20\n",
    "\n",
    "temp_keep = temp[0:n]\n",
    "discarded = temp[n:temp.shape[0]]\n",
    "\n",
    "temp_keep.loc[n, \"place\"] = \"Other\"\n",
    "temp_keep.loc[n, \"counts\"] = discarded.counts.sum()\n",
    "temp_keep.loc[n, \"prop\"] = temp_keep.loc[n, \"counts\"] / total_loc\n",
    "\n",
    "temp = temp_keep\n",
    "#common_countries = temp\n",
    "\n",
    "#print(\"Table \\ref{tab:geotagged-locations-users} shows their breakdown.\")\n",
    "temp"
   ]
  },
  {
   "cell_type": "markdown",
   "id": "c0f14903-67c8-47c5-8ac2-6afa77070842",
   "metadata": {},
   "source": [
    "## Epi Weeks"
   ]
  },
  {
   "cell_type": "code",
   "execution_count": 62,
   "id": "16b434b4-3ce5-4967-94e2-52dcbaee64c1",
   "metadata": {
    "tags": []
   },
   "outputs": [
    {
     "data": {
      "application/vnd.plotly.v1+json": {
       "config": {
        "plotlyServerURL": "https://plot.ly"
       },
       "data": [
        {
         "hovertemplate": "Country=Brazil<br>Epi Week=%{x}<br>Number of Tweets=%{y}<extra></extra>",
         "legendgroup": "Brazil",
         "line": {
          "color": "#636efa",
          "dash": "solid"
         },
         "marker": {
          "symbol": "circle"
         },
         "mode": "lines",
         "name": "Brazil",
         "orientation": "v",
         "showlegend": true,
         "type": "scatter",
         "x": [
          "201540",
          "201541",
          "201542",
          "201543",
          "201544",
          "201545",
          "201546",
          "201547",
          "201548",
          "201549",
          "201550",
          "201551",
          "201552",
          "201553",
          "201601",
          "201602",
          "201603",
          "201604",
          "201605",
          "201606",
          "201607",
          "201608",
          "201609",
          "201610",
          "201611",
          "201612",
          "201613",
          "201614",
          "201615",
          "201616",
          "201617",
          "201618",
          "201619",
          "201620",
          "201621",
          "201622",
          "201623",
          "201624",
          "201625",
          "201626",
          "201627",
          "201628",
          "201629",
          "201630",
          "201631",
          "201632",
          "201633",
          "201634",
          "201635",
          "201636",
          "201637",
          "201638",
          "201639",
          "201640",
          "201641",
          "201642",
          "201643",
          "201644"
         ],
         "xaxis": "x",
         "y": [
          688,
          1279,
          1356,
          965,
          816,
          891,
          971,
          1232,
          1153,
          1109,
          1275,
          1480,
          2192,
          4230,
          7362,
          9352,
          9587,
          10418,
          7197,
          7165,
          7318,
          5074,
          2853,
          2160,
          2549,
          2526,
          1397,
          1152,
          1150,
          1105,
          1213,
          1103,
          1206,
          997,
          790,
          930,
          1003,
          915,
          1019,
          1064,
          1115,
          1425,
          1762,
          1231,
          1308,
          2908,
          2368,
          1042,
          1042,
          976,
          963,
          720,
          685,
          819,
          801,
          667,
          593,
          60
         ],
         "yaxis": "y"
        },
        {
         "hovertemplate": "Country=Spain<br>Epi Week=%{x}<br>Number of Tweets=%{y}<extra></extra>",
         "legendgroup": "Spain",
         "line": {
          "color": "#EF553B",
          "dash": "solid"
         },
         "marker": {
          "symbol": "circle"
         },
         "mode": "lines",
         "name": "Spain",
         "orientation": "v",
         "showlegend": true,
         "type": "scatter",
         "x": [
          "201540",
          "201541",
          "201542",
          "201543",
          "201544",
          "201545",
          "201546",
          "201547",
          "201548",
          "201549",
          "201550",
          "201551",
          "201552",
          "201553",
          "201601",
          "201602",
          "201603",
          "201604",
          "201605",
          "201606",
          "201607",
          "201608",
          "201609",
          "201610",
          "201611",
          "201612",
          "201613",
          "201614",
          "201615",
          "201616",
          "201617",
          "201618",
          "201619",
          "201620",
          "201621",
          "201622",
          "201623",
          "201624",
          "201625",
          "201626",
          "201627",
          "201628",
          "201629",
          "201630",
          "201631",
          "201632",
          "201633",
          "201634",
          "201635",
          "201636",
          "201637",
          "201638",
          "201639",
          "201640",
          "201641",
          "201642",
          "201643",
          "201644"
         ],
         "xaxis": "x",
         "y": [
          337,
          626,
          622,
          518,
          329,
          359,
          565,
          741,
          692,
          533,
          539,
          494,
          414,
          816,
          951,
          715,
          823,
          1022,
          944,
          950,
          602,
          857,
          824,
          578,
          612,
          576,
          761,
          554,
          453,
          515,
          623,
          430,
          392,
          515,
          468,
          456,
          537,
          582,
          493,
          667,
          598,
          737,
          601,
          802,
          801,
          877,
          836,
          771,
          758,
          459,
          474,
          729,
          884,
          845,
          804,
          732,
          536,
          84
         ],
         "yaxis": "y"
        },
        {
         "hovertemplate": "Country=Chile<br>Epi Week=%{x}<br>Number of Tweets=%{y}<extra></extra>",
         "legendgroup": "Chile",
         "line": {
          "color": "#00cc96",
          "dash": "solid"
         },
         "marker": {
          "symbol": "circle"
         },
         "mode": "lines",
         "name": "Chile",
         "orientation": "v",
         "showlegend": true,
         "type": "scatter",
         "x": [
          "201540",
          "201541",
          "201542",
          "201543",
          "201544",
          "201545",
          "201546",
          "201547",
          "201548",
          "201549",
          "201550",
          "201551",
          "201552",
          "201553",
          "201601",
          "201602",
          "201603",
          "201604",
          "201605",
          "201606",
          "201607",
          "201608",
          "201609",
          "201610",
          "201611",
          "201612",
          "201613",
          "201614",
          "201615",
          "201616",
          "201617",
          "201618",
          "201619",
          "201620",
          "201621",
          "201622",
          "201623",
          "201624",
          "201625",
          "201626",
          "201627",
          "201628",
          "201629",
          "201630",
          "201631",
          "201632",
          "201633",
          "201634",
          "201635",
          "201636",
          "201637",
          "201638",
          "201639",
          "201640",
          "201641",
          "201642",
          "201643",
          "201644"
         ],
         "xaxis": "x",
         "y": [
          449,
          1004,
          868,
          792,
          775,
          1048,
          992,
          801,
          882,
          891,
          1491,
          1286,
          1580,
          2039,
          2290,
          2530,
          3493,
          3021,
          2231,
          1694,
          1457,
          1501,
          1269,
          1390,
          1214,
          1300,
          1039,
          1031,
          862,
          797,
          656,
          771,
          840,
          738,
          762,
          672,
          874,
          683,
          975,
          807,
          1103,
          1382,
          1851,
          1304,
          1002,
          1132,
          1061,
          882,
          1278,
          1057,
          1085,
          1054,
          1003,
          1019,
          925,
          1059,
          812,
          85
         ],
         "yaxis": "y"
        },
        {
         "hovertemplate": "Country=United States<br>Epi Week=%{x}<br>Number of Tweets=%{y}<extra></extra>",
         "legendgroup": "United States",
         "line": {
          "color": "#ab63fa",
          "dash": "solid"
         },
         "marker": {
          "symbol": "circle"
         },
         "mode": "lines",
         "name": "United States",
         "orientation": "v",
         "showlegend": true,
         "type": "scatter",
         "x": [
          "201540",
          "201541",
          "201542",
          "201543",
          "201544",
          "201545",
          "201546",
          "201547",
          "201548",
          "201549",
          "201550",
          "201551",
          "201552",
          "201553",
          "201601",
          "201602",
          "201603",
          "201604",
          "201605",
          "201606",
          "201607",
          "201608",
          "201609",
          "201610",
          "201611",
          "201612",
          "201613",
          "201614",
          "201615",
          "201616",
          "201617",
          "201618",
          "201619",
          "201620",
          "201621",
          "201622",
          "201623",
          "201624",
          "201625",
          "201626",
          "201627",
          "201628",
          "201629",
          "201630",
          "201631",
          "201632",
          "201633",
          "201634",
          "201635",
          "201636",
          "201637",
          "201638",
          "201639",
          "201640",
          "201641",
          "201642",
          "201643",
          "201644"
         ],
         "xaxis": "x",
         "y": [
          1430,
          3163,
          2763,
          2913,
          2361,
          2325,
          1887,
          2783,
          2652,
          2411,
          2512,
          2523,
          3190,
          3938,
          4421,
          4067,
          2713,
          3689,
          3674,
          4247,
          4346,
          3916,
          2852,
          2401,
          2416,
          2958,
          3092,
          2533,
          2186,
          2501,
          2626,
          2733,
          2266,
          2392,
          2390,
          2283,
          2372,
          2170,
          2361,
          2574,
          2906,
          2756,
          3214,
          2641,
          1981,
          1931,
          1869,
          1827,
          1999,
          2247,
          2163,
          2233,
          2730,
          2604,
          2353,
          2082,
          2034,
          311
         ],
         "yaxis": "y"
        },
        {
         "hovertemplate": "Country=Uruguay<br>Epi Week=%{x}<br>Number of Tweets=%{y}<extra></extra>",
         "legendgroup": "Uruguay",
         "line": {
          "color": "#FFA15A",
          "dash": "solid"
         },
         "marker": {
          "symbol": "circle"
         },
         "mode": "lines",
         "name": "Uruguay",
         "orientation": "v",
         "showlegend": true,
         "type": "scatter",
         "x": [
          "201540",
          "201541",
          "201542",
          "201543",
          "201544",
          "201545",
          "201546",
          "201547",
          "201548",
          "201549",
          "201550",
          "201551",
          "201552",
          "201553",
          "201601",
          "201602",
          "201603",
          "201604",
          "201605",
          "201606",
          "201607",
          "201608",
          "201609",
          "201610",
          "201611",
          "201612",
          "201613",
          "201614",
          "201615",
          "201616",
          "201617",
          "201618",
          "201619",
          "201620",
          "201621",
          "201622",
          "201623",
          "201624",
          "201625",
          "201626",
          "201627",
          "201628",
          "201629",
          "201630",
          "201631",
          "201632",
          "201633",
          "201634",
          "201635",
          "201636",
          "201637",
          "201638",
          "201639",
          "201640",
          "201641",
          "201642",
          "201643",
          "201644"
         ],
         "xaxis": "x",
         "y": [
          329,
          1398,
          919,
          388,
          518,
          524,
          353,
          635,
          733,
          817,
          950,
          881,
          1114,
          3021,
          3291,
          2652,
          2792,
          2739,
          1908,
          2443,
          1507,
          1401,
          989,
          576,
          640,
          1328,
          921,
          630,
          679,
          639,
          560,
          615,
          785,
          793,
          625,
          711,
          580,
          624,
          628,
          627,
          799,
          1113,
          1054,
          893,
          558,
          449,
          407,
          493,
          342,
          683,
          785,
          566,
          611,
          675,
          640,
          405,
          625,
          103
         ],
         "yaxis": "y"
        },
        {
         "hovertemplate": "Country=Mexico<br>Epi Week=%{x}<br>Number of Tweets=%{y}<extra></extra>",
         "legendgroup": "Mexico",
         "line": {
          "color": "#19d3f3",
          "dash": "solid"
         },
         "marker": {
          "symbol": "circle"
         },
         "mode": "lines",
         "name": "Mexico",
         "orientation": "v",
         "showlegend": true,
         "type": "scatter",
         "x": [
          "201540",
          "201541",
          "201542",
          "201543",
          "201544",
          "201545",
          "201546",
          "201547",
          "201548",
          "201549",
          "201550",
          "201551",
          "201552",
          "201553",
          "201601",
          "201602",
          "201603",
          "201604",
          "201605",
          "201606",
          "201607",
          "201608",
          "201609",
          "201610",
          "201611",
          "201612",
          "201613",
          "201614",
          "201615",
          "201616",
          "201617",
          "201618",
          "201619",
          "201620",
          "201621",
          "201622",
          "201623",
          "201624",
          "201625",
          "201626",
          "201627",
          "201628",
          "201629",
          "201630",
          "201631",
          "201632",
          "201633",
          "201634",
          "201635",
          "201636",
          "201637",
          "201638",
          "201639",
          "201640",
          "201641",
          "201642",
          "201643",
          "201644"
         ],
         "xaxis": "x",
         "y": [
          131,
          273,
          367,
          212,
          452,
          472,
          549,
          454,
          329,
          479,
          857,
          801,
          744,
          688,
          682,
          1059,
          844,
          605,
          629,
          638,
          604,
          528,
          574,
          503,
          673,
          613,
          583,
          489,
          330,
          385,
          438,
          630,
          472,
          383,
          311,
          375,
          402,
          623,
          692,
          999,
          725,
          488,
          631,
          691,
          569,
          528,
          381,
          360,
          427,
          415,
          450,
          478,
          378,
          504,
          403,
          336,
          346,
          31
         ],
         "yaxis": "y"
        }
       ],
       "layout": {
        "height": 500,
        "legend": {
         "title": {
          "text": "Country"
         },
         "tracegroupgap": 0
        },
        "margin": {
         "t": 60
        },
        "template": {
         "data": {
          "bar": [
           {
            "error_x": {
             "color": "#2a3f5f"
            },
            "error_y": {
             "color": "#2a3f5f"
            },
            "marker": {
             "line": {
              "color": "#E5ECF6",
              "width": 0.5
             },
             "pattern": {
              "fillmode": "overlay",
              "size": 10,
              "solidity": 0.2
             }
            },
            "type": "bar"
           }
          ],
          "barpolar": [
           {
            "marker": {
             "line": {
              "color": "#E5ECF6",
              "width": 0.5
             },
             "pattern": {
              "fillmode": "overlay",
              "size": 10,
              "solidity": 0.2
             }
            },
            "type": "barpolar"
           }
          ],
          "carpet": [
           {
            "aaxis": {
             "endlinecolor": "#2a3f5f",
             "gridcolor": "white",
             "linecolor": "white",
             "minorgridcolor": "white",
             "startlinecolor": "#2a3f5f"
            },
            "baxis": {
             "endlinecolor": "#2a3f5f",
             "gridcolor": "white",
             "linecolor": "white",
             "minorgridcolor": "white",
             "startlinecolor": "#2a3f5f"
            },
            "type": "carpet"
           }
          ],
          "choropleth": [
           {
            "colorbar": {
             "outlinewidth": 0,
             "ticks": ""
            },
            "type": "choropleth"
           }
          ],
          "contour": [
           {
            "colorbar": {
             "outlinewidth": 0,
             "ticks": ""
            },
            "colorscale": [
             [
              0,
              "#0d0887"
             ],
             [
              0.1111111111111111,
              "#46039f"
             ],
             [
              0.2222222222222222,
              "#7201a8"
             ],
             [
              0.3333333333333333,
              "#9c179e"
             ],
             [
              0.4444444444444444,
              "#bd3786"
             ],
             [
              0.5555555555555556,
              "#d8576b"
             ],
             [
              0.6666666666666666,
              "#ed7953"
             ],
             [
              0.7777777777777778,
              "#fb9f3a"
             ],
             [
              0.8888888888888888,
              "#fdca26"
             ],
             [
              1,
              "#f0f921"
             ]
            ],
            "type": "contour"
           }
          ],
          "contourcarpet": [
           {
            "colorbar": {
             "outlinewidth": 0,
             "ticks": ""
            },
            "type": "contourcarpet"
           }
          ],
          "heatmap": [
           {
            "colorbar": {
             "outlinewidth": 0,
             "ticks": ""
            },
            "colorscale": [
             [
              0,
              "#0d0887"
             ],
             [
              0.1111111111111111,
              "#46039f"
             ],
             [
              0.2222222222222222,
              "#7201a8"
             ],
             [
              0.3333333333333333,
              "#9c179e"
             ],
             [
              0.4444444444444444,
              "#bd3786"
             ],
             [
              0.5555555555555556,
              "#d8576b"
             ],
             [
              0.6666666666666666,
              "#ed7953"
             ],
             [
              0.7777777777777778,
              "#fb9f3a"
             ],
             [
              0.8888888888888888,
              "#fdca26"
             ],
             [
              1,
              "#f0f921"
             ]
            ],
            "type": "heatmap"
           }
          ],
          "heatmapgl": [
           {
            "colorbar": {
             "outlinewidth": 0,
             "ticks": ""
            },
            "colorscale": [
             [
              0,
              "#0d0887"
             ],
             [
              0.1111111111111111,
              "#46039f"
             ],
             [
              0.2222222222222222,
              "#7201a8"
             ],
             [
              0.3333333333333333,
              "#9c179e"
             ],
             [
              0.4444444444444444,
              "#bd3786"
             ],
             [
              0.5555555555555556,
              "#d8576b"
             ],
             [
              0.6666666666666666,
              "#ed7953"
             ],
             [
              0.7777777777777778,
              "#fb9f3a"
             ],
             [
              0.8888888888888888,
              "#fdca26"
             ],
             [
              1,
              "#f0f921"
             ]
            ],
            "type": "heatmapgl"
           }
          ],
          "histogram": [
           {
            "marker": {
             "pattern": {
              "fillmode": "overlay",
              "size": 10,
              "solidity": 0.2
             }
            },
            "type": "histogram"
           }
          ],
          "histogram2d": [
           {
            "colorbar": {
             "outlinewidth": 0,
             "ticks": ""
            },
            "colorscale": [
             [
              0,
              "#0d0887"
             ],
             [
              0.1111111111111111,
              "#46039f"
             ],
             [
              0.2222222222222222,
              "#7201a8"
             ],
             [
              0.3333333333333333,
              "#9c179e"
             ],
             [
              0.4444444444444444,
              "#bd3786"
             ],
             [
              0.5555555555555556,
              "#d8576b"
             ],
             [
              0.6666666666666666,
              "#ed7953"
             ],
             [
              0.7777777777777778,
              "#fb9f3a"
             ],
             [
              0.8888888888888888,
              "#fdca26"
             ],
             [
              1,
              "#f0f921"
             ]
            ],
            "type": "histogram2d"
           }
          ],
          "histogram2dcontour": [
           {
            "colorbar": {
             "outlinewidth": 0,
             "ticks": ""
            },
            "colorscale": [
             [
              0,
              "#0d0887"
             ],
             [
              0.1111111111111111,
              "#46039f"
             ],
             [
              0.2222222222222222,
              "#7201a8"
             ],
             [
              0.3333333333333333,
              "#9c179e"
             ],
             [
              0.4444444444444444,
              "#bd3786"
             ],
             [
              0.5555555555555556,
              "#d8576b"
             ],
             [
              0.6666666666666666,
              "#ed7953"
             ],
             [
              0.7777777777777778,
              "#fb9f3a"
             ],
             [
              0.8888888888888888,
              "#fdca26"
             ],
             [
              1,
              "#f0f921"
             ]
            ],
            "type": "histogram2dcontour"
           }
          ],
          "mesh3d": [
           {
            "colorbar": {
             "outlinewidth": 0,
             "ticks": ""
            },
            "type": "mesh3d"
           }
          ],
          "parcoords": [
           {
            "line": {
             "colorbar": {
              "outlinewidth": 0,
              "ticks": ""
             }
            },
            "type": "parcoords"
           }
          ],
          "pie": [
           {
            "automargin": true,
            "type": "pie"
           }
          ],
          "scatter": [
           {
            "fillpattern": {
             "fillmode": "overlay",
             "size": 10,
             "solidity": 0.2
            },
            "type": "scatter"
           }
          ],
          "scatter3d": [
           {
            "line": {
             "colorbar": {
              "outlinewidth": 0,
              "ticks": ""
             }
            },
            "marker": {
             "colorbar": {
              "outlinewidth": 0,
              "ticks": ""
             }
            },
            "type": "scatter3d"
           }
          ],
          "scattercarpet": [
           {
            "marker": {
             "colorbar": {
              "outlinewidth": 0,
              "ticks": ""
             }
            },
            "type": "scattercarpet"
           }
          ],
          "scattergeo": [
           {
            "marker": {
             "colorbar": {
              "outlinewidth": 0,
              "ticks": ""
             }
            },
            "type": "scattergeo"
           }
          ],
          "scattergl": [
           {
            "marker": {
             "colorbar": {
              "outlinewidth": 0,
              "ticks": ""
             }
            },
            "type": "scattergl"
           }
          ],
          "scattermapbox": [
           {
            "marker": {
             "colorbar": {
              "outlinewidth": 0,
              "ticks": ""
             }
            },
            "type": "scattermapbox"
           }
          ],
          "scatterpolar": [
           {
            "marker": {
             "colorbar": {
              "outlinewidth": 0,
              "ticks": ""
             }
            },
            "type": "scatterpolar"
           }
          ],
          "scatterpolargl": [
           {
            "marker": {
             "colorbar": {
              "outlinewidth": 0,
              "ticks": ""
             }
            },
            "type": "scatterpolargl"
           }
          ],
          "scatterternary": [
           {
            "marker": {
             "colorbar": {
              "outlinewidth": 0,
              "ticks": ""
             }
            },
            "type": "scatterternary"
           }
          ],
          "surface": [
           {
            "colorbar": {
             "outlinewidth": 0,
             "ticks": ""
            },
            "colorscale": [
             [
              0,
              "#0d0887"
             ],
             [
              0.1111111111111111,
              "#46039f"
             ],
             [
              0.2222222222222222,
              "#7201a8"
             ],
             [
              0.3333333333333333,
              "#9c179e"
             ],
             [
              0.4444444444444444,
              "#bd3786"
             ],
             [
              0.5555555555555556,
              "#d8576b"
             ],
             [
              0.6666666666666666,
              "#ed7953"
             ],
             [
              0.7777777777777778,
              "#fb9f3a"
             ],
             [
              0.8888888888888888,
              "#fdca26"
             ],
             [
              1,
              "#f0f921"
             ]
            ],
            "type": "surface"
           }
          ],
          "table": [
           {
            "cells": {
             "fill": {
              "color": "#EBF0F8"
             },
             "line": {
              "color": "white"
             }
            },
            "header": {
             "fill": {
              "color": "#C8D4E3"
             },
             "line": {
              "color": "white"
             }
            },
            "type": "table"
           }
          ]
         },
         "layout": {
          "annotationdefaults": {
           "arrowcolor": "#2a3f5f",
           "arrowhead": 0,
           "arrowwidth": 1
          },
          "autotypenumbers": "strict",
          "coloraxis": {
           "colorbar": {
            "outlinewidth": 0,
            "ticks": ""
           }
          },
          "colorscale": {
           "diverging": [
            [
             0,
             "#8e0152"
            ],
            [
             0.1,
             "#c51b7d"
            ],
            [
             0.2,
             "#de77ae"
            ],
            [
             0.3,
             "#f1b6da"
            ],
            [
             0.4,
             "#fde0ef"
            ],
            [
             0.5,
             "#f7f7f7"
            ],
            [
             0.6,
             "#e6f5d0"
            ],
            [
             0.7,
             "#b8e186"
            ],
            [
             0.8,
             "#7fbc41"
            ],
            [
             0.9,
             "#4d9221"
            ],
            [
             1,
             "#276419"
            ]
           ],
           "sequential": [
            [
             0,
             "#0d0887"
            ],
            [
             0.1111111111111111,
             "#46039f"
            ],
            [
             0.2222222222222222,
             "#7201a8"
            ],
            [
             0.3333333333333333,
             "#9c179e"
            ],
            [
             0.4444444444444444,
             "#bd3786"
            ],
            [
             0.5555555555555556,
             "#d8576b"
            ],
            [
             0.6666666666666666,
             "#ed7953"
            ],
            [
             0.7777777777777778,
             "#fb9f3a"
            ],
            [
             0.8888888888888888,
             "#fdca26"
            ],
            [
             1,
             "#f0f921"
            ]
           ],
           "sequentialminus": [
            [
             0,
             "#0d0887"
            ],
            [
             0.1111111111111111,
             "#46039f"
            ],
            [
             0.2222222222222222,
             "#7201a8"
            ],
            [
             0.3333333333333333,
             "#9c179e"
            ],
            [
             0.4444444444444444,
             "#bd3786"
            ],
            [
             0.5555555555555556,
             "#d8576b"
            ],
            [
             0.6666666666666666,
             "#ed7953"
            ],
            [
             0.7777777777777778,
             "#fb9f3a"
            ],
            [
             0.8888888888888888,
             "#fdca26"
            ],
            [
             1,
             "#f0f921"
            ]
           ]
          },
          "colorway": [
           "#636efa",
           "#EF553B",
           "#00cc96",
           "#ab63fa",
           "#FFA15A",
           "#19d3f3",
           "#FF6692",
           "#B6E880",
           "#FF97FF",
           "#FECB52"
          ],
          "font": {
           "color": "#2a3f5f"
          },
          "geo": {
           "bgcolor": "white",
           "lakecolor": "white",
           "landcolor": "#E5ECF6",
           "showlakes": true,
           "showland": true,
           "subunitcolor": "white"
          },
          "hoverlabel": {
           "align": "left"
          },
          "hovermode": "closest",
          "mapbox": {
           "style": "light"
          },
          "paper_bgcolor": "white",
          "plot_bgcolor": "#E5ECF6",
          "polar": {
           "angularaxis": {
            "gridcolor": "white",
            "linecolor": "white",
            "ticks": ""
           },
           "bgcolor": "#E5ECF6",
           "radialaxis": {
            "gridcolor": "white",
            "linecolor": "white",
            "ticks": ""
           }
          },
          "scene": {
           "xaxis": {
            "backgroundcolor": "#E5ECF6",
            "gridcolor": "white",
            "gridwidth": 2,
            "linecolor": "white",
            "showbackground": true,
            "ticks": "",
            "zerolinecolor": "white"
           },
           "yaxis": {
            "backgroundcolor": "#E5ECF6",
            "gridcolor": "white",
            "gridwidth": 2,
            "linecolor": "white",
            "showbackground": true,
            "ticks": "",
            "zerolinecolor": "white"
           },
           "zaxis": {
            "backgroundcolor": "#E5ECF6",
            "gridcolor": "white",
            "gridwidth": 2,
            "linecolor": "white",
            "showbackground": true,
            "ticks": "",
            "zerolinecolor": "white"
           }
          },
          "shapedefaults": {
           "line": {
            "color": "#2a3f5f"
           }
          },
          "ternary": {
           "aaxis": {
            "gridcolor": "white",
            "linecolor": "white",
            "ticks": ""
           },
           "baxis": {
            "gridcolor": "white",
            "linecolor": "white",
            "ticks": ""
           },
           "bgcolor": "#E5ECF6",
           "caxis": {
            "gridcolor": "white",
            "linecolor": "white",
            "ticks": ""
           }
          },
          "title": {
           "x": 0.05
          },
          "xaxis": {
           "automargin": true,
           "gridcolor": "white",
           "linecolor": "white",
           "ticks": "",
           "title": {
            "standoff": 15
           },
           "zerolinecolor": "white",
           "zerolinewidth": 2
          },
          "yaxis": {
           "automargin": true,
           "gridcolor": "white",
           "linecolor": "white",
           "ticks": "",
           "title": {
            "standoff": 15
           },
           "zerolinecolor": "white",
           "zerolinewidth": 2
          }
         }
        },
        "width": 800,
        "xaxis": {
         "anchor": "y",
         "autorange": true,
         "domain": [
          0,
          1
         ],
         "range": [
          0,
          57
         ],
         "title": {
          "text": "Epi Week"
         },
         "type": "category"
        },
        "yaxis": {
         "anchor": "x",
         "autorange": true,
         "domain": [
          0,
          1
         ],
         "range": [
          -546.0555555555555,
          10995.055555555555
         ],
         "title": {
          "text": "Number of Tweets"
         },
         "type": "linear"
        }
       }
      },
      "image/png": "[encoded data removed]",
      "text/html": [
       "<div>                            <div id=\"abacc87c-f0a2-44d0-ac5d-de676aa5c2b2\" class=\"plotly-graph-div\" style=\"height:500px; width:800px;\"></div>            <script type=\"text/javascript\">                require([\"plotly\"], function(Plotly) {                    window.PLOTLYENV=window.PLOTLYENV || {};                                    if (document.getElementById(\"abacc87c-f0a2-44d0-ac5d-de676aa5c2b2\")) {                    Plotly.newPlot(                        \"abacc87c-f0a2-44d0-ac5d-de676aa5c2b2\",                        [{\"hovertemplate\":\"Country=Brazil<br>Epi Week=%{x}<br>Number of Tweets=%{y}<extra></extra>\",\"legendgroup\":\"Brazil\",\"line\":{\"color\":\"#636efa\",\"dash\":\"solid\"},\"marker\":{\"symbol\":\"circle\"},\"mode\":\"lines\",\"name\":\"Brazil\",\"orientation\":\"v\",\"showlegend\":true,\"x\":[\"201540\",\"201541\",\"201542\",\"201543\",\"201544\",\"201545\",\"201546\",\"201547\",\"201548\",\"201549\",\"201550\",\"201551\",\"201552\",\"201553\",\"201601\",\"201602\",\"201603\",\"201604\",\"201605\",\"201606\",\"201607\",\"201608\",\"201609\",\"201610\",\"201611\",\"201612\",\"201613\",\"201614\",\"201615\",\"201616\",\"201617\",\"201618\",\"201619\",\"201620\",\"201621\",\"201622\",\"201623\",\"201624\",\"201625\",\"201626\",\"201627\",\"201628\",\"201629\",\"201630\",\"201631\",\"201632\",\"201633\",\"201634\",\"201635\",\"201636\",\"201637\",\"201638\",\"201639\",\"201640\",\"201641\",\"201642\",\"201643\",\"201644\"],\"xaxis\":\"x\",\"y\":[688,1279,1356,965,816,891,971,1232,1153,1109,1275,1480,2192,4230,7362,9352,9587,10418,7197,7165,7318,5074,2853,2160,2549,2526,1397,1152,1150,1105,1213,1103,1206,997,790,930,1003,915,1019,1064,1115,1425,1762,1231,1308,2908,2368,1042,1042,976,963,720,685,819,801,667,593,60],\"yaxis\":\"y\",\"type\":\"scatter\"},{\"hovertemplate\":\"Country=Spain<br>Epi Week=%{x}<br>Number of Tweets=%{y}<extra></extra>\",\"legendgroup\":\"Spain\",\"line\":{\"color\":\"#EF553B\",\"dash\":\"solid\"},\"marker\":{\"symbol\":\"circle\"},\"mode\":\"lines\",\"name\":\"Spain\",\"orientation\":\"v\",\"showlegend\":true,\"x\":[\"201540\",\"201541\",\"201542\",\"201543\",\"201544\",\"201545\",\"201546\",\"201547\",\"201548\",\"201549\",\"201550\",\"201551\",\"201552\",\"201553\",\"201601\",\"201602\",\"201603\",\"201604\",\"201605\",\"201606\",\"201607\",\"201608\",\"201609\",\"201610\",\"201611\",\"201612\",\"201613\",\"201614\",\"201615\",\"201616\",\"201617\",\"201618\",\"201619\",\"201620\",\"201621\",\"201622\",\"201623\",\"201624\",\"201625\",\"201626\",\"201627\",\"201628\",\"201629\",\"201630\",\"201631\",\"201632\",\"201633\",\"201634\",\"201635\",\"201636\",\"201637\",\"201638\",\"201639\",\"201640\",\"201641\",\"201642\",\"201643\",\"201644\"],\"xaxis\":\"x\",\"y\":[337,626,622,518,329,359,565,741,692,533,539,494,414,816,951,715,823,1022,944,950,602,857,824,578,612,576,761,554,453,515,623,430,392,515,468,456,537,582,493,667,598,737,601,802,801,877,836,771,758,459,474,729,884,845,804,732,536,84],\"yaxis\":\"y\",\"type\":\"scatter\"},{\"hovertemplate\":\"Country=Chile<br>Epi Week=%{x}<br>Number of Tweets=%{y}<extra></extra>\",\"legendgroup\":\"Chile\",\"line\":{\"color\":\"#00cc96\",\"dash\":\"solid\"},\"marker\":{\"symbol\":\"circle\"},\"mode\":\"lines\",\"name\":\"Chile\",\"orientation\":\"v\",\"showlegend\":true,\"x\":[\"201540\",\"201541\",\"201542\",\"201543\",\"201544\",\"201545\",\"201546\",\"201547\",\"201548\",\"201549\",\"201550\",\"201551\",\"201552\",\"201553\",\"201601\",\"201602\",\"201603\",\"201604\",\"201605\",\"201606\",\"201607\",\"201608\",\"201609\",\"201610\",\"201611\",\"201612\",\"201613\",\"201614\",\"201615\",\"201616\",\"201617\",\"201618\",\"201619\",\"201620\",\"201621\",\"201622\",\"201623\",\"201624\",\"201625\",\"201626\",\"201627\",\"201628\",\"201629\",\"201630\",\"201631\",\"201632\",\"201633\",\"201634\",\"201635\",\"201636\",\"201637\",\"201638\",\"201639\",\"201640\",\"201641\",\"201642\",\"201643\",\"201644\"],\"xaxis\":\"x\",\"y\":[449,1004,868,792,775,1048,992,801,882,891,1491,1286,1580,2039,2290,2530,3493,3021,2231,1694,1457,1501,1269,1390,1214,1300,1039,1031,862,797,656,771,840,738,762,672,874,683,975,807,1103,1382,1851,1304,1002,1132,1061,882,1278,1057,1085,1054,1003,1019,925,1059,812,85],\"yaxis\":\"y\",\"type\":\"scatter\"},{\"hovertemplate\":\"Country=United States<br>Epi Week=%{x}<br>Number of Tweets=%{y}<extra></extra>\",\"legendgroup\":\"United States\",\"line\":{\"color\":\"#ab63fa\",\"dash\":\"solid\"},\"marker\":{\"symbol\":\"circle\"},\"mode\":\"lines\",\"name\":\"United States\",\"orientation\":\"v\",\"showlegend\":true,\"x\":[\"201540\",\"201541\",\"201542\",\"201543\",\"201544\",\"201545\",\"201546\",\"201547\",\"201548\",\"201549\",\"201550\",\"201551\",\"201552\",\"201553\",\"201601\",\"201602\",\"201603\",\"201604\",\"201605\",\"201606\",\"201607\",\"201608\",\"201609\",\"201610\",\"201611\",\"201612\",\"201613\",\"201614\",\"201615\",\"201616\",\"201617\",\"201618\",\"201619\",\"201620\",\"201621\",\"201622\",\"201623\",\"201624\",\"201625\",\"201626\",\"201627\",\"201628\",\"201629\",\"201630\",\"201631\",\"201632\",\"201633\",\"201634\",\"201635\",\"201636\",\"201637\",\"201638\",\"201639\",\"201640\",\"201641\",\"201642\",\"201643\",\"201644\"],\"xaxis\":\"x\",\"y\":[1430,3163,2763,2913,2361,2325,1887,2783,2652,2411,2512,2523,3190,3938,4421,4067,2713,3689,3674,4247,4346,3916,2852,2401,2416,2958,3092,2533,2186,2501,2626,2733,2266,2392,2390,2283,2372,2170,2361,2574,2906,2756,3214,2641,1981,1931,1869,1827,1999,2247,2163,2233,2730,2604,2353,2082,2034,311],\"yaxis\":\"y\",\"type\":\"scatter\"},{\"hovertemplate\":\"Country=Uruguay<br>Epi Week=%{x}<br>Number of Tweets=%{y}<extra></extra>\",\"legendgroup\":\"Uruguay\",\"line\":{\"color\":\"#FFA15A\",\"dash\":\"solid\"},\"marker\":{\"symbol\":\"circle\"},\"mode\":\"lines\",\"name\":\"Uruguay\",\"orientation\":\"v\",\"showlegend\":true,\"x\":[\"201540\",\"201541\",\"201542\",\"201543\",\"201544\",\"201545\",\"201546\",\"201547\",\"201548\",\"201549\",\"201550\",\"201551\",\"201552\",\"201553\",\"201601\",\"201602\",\"201603\",\"201604\",\"201605\",\"201606\",\"201607\",\"201608\",\"201609\",\"201610\",\"201611\",\"201612\",\"201613\",\"201614\",\"201615\",\"201616\",\"201617\",\"201618\",\"201619\",\"201620\",\"201621\",\"201622\",\"201623\",\"201624\",\"201625\",\"201626\",\"201627\",\"201628\",\"201629\",\"201630\",\"201631\",\"201632\",\"201633\",\"201634\",\"201635\",\"201636\",\"201637\",\"201638\",\"201639\",\"201640\",\"201641\",\"201642\",\"201643\",\"201644\"],\"xaxis\":\"x\",\"y\":[329,1398,919,388,518,524,353,635,733,817,950,881,1114,3021,3291,2652,2792,2739,1908,2443,1507,1401,989,576,640,1328,921,630,679,639,560,615,785,793,625,711,580,624,628,627,799,1113,1054,893,558,449,407,493,342,683,785,566,611,675,640,405,625,103],\"yaxis\":\"y\",\"type\":\"scatter\"},{\"hovertemplate\":\"Country=Mexico<br>Epi Week=%{x}<br>Number of Tweets=%{y}<extra></extra>\",\"legendgroup\":\"Mexico\",\"line\":{\"color\":\"#19d3f3\",\"dash\":\"solid\"},\"marker\":{\"symbol\":\"circle\"},\"mode\":\"lines\",\"name\":\"Mexico\",\"orientation\":\"v\",\"showlegend\":true,\"x\":[\"201540\",\"201541\",\"201542\",\"201543\",\"201544\",\"201545\",\"201546\",\"201547\",\"201548\",\"201549\",\"201550\",\"201551\",\"201552\",\"201553\",\"201601\",\"201602\",\"201603\",\"201604\",\"201605\",\"201606\",\"201607\",\"201608\",\"201609\",\"201610\",\"201611\",\"201612\",\"201613\",\"201614\",\"201615\",\"201616\",\"201617\",\"201618\",\"201619\",\"201620\",\"201621\",\"201622\",\"201623\",\"201624\",\"201625\",\"201626\",\"201627\",\"201628\",\"201629\",\"201630\",\"201631\",\"201632\",\"201633\",\"201634\",\"201635\",\"201636\",\"201637\",\"201638\",\"201639\",\"201640\",\"201641\",\"201642\",\"201643\",\"201644\"],\"xaxis\":\"x\",\"y\":[131,273,367,212,452,472,549,454,329,479,857,801,744,688,682,1059,844,605,629,638,604,528,574,503,673,613,583,489,330,385,438,630,472,383,311,375,402,623,692,999,725,488,631,691,569,528,381,360,427,415,450,478,378,504,403,336,346,31],\"yaxis\":\"y\",\"type\":\"scatter\"}],                        {\"template\":{\"data\":{\"histogram2dcontour\":[{\"type\":\"histogram2dcontour\",\"colorbar\":{\"outlinewidth\":0,\"ticks\":\"\"},\"colorscale\":[[0.0,\"#0d0887\"],[0.1111111111111111,\"#46039f\"],[0.2222222222222222,\"#7201a8\"],[0.3333333333333333,\"#9c179e\"],[0.4444444444444444,\"#bd3786\"],[0.5555555555555556,\"#d8576b\"],[0.6666666666666666,\"#ed7953\"],[0.7777777777777778,\"#fb9f3a\"],[0.8888888888888888,\"#fdca26\"],[1.0,\"#f0f921\"]]}],\"choropleth\":[{\"type\":\"choropleth\",\"colorbar\":{\"outlinewidth\":0,\"ticks\":\"\"}}],\"histogram2d\":[{\"type\":\"histogram2d\",\"colorbar\":{\"outlinewidth\":0,\"ticks\":\"\"},\"colorscale\":[[0.0,\"#0d0887\"],[0.1111111111111111,\"#46039f\"],[0.2222222222222222,\"#7201a8\"],[0.3333333333333333,\"#9c179e\"],[0.4444444444444444,\"#bd3786\"],[0.5555555555555556,\"#d8576b\"],[0.6666666666666666,\"#ed7953\"],[0.7777777777777778,\"#fb9f3a\"],[0.8888888888888888,\"#fdca26\"],[1.0,\"#f0f921\"]]}],\"heatmap\":[{\"type\":\"heatmap\",\"colorbar\":{\"outlinewidth\":0,\"ticks\":\"\"},\"colorscale\":[[0.0,\"#0d0887\"],[0.1111111111111111,\"#46039f\"],[0.2222222222222222,\"#7201a8\"],[0.3333333333333333,\"#9c179e\"],[0.4444444444444444,\"#bd3786\"],[0.5555555555555556,\"#d8576b\"],[0.6666666666666666,\"#ed7953\"],[0.7777777777777778,\"#fb9f3a\"],[0.8888888888888888,\"#fdca26\"],[1.0,\"#f0f921\"]]}],\"heatmapgl\":[{\"type\":\"heatmapgl\",\"colorbar\":{\"outlinewidth\":0,\"ticks\":\"\"},\"colorscale\":[[0.0,\"#0d0887\"],[0.1111111111111111,\"#46039f\"],[0.2222222222222222,\"#7201a8\"],[0.3333333333333333,\"#9c179e\"],[0.4444444444444444,\"#bd3786\"],[0.5555555555555556,\"#d8576b\"],[0.6666666666666666,\"#ed7953\"],[0.7777777777777778,\"#fb9f3a\"],[0.8888888888888888,\"#fdca26\"],[1.0,\"#f0f921\"]]}],\"contourcarpet\":[{\"type\":\"contourcarpet\",\"colorbar\":{\"outlinewidth\":0,\"ticks\":\"\"}}],\"contour\":[{\"type\":\"contour\",\"colorbar\":{\"outlinewidth\":0,\"ticks\":\"\"},\"colorscale\":[[0.0,\"#0d0887\"],[0.1111111111111111,\"#46039f\"],[0.2222222222222222,\"#7201a8\"],[0.3333333333333333,\"#9c179e\"],[0.4444444444444444,\"#bd3786\"],[0.5555555555555556,\"#d8576b\"],[0.6666666666666666,\"#ed7953\"],[0.7777777777777778,\"#fb9f3a\"],[0.8888888888888888,\"#fdca26\"],[1.0,\"#f0f921\"]]}],\"surface\":[{\"type\":\"surface\",\"colorbar\":{\"outlinewidth\":0,\"ticks\":\"\"},\"colorscale\":[[0.0,\"#0d0887\"],[0.1111111111111111,\"#46039f\"],[0.2222222222222222,\"#7201a8\"],[0.3333333333333333,\"#9c179e\"],[0.4444444444444444,\"#bd3786\"],[0.5555555555555556,\"#d8576b\"],[0.6666666666666666,\"#ed7953\"],[0.7777777777777778,\"#fb9f3a\"],[0.8888888888888888,\"#fdca26\"],[1.0,\"#f0f921\"]]}],\"mesh3d\":[{\"type\":\"mesh3d\",\"colorbar\":{\"outlinewidth\":0,\"ticks\":\"\"}}],\"scatter\":[{\"fillpattern\":{\"fillmode\":\"overlay\",\"size\":10,\"solidity\":0.2},\"type\":\"scatter\"}],\"parcoords\":[{\"type\":\"parcoords\",\"line\":{\"colorbar\":{\"outlinewidth\":0,\"ticks\":\"\"}}}],\"scatterpolargl\":[{\"type\":\"scatterpolargl\",\"marker\":{\"colorbar\":{\"outlinewidth\":0,\"ticks\":\"\"}}}],\"bar\":[{\"error_x\":{\"color\":\"#2a3f5f\"},\"error_y\":{\"color\":\"#2a3f5f\"},\"marker\":{\"line\":{\"color\":\"#E5ECF6\",\"width\":0.5},\"pattern\":{\"fillmode\":\"overlay\",\"size\":10,\"solidity\":0.2}},\"type\":\"bar\"}],\"scattergeo\":[{\"type\":\"scattergeo\",\"marker\":{\"colorbar\":{\"outlinewidth\":0,\"ticks\":\"\"}}}],\"scatterpolar\":[{\"type\":\"scatterpolar\",\"marker\":{\"colorbar\":{\"outlinewidth\":0,\"ticks\":\"\"}}}],\"histogram\":[{\"marker\":{\"pattern\":{\"fillmode\":\"overlay\",\"size\":10,\"solidity\":0.2}},\"type\":\"histogram\"}],\"scattergl\":[{\"type\":\"scattergl\",\"marker\":{\"colorbar\":{\"outlinewidth\":0,\"ticks\":\"\"}}}],\"scatter3d\":[{\"type\":\"scatter3d\",\"line\":{\"colorbar\":{\"outlinewidth\":0,\"ticks\":\"\"}},\"marker\":{\"colorbar\":{\"outlinewidth\":0,\"ticks\":\"\"}}}],\"scattermapbox\":[{\"type\":\"scattermapbox\",\"marker\":{\"colorbar\":{\"outlinewidth\":0,\"ticks\":\"\"}}}],\"scatterternary\":[{\"type\":\"scatterternary\",\"marker\":{\"colorbar\":{\"outlinewidth\":0,\"ticks\":\"\"}}}],\"scattercarpet\":[{\"type\":\"scattercarpet\",\"marker\":{\"colorbar\":{\"outlinewidth\":0,\"ticks\":\"\"}}}],\"carpet\":[{\"aaxis\":{\"endlinecolor\":\"#2a3f5f\",\"gridcolor\":\"white\",\"linecolor\":\"white\",\"minorgridcolor\":\"white\",\"startlinecolor\":\"#2a3f5f\"},\"baxis\":{\"endlinecolor\":\"#2a3f5f\",\"gridcolor\":\"white\",\"linecolor\":\"white\",\"minorgridcolor\":\"white\",\"startlinecolor\":\"#2a3f5f\"},\"type\":\"carpet\"}],\"table\":[{\"cells\":{\"fill\":{\"color\":\"#EBF0F8\"},\"line\":{\"color\":\"white\"}},\"header\":{\"fill\":{\"color\":\"#C8D4E3\"},\"line\":{\"color\":\"white\"}},\"type\":\"table\"}],\"barpolar\":[{\"marker\":{\"line\":{\"color\":\"#E5ECF6\",\"width\":0.5},\"pattern\":{\"fillmode\":\"overlay\",\"size\":10,\"solidity\":0.2}},\"type\":\"barpolar\"}],\"pie\":[{\"automargin\":true,\"type\":\"pie\"}]},\"layout\":{\"autotypenumbers\":\"strict\",\"colorway\":[\"#636efa\",\"#EF553B\",\"#00cc96\",\"#ab63fa\",\"#FFA15A\",\"#19d3f3\",\"#FF6692\",\"#B6E880\",\"#FF97FF\",\"#FECB52\"],\"font\":{\"color\":\"#2a3f5f\"},\"hovermode\":\"closest\",\"hoverlabel\":{\"align\":\"left\"},\"paper_bgcolor\":\"white\",\"plot_bgcolor\":\"#E5ECF6\",\"polar\":{\"bgcolor\":\"#E5ECF6\",\"angularaxis\":{\"gridcolor\":\"white\",\"linecolor\":\"white\",\"ticks\":\"\"},\"radialaxis\":{\"gridcolor\":\"white\",\"linecolor\":\"white\",\"ticks\":\"\"}},\"ternary\":{\"bgcolor\":\"#E5ECF6\",\"aaxis\":{\"gridcolor\":\"white\",\"linecolor\":\"white\",\"ticks\":\"\"},\"baxis\":{\"gridcolor\":\"white\",\"linecolor\":\"white\",\"ticks\":\"\"},\"caxis\":{\"gridcolor\":\"white\",\"linecolor\":\"white\",\"ticks\":\"\"}},\"coloraxis\":{\"colorbar\":{\"outlinewidth\":0,\"ticks\":\"\"}},\"colorscale\":{\"sequential\":[[0.0,\"#0d0887\"],[0.1111111111111111,\"#46039f\"],[0.2222222222222222,\"#7201a8\"],[0.3333333333333333,\"#9c179e\"],[0.4444444444444444,\"#bd3786\"],[0.5555555555555556,\"#d8576b\"],[0.6666666666666666,\"#ed7953\"],[0.7777777777777778,\"#fb9f3a\"],[0.8888888888888888,\"#fdca26\"],[1.0,\"#f0f921\"]],\"sequentialminus\":[[0.0,\"#0d0887\"],[0.1111111111111111,\"#46039f\"],[0.2222222222222222,\"#7201a8\"],[0.3333333333333333,\"#9c179e\"],[0.4444444444444444,\"#bd3786\"],[0.5555555555555556,\"#d8576b\"],[0.6666666666666666,\"#ed7953\"],[0.7777777777777778,\"#fb9f3a\"],[0.8888888888888888,\"#fdca26\"],[1.0,\"#f0f921\"]],\"diverging\":[[0,\"#8e0152\"],[0.1,\"#c51b7d\"],[0.2,\"#de77ae\"],[0.3,\"#f1b6da\"],[0.4,\"#fde0ef\"],[0.5,\"#f7f7f7\"],[0.6,\"#e6f5d0\"],[0.7,\"#b8e186\"],[0.8,\"#7fbc41\"],[0.9,\"#4d9221\"],[1,\"#276419\"]]},\"xaxis\":{\"gridcolor\":\"white\",\"linecolor\":\"white\",\"ticks\":\"\",\"title\":{\"standoff\":15},\"zerolinecolor\":\"white\",\"automargin\":true,\"zerolinewidth\":2},\"yaxis\":{\"gridcolor\":\"white\",\"linecolor\":\"white\",\"ticks\":\"\",\"title\":{\"standoff\":15},\"zerolinecolor\":\"white\",\"automargin\":true,\"zerolinewidth\":2},\"scene\":{\"xaxis\":{\"backgroundcolor\":\"#E5ECF6\",\"gridcolor\":\"white\",\"linecolor\":\"white\",\"showbackground\":true,\"ticks\":\"\",\"zerolinecolor\":\"white\",\"gridwidth\":2},\"yaxis\":{\"backgroundcolor\":\"#E5ECF6\",\"gridcolor\":\"white\",\"linecolor\":\"white\",\"showbackground\":true,\"ticks\":\"\",\"zerolinecolor\":\"white\",\"gridwidth\":2},\"zaxis\":{\"backgroundcolor\":\"#E5ECF6\",\"gridcolor\":\"white\",\"linecolor\":\"white\",\"showbackground\":true,\"ticks\":\"\",\"zerolinecolor\":\"white\",\"gridwidth\":2}},\"shapedefaults\":{\"line\":{\"color\":\"#2a3f5f\"}},\"annotationdefaults\":{\"arrowcolor\":\"#2a3f5f\",\"arrowhead\":0,\"arrowwidth\":1},\"geo\":{\"bgcolor\":\"white\",\"landcolor\":\"#E5ECF6\",\"subunitcolor\":\"white\",\"showland\":true,\"showlakes\":true,\"lakecolor\":\"white\"},\"title\":{\"x\":0.05},\"mapbox\":{\"style\":\"light\"}}},\"xaxis\":{\"anchor\":\"y\",\"domain\":[0.0,1.0],\"title\":{\"text\":\"Epi Week\"}},\"yaxis\":{\"anchor\":\"x\",\"domain\":[0.0,1.0],\"title\":{\"text\":\"Number of Tweets\"}},\"legend\":{\"title\":{\"text\":\"Country\"},\"tracegroupgap\":0},\"margin\":{\"t\":60},\"height\":500,\"width\":800},                        {\"responsive\": true}                    ).then(function(){\n",
       "                            \n",
       "var gd = document.getElementById('abacc87c-f0a2-44d0-ac5d-de676aa5c2b2');\n",
       "var x = new MutationObserver(function (mutations, observer) {{\n",
       "        var display = window.getComputedStyle(gd).display;\n",
       "        if (!display || display === 'none') {{\n",
       "            console.log([gd, 'removed!']);\n",
       "            Plotly.purge(gd);\n",
       "            observer.disconnect();\n",
       "        }}\n",
       "}});\n",
       "\n",
       "// Listen for the removal of the full notebook cells\n",
       "var notebookContainer = gd.closest('#notebook-container');\n",
       "if (notebookContainer) {{\n",
       "    x.observe(notebookContainer, {childList: true});\n",
       "}}\n",
       "\n",
       "// Listen for the clearing of the current output cell\n",
       "var outputEl = gd.closest('.output');\n",
       "if (outputEl) {{\n",
       "    x.observe(outputEl, {childList: true});\n",
       "}}\n",
       "\n",
       "                        })                };                });            </script>        </div>"
      ]
     },
     "metadata": {},
     "output_type": "display_data"
    }
   ],
   "source": [
    "# Countries over Epi Weeks - tweets - no Argentina\n",
    "\n",
    "from itertools import product\n",
    "import matplotlib.pyplot as plt\n",
    "\n",
    "top_20 = common_countries.reset_index().rename({\"country\":\"counts\",\n",
    "                                                \"index\":\"country\"},axis=1).loc[0:6,\"country\"].tolist()\n",
    "#df.place_country.value_counts().rename_axis('unique_values').reset_index(name='counts')\n",
    "#top_20 = top_20.loc[,0:20]\n",
    "#top_20 = top_20.loc[0:20, \"unique_values\"].tolist()\n",
    "#top_20\n",
    "\n",
    "import plotly.express as px\n",
    "\n",
    "loc_p = df[(df.place_country.isin(top_20)) & (df.place_country != \"Argentina\")]\n",
    "loc_p = loc_p.groupby(['place_country', \"epi_week\"])[\"id\"].count().reset_index(name='counts')\n",
    "loc_p = loc_p.sort_values([\"epi_week\"], ascending=True).reset_index(drop=True)\n",
    "\n",
    "loc_temp = pd.DataFrame(list(product(loc_p.place_country.unique(), loc_p.epi_week.unique())), columns=['place_country', 'epi_week'])\n",
    "loc_temp[\"counts\"] = 0\n",
    "\n",
    "loc_p = pd.concat([loc_p, loc_temp]).drop_duplicates([\"place_country\", \"epi_week\"])#, ignore_index=True)\n",
    "loc_p = loc_p.sort_values([\"epi_week\"], ascending=True)\n",
    "\n",
    "#only_loc_p = df_loc[df_loc.place_country.isin(top_20)]\n",
    "#only_loc_p = only_loc_p.groupby(['place_country', \"epi_week\"])[\"id\"].count().reset_index(name='counts')\n",
    "# plot pie chart\n",
    "\n",
    "fig = px.line(loc_p, x=\"epi_week\", y=\"counts\", color=\"place_country\",\n",
    "                 labels={\n",
    "                     \"epi_week\": \"Epi Week\",\n",
    "                     \"counts\": \"Number of Tweets\",\n",
    "                     \"place_country\": \"Country\"},\n",
    "             width=800,\n",
    "             height=500)\n",
    "\n",
    "fig.write_image(\"geotagged_tweets_country_epi_week.png\")\n",
    "fig.write_html(\"html/geotagged_tweets_country_epi_week.html\")\n",
    "fig.show()"
   ]
  },
  {
   "cell_type": "code",
   "execution_count": 63,
   "id": "d79b6520-5189-4600-9f9c-9e1db1247032",
   "metadata": {
    "tags": []
   },
   "outputs": [
    {
     "data": {
      "application/vnd.plotly.v1+json": {
       "config": {
        "plotlyServerURL": "https://plot.ly"
       },
       "data": [
        {
         "hovertemplate": "Country=Argentina<br>Epi Week=%{x}<br>Number of Tweets=%{y}<extra></extra>",
         "legendgroup": "Argentina",
         "line": {
          "color": "#636efa",
          "dash": "solid"
         },
         "marker": {
          "symbol": "circle"
         },
         "mode": "lines",
         "name": "Argentina",
         "orientation": "v",
         "showlegend": true,
         "type": "scatter",
         "x": [
          "201540",
          "201541",
          "201542",
          "201543",
          "201544",
          "201545",
          "201546",
          "201547",
          "201548",
          "201549",
          "201550",
          "201551",
          "201552",
          "201553",
          "201601",
          "201602",
          "201603",
          "201604",
          "201605",
          "201606",
          "201607",
          "201608",
          "201609",
          "201610",
          "201611",
          "201612",
          "201613",
          "201614",
          "201615",
          "201616",
          "201617",
          "201618",
          "201619",
          "201620",
          "201621",
          "201622",
          "201623",
          "201624",
          "201625",
          "201626",
          "201627",
          "201628",
          "201629",
          "201630",
          "201631",
          "201632",
          "201633",
          "201634",
          "201635",
          "201636",
          "201637",
          "201638",
          "201639",
          "201640",
          "201641",
          "201642",
          "201643",
          "201644"
         ],
         "xaxis": "x",
         "y": [
          704334,
          1236831,
          1214797,
          1281472,
          1413248,
          1387138,
          1463404,
          1606121,
          1679282,
          1818099,
          1606759,
          1503336,
          1244946,
          1199988,
          1204249,
          1116176,
          1085526,
          1120077,
          1085592,
          1115036,
          1116819,
          1113276,
          1104638,
          989512,
          1040655,
          991385,
          1046917,
          1084139,
          1120184,
          985352,
          932911,
          881180,
          839070,
          835469,
          819160,
          814485,
          793630,
          749757,
          770103,
          806574,
          737504,
          728348,
          658145,
          717310,
          673719,
          643594,
          614972,
          630267,
          620629,
          611403,
          599730,
          578418,
          625790,
          563140,
          563889,
          564082,
          602544,
          88627
         ],
         "yaxis": "y"
        }
       ],
       "layout": {
        "height": 500,
        "legend": {
         "title": {
          "text": "Country"
         },
         "tracegroupgap": 0
        },
        "margin": {
         "t": 60
        },
        "template": {
         "data": {
          "bar": [
           {
            "error_x": {
             "color": "#2a3f5f"
            },
            "error_y": {
             "color": "#2a3f5f"
            },
            "marker": {
             "line": {
              "color": "#E5ECF6",
              "width": 0.5
             },
             "pattern": {
              "fillmode": "overlay",
              "size": 10,
              "solidity": 0.2
             }
            },
            "type": "bar"
           }
          ],
          "barpolar": [
           {
            "marker": {
             "line": {
              "color": "#E5ECF6",
              "width": 0.5
             },
             "pattern": {
              "fillmode": "overlay",
              "size": 10,
              "solidity": 0.2
             }
            },
            "type": "barpolar"
           }
          ],
          "carpet": [
           {
            "aaxis": {
             "endlinecolor": "#2a3f5f",
             "gridcolor": "white",
             "linecolor": "white",
             "minorgridcolor": "white",
             "startlinecolor": "#2a3f5f"
            },
            "baxis": {
             "endlinecolor": "#2a3f5f",
             "gridcolor": "white",
             "linecolor": "white",
             "minorgridcolor": "white",
             "startlinecolor": "#2a3f5f"
            },
            "type": "carpet"
           }
          ],
          "choropleth": [
           {
            "colorbar": {
             "outlinewidth": 0,
             "ticks": ""
            },
            "type": "choropleth"
           }
          ],
          "contour": [
           {
            "colorbar": {
             "outlinewidth": 0,
             "ticks": ""
            },
            "colorscale": [
             [
              0,
              "#0d0887"
             ],
             [
              0.1111111111111111,
              "#46039f"
             ],
             [
              0.2222222222222222,
              "#7201a8"
             ],
             [
              0.3333333333333333,
              "#9c179e"
             ],
             [
              0.4444444444444444,
              "#bd3786"
             ],
             [
              0.5555555555555556,
              "#d8576b"
             ],
             [
              0.6666666666666666,
              "#ed7953"
             ],
             [
              0.7777777777777778,
              "#fb9f3a"
             ],
             [
              0.8888888888888888,
              "#fdca26"
             ],
             [
              1,
              "#f0f921"
             ]
            ],
            "type": "contour"
           }
          ],
          "contourcarpet": [
           {
            "colorbar": {
             "outlinewidth": 0,
             "ticks": ""
            },
            "type": "contourcarpet"
           }
          ],
          "heatmap": [
           {
            "colorbar": {
             "outlinewidth": 0,
             "ticks": ""
            },
            "colorscale": [
             [
              0,
              "#0d0887"
             ],
             [
              0.1111111111111111,
              "#46039f"
             ],
             [
              0.2222222222222222,
              "#7201a8"
             ],
             [
              0.3333333333333333,
              "#9c179e"
             ],
             [
              0.4444444444444444,
              "#bd3786"
             ],
             [
              0.5555555555555556,
              "#d8576b"
             ],
             [
              0.6666666666666666,
              "#ed7953"
             ],
             [
              0.7777777777777778,
              "#fb9f3a"
             ],
             [
              0.8888888888888888,
              "#fdca26"
             ],
             [
              1,
              "#f0f921"
             ]
            ],
            "type": "heatmap"
           }
          ],
          "heatmapgl": [
           {
            "colorbar": {
             "outlinewidth": 0,
             "ticks": ""
            },
            "colorscale": [
             [
              0,
              "#0d0887"
             ],
             [
              0.1111111111111111,
              "#46039f"
             ],
             [
              0.2222222222222222,
              "#7201a8"
             ],
             [
              0.3333333333333333,
              "#9c179e"
             ],
             [
              0.4444444444444444,
              "#bd3786"
             ],
             [
              0.5555555555555556,
              "#d8576b"
             ],
             [
              0.6666666666666666,
              "#ed7953"
             ],
             [
              0.7777777777777778,
              "#fb9f3a"
             ],
             [
              0.8888888888888888,
              "#fdca26"
             ],
             [
              1,
              "#f0f921"
             ]
            ],
            "type": "heatmapgl"
           }
          ],
          "histogram": [
           {
            "marker": {
             "pattern": {
              "fillmode": "overlay",
              "size": 10,
              "solidity": 0.2
             }
            },
            "type": "histogram"
           }
          ],
          "histogram2d": [
           {
            "colorbar": {
             "outlinewidth": 0,
             "ticks": ""
            },
            "colorscale": [
             [
              0,
              "#0d0887"
             ],
             [
              0.1111111111111111,
              "#46039f"
             ],
             [
              0.2222222222222222,
              "#7201a8"
             ],
             [
              0.3333333333333333,
              "#9c179e"
             ],
             [
              0.4444444444444444,
              "#bd3786"
             ],
             [
              0.5555555555555556,
              "#d8576b"
             ],
             [
              0.6666666666666666,
              "#ed7953"
             ],
             [
              0.7777777777777778,
              "#fb9f3a"
             ],
             [
              0.8888888888888888,
              "#fdca26"
             ],
             [
              1,
              "#f0f921"
             ]
            ],
            "type": "histogram2d"
           }
          ],
          "histogram2dcontour": [
           {
            "colorbar": {
             "outlinewidth": 0,
             "ticks": ""
            },
            "colorscale": [
             [
              0,
              "#0d0887"
             ],
             [
              0.1111111111111111,
              "#46039f"
             ],
             [
              0.2222222222222222,
              "#7201a8"
             ],
             [
              0.3333333333333333,
              "#9c179e"
             ],
             [
              0.4444444444444444,
              "#bd3786"
             ],
             [
              0.5555555555555556,
              "#d8576b"
             ],
             [
              0.6666666666666666,
              "#ed7953"
             ],
             [
              0.7777777777777778,
              "#fb9f3a"
             ],
             [
              0.8888888888888888,
              "#fdca26"
             ],
             [
              1,
              "#f0f921"
             ]
            ],
            "type": "histogram2dcontour"
           }
          ],
          "mesh3d": [
           {
            "colorbar": {
             "outlinewidth": 0,
             "ticks": ""
            },
            "type": "mesh3d"
           }
          ],
          "parcoords": [
           {
            "line": {
             "colorbar": {
              "outlinewidth": 0,
              "ticks": ""
             }
            },
            "type": "parcoords"
           }
          ],
          "pie": [
           {
            "automargin": true,
            "type": "pie"
           }
          ],
          "scatter": [
           {
            "fillpattern": {
             "fillmode": "overlay",
             "size": 10,
             "solidity": 0.2
            },
            "type": "scatter"
           }
          ],
          "scatter3d": [
           {
            "line": {
             "colorbar": {
              "outlinewidth": 0,
              "ticks": ""
             }
            },
            "marker": {
             "colorbar": {
              "outlinewidth": 0,
              "ticks": ""
             }
            },
            "type": "scatter3d"
           }
          ],
          "scattercarpet": [
           {
            "marker": {
             "colorbar": {
              "outlinewidth": 0,
              "ticks": ""
             }
            },
            "type": "scattercarpet"
           }
          ],
          "scattergeo": [
           {
            "marker": {
             "colorbar": {
              "outlinewidth": 0,
              "ticks": ""
             }
            },
            "type": "scattergeo"
           }
          ],
          "scattergl": [
           {
            "marker": {
             "colorbar": {
              "outlinewidth": 0,
              "ticks": ""
             }
            },
            "type": "scattergl"
           }
          ],
          "scattermapbox": [
           {
            "marker": {
             "colorbar": {
              "outlinewidth": 0,
              "ticks": ""
             }
            },
            "type": "scattermapbox"
           }
          ],
          "scatterpolar": [
           {
            "marker": {
             "colorbar": {
              "outlinewidth": 0,
              "ticks": ""
             }
            },
            "type": "scatterpolar"
           }
          ],
          "scatterpolargl": [
           {
            "marker": {
             "colorbar": {
              "outlinewidth": 0,
              "ticks": ""
             }
            },
            "type": "scatterpolargl"
           }
          ],
          "scatterternary": [
           {
            "marker": {
             "colorbar": {
              "outlinewidth": 0,
              "ticks": ""
             }
            },
            "type": "scatterternary"
           }
          ],
          "surface": [
           {
            "colorbar": {
             "outlinewidth": 0,
             "ticks": ""
            },
            "colorscale": [
             [
              0,
              "#0d0887"
             ],
             [
              0.1111111111111111,
              "#46039f"
             ],
             [
              0.2222222222222222,
              "#7201a8"
             ],
             [
              0.3333333333333333,
              "#9c179e"
             ],
             [
              0.4444444444444444,
              "#bd3786"
             ],
             [
              0.5555555555555556,
              "#d8576b"
             ],
             [
              0.6666666666666666,
              "#ed7953"
             ],
             [
              0.7777777777777778,
              "#fb9f3a"
             ],
             [
              0.8888888888888888,
              "#fdca26"
             ],
             [
              1,
              "#f0f921"
             ]
            ],
            "type": "surface"
           }
          ],
          "table": [
           {
            "cells": {
             "fill": {
              "color": "#EBF0F8"
             },
             "line": {
              "color": "white"
             }
            },
            "header": {
             "fill": {
              "color": "#C8D4E3"
             },
             "line": {
              "color": "white"
             }
            },
            "type": "table"
           }
          ]
         },
         "layout": {
          "annotationdefaults": {
           "arrowcolor": "#2a3f5f",
           "arrowhead": 0,
           "arrowwidth": 1
          },
          "autotypenumbers": "strict",
          "coloraxis": {
           "colorbar": {
            "outlinewidth": 0,
            "ticks": ""
           }
          },
          "colorscale": {
           "diverging": [
            [
             0,
             "#8e0152"
            ],
            [
             0.1,
             "#c51b7d"
            ],
            [
             0.2,
             "#de77ae"
            ],
            [
             0.3,
             "#f1b6da"
            ],
            [
             0.4,
             "#fde0ef"
            ],
            [
             0.5,
             "#f7f7f7"
            ],
            [
             0.6,
             "#e6f5d0"
            ],
            [
             0.7,
             "#b8e186"
            ],
            [
             0.8,
             "#7fbc41"
            ],
            [
             0.9,
             "#4d9221"
            ],
            [
             1,
             "#276419"
            ]
           ],
           "sequential": [
            [
             0,
             "#0d0887"
            ],
            [
             0.1111111111111111,
             "#46039f"
            ],
            [
             0.2222222222222222,
             "#7201a8"
            ],
            [
             0.3333333333333333,
             "#9c179e"
            ],
            [
             0.4444444444444444,
             "#bd3786"
            ],
            [
             0.5555555555555556,
             "#d8576b"
            ],
            [
             0.6666666666666666,
             "#ed7953"
            ],
            [
             0.7777777777777778,
             "#fb9f3a"
            ],
            [
             0.8888888888888888,
             "#fdca26"
            ],
            [
             1,
             "#f0f921"
            ]
           ],
           "sequentialminus": [
            [
             0,
             "#0d0887"
            ],
            [
             0.1111111111111111,
             "#46039f"
            ],
            [
             0.2222222222222222,
             "#7201a8"
            ],
            [
             0.3333333333333333,
             "#9c179e"
            ],
            [
             0.4444444444444444,
             "#bd3786"
            ],
            [
             0.5555555555555556,
             "#d8576b"
            ],
            [
             0.6666666666666666,
             "#ed7953"
            ],
            [
             0.7777777777777778,
             "#fb9f3a"
            ],
            [
             0.8888888888888888,
             "#fdca26"
            ],
            [
             1,
             "#f0f921"
            ]
           ]
          },
          "colorway": [
           "#636efa",
           "#EF553B",
           "#00cc96",
           "#ab63fa",
           "#FFA15A",
           "#19d3f3",
           "#FF6692",
           "#B6E880",
           "#FF97FF",
           "#FECB52"
          ],
          "font": {
           "color": "#2a3f5f"
          },
          "geo": {
           "bgcolor": "white",
           "lakecolor": "white",
           "landcolor": "#E5ECF6",
           "showlakes": true,
           "showland": true,
           "subunitcolor": "white"
          },
          "hoverlabel": {
           "align": "left"
          },
          "hovermode": "closest",
          "mapbox": {
           "style": "light"
          },
          "paper_bgcolor": "white",
          "plot_bgcolor": "#E5ECF6",
          "polar": {
           "angularaxis": {
            "gridcolor": "white",
            "linecolor": "white",
            "ticks": ""
           },
           "bgcolor": "#E5ECF6",
           "radialaxis": {
            "gridcolor": "white",
            "linecolor": "white",
            "ticks": ""
           }
          },
          "scene": {
           "xaxis": {
            "backgroundcolor": "#E5ECF6",
            "gridcolor": "white",
            "gridwidth": 2,
            "linecolor": "white",
            "showbackground": true,
            "ticks": "",
            "zerolinecolor": "white"
           },
           "yaxis": {
            "backgroundcolor": "#E5ECF6",
            "gridcolor": "white",
            "gridwidth": 2,
            "linecolor": "white",
            "showbackground": true,
            "ticks": "",
            "zerolinecolor": "white"
           },
           "zaxis": {
            "backgroundcolor": "#E5ECF6",
            "gridcolor": "white",
            "gridwidth": 2,
            "linecolor": "white",
            "showbackground": true,
            "ticks": "",
            "zerolinecolor": "white"
           }
          },
          "shapedefaults": {
           "line": {
            "color": "#2a3f5f"
           }
          },
          "ternary": {
           "aaxis": {
            "gridcolor": "white",
            "linecolor": "white",
            "ticks": ""
           },
           "baxis": {
            "gridcolor": "white",
            "linecolor": "white",
            "ticks": ""
           },
           "bgcolor": "#E5ECF6",
           "caxis": {
            "gridcolor": "white",
            "linecolor": "white",
            "ticks": ""
           }
          },
          "title": {
           "x": 0.05
          },
          "xaxis": {
           "automargin": true,
           "gridcolor": "white",
           "linecolor": "white",
           "ticks": "",
           "title": {
            "standoff": 15
           },
           "zerolinecolor": "white",
           "zerolinewidth": 2
          },
          "yaxis": {
           "automargin": true,
           "gridcolor": "white",
           "linecolor": "white",
           "ticks": "",
           "title": {
            "standoff": 15
           },
           "zerolinecolor": "white",
           "zerolinewidth": 2
          }
         }
        },
        "width": 800,
        "xaxis": {
         "anchor": "y",
         "autorange": true,
         "domain": [
          0,
          1
         ],
         "range": [
          0,
          57
         ],
         "title": {
          "text": "Epi Week"
         },
         "type": "category"
        },
        "yaxis": {
         "anchor": "x",
         "autorange": true,
         "domain": [
          0,
          1
         ],
         "range": [
          -7454.777777777781,
          1914180.7777777778
         ],
         "title": {
          "text": "Number of Tweets"
         },
         "type": "linear"
        }
       }
      },
      "image/png": "[encoded data removed]",
      "text/html": [
       "<div>                            <div id=\"24ce4ea5-5dda-4e5a-b1dc-5216bac963e9\" class=\"plotly-graph-div\" style=\"height:500px; width:800px;\"></div>            <script type=\"text/javascript\">                require([\"plotly\"], function(Plotly) {                    window.PLOTLYENV=window.PLOTLYENV || {};                                    if (document.getElementById(\"24ce4ea5-5dda-4e5a-b1dc-5216bac963e9\")) {                    Plotly.newPlot(                        \"24ce4ea5-5dda-4e5a-b1dc-5216bac963e9\",                        [{\"hovertemplate\":\"Country=Argentina<br>Epi Week=%{x}<br>Number of Tweets=%{y}<extra></extra>\",\"legendgroup\":\"Argentina\",\"line\":{\"color\":\"#636efa\",\"dash\":\"solid\"},\"marker\":{\"symbol\":\"circle\"},\"mode\":\"lines\",\"name\":\"Argentina\",\"orientation\":\"v\",\"showlegend\":true,\"x\":[\"201540\",\"201541\",\"201542\",\"201543\",\"201544\",\"201545\",\"201546\",\"201547\",\"201548\",\"201549\",\"201550\",\"201551\",\"201552\",\"201553\",\"201601\",\"201602\",\"201603\",\"201604\",\"201605\",\"201606\",\"201607\",\"201608\",\"201609\",\"201610\",\"201611\",\"201612\",\"201613\",\"201614\",\"201615\",\"201616\",\"201617\",\"201618\",\"201619\",\"201620\",\"201621\",\"201622\",\"201623\",\"201624\",\"201625\",\"201626\",\"201627\",\"201628\",\"201629\",\"201630\",\"201631\",\"201632\",\"201633\",\"201634\",\"201635\",\"201636\",\"201637\",\"201638\",\"201639\",\"201640\",\"201641\",\"201642\",\"201643\",\"201644\"],\"xaxis\":\"x\",\"y\":[704334,1236831,1214797,1281472,1413248,1387138,1463404,1606121,1679282,1818099,1606759,1503336,1244946,1199988,1204249,1116176,1085526,1120077,1085592,1115036,1116819,1113276,1104638,989512,1040655,991385,1046917,1084139,1120184,985352,932911,881180,839070,835469,819160,814485,793630,749757,770103,806574,737504,728348,658145,717310,673719,643594,614972,630267,620629,611403,599730,578418,625790,563140,563889,564082,602544,88627],\"yaxis\":\"y\",\"type\":\"scatter\"}],                        {\"template\":{\"data\":{\"histogram2dcontour\":[{\"type\":\"histogram2dcontour\",\"colorbar\":{\"outlinewidth\":0,\"ticks\":\"\"},\"colorscale\":[[0.0,\"#0d0887\"],[0.1111111111111111,\"#46039f\"],[0.2222222222222222,\"#7201a8\"],[0.3333333333333333,\"#9c179e\"],[0.4444444444444444,\"#bd3786\"],[0.5555555555555556,\"#d8576b\"],[0.6666666666666666,\"#ed7953\"],[0.7777777777777778,\"#fb9f3a\"],[0.8888888888888888,\"#fdca26\"],[1.0,\"#f0f921\"]]}],\"choropleth\":[{\"type\":\"choropleth\",\"colorbar\":{\"outlinewidth\":0,\"ticks\":\"\"}}],\"histogram2d\":[{\"type\":\"histogram2d\",\"colorbar\":{\"outlinewidth\":0,\"ticks\":\"\"},\"colorscale\":[[0.0,\"#0d0887\"],[0.1111111111111111,\"#46039f\"],[0.2222222222222222,\"#7201a8\"],[0.3333333333333333,\"#9c179e\"],[0.4444444444444444,\"#bd3786\"],[0.5555555555555556,\"#d8576b\"],[0.6666666666666666,\"#ed7953\"],[0.7777777777777778,\"#fb9f3a\"],[0.8888888888888888,\"#fdca26\"],[1.0,\"#f0f921\"]]}],\"heatmap\":[{\"type\":\"heatmap\",\"colorbar\":{\"outlinewidth\":0,\"ticks\":\"\"},\"colorscale\":[[0.0,\"#0d0887\"],[0.1111111111111111,\"#46039f\"],[0.2222222222222222,\"#7201a8\"],[0.3333333333333333,\"#9c179e\"],[0.4444444444444444,\"#bd3786\"],[0.5555555555555556,\"#d8576b\"],[0.6666666666666666,\"#ed7953\"],[0.7777777777777778,\"#fb9f3a\"],[0.8888888888888888,\"#fdca26\"],[1.0,\"#f0f921\"]]}],\"heatmapgl\":[{\"type\":\"heatmapgl\",\"colorbar\":{\"outlinewidth\":0,\"ticks\":\"\"},\"colorscale\":[[0.0,\"#0d0887\"],[0.1111111111111111,\"#46039f\"],[0.2222222222222222,\"#7201a8\"],[0.3333333333333333,\"#9c179e\"],[0.4444444444444444,\"#bd3786\"],[0.5555555555555556,\"#d8576b\"],[0.6666666666666666,\"#ed7953\"],[0.7777777777777778,\"#fb9f3a\"],[0.8888888888888888,\"#fdca26\"],[1.0,\"#f0f921\"]]}],\"contourcarpet\":[{\"type\":\"contourcarpet\",\"colorbar\":{\"outlinewidth\":0,\"ticks\":\"\"}}],\"contour\":[{\"type\":\"contour\",\"colorbar\":{\"outlinewidth\":0,\"ticks\":\"\"},\"colorscale\":[[0.0,\"#0d0887\"],[0.1111111111111111,\"#46039f\"],[0.2222222222222222,\"#7201a8\"],[0.3333333333333333,\"#9c179e\"],[0.4444444444444444,\"#bd3786\"],[0.5555555555555556,\"#d8576b\"],[0.6666666666666666,\"#ed7953\"],[0.7777777777777778,\"#fb9f3a\"],[0.8888888888888888,\"#fdca26\"],[1.0,\"#f0f921\"]]}],\"surface\":[{\"type\":\"surface\",\"colorbar\":{\"outlinewidth\":0,\"ticks\":\"\"},\"colorscale\":[[0.0,\"#0d0887\"],[0.1111111111111111,\"#46039f\"],[0.2222222222222222,\"#7201a8\"],[0.3333333333333333,\"#9c179e\"],[0.4444444444444444,\"#bd3786\"],[0.5555555555555556,\"#d8576b\"],[0.6666666666666666,\"#ed7953\"],[0.7777777777777778,\"#fb9f3a\"],[0.8888888888888888,\"#fdca26\"],[1.0,\"#f0f921\"]]}],\"mesh3d\":[{\"type\":\"mesh3d\",\"colorbar\":{\"outlinewidth\":0,\"ticks\":\"\"}}],\"scatter\":[{\"fillpattern\":{\"fillmode\":\"overlay\",\"size\":10,\"solidity\":0.2},\"type\":\"scatter\"}],\"parcoords\":[{\"type\":\"parcoords\",\"line\":{\"colorbar\":{\"outlinewidth\":0,\"ticks\":\"\"}}}],\"scatterpolargl\":[{\"type\":\"scatterpolargl\",\"marker\":{\"colorbar\":{\"outlinewidth\":0,\"ticks\":\"\"}}}],\"bar\":[{\"error_x\":{\"color\":\"#2a3f5f\"},\"error_y\":{\"color\":\"#2a3f5f\"},\"marker\":{\"line\":{\"color\":\"#E5ECF6\",\"width\":0.5},\"pattern\":{\"fillmode\":\"overlay\",\"size\":10,\"solidity\":0.2}},\"type\":\"bar\"}],\"scattergeo\":[{\"type\":\"scattergeo\",\"marker\":{\"colorbar\":{\"outlinewidth\":0,\"ticks\":\"\"}}}],\"scatterpolar\":[{\"type\":\"scatterpolar\",\"marker\":{\"colorbar\":{\"outlinewidth\":0,\"ticks\":\"\"}}}],\"histogram\":[{\"marker\":{\"pattern\":{\"fillmode\":\"overlay\",\"size\":10,\"solidity\":0.2}},\"type\":\"histogram\"}],\"scattergl\":[{\"type\":\"scattergl\",\"marker\":{\"colorbar\":{\"outlinewidth\":0,\"ticks\":\"\"}}}],\"scatter3d\":[{\"type\":\"scatter3d\",\"line\":{\"colorbar\":{\"outlinewidth\":0,\"ticks\":\"\"}},\"marker\":{\"colorbar\":{\"outlinewidth\":0,\"ticks\":\"\"}}}],\"scattermapbox\":[{\"type\":\"scattermapbox\",\"marker\":{\"colorbar\":{\"outlinewidth\":0,\"ticks\":\"\"}}}],\"scatterternary\":[{\"type\":\"scatterternary\",\"marker\":{\"colorbar\":{\"outlinewidth\":0,\"ticks\":\"\"}}}],\"scattercarpet\":[{\"type\":\"scattercarpet\",\"marker\":{\"colorbar\":{\"outlinewidth\":0,\"ticks\":\"\"}}}],\"carpet\":[{\"aaxis\":{\"endlinecolor\":\"#2a3f5f\",\"gridcolor\":\"white\",\"linecolor\":\"white\",\"minorgridcolor\":\"white\",\"startlinecolor\":\"#2a3f5f\"},\"baxis\":{\"endlinecolor\":\"#2a3f5f\",\"gridcolor\":\"white\",\"linecolor\":\"white\",\"minorgridcolor\":\"white\",\"startlinecolor\":\"#2a3f5f\"},\"type\":\"carpet\"}],\"table\":[{\"cells\":{\"fill\":{\"color\":\"#EBF0F8\"},\"line\":{\"color\":\"white\"}},\"header\":{\"fill\":{\"color\":\"#C8D4E3\"},\"line\":{\"color\":\"white\"}},\"type\":\"table\"}],\"barpolar\":[{\"marker\":{\"line\":{\"color\":\"#E5ECF6\",\"width\":0.5},\"pattern\":{\"fillmode\":\"overlay\",\"size\":10,\"solidity\":0.2}},\"type\":\"barpolar\"}],\"pie\":[{\"automargin\":true,\"type\":\"pie\"}]},\"layout\":{\"autotypenumbers\":\"strict\",\"colorway\":[\"#636efa\",\"#EF553B\",\"#00cc96\",\"#ab63fa\",\"#FFA15A\",\"#19d3f3\",\"#FF6692\",\"#B6E880\",\"#FF97FF\",\"#FECB52\"],\"font\":{\"color\":\"#2a3f5f\"},\"hovermode\":\"closest\",\"hoverlabel\":{\"align\":\"left\"},\"paper_bgcolor\":\"white\",\"plot_bgcolor\":\"#E5ECF6\",\"polar\":{\"bgcolor\":\"#E5ECF6\",\"angularaxis\":{\"gridcolor\":\"white\",\"linecolor\":\"white\",\"ticks\":\"\"},\"radialaxis\":{\"gridcolor\":\"white\",\"linecolor\":\"white\",\"ticks\":\"\"}},\"ternary\":{\"bgcolor\":\"#E5ECF6\",\"aaxis\":{\"gridcolor\":\"white\",\"linecolor\":\"white\",\"ticks\":\"\"},\"baxis\":{\"gridcolor\":\"white\",\"linecolor\":\"white\",\"ticks\":\"\"},\"caxis\":{\"gridcolor\":\"white\",\"linecolor\":\"white\",\"ticks\":\"\"}},\"coloraxis\":{\"colorbar\":{\"outlinewidth\":0,\"ticks\":\"\"}},\"colorscale\":{\"sequential\":[[0.0,\"#0d0887\"],[0.1111111111111111,\"#46039f\"],[0.2222222222222222,\"#7201a8\"],[0.3333333333333333,\"#9c179e\"],[0.4444444444444444,\"#bd3786\"],[0.5555555555555556,\"#d8576b\"],[0.6666666666666666,\"#ed7953\"],[0.7777777777777778,\"#fb9f3a\"],[0.8888888888888888,\"#fdca26\"],[1.0,\"#f0f921\"]],\"sequentialminus\":[[0.0,\"#0d0887\"],[0.1111111111111111,\"#46039f\"],[0.2222222222222222,\"#7201a8\"],[0.3333333333333333,\"#9c179e\"],[0.4444444444444444,\"#bd3786\"],[0.5555555555555556,\"#d8576b\"],[0.6666666666666666,\"#ed7953\"],[0.7777777777777778,\"#fb9f3a\"],[0.8888888888888888,\"#fdca26\"],[1.0,\"#f0f921\"]],\"diverging\":[[0,\"#8e0152\"],[0.1,\"#c51b7d\"],[0.2,\"#de77ae\"],[0.3,\"#f1b6da\"],[0.4,\"#fde0ef\"],[0.5,\"#f7f7f7\"],[0.6,\"#e6f5d0\"],[0.7,\"#b8e186\"],[0.8,\"#7fbc41\"],[0.9,\"#4d9221\"],[1,\"#276419\"]]},\"xaxis\":{\"gridcolor\":\"white\",\"linecolor\":\"white\",\"ticks\":\"\",\"title\":{\"standoff\":15},\"zerolinecolor\":\"white\",\"automargin\":true,\"zerolinewidth\":2},\"yaxis\":{\"gridcolor\":\"white\",\"linecolor\":\"white\",\"ticks\":\"\",\"title\":{\"standoff\":15},\"zerolinecolor\":\"white\",\"automargin\":true,\"zerolinewidth\":2},\"scene\":{\"xaxis\":{\"backgroundcolor\":\"#E5ECF6\",\"gridcolor\":\"white\",\"linecolor\":\"white\",\"showbackground\":true,\"ticks\":\"\",\"zerolinecolor\":\"white\",\"gridwidth\":2},\"yaxis\":{\"backgroundcolor\":\"#E5ECF6\",\"gridcolor\":\"white\",\"linecolor\":\"white\",\"showbackground\":true,\"ticks\":\"\",\"zerolinecolor\":\"white\",\"gridwidth\":2},\"zaxis\":{\"backgroundcolor\":\"#E5ECF6\",\"gridcolor\":\"white\",\"linecolor\":\"white\",\"showbackground\":true,\"ticks\":\"\",\"zerolinecolor\":\"white\",\"gridwidth\":2}},\"shapedefaults\":{\"line\":{\"color\":\"#2a3f5f\"}},\"annotationdefaults\":{\"arrowcolor\":\"#2a3f5f\",\"arrowhead\":0,\"arrowwidth\":1},\"geo\":{\"bgcolor\":\"white\",\"landcolor\":\"#E5ECF6\",\"subunitcolor\":\"white\",\"showland\":true,\"showlakes\":true,\"lakecolor\":\"white\"},\"title\":{\"x\":0.05},\"mapbox\":{\"style\":\"light\"}}},\"xaxis\":{\"anchor\":\"y\",\"domain\":[0.0,1.0],\"title\":{\"text\":\"Epi Week\"}},\"yaxis\":{\"anchor\":\"x\",\"domain\":[0.0,1.0],\"title\":{\"text\":\"Number of Tweets\"}},\"legend\":{\"title\":{\"text\":\"Country\"},\"tracegroupgap\":0},\"margin\":{\"t\":60},\"height\":500,\"width\":800},                        {\"responsive\": true}                    ).then(function(){\n",
       "                            \n",
       "var gd = document.getElementById('24ce4ea5-5dda-4e5a-b1dc-5216bac963e9');\n",
       "var x = new MutationObserver(function (mutations, observer) {{\n",
       "        var display = window.getComputedStyle(gd).display;\n",
       "        if (!display || display === 'none') {{\n",
       "            console.log([gd, 'removed!']);\n",
       "            Plotly.purge(gd);\n",
       "            observer.disconnect();\n",
       "        }}\n",
       "}});\n",
       "\n",
       "// Listen for the removal of the full notebook cells\n",
       "var notebookContainer = gd.closest('#notebook-container');\n",
       "if (notebookContainer) {{\n",
       "    x.observe(notebookContainer, {childList: true});\n",
       "}}\n",
       "\n",
       "// Listen for the clearing of the current output cell\n",
       "var outputEl = gd.closest('.output');\n",
       "if (outputEl) {{\n",
       "    x.observe(outputEl, {childList: true});\n",
       "}}\n",
       "\n",
       "                        })                };                });            </script>        </div>"
      ]
     },
     "metadata": {},
     "output_type": "display_data"
    }
   ],
   "source": [
    "# Argentina over Epi Weeks - tweets\n",
    "\n",
    "from itertools import product\n",
    "import matplotlib.pyplot as plt\n",
    "\n",
    "#top_20 = common_countries.reset_index().rename({\"country\":\"counts\",\n",
    "#                                                \"index\":\"country\"},axis=1).loc[0:6,\"country\"].tolist()\n",
    "#df.place_country.value_counts().rename_axis('unique_values').reset_index(name='counts')\n",
    "#top_20 = top_20.loc[,0:20]\n",
    "#top_20 = top_20.loc[0:20, \"unique_values\"].tolist()\n",
    "#top_20\n",
    "\n",
    "import plotly.express as px\n",
    "\n",
    "loc_p = df[((df.place_country == \"Argentina\"))]\n",
    "loc_p = loc_p.groupby(['place_country', \"epi_week\"])[\"id\"].count().reset_index(name='counts')\n",
    "loc_p = loc_p.sort_values([\"epi_week\"], ascending=True).reset_index(drop=True)\n",
    "\n",
    "loc_temp = pd.DataFrame(list(product(loc_p.place_country.unique(), loc_p.epi_week.unique())), columns=['place_country', 'epi_week'])\n",
    "loc_temp[\"counts\"] = 0\n",
    "\n",
    "loc_p = pd.concat([loc_p, loc_temp]).drop_duplicates([\"place_country\", \"epi_week\"])#, ignore_index=True)\n",
    "loc_p = loc_p.sort_values([\"epi_week\"], ascending=True)\n",
    "\n",
    "#only_loc_p = df_loc[df_loc.place_country.isin(top_20)]\n",
    "#only_loc_p = only_loc_p.groupby(['place_country', \"epi_week\"])[\"id\"].count().reset_index(name='counts')\n",
    "# plot pie chart\n",
    "\n",
    "fig = px.line(loc_p, x=\"epi_week\", y=\"counts\", color=\"place_country\",\n",
    "                 labels={\n",
    "                     \"epi_week\": \"Epi Week\",\n",
    "                     \"counts\": \"Number of Tweets\",\n",
    "                     \"place_country\": \"Country\"},\n",
    "             width=800,\n",
    "             height=500)\n",
    "\n",
    "fig.write_image(\"geotagged_tweets_argentina_epi_week.png\")\n",
    "fig.write_html(\"html/geotagged_tweets_argentina_epi_week.html\")\n",
    "fig.show()\n"
   ]
  },
  {
   "cell_type": "code",
   "execution_count": 64,
   "id": "87c51502-7ade-4626-a58a-8f51342de2d2",
   "metadata": {
    "tags": []
   },
   "outputs": [
    {
     "data": {
      "application/vnd.plotly.v1+json": {
       "config": {
        "plotlyServerURL": "https://plot.ly"
       },
       "data": [
        {
         "hovertemplate": "Country=United States<br>Epi Week=%{x}<br>Number of Tweets=%{y}<extra></extra>",
         "legendgroup": "United States",
         "line": {
          "color": "#636efa",
          "dash": "solid"
         },
         "marker": {
          "symbol": "circle"
         },
         "mode": "lines",
         "name": "United States",
         "orientation": "v",
         "showlegend": true,
         "type": "scatter",
         "x": [
          "201540",
          "201541",
          "201542",
          "201543",
          "201544",
          "201545",
          "201546",
          "201547",
          "201548",
          "201549",
          "201550",
          "201551",
          "201552",
          "201553",
          "201601",
          "201602",
          "201603",
          "201604",
          "201605",
          "201606",
          "201607",
          "201608",
          "201609",
          "201610",
          "201611",
          "201612",
          "201613",
          "201614",
          "201615",
          "201616",
          "201617",
          "201618",
          "201619",
          "201620",
          "201621",
          "201622",
          "201623",
          "201624",
          "201625",
          "201626",
          "201627",
          "201628",
          "201629",
          "201630",
          "201631",
          "201632",
          "201633",
          "201634",
          "201635",
          "201636",
          "201637",
          "201638",
          "201639",
          "201640",
          "201641",
          "201642",
          "201643",
          "201644"
         ],
         "xaxis": "x",
         "y": [
          1430,
          3163,
          2763,
          2913,
          2361,
          2325,
          1887,
          2783,
          2652,
          2411,
          2512,
          2523,
          3190,
          3938,
          4421,
          4067,
          2713,
          3689,
          3674,
          4247,
          4346,
          3916,
          2852,
          2401,
          2416,
          2958,
          3092,
          2533,
          2186,
          2501,
          2626,
          2733,
          2266,
          2392,
          2390,
          2283,
          2372,
          2170,
          2361,
          2574,
          2906,
          2756,
          3214,
          2641,
          1981,
          1931,
          1869,
          1827,
          1999,
          2247,
          2163,
          2233,
          2730,
          2604,
          2353,
          2082,
          2034,
          311
         ],
         "yaxis": "y"
        }
       ],
       "layout": {
        "height": 500,
        "legend": {
         "title": {
          "text": "Country"
         },
         "tracegroupgap": 0
        },
        "margin": {
         "t": 60
        },
        "template": {
         "data": {
          "bar": [
           {
            "error_x": {
             "color": "#2a3f5f"
            },
            "error_y": {
             "color": "#2a3f5f"
            },
            "marker": {
             "line": {
              "color": "#E5ECF6",
              "width": 0.5
             },
             "pattern": {
              "fillmode": "overlay",
              "size": 10,
              "solidity": 0.2
             }
            },
            "type": "bar"
           }
          ],
          "barpolar": [
           {
            "marker": {
             "line": {
              "color": "#E5ECF6",
              "width": 0.5
             },
             "pattern": {
              "fillmode": "overlay",
              "size": 10,
              "solidity": 0.2
             }
            },
            "type": "barpolar"
           }
          ],
          "carpet": [
           {
            "aaxis": {
             "endlinecolor": "#2a3f5f",
             "gridcolor": "white",
             "linecolor": "white",
             "minorgridcolor": "white",
             "startlinecolor": "#2a3f5f"
            },
            "baxis": {
             "endlinecolor": "#2a3f5f",
             "gridcolor": "white",
             "linecolor": "white",
             "minorgridcolor": "white",
             "startlinecolor": "#2a3f5f"
            },
            "type": "carpet"
           }
          ],
          "choropleth": [
           {
            "colorbar": {
             "outlinewidth": 0,
             "ticks": ""
            },
            "type": "choropleth"
           }
          ],
          "contour": [
           {
            "colorbar": {
             "outlinewidth": 0,
             "ticks": ""
            },
            "colorscale": [
             [
              0,
              "#0d0887"
             ],
             [
              0.1111111111111111,
              "#46039f"
             ],
             [
              0.2222222222222222,
              "#7201a8"
             ],
             [
              0.3333333333333333,
              "#9c179e"
             ],
             [
              0.4444444444444444,
              "#bd3786"
             ],
             [
              0.5555555555555556,
              "#d8576b"
             ],
             [
              0.6666666666666666,
              "#ed7953"
             ],
             [
              0.7777777777777778,
              "#fb9f3a"
             ],
             [
              0.8888888888888888,
              "#fdca26"
             ],
             [
              1,
              "#f0f921"
             ]
            ],
            "type": "contour"
           }
          ],
          "contourcarpet": [
           {
            "colorbar": {
             "outlinewidth": 0,
             "ticks": ""
            },
            "type": "contourcarpet"
           }
          ],
          "heatmap": [
           {
            "colorbar": {
             "outlinewidth": 0,
             "ticks": ""
            },
            "colorscale": [
             [
              0,
              "#0d0887"
             ],
             [
              0.1111111111111111,
              "#46039f"
             ],
             [
              0.2222222222222222,
              "#7201a8"
             ],
             [
              0.3333333333333333,
              "#9c179e"
             ],
             [
              0.4444444444444444,
              "#bd3786"
             ],
             [
              0.5555555555555556,
              "#d8576b"
             ],
             [
              0.6666666666666666,
              "#ed7953"
             ],
             [
              0.7777777777777778,
              "#fb9f3a"
             ],
             [
              0.8888888888888888,
              "#fdca26"
             ],
             [
              1,
              "#f0f921"
             ]
            ],
            "type": "heatmap"
           }
          ],
          "heatmapgl": [
           {
            "colorbar": {
             "outlinewidth": 0,
             "ticks": ""
            },
            "colorscale": [
             [
              0,
              "#0d0887"
             ],
             [
              0.1111111111111111,
              "#46039f"
             ],
             [
              0.2222222222222222,
              "#7201a8"
             ],
             [
              0.3333333333333333,
              "#9c179e"
             ],
             [
              0.4444444444444444,
              "#bd3786"
             ],
             [
              0.5555555555555556,
              "#d8576b"
             ],
             [
              0.6666666666666666,
              "#ed7953"
             ],
             [
              0.7777777777777778,
              "#fb9f3a"
             ],
             [
              0.8888888888888888,
              "#fdca26"
             ],
             [
              1,
              "#f0f921"
             ]
            ],
            "type": "heatmapgl"
           }
          ],
          "histogram": [
           {
            "marker": {
             "pattern": {
              "fillmode": "overlay",
              "size": 10,
              "solidity": 0.2
             }
            },
            "type": "histogram"
           }
          ],
          "histogram2d": [
           {
            "colorbar": {
             "outlinewidth": 0,
             "ticks": ""
            },
            "colorscale": [
             [
              0,
              "#0d0887"
             ],
             [
              0.1111111111111111,
              "#46039f"
             ],
             [
              0.2222222222222222,
              "#7201a8"
             ],
             [
              0.3333333333333333,
              "#9c179e"
             ],
             [
              0.4444444444444444,
              "#bd3786"
             ],
             [
              0.5555555555555556,
              "#d8576b"
             ],
             [
              0.6666666666666666,
              "#ed7953"
             ],
             [
              0.7777777777777778,
              "#fb9f3a"
             ],
             [
              0.8888888888888888,
              "#fdca26"
             ],
             [
              1,
              "#f0f921"
             ]
            ],
            "type": "histogram2d"
           }
          ],
          "histogram2dcontour": [
           {
            "colorbar": {
             "outlinewidth": 0,
             "ticks": ""
            },
            "colorscale": [
             [
              0,
              "#0d0887"
             ],
             [
              0.1111111111111111,
              "#46039f"
             ],
             [
              0.2222222222222222,
              "#7201a8"
             ],
             [
              0.3333333333333333,
              "#9c179e"
             ],
             [
              0.4444444444444444,
              "#bd3786"
             ],
             [
              0.5555555555555556,
              "#d8576b"
             ],
             [
              0.6666666666666666,
              "#ed7953"
             ],
             [
              0.7777777777777778,
              "#fb9f3a"
             ],
             [
              0.8888888888888888,
              "#fdca26"
             ],
             [
              1,
              "#f0f921"
             ]
            ],
            "type": "histogram2dcontour"
           }
          ],
          "mesh3d": [
           {
            "colorbar": {
             "outlinewidth": 0,
             "ticks": ""
            },
            "type": "mesh3d"
           }
          ],
          "parcoords": [
           {
            "line": {
             "colorbar": {
              "outlinewidth": 0,
              "ticks": ""
             }
            },
            "type": "parcoords"
           }
          ],
          "pie": [
           {
            "automargin": true,
            "type": "pie"
           }
          ],
          "scatter": [
           {
            "fillpattern": {
             "fillmode": "overlay",
             "size": 10,
             "solidity": 0.2
            },
            "type": "scatter"
           }
          ],
          "scatter3d": [
           {
            "line": {
             "colorbar": {
              "outlinewidth": 0,
              "ticks": ""
             }
            },
            "marker": {
             "colorbar": {
              "outlinewidth": 0,
              "ticks": ""
             }
            },
            "type": "scatter3d"
           }
          ],
          "scattercarpet": [
           {
            "marker": {
             "colorbar": {
              "outlinewidth": 0,
              "ticks": ""
             }
            },
            "type": "scattercarpet"
           }
          ],
          "scattergeo": [
           {
            "marker": {
             "colorbar": {
              "outlinewidth": 0,
              "ticks": ""
             }
            },
            "type": "scattergeo"
           }
          ],
          "scattergl": [
           {
            "marker": {
             "colorbar": {
              "outlinewidth": 0,
              "ticks": ""
             }
            },
            "type": "scattergl"
           }
          ],
          "scattermapbox": [
           {
            "marker": {
             "colorbar": {
              "outlinewidth": 0,
              "ticks": ""
             }
            },
            "type": "scattermapbox"
           }
          ],
          "scatterpolar": [
           {
            "marker": {
             "colorbar": {
              "outlinewidth": 0,
              "ticks": ""
             }
            },
            "type": "scatterpolar"
           }
          ],
          "scatterpolargl": [
           {
            "marker": {
             "colorbar": {
              "outlinewidth": 0,
              "ticks": ""
             }
            },
            "type": "scatterpolargl"
           }
          ],
          "scatterternary": [
           {
            "marker": {
             "colorbar": {
              "outlinewidth": 0,
              "ticks": ""
             }
            },
            "type": "scatterternary"
           }
          ],
          "surface": [
           {
            "colorbar": {
             "outlinewidth": 0,
             "ticks": ""
            },
            "colorscale": [
             [
              0,
              "#0d0887"
             ],
             [
              0.1111111111111111,
              "#46039f"
             ],
             [
              0.2222222222222222,
              "#7201a8"
             ],
             [
              0.3333333333333333,
              "#9c179e"
             ],
             [
              0.4444444444444444,
              "#bd3786"
             ],
             [
              0.5555555555555556,
              "#d8576b"
             ],
             [
              0.6666666666666666,
              "#ed7953"
             ],
             [
              0.7777777777777778,
              "#fb9f3a"
             ],
             [
              0.8888888888888888,
              "#fdca26"
             ],
             [
              1,
              "#f0f921"
             ]
            ],
            "type": "surface"
           }
          ],
          "table": [
           {
            "cells": {
             "fill": {
              "color": "#EBF0F8"
             },
             "line": {
              "color": "white"
             }
            },
            "header": {
             "fill": {
              "color": "#C8D4E3"
             },
             "line": {
              "color": "white"
             }
            },
            "type": "table"
           }
          ]
         },
         "layout": {
          "annotationdefaults": {
           "arrowcolor": "#2a3f5f",
           "arrowhead": 0,
           "arrowwidth": 1
          },
          "autotypenumbers": "strict",
          "coloraxis": {
           "colorbar": {
            "outlinewidth": 0,
            "ticks": ""
           }
          },
          "colorscale": {
           "diverging": [
            [
             0,
             "#8e0152"
            ],
            [
             0.1,
             "#c51b7d"
            ],
            [
             0.2,
             "#de77ae"
            ],
            [
             0.3,
             "#f1b6da"
            ],
            [
             0.4,
             "#fde0ef"
            ],
            [
             0.5,
             "#f7f7f7"
            ],
            [
             0.6,
             "#e6f5d0"
            ],
            [
             0.7,
             "#b8e186"
            ],
            [
             0.8,
             "#7fbc41"
            ],
            [
             0.9,
             "#4d9221"
            ],
            [
             1,
             "#276419"
            ]
           ],
           "sequential": [
            [
             0,
             "#0d0887"
            ],
            [
             0.1111111111111111,
             "#46039f"
            ],
            [
             0.2222222222222222,
             "#7201a8"
            ],
            [
             0.3333333333333333,
             "#9c179e"
            ],
            [
             0.4444444444444444,
             "#bd3786"
            ],
            [
             0.5555555555555556,
             "#d8576b"
            ],
            [
             0.6666666666666666,
             "#ed7953"
            ],
            [
             0.7777777777777778,
             "#fb9f3a"
            ],
            [
             0.8888888888888888,
             "#fdca26"
            ],
            [
             1,
             "#f0f921"
            ]
           ],
           "sequentialminus": [
            [
             0,
             "#0d0887"
            ],
            [
             0.1111111111111111,
             "#46039f"
            ],
            [
             0.2222222222222222,
             "#7201a8"
            ],
            [
             0.3333333333333333,
             "#9c179e"
            ],
            [
             0.4444444444444444,
             "#bd3786"
            ],
            [
             0.5555555555555556,
             "#d8576b"
            ],
            [
             0.6666666666666666,
             "#ed7953"
            ],
            [
             0.7777777777777778,
             "#fb9f3a"
            ],
            [
             0.8888888888888888,
             "#fdca26"
            ],
            [
             1,
             "#f0f921"
            ]
           ]
          },
          "colorway": [
           "#636efa",
           "#EF553B",
           "#00cc96",
           "#ab63fa",
           "#FFA15A",
           "#19d3f3",
           "#FF6692",
           "#B6E880",
           "#FF97FF",
           "#FECB52"
          ],
          "font": {
           "color": "#2a3f5f"
          },
          "geo": {
           "bgcolor": "white",
           "lakecolor": "white",
           "landcolor": "#E5ECF6",
           "showlakes": true,
           "showland": true,
           "subunitcolor": "white"
          },
          "hoverlabel": {
           "align": "left"
          },
          "hovermode": "closest",
          "mapbox": {
           "style": "light"
          },
          "paper_bgcolor": "white",
          "plot_bgcolor": "#E5ECF6",
          "polar": {
           "angularaxis": {
            "gridcolor": "white",
            "linecolor": "white",
            "ticks": ""
           },
           "bgcolor": "#E5ECF6",
           "radialaxis": {
            "gridcolor": "white",
            "linecolor": "white",
            "ticks": ""
           }
          },
          "scene": {
           "xaxis": {
            "backgroundcolor": "#E5ECF6",
            "gridcolor": "white",
            "gridwidth": 2,
            "linecolor": "white",
            "showbackground": true,
            "ticks": "",
            "zerolinecolor": "white"
           },
           "yaxis": {
            "backgroundcolor": "#E5ECF6",
            "gridcolor": "white",
            "gridwidth": 2,
            "linecolor": "white",
            "showbackground": true,
            "ticks": "",
            "zerolinecolor": "white"
           },
           "zaxis": {
            "backgroundcolor": "#E5ECF6",
            "gridcolor": "white",
            "gridwidth": 2,
            "linecolor": "white",
            "showbackground": true,
            "ticks": "",
            "zerolinecolor": "white"
           }
          },
          "shapedefaults": {
           "line": {
            "color": "#2a3f5f"
           }
          },
          "ternary": {
           "aaxis": {
            "gridcolor": "white",
            "linecolor": "white",
            "ticks": ""
           },
           "baxis": {
            "gridcolor": "white",
            "linecolor": "white",
            "ticks": ""
           },
           "bgcolor": "#E5ECF6",
           "caxis": {
            "gridcolor": "white",
            "linecolor": "white",
            "ticks": ""
           }
          },
          "title": {
           "x": 0.05
          },
          "xaxis": {
           "automargin": true,
           "gridcolor": "white",
           "linecolor": "white",
           "ticks": "",
           "title": {
            "standoff": 15
           },
           "zerolinecolor": "white",
           "zerolinewidth": 2
          },
          "yaxis": {
           "automargin": true,
           "gridcolor": "white",
           "linecolor": "white",
           "ticks": "",
           "title": {
            "standoff": 15
           },
           "zerolinecolor": "white",
           "zerolinewidth": 2
          }
         }
        },
        "width": 800,
        "xaxis": {
         "anchor": "y",
         "autorange": true,
         "domain": [
          0,
          1
         ],
         "range": [
          0,
          57
         ],
         "title": {
          "text": "Epi Week"
         },
         "type": "category"
        },
        "yaxis": {
         "anchor": "x",
         "autorange": true,
         "domain": [
          0,
          1
         ],
         "range": [
          82.66666666666666,
          4649.333333333333
         ],
         "title": {
          "text": "Number of Tweets"
         },
         "type": "linear"
        }
       }
      },
      "image/png": "[encoded data removed]",
      "text/html": [
       "<div>                            <div id=\"074a50f9-2a30-4747-97b0-f8ac82ca3a48\" class=\"plotly-graph-div\" style=\"height:500px; width:800px;\"></div>            <script type=\"text/javascript\">                require([\"plotly\"], function(Plotly) {                    window.PLOTLYENV=window.PLOTLYENV || {};                                    if (document.getElementById(\"074a50f9-2a30-4747-97b0-f8ac82ca3a48\")) {                    Plotly.newPlot(                        \"074a50f9-2a30-4747-97b0-f8ac82ca3a48\",                        [{\"hovertemplate\":\"Country=United States<br>Epi Week=%{x}<br>Number of Tweets=%{y}<extra></extra>\",\"legendgroup\":\"United States\",\"line\":{\"color\":\"#636efa\",\"dash\":\"solid\"},\"marker\":{\"symbol\":\"circle\"},\"mode\":\"lines\",\"name\":\"United States\",\"orientation\":\"v\",\"showlegend\":true,\"x\":[\"201540\",\"201541\",\"201542\",\"201543\",\"201544\",\"201545\",\"201546\",\"201547\",\"201548\",\"201549\",\"201550\",\"201551\",\"201552\",\"201553\",\"201601\",\"201602\",\"201603\",\"201604\",\"201605\",\"201606\",\"201607\",\"201608\",\"201609\",\"201610\",\"201611\",\"201612\",\"201613\",\"201614\",\"201615\",\"201616\",\"201617\",\"201618\",\"201619\",\"201620\",\"201621\",\"201622\",\"201623\",\"201624\",\"201625\",\"201626\",\"201627\",\"201628\",\"201629\",\"201630\",\"201631\",\"201632\",\"201633\",\"201634\",\"201635\",\"201636\",\"201637\",\"201638\",\"201639\",\"201640\",\"201641\",\"201642\",\"201643\",\"201644\"],\"xaxis\":\"x\",\"y\":[1430,3163,2763,2913,2361,2325,1887,2783,2652,2411,2512,2523,3190,3938,4421,4067,2713,3689,3674,4247,4346,3916,2852,2401,2416,2958,3092,2533,2186,2501,2626,2733,2266,2392,2390,2283,2372,2170,2361,2574,2906,2756,3214,2641,1981,1931,1869,1827,1999,2247,2163,2233,2730,2604,2353,2082,2034,311],\"yaxis\":\"y\",\"type\":\"scatter\"}],                        {\"template\":{\"data\":{\"histogram2dcontour\":[{\"type\":\"histogram2dcontour\",\"colorbar\":{\"outlinewidth\":0,\"ticks\":\"\"},\"colorscale\":[[0.0,\"#0d0887\"],[0.1111111111111111,\"#46039f\"],[0.2222222222222222,\"#7201a8\"],[0.3333333333333333,\"#9c179e\"],[0.4444444444444444,\"#bd3786\"],[0.5555555555555556,\"#d8576b\"],[0.6666666666666666,\"#ed7953\"],[0.7777777777777778,\"#fb9f3a\"],[0.8888888888888888,\"#fdca26\"],[1.0,\"#f0f921\"]]}],\"choropleth\":[{\"type\":\"choropleth\",\"colorbar\":{\"outlinewidth\":0,\"ticks\":\"\"}}],\"histogram2d\":[{\"type\":\"histogram2d\",\"colorbar\":{\"outlinewidth\":0,\"ticks\":\"\"},\"colorscale\":[[0.0,\"#0d0887\"],[0.1111111111111111,\"#46039f\"],[0.2222222222222222,\"#7201a8\"],[0.3333333333333333,\"#9c179e\"],[0.4444444444444444,\"#bd3786\"],[0.5555555555555556,\"#d8576b\"],[0.6666666666666666,\"#ed7953\"],[0.7777777777777778,\"#fb9f3a\"],[0.8888888888888888,\"#fdca26\"],[1.0,\"#f0f921\"]]}],\"heatmap\":[{\"type\":\"heatmap\",\"colorbar\":{\"outlinewidth\":0,\"ticks\":\"\"},\"colorscale\":[[0.0,\"#0d0887\"],[0.1111111111111111,\"#46039f\"],[0.2222222222222222,\"#7201a8\"],[0.3333333333333333,\"#9c179e\"],[0.4444444444444444,\"#bd3786\"],[0.5555555555555556,\"#d8576b\"],[0.6666666666666666,\"#ed7953\"],[0.7777777777777778,\"#fb9f3a\"],[0.8888888888888888,\"#fdca26\"],[1.0,\"#f0f921\"]]}],\"heatmapgl\":[{\"type\":\"heatmapgl\",\"colorbar\":{\"outlinewidth\":0,\"ticks\":\"\"},\"colorscale\":[[0.0,\"#0d0887\"],[0.1111111111111111,\"#46039f\"],[0.2222222222222222,\"#7201a8\"],[0.3333333333333333,\"#9c179e\"],[0.4444444444444444,\"#bd3786\"],[0.5555555555555556,\"#d8576b\"],[0.6666666666666666,\"#ed7953\"],[0.7777777777777778,\"#fb9f3a\"],[0.8888888888888888,\"#fdca26\"],[1.0,\"#f0f921\"]]}],\"contourcarpet\":[{\"type\":\"contourcarpet\",\"colorbar\":{\"outlinewidth\":0,\"ticks\":\"\"}}],\"contour\":[{\"type\":\"contour\",\"colorbar\":{\"outlinewidth\":0,\"ticks\":\"\"},\"colorscale\":[[0.0,\"#0d0887\"],[0.1111111111111111,\"#46039f\"],[0.2222222222222222,\"#7201a8\"],[0.3333333333333333,\"#9c179e\"],[0.4444444444444444,\"#bd3786\"],[0.5555555555555556,\"#d8576b\"],[0.6666666666666666,\"#ed7953\"],[0.7777777777777778,\"#fb9f3a\"],[0.8888888888888888,\"#fdca26\"],[1.0,\"#f0f921\"]]}],\"surface\":[{\"type\":\"surface\",\"colorbar\":{\"outlinewidth\":0,\"ticks\":\"\"},\"colorscale\":[[0.0,\"#0d0887\"],[0.1111111111111111,\"#46039f\"],[0.2222222222222222,\"#7201a8\"],[0.3333333333333333,\"#9c179e\"],[0.4444444444444444,\"#bd3786\"],[0.5555555555555556,\"#d8576b\"],[0.6666666666666666,\"#ed7953\"],[0.7777777777777778,\"#fb9f3a\"],[0.8888888888888888,\"#fdca26\"],[1.0,\"#f0f921\"]]}],\"mesh3d\":[{\"type\":\"mesh3d\",\"colorbar\":{\"outlinewidth\":0,\"ticks\":\"\"}}],\"scatter\":[{\"fillpattern\":{\"fillmode\":\"overlay\",\"size\":10,\"solidity\":0.2},\"type\":\"scatter\"}],\"parcoords\":[{\"type\":\"parcoords\",\"line\":{\"colorbar\":{\"outlinewidth\":0,\"ticks\":\"\"}}}],\"scatterpolargl\":[{\"type\":\"scatterpolargl\",\"marker\":{\"colorbar\":{\"outlinewidth\":0,\"ticks\":\"\"}}}],\"bar\":[{\"error_x\":{\"color\":\"#2a3f5f\"},\"error_y\":{\"color\":\"#2a3f5f\"},\"marker\":{\"line\":{\"color\":\"#E5ECF6\",\"width\":0.5},\"pattern\":{\"fillmode\":\"overlay\",\"size\":10,\"solidity\":0.2}},\"type\":\"bar\"}],\"scattergeo\":[{\"type\":\"scattergeo\",\"marker\":{\"colorbar\":{\"outlinewidth\":0,\"ticks\":\"\"}}}],\"scatterpolar\":[{\"type\":\"scatterpolar\",\"marker\":{\"colorbar\":{\"outlinewidth\":0,\"ticks\":\"\"}}}],\"histogram\":[{\"marker\":{\"pattern\":{\"fillmode\":\"overlay\",\"size\":10,\"solidity\":0.2}},\"type\":\"histogram\"}],\"scattergl\":[{\"type\":\"scattergl\",\"marker\":{\"colorbar\":{\"outlinewidth\":0,\"ticks\":\"\"}}}],\"scatter3d\":[{\"type\":\"scatter3d\",\"line\":{\"colorbar\":{\"outlinewidth\":0,\"ticks\":\"\"}},\"marker\":{\"colorbar\":{\"outlinewidth\":0,\"ticks\":\"\"}}}],\"scattermapbox\":[{\"type\":\"scattermapbox\",\"marker\":{\"colorbar\":{\"outlinewidth\":0,\"ticks\":\"\"}}}],\"scatterternary\":[{\"type\":\"scatterternary\",\"marker\":{\"colorbar\":{\"outlinewidth\":0,\"ticks\":\"\"}}}],\"scattercarpet\":[{\"type\":\"scattercarpet\",\"marker\":{\"colorbar\":{\"outlinewidth\":0,\"ticks\":\"\"}}}],\"carpet\":[{\"aaxis\":{\"endlinecolor\":\"#2a3f5f\",\"gridcolor\":\"white\",\"linecolor\":\"white\",\"minorgridcolor\":\"white\",\"startlinecolor\":\"#2a3f5f\"},\"baxis\":{\"endlinecolor\":\"#2a3f5f\",\"gridcolor\":\"white\",\"linecolor\":\"white\",\"minorgridcolor\":\"white\",\"startlinecolor\":\"#2a3f5f\"},\"type\":\"carpet\"}],\"table\":[{\"cells\":{\"fill\":{\"color\":\"#EBF0F8\"},\"line\":{\"color\":\"white\"}},\"header\":{\"fill\":{\"color\":\"#C8D4E3\"},\"line\":{\"color\":\"white\"}},\"type\":\"table\"}],\"barpolar\":[{\"marker\":{\"line\":{\"color\":\"#E5ECF6\",\"width\":0.5},\"pattern\":{\"fillmode\":\"overlay\",\"size\":10,\"solidity\":0.2}},\"type\":\"barpolar\"}],\"pie\":[{\"automargin\":true,\"type\":\"pie\"}]},\"layout\":{\"autotypenumbers\":\"strict\",\"colorway\":[\"#636efa\",\"#EF553B\",\"#00cc96\",\"#ab63fa\",\"#FFA15A\",\"#19d3f3\",\"#FF6692\",\"#B6E880\",\"#FF97FF\",\"#FECB52\"],\"font\":{\"color\":\"#2a3f5f\"},\"hovermode\":\"closest\",\"hoverlabel\":{\"align\":\"left\"},\"paper_bgcolor\":\"white\",\"plot_bgcolor\":\"#E5ECF6\",\"polar\":{\"bgcolor\":\"#E5ECF6\",\"angularaxis\":{\"gridcolor\":\"white\",\"linecolor\":\"white\",\"ticks\":\"\"},\"radialaxis\":{\"gridcolor\":\"white\",\"linecolor\":\"white\",\"ticks\":\"\"}},\"ternary\":{\"bgcolor\":\"#E5ECF6\",\"aaxis\":{\"gridcolor\":\"white\",\"linecolor\":\"white\",\"ticks\":\"\"},\"baxis\":{\"gridcolor\":\"white\",\"linecolor\":\"white\",\"ticks\":\"\"},\"caxis\":{\"gridcolor\":\"white\",\"linecolor\":\"white\",\"ticks\":\"\"}},\"coloraxis\":{\"colorbar\":{\"outlinewidth\":0,\"ticks\":\"\"}},\"colorscale\":{\"sequential\":[[0.0,\"#0d0887\"],[0.1111111111111111,\"#46039f\"],[0.2222222222222222,\"#7201a8\"],[0.3333333333333333,\"#9c179e\"],[0.4444444444444444,\"#bd3786\"],[0.5555555555555556,\"#d8576b\"],[0.6666666666666666,\"#ed7953\"],[0.7777777777777778,\"#fb9f3a\"],[0.8888888888888888,\"#fdca26\"],[1.0,\"#f0f921\"]],\"sequentialminus\":[[0.0,\"#0d0887\"],[0.1111111111111111,\"#46039f\"],[0.2222222222222222,\"#7201a8\"],[0.3333333333333333,\"#9c179e\"],[0.4444444444444444,\"#bd3786\"],[0.5555555555555556,\"#d8576b\"],[0.6666666666666666,\"#ed7953\"],[0.7777777777777778,\"#fb9f3a\"],[0.8888888888888888,\"#fdca26\"],[1.0,\"#f0f921\"]],\"diverging\":[[0,\"#8e0152\"],[0.1,\"#c51b7d\"],[0.2,\"#de77ae\"],[0.3,\"#f1b6da\"],[0.4,\"#fde0ef\"],[0.5,\"#f7f7f7\"],[0.6,\"#e6f5d0\"],[0.7,\"#b8e186\"],[0.8,\"#7fbc41\"],[0.9,\"#4d9221\"],[1,\"#276419\"]]},\"xaxis\":{\"gridcolor\":\"white\",\"linecolor\":\"white\",\"ticks\":\"\",\"title\":{\"standoff\":15},\"zerolinecolor\":\"white\",\"automargin\":true,\"zerolinewidth\":2},\"yaxis\":{\"gridcolor\":\"white\",\"linecolor\":\"white\",\"ticks\":\"\",\"title\":{\"standoff\":15},\"zerolinecolor\":\"white\",\"automargin\":true,\"zerolinewidth\":2},\"scene\":{\"xaxis\":{\"backgroundcolor\":\"#E5ECF6\",\"gridcolor\":\"white\",\"linecolor\":\"white\",\"showbackground\":true,\"ticks\":\"\",\"zerolinecolor\":\"white\",\"gridwidth\":2},\"yaxis\":{\"backgroundcolor\":\"#E5ECF6\",\"gridcolor\":\"white\",\"linecolor\":\"white\",\"showbackground\":true,\"ticks\":\"\",\"zerolinecolor\":\"white\",\"gridwidth\":2},\"zaxis\":{\"backgroundcolor\":\"#E5ECF6\",\"gridcolor\":\"white\",\"linecolor\":\"white\",\"showbackground\":true,\"ticks\":\"\",\"zerolinecolor\":\"white\",\"gridwidth\":2}},\"shapedefaults\":{\"line\":{\"color\":\"#2a3f5f\"}},\"annotationdefaults\":{\"arrowcolor\":\"#2a3f5f\",\"arrowhead\":0,\"arrowwidth\":1},\"geo\":{\"bgcolor\":\"white\",\"landcolor\":\"#E5ECF6\",\"subunitcolor\":\"white\",\"showland\":true,\"showlakes\":true,\"lakecolor\":\"white\"},\"title\":{\"x\":0.05},\"mapbox\":{\"style\":\"light\"}}},\"xaxis\":{\"anchor\":\"y\",\"domain\":[0.0,1.0],\"title\":{\"text\":\"Epi Week\"}},\"yaxis\":{\"anchor\":\"x\",\"domain\":[0.0,1.0],\"title\":{\"text\":\"Number of Tweets\"}},\"legend\":{\"title\":{\"text\":\"Country\"},\"tracegroupgap\":0},\"margin\":{\"t\":60},\"height\":500,\"width\":800},                        {\"responsive\": true}                    ).then(function(){\n",
       "                            \n",
       "var gd = document.getElementById('074a50f9-2a30-4747-97b0-f8ac82ca3a48');\n",
       "var x = new MutationObserver(function (mutations, observer) {{\n",
       "        var display = window.getComputedStyle(gd).display;\n",
       "        if (!display || display === 'none') {{\n",
       "            console.log([gd, 'removed!']);\n",
       "            Plotly.purge(gd);\n",
       "            observer.disconnect();\n",
       "        }}\n",
       "}});\n",
       "\n",
       "// Listen for the removal of the full notebook cells\n",
       "var notebookContainer = gd.closest('#notebook-container');\n",
       "if (notebookContainer) {{\n",
       "    x.observe(notebookContainer, {childList: true});\n",
       "}}\n",
       "\n",
       "// Listen for the clearing of the current output cell\n",
       "var outputEl = gd.closest('.output');\n",
       "if (outputEl) {{\n",
       "    x.observe(outputEl, {childList: true});\n",
       "}}\n",
       "\n",
       "                        })                };                });            </script>        </div>"
      ]
     },
     "metadata": {},
     "output_type": "display_data"
    }
   ],
   "source": [
    "# USA over Epi Weeks - tweets\n",
    "\n",
    "from itertools import product\n",
    "import matplotlib.pyplot as plt\n",
    "\n",
    "#top_20 = common_countries.reset_index().rename({\"country\":\"counts\",\n",
    "#                                                \"index\":\"country\"},axis=1).loc[0:6,\"country\"].tolist()\n",
    "#df.place_country.value_counts().rename_axis('unique_values').reset_index(name='counts')\n",
    "#top_20 = top_20.loc[,0:20]\n",
    "#top_20 = top_20.loc[0:20, \"unique_values\"].tolist()\n",
    "#top_20\n",
    "\n",
    "import plotly.express as px\n",
    "\n",
    "loc_p = df[((df.place_country == \"United States\"))]\n",
    "loc_p = loc_p.groupby(['place_country', \"epi_week\"])[\"id\"].count().reset_index(name='counts')\n",
    "loc_p = loc_p.sort_values([\"epi_week\"], ascending=True).reset_index(drop=True)\n",
    "\n",
    "loc_temp = pd.DataFrame(list(product(loc_p.place_country.unique(), loc_p.epi_week.unique())), columns=['place_country', 'epi_week'])\n",
    "loc_temp[\"counts\"] = 0\n",
    "\n",
    "loc_p = pd.concat([loc_p, loc_temp]).drop_duplicates([\"place_country\", \"epi_week\"])#, ignore_index=True)\n",
    "loc_p = loc_p.sort_values([\"epi_week\"], ascending=True)\n",
    "\n",
    "#only_loc_p = df_loc[df_loc.place_country.isin(top_20)]\n",
    "#only_loc_p = only_loc_p.groupby(['place_country', \"epi_week\"])[\"id\"].count().reset_index(name='counts')\n",
    "# plot pie chart\n",
    "\n",
    "fig = px.line(loc_p, x=\"epi_week\", y=\"counts\", color=\"place_country\",\n",
    "                 labels={\n",
    "                     \"epi_week\": \"Epi Week\",\n",
    "                     \"counts\": \"Number of Tweets\",\n",
    "                     \"place_country\": \"Country\"},\n",
    "             width=800,\n",
    "             height=500)\n",
    "\n",
    "fig.write_image(\"geotagged_tweets_usa_epi_week.png\")\n",
    "fig.write_html(\"html/geotagged_tweets_usa_epi_week.html\")\n",
    "fig.show()"
   ]
  },
  {
   "cell_type": "code",
   "execution_count": 65,
   "id": "25120006-158c-4779-a968-181e5880f633",
   "metadata": {
    "tags": []
   },
   "outputs": [
    {
     "data": {
      "application/vnd.plotly.v1+json": {
       "config": {
        "plotlyServerURL": "https://plot.ly"
       },
       "data": [
        {
         "hovertemplate": "Country=Brazil<br>Epi Week=%{x}<br>Number of Tweets=%{y}<extra></extra>",
         "legendgroup": "Brazil",
         "line": {
          "color": "#636efa",
          "dash": "solid"
         },
         "marker": {
          "symbol": "circle"
         },
         "mode": "lines",
         "name": "Brazil",
         "orientation": "v",
         "showlegend": true,
         "type": "scatter",
         "x": [
          "201540",
          "201541",
          "201542",
          "201543",
          "201544",
          "201545",
          "201546",
          "201547",
          "201548",
          "201549",
          "201550",
          "201551",
          "201552",
          "201553",
          "201601",
          "201602",
          "201603",
          "201604",
          "201605",
          "201606",
          "201607",
          "201608",
          "201609",
          "201610",
          "201611",
          "201612",
          "201613",
          "201614",
          "201615",
          "201616",
          "201617",
          "201618",
          "201619",
          "201620",
          "201621",
          "201622",
          "201623",
          "201624",
          "201625",
          "201626",
          "201627",
          "201628",
          "201629",
          "201630",
          "201631",
          "201632",
          "201633",
          "201634",
          "201635",
          "201636",
          "201637",
          "201638",
          "201639",
          "201640",
          "201641",
          "201642",
          "201643",
          "201644"
         ],
         "xaxis": "x",
         "y": [
          688,
          1279,
          1356,
          965,
          816,
          891,
          971,
          1232,
          1153,
          1109,
          1275,
          1480,
          2192,
          4230,
          7362,
          9352,
          9587,
          10418,
          7197,
          7165,
          7318,
          5074,
          2853,
          2160,
          2549,
          2526,
          1397,
          1152,
          1150,
          1105,
          1213,
          1103,
          1206,
          997,
          790,
          930,
          1003,
          915,
          1019,
          1064,
          1115,
          1425,
          1762,
          1231,
          1308,
          2908,
          2368,
          1042,
          1042,
          976,
          963,
          720,
          685,
          819,
          801,
          667,
          593,
          60
         ],
         "yaxis": "y"
        }
       ],
       "layout": {
        "height": 500,
        "legend": {
         "title": {
          "text": "Country"
         },
         "tracegroupgap": 0
        },
        "margin": {
         "t": 60
        },
        "template": {
         "data": {
          "bar": [
           {
            "error_x": {
             "color": "#2a3f5f"
            },
            "error_y": {
             "color": "#2a3f5f"
            },
            "marker": {
             "line": {
              "color": "#E5ECF6",
              "width": 0.5
             },
             "pattern": {
              "fillmode": "overlay",
              "size": 10,
              "solidity": 0.2
             }
            },
            "type": "bar"
           }
          ],
          "barpolar": [
           {
            "marker": {
             "line": {
              "color": "#E5ECF6",
              "width": 0.5
             },
             "pattern": {
              "fillmode": "overlay",
              "size": 10,
              "solidity": 0.2
             }
            },
            "type": "barpolar"
           }
          ],
          "carpet": [
           {
            "aaxis": {
             "endlinecolor": "#2a3f5f",
             "gridcolor": "white",
             "linecolor": "white",
             "minorgridcolor": "white",
             "startlinecolor": "#2a3f5f"
            },
            "baxis": {
             "endlinecolor": "#2a3f5f",
             "gridcolor": "white",
             "linecolor": "white",
             "minorgridcolor": "white",
             "startlinecolor": "#2a3f5f"
            },
            "type": "carpet"
           }
          ],
          "choropleth": [
           {
            "colorbar": {
             "outlinewidth": 0,
             "ticks": ""
            },
            "type": "choropleth"
           }
          ],
          "contour": [
           {
            "colorbar": {
             "outlinewidth": 0,
             "ticks": ""
            },
            "colorscale": [
             [
              0,
              "#0d0887"
             ],
             [
              0.1111111111111111,
              "#46039f"
             ],
             [
              0.2222222222222222,
              "#7201a8"
             ],
             [
              0.3333333333333333,
              "#9c179e"
             ],
             [
              0.4444444444444444,
              "#bd3786"
             ],
             [
              0.5555555555555556,
              "#d8576b"
             ],
             [
              0.6666666666666666,
              "#ed7953"
             ],
             [
              0.7777777777777778,
              "#fb9f3a"
             ],
             [
              0.8888888888888888,
              "#fdca26"
             ],
             [
              1,
              "#f0f921"
             ]
            ],
            "type": "contour"
           }
          ],
          "contourcarpet": [
           {
            "colorbar": {
             "outlinewidth": 0,
             "ticks": ""
            },
            "type": "contourcarpet"
           }
          ],
          "heatmap": [
           {
            "colorbar": {
             "outlinewidth": 0,
             "ticks": ""
            },
            "colorscale": [
             [
              0,
              "#0d0887"
             ],
             [
              0.1111111111111111,
              "#46039f"
             ],
             [
              0.2222222222222222,
              "#7201a8"
             ],
             [
              0.3333333333333333,
              "#9c179e"
             ],
             [
              0.4444444444444444,
              "#bd3786"
             ],
             [
              0.5555555555555556,
              "#d8576b"
             ],
             [
              0.6666666666666666,
              "#ed7953"
             ],
             [
              0.7777777777777778,
              "#fb9f3a"
             ],
             [
              0.8888888888888888,
              "#fdca26"
             ],
             [
              1,
              "#f0f921"
             ]
            ],
            "type": "heatmap"
           }
          ],
          "heatmapgl": [
           {
            "colorbar": {
             "outlinewidth": 0,
             "ticks": ""
            },
            "colorscale": [
             [
              0,
              "#0d0887"
             ],
             [
              0.1111111111111111,
              "#46039f"
             ],
             [
              0.2222222222222222,
              "#7201a8"
             ],
             [
              0.3333333333333333,
              "#9c179e"
             ],
             [
              0.4444444444444444,
              "#bd3786"
             ],
             [
              0.5555555555555556,
              "#d8576b"
             ],
             [
              0.6666666666666666,
              "#ed7953"
             ],
             [
              0.7777777777777778,
              "#fb9f3a"
             ],
             [
              0.8888888888888888,
              "#fdca26"
             ],
             [
              1,
              "#f0f921"
             ]
            ],
            "type": "heatmapgl"
           }
          ],
          "histogram": [
           {
            "marker": {
             "pattern": {
              "fillmode": "overlay",
              "size": 10,
              "solidity": 0.2
             }
            },
            "type": "histogram"
           }
          ],
          "histogram2d": [
           {
            "colorbar": {
             "outlinewidth": 0,
             "ticks": ""
            },
            "colorscale": [
             [
              0,
              "#0d0887"
             ],
             [
              0.1111111111111111,
              "#46039f"
             ],
             [
              0.2222222222222222,
              "#7201a8"
             ],
             [
              0.3333333333333333,
              "#9c179e"
             ],
             [
              0.4444444444444444,
              "#bd3786"
             ],
             [
              0.5555555555555556,
              "#d8576b"
             ],
             [
              0.6666666666666666,
              "#ed7953"
             ],
             [
              0.7777777777777778,
              "#fb9f3a"
             ],
             [
              0.8888888888888888,
              "#fdca26"
             ],
             [
              1,
              "#f0f921"
             ]
            ],
            "type": "histogram2d"
           }
          ],
          "histogram2dcontour": [
           {
            "colorbar": {
             "outlinewidth": 0,
             "ticks": ""
            },
            "colorscale": [
             [
              0,
              "#0d0887"
             ],
             [
              0.1111111111111111,
              "#46039f"
             ],
             [
              0.2222222222222222,
              "#7201a8"
             ],
             [
              0.3333333333333333,
              "#9c179e"
             ],
             [
              0.4444444444444444,
              "#bd3786"
             ],
             [
              0.5555555555555556,
              "#d8576b"
             ],
             [
              0.6666666666666666,
              "#ed7953"
             ],
             [
              0.7777777777777778,
              "#fb9f3a"
             ],
             [
              0.8888888888888888,
              "#fdca26"
             ],
             [
              1,
              "#f0f921"
             ]
            ],
            "type": "histogram2dcontour"
           }
          ],
          "mesh3d": [
           {
            "colorbar": {
             "outlinewidth": 0,
             "ticks": ""
            },
            "type": "mesh3d"
           }
          ],
          "parcoords": [
           {
            "line": {
             "colorbar": {
              "outlinewidth": 0,
              "ticks": ""
             }
            },
            "type": "parcoords"
           }
          ],
          "pie": [
           {
            "automargin": true,
            "type": "pie"
           }
          ],
          "scatter": [
           {
            "fillpattern": {
             "fillmode": "overlay",
             "size": 10,
             "solidity": 0.2
            },
            "type": "scatter"
           }
          ],
          "scatter3d": [
           {
            "line": {
             "colorbar": {
              "outlinewidth": 0,
              "ticks": ""
             }
            },
            "marker": {
             "colorbar": {
              "outlinewidth": 0,
              "ticks": ""
             }
            },
            "type": "scatter3d"
           }
          ],
          "scattercarpet": [
           {
            "marker": {
             "colorbar": {
              "outlinewidth": 0,
              "ticks": ""
             }
            },
            "type": "scattercarpet"
           }
          ],
          "scattergeo": [
           {
            "marker": {
             "colorbar": {
              "outlinewidth": 0,
              "ticks": ""
             }
            },
            "type": "scattergeo"
           }
          ],
          "scattergl": [
           {
            "marker": {
             "colorbar": {
              "outlinewidth": 0,
              "ticks": ""
             }
            },
            "type": "scattergl"
           }
          ],
          "scattermapbox": [
           {
            "marker": {
             "colorbar": {
              "outlinewidth": 0,
              "ticks": ""
             }
            },
            "type": "scattermapbox"
           }
          ],
          "scatterpolar": [
           {
            "marker": {
             "colorbar": {
              "outlinewidth": 0,
              "ticks": ""
             }
            },
            "type": "scatterpolar"
           }
          ],
          "scatterpolargl": [
           {
            "marker": {
             "colorbar": {
              "outlinewidth": 0,
              "ticks": ""
             }
            },
            "type": "scatterpolargl"
           }
          ],
          "scatterternary": [
           {
            "marker": {
             "colorbar": {
              "outlinewidth": 0,
              "ticks": ""
             }
            },
            "type": "scatterternary"
           }
          ],
          "surface": [
           {
            "colorbar": {
             "outlinewidth": 0,
             "ticks": ""
            },
            "colorscale": [
             [
              0,
              "#0d0887"
             ],
             [
              0.1111111111111111,
              "#46039f"
             ],
             [
              0.2222222222222222,
              "#7201a8"
             ],
             [
              0.3333333333333333,
              "#9c179e"
             ],
             [
              0.4444444444444444,
              "#bd3786"
             ],
             [
              0.5555555555555556,
              "#d8576b"
             ],
             [
              0.6666666666666666,
              "#ed7953"
             ],
             [
              0.7777777777777778,
              "#fb9f3a"
             ],
             [
              0.8888888888888888,
              "#fdca26"
             ],
             [
              1,
              "#f0f921"
             ]
            ],
            "type": "surface"
           }
          ],
          "table": [
           {
            "cells": {
             "fill": {
              "color": "#EBF0F8"
             },
             "line": {
              "color": "white"
             }
            },
            "header": {
             "fill": {
              "color": "#C8D4E3"
             },
             "line": {
              "color": "white"
             }
            },
            "type": "table"
           }
          ]
         },
         "layout": {
          "annotationdefaults": {
           "arrowcolor": "#2a3f5f",
           "arrowhead": 0,
           "arrowwidth": 1
          },
          "autotypenumbers": "strict",
          "coloraxis": {
           "colorbar": {
            "outlinewidth": 0,
            "ticks": ""
           }
          },
          "colorscale": {
           "diverging": [
            [
             0,
             "#8e0152"
            ],
            [
             0.1,
             "#c51b7d"
            ],
            [
             0.2,
             "#de77ae"
            ],
            [
             0.3,
             "#f1b6da"
            ],
            [
             0.4,
             "#fde0ef"
            ],
            [
             0.5,
             "#f7f7f7"
            ],
            [
             0.6,
             "#e6f5d0"
            ],
            [
             0.7,
             "#b8e186"
            ],
            [
             0.8,
             "#7fbc41"
            ],
            [
             0.9,
             "#4d9221"
            ],
            [
             1,
             "#276419"
            ]
           ],
           "sequential": [
            [
             0,
             "#0d0887"
            ],
            [
             0.1111111111111111,
             "#46039f"
            ],
            [
             0.2222222222222222,
             "#7201a8"
            ],
            [
             0.3333333333333333,
             "#9c179e"
            ],
            [
             0.4444444444444444,
             "#bd3786"
            ],
            [
             0.5555555555555556,
             "#d8576b"
            ],
            [
             0.6666666666666666,
             "#ed7953"
            ],
            [
             0.7777777777777778,
             "#fb9f3a"
            ],
            [
             0.8888888888888888,
             "#fdca26"
            ],
            [
             1,
             "#f0f921"
            ]
           ],
           "sequentialminus": [
            [
             0,
             "#0d0887"
            ],
            [
             0.1111111111111111,
             "#46039f"
            ],
            [
             0.2222222222222222,
             "#7201a8"
            ],
            [
             0.3333333333333333,
             "#9c179e"
            ],
            [
             0.4444444444444444,
             "#bd3786"
            ],
            [
             0.5555555555555556,
             "#d8576b"
            ],
            [
             0.6666666666666666,
             "#ed7953"
            ],
            [
             0.7777777777777778,
             "#fb9f3a"
            ],
            [
             0.8888888888888888,
             "#fdca26"
            ],
            [
             1,
             "#f0f921"
            ]
           ]
          },
          "colorway": [
           "#636efa",
           "#EF553B",
           "#00cc96",
           "#ab63fa",
           "#FFA15A",
           "#19d3f3",
           "#FF6692",
           "#B6E880",
           "#FF97FF",
           "#FECB52"
          ],
          "font": {
           "color": "#2a3f5f"
          },
          "geo": {
           "bgcolor": "white",
           "lakecolor": "white",
           "landcolor": "#E5ECF6",
           "showlakes": true,
           "showland": true,
           "subunitcolor": "white"
          },
          "hoverlabel": {
           "align": "left"
          },
          "hovermode": "closest",
          "mapbox": {
           "style": "light"
          },
          "paper_bgcolor": "white",
          "plot_bgcolor": "#E5ECF6",
          "polar": {
           "angularaxis": {
            "gridcolor": "white",
            "linecolor": "white",
            "ticks": ""
           },
           "bgcolor": "#E5ECF6",
           "radialaxis": {
            "gridcolor": "white",
            "linecolor": "white",
            "ticks": ""
           }
          },
          "scene": {
           "xaxis": {
            "backgroundcolor": "#E5ECF6",
            "gridcolor": "white",
            "gridwidth": 2,
            "linecolor": "white",
            "showbackground": true,
            "ticks": "",
            "zerolinecolor": "white"
           },
           "yaxis": {
            "backgroundcolor": "#E5ECF6",
            "gridcolor": "white",
            "gridwidth": 2,
            "linecolor": "white",
            "showbackground": true,
            "ticks": "",
            "zerolinecolor": "white"
           },
           "zaxis": {
            "backgroundcolor": "#E5ECF6",
            "gridcolor": "white",
            "gridwidth": 2,
            "linecolor": "white",
            "showbackground": true,
            "ticks": "",
            "zerolinecolor": "white"
           }
          },
          "shapedefaults": {
           "line": {
            "color": "#2a3f5f"
           }
          },
          "ternary": {
           "aaxis": {
            "gridcolor": "white",
            "linecolor": "white",
            "ticks": ""
           },
           "baxis": {
            "gridcolor": "white",
            "linecolor": "white",
            "ticks": ""
           },
           "bgcolor": "#E5ECF6",
           "caxis": {
            "gridcolor": "white",
            "linecolor": "white",
            "ticks": ""
           }
          },
          "title": {
           "x": 0.05
          },
          "xaxis": {
           "automargin": true,
           "gridcolor": "white",
           "linecolor": "white",
           "ticks": "",
           "title": {
            "standoff": 15
           },
           "zerolinecolor": "white",
           "zerolinewidth": 2
          },
          "yaxis": {
           "automargin": true,
           "gridcolor": "white",
           "linecolor": "white",
           "ticks": "",
           "title": {
            "standoff": 15
           },
           "zerolinecolor": "white",
           "zerolinewidth": 2
          }
         }
        },
        "width": 800,
        "xaxis": {
         "anchor": "y",
         "autorange": true,
         "domain": [
          0,
          1
         ],
         "range": [
          0,
          57
         ],
         "title": {
          "text": "Epi Week"
         },
         "type": "category"
        },
        "yaxis": {
         "anchor": "x",
         "autorange": true,
         "domain": [
          0,
          1
         ],
         "range": [
          -515.4444444444443,
          10993.444444444445
         ],
         "title": {
          "text": "Number of Tweets"
         },
         "type": "linear"
        }
       }
      },
      "image/png": "[encoded data removed]",
      "text/html": [
       "<div>                            <div id=\"4e3caf00-b7a4-4caa-a0b2-ccf74b3243ec\" class=\"plotly-graph-div\" style=\"height:500px; width:800px;\"></div>            <script type=\"text/javascript\">                require([\"plotly\"], function(Plotly) {                    window.PLOTLYENV=window.PLOTLYENV || {};                                    if (document.getElementById(\"4e3caf00-b7a4-4caa-a0b2-ccf74b3243ec\")) {                    Plotly.newPlot(                        \"4e3caf00-b7a4-4caa-a0b2-ccf74b3243ec\",                        [{\"hovertemplate\":\"Country=Brazil<br>Epi Week=%{x}<br>Number of Tweets=%{y}<extra></extra>\",\"legendgroup\":\"Brazil\",\"line\":{\"color\":\"#636efa\",\"dash\":\"solid\"},\"marker\":{\"symbol\":\"circle\"},\"mode\":\"lines\",\"name\":\"Brazil\",\"orientation\":\"v\",\"showlegend\":true,\"x\":[\"201540\",\"201541\",\"201542\",\"201543\",\"201544\",\"201545\",\"201546\",\"201547\",\"201548\",\"201549\",\"201550\",\"201551\",\"201552\",\"201553\",\"201601\",\"201602\",\"201603\",\"201604\",\"201605\",\"201606\",\"201607\",\"201608\",\"201609\",\"201610\",\"201611\",\"201612\",\"201613\",\"201614\",\"201615\",\"201616\",\"201617\",\"201618\",\"201619\",\"201620\",\"201621\",\"201622\",\"201623\",\"201624\",\"201625\",\"201626\",\"201627\",\"201628\",\"201629\",\"201630\",\"201631\",\"201632\",\"201633\",\"201634\",\"201635\",\"201636\",\"201637\",\"201638\",\"201639\",\"201640\",\"201641\",\"201642\",\"201643\",\"201644\"],\"xaxis\":\"x\",\"y\":[688,1279,1356,965,816,891,971,1232,1153,1109,1275,1480,2192,4230,7362,9352,9587,10418,7197,7165,7318,5074,2853,2160,2549,2526,1397,1152,1150,1105,1213,1103,1206,997,790,930,1003,915,1019,1064,1115,1425,1762,1231,1308,2908,2368,1042,1042,976,963,720,685,819,801,667,593,60],\"yaxis\":\"y\",\"type\":\"scatter\"}],                        {\"template\":{\"data\":{\"histogram2dcontour\":[{\"type\":\"histogram2dcontour\",\"colorbar\":{\"outlinewidth\":0,\"ticks\":\"\"},\"colorscale\":[[0.0,\"#0d0887\"],[0.1111111111111111,\"#46039f\"],[0.2222222222222222,\"#7201a8\"],[0.3333333333333333,\"#9c179e\"],[0.4444444444444444,\"#bd3786\"],[0.5555555555555556,\"#d8576b\"],[0.6666666666666666,\"#ed7953\"],[0.7777777777777778,\"#fb9f3a\"],[0.8888888888888888,\"#fdca26\"],[1.0,\"#f0f921\"]]}],\"choropleth\":[{\"type\":\"choropleth\",\"colorbar\":{\"outlinewidth\":0,\"ticks\":\"\"}}],\"histogram2d\":[{\"type\":\"histogram2d\",\"colorbar\":{\"outlinewidth\":0,\"ticks\":\"\"},\"colorscale\":[[0.0,\"#0d0887\"],[0.1111111111111111,\"#46039f\"],[0.2222222222222222,\"#7201a8\"],[0.3333333333333333,\"#9c179e\"],[0.4444444444444444,\"#bd3786\"],[0.5555555555555556,\"#d8576b\"],[0.6666666666666666,\"#ed7953\"],[0.7777777777777778,\"#fb9f3a\"],[0.8888888888888888,\"#fdca26\"],[1.0,\"#f0f921\"]]}],\"heatmap\":[{\"type\":\"heatmap\",\"colorbar\":{\"outlinewidth\":0,\"ticks\":\"\"},\"colorscale\":[[0.0,\"#0d0887\"],[0.1111111111111111,\"#46039f\"],[0.2222222222222222,\"#7201a8\"],[0.3333333333333333,\"#9c179e\"],[0.4444444444444444,\"#bd3786\"],[0.5555555555555556,\"#d8576b\"],[0.6666666666666666,\"#ed7953\"],[0.7777777777777778,\"#fb9f3a\"],[0.8888888888888888,\"#fdca26\"],[1.0,\"#f0f921\"]]}],\"heatmapgl\":[{\"type\":\"heatmapgl\",\"colorbar\":{\"outlinewidth\":0,\"ticks\":\"\"},\"colorscale\":[[0.0,\"#0d0887\"],[0.1111111111111111,\"#46039f\"],[0.2222222222222222,\"#7201a8\"],[0.3333333333333333,\"#9c179e\"],[0.4444444444444444,\"#bd3786\"],[0.5555555555555556,\"#d8576b\"],[0.6666666666666666,\"#ed7953\"],[0.7777777777777778,\"#fb9f3a\"],[0.8888888888888888,\"#fdca26\"],[1.0,\"#f0f921\"]]}],\"contourcarpet\":[{\"type\":\"contourcarpet\",\"colorbar\":{\"outlinewidth\":0,\"ticks\":\"\"}}],\"contour\":[{\"type\":\"contour\",\"colorbar\":{\"outlinewidth\":0,\"ticks\":\"\"},\"colorscale\":[[0.0,\"#0d0887\"],[0.1111111111111111,\"#46039f\"],[0.2222222222222222,\"#7201a8\"],[0.3333333333333333,\"#9c179e\"],[0.4444444444444444,\"#bd3786\"],[0.5555555555555556,\"#d8576b\"],[0.6666666666666666,\"#ed7953\"],[0.7777777777777778,\"#fb9f3a\"],[0.8888888888888888,\"#fdca26\"],[1.0,\"#f0f921\"]]}],\"surface\":[{\"type\":\"surface\",\"colorbar\":{\"outlinewidth\":0,\"ticks\":\"\"},\"colorscale\":[[0.0,\"#0d0887\"],[0.1111111111111111,\"#46039f\"],[0.2222222222222222,\"#7201a8\"],[0.3333333333333333,\"#9c179e\"],[0.4444444444444444,\"#bd3786\"],[0.5555555555555556,\"#d8576b\"],[0.6666666666666666,\"#ed7953\"],[0.7777777777777778,\"#fb9f3a\"],[0.8888888888888888,\"#fdca26\"],[1.0,\"#f0f921\"]]}],\"mesh3d\":[{\"type\":\"mesh3d\",\"colorbar\":{\"outlinewidth\":0,\"ticks\":\"\"}}],\"scatter\":[{\"fillpattern\":{\"fillmode\":\"overlay\",\"size\":10,\"solidity\":0.2},\"type\":\"scatter\"}],\"parcoords\":[{\"type\":\"parcoords\",\"line\":{\"colorbar\":{\"outlinewidth\":0,\"ticks\":\"\"}}}],\"scatterpolargl\":[{\"type\":\"scatterpolargl\",\"marker\":{\"colorbar\":{\"outlinewidth\":0,\"ticks\":\"\"}}}],\"bar\":[{\"error_x\":{\"color\":\"#2a3f5f\"},\"error_y\":{\"color\":\"#2a3f5f\"},\"marker\":{\"line\":{\"color\":\"#E5ECF6\",\"width\":0.5},\"pattern\":{\"fillmode\":\"overlay\",\"size\":10,\"solidity\":0.2}},\"type\":\"bar\"}],\"scattergeo\":[{\"type\":\"scattergeo\",\"marker\":{\"colorbar\":{\"outlinewidth\":0,\"ticks\":\"\"}}}],\"scatterpolar\":[{\"type\":\"scatterpolar\",\"marker\":{\"colorbar\":{\"outlinewidth\":0,\"ticks\":\"\"}}}],\"histogram\":[{\"marker\":{\"pattern\":{\"fillmode\":\"overlay\",\"size\":10,\"solidity\":0.2}},\"type\":\"histogram\"}],\"scattergl\":[{\"type\":\"scattergl\",\"marker\":{\"colorbar\":{\"outlinewidth\":0,\"ticks\":\"\"}}}],\"scatter3d\":[{\"type\":\"scatter3d\",\"line\":{\"colorbar\":{\"outlinewidth\":0,\"ticks\":\"\"}},\"marker\":{\"colorbar\":{\"outlinewidth\":0,\"ticks\":\"\"}}}],\"scattermapbox\":[{\"type\":\"scattermapbox\",\"marker\":{\"colorbar\":{\"outlinewidth\":0,\"ticks\":\"\"}}}],\"scatterternary\":[{\"type\":\"scatterternary\",\"marker\":{\"colorbar\":{\"outlinewidth\":0,\"ticks\":\"\"}}}],\"scattercarpet\":[{\"type\":\"scattercarpet\",\"marker\":{\"colorbar\":{\"outlinewidth\":0,\"ticks\":\"\"}}}],\"carpet\":[{\"aaxis\":{\"endlinecolor\":\"#2a3f5f\",\"gridcolor\":\"white\",\"linecolor\":\"white\",\"minorgridcolor\":\"white\",\"startlinecolor\":\"#2a3f5f\"},\"baxis\":{\"endlinecolor\":\"#2a3f5f\",\"gridcolor\":\"white\",\"linecolor\":\"white\",\"minorgridcolor\":\"white\",\"startlinecolor\":\"#2a3f5f\"},\"type\":\"carpet\"}],\"table\":[{\"cells\":{\"fill\":{\"color\":\"#EBF0F8\"},\"line\":{\"color\":\"white\"}},\"header\":{\"fill\":{\"color\":\"#C8D4E3\"},\"line\":{\"color\":\"white\"}},\"type\":\"table\"}],\"barpolar\":[{\"marker\":{\"line\":{\"color\":\"#E5ECF6\",\"width\":0.5},\"pattern\":{\"fillmode\":\"overlay\",\"size\":10,\"solidity\":0.2}},\"type\":\"barpolar\"}],\"pie\":[{\"automargin\":true,\"type\":\"pie\"}]},\"layout\":{\"autotypenumbers\":\"strict\",\"colorway\":[\"#636efa\",\"#EF553B\",\"#00cc96\",\"#ab63fa\",\"#FFA15A\",\"#19d3f3\",\"#FF6692\",\"#B6E880\",\"#FF97FF\",\"#FECB52\"],\"font\":{\"color\":\"#2a3f5f\"},\"hovermode\":\"closest\",\"hoverlabel\":{\"align\":\"left\"},\"paper_bgcolor\":\"white\",\"plot_bgcolor\":\"#E5ECF6\",\"polar\":{\"bgcolor\":\"#E5ECF6\",\"angularaxis\":{\"gridcolor\":\"white\",\"linecolor\":\"white\",\"ticks\":\"\"},\"radialaxis\":{\"gridcolor\":\"white\",\"linecolor\":\"white\",\"ticks\":\"\"}},\"ternary\":{\"bgcolor\":\"#E5ECF6\",\"aaxis\":{\"gridcolor\":\"white\",\"linecolor\":\"white\",\"ticks\":\"\"},\"baxis\":{\"gridcolor\":\"white\",\"linecolor\":\"white\",\"ticks\":\"\"},\"caxis\":{\"gridcolor\":\"white\",\"linecolor\":\"white\",\"ticks\":\"\"}},\"coloraxis\":{\"colorbar\":{\"outlinewidth\":0,\"ticks\":\"\"}},\"colorscale\":{\"sequential\":[[0.0,\"#0d0887\"],[0.1111111111111111,\"#46039f\"],[0.2222222222222222,\"#7201a8\"],[0.3333333333333333,\"#9c179e\"],[0.4444444444444444,\"#bd3786\"],[0.5555555555555556,\"#d8576b\"],[0.6666666666666666,\"#ed7953\"],[0.7777777777777778,\"#fb9f3a\"],[0.8888888888888888,\"#fdca26\"],[1.0,\"#f0f921\"]],\"sequentialminus\":[[0.0,\"#0d0887\"],[0.1111111111111111,\"#46039f\"],[0.2222222222222222,\"#7201a8\"],[0.3333333333333333,\"#9c179e\"],[0.4444444444444444,\"#bd3786\"],[0.5555555555555556,\"#d8576b\"],[0.6666666666666666,\"#ed7953\"],[0.7777777777777778,\"#fb9f3a\"],[0.8888888888888888,\"#fdca26\"],[1.0,\"#f0f921\"]],\"diverging\":[[0,\"#8e0152\"],[0.1,\"#c51b7d\"],[0.2,\"#de77ae\"],[0.3,\"#f1b6da\"],[0.4,\"#fde0ef\"],[0.5,\"#f7f7f7\"],[0.6,\"#e6f5d0\"],[0.7,\"#b8e186\"],[0.8,\"#7fbc41\"],[0.9,\"#4d9221\"],[1,\"#276419\"]]},\"xaxis\":{\"gridcolor\":\"white\",\"linecolor\":\"white\",\"ticks\":\"\",\"title\":{\"standoff\":15},\"zerolinecolor\":\"white\",\"automargin\":true,\"zerolinewidth\":2},\"yaxis\":{\"gridcolor\":\"white\",\"linecolor\":\"white\",\"ticks\":\"\",\"title\":{\"standoff\":15},\"zerolinecolor\":\"white\",\"automargin\":true,\"zerolinewidth\":2},\"scene\":{\"xaxis\":{\"backgroundcolor\":\"#E5ECF6\",\"gridcolor\":\"white\",\"linecolor\":\"white\",\"showbackground\":true,\"ticks\":\"\",\"zerolinecolor\":\"white\",\"gridwidth\":2},\"yaxis\":{\"backgroundcolor\":\"#E5ECF6\",\"gridcolor\":\"white\",\"linecolor\":\"white\",\"showbackground\":true,\"ticks\":\"\",\"zerolinecolor\":\"white\",\"gridwidth\":2},\"zaxis\":{\"backgroundcolor\":\"#E5ECF6\",\"gridcolor\":\"white\",\"linecolor\":\"white\",\"showbackground\":true,\"ticks\":\"\",\"zerolinecolor\":\"white\",\"gridwidth\":2}},\"shapedefaults\":{\"line\":{\"color\":\"#2a3f5f\"}},\"annotationdefaults\":{\"arrowcolor\":\"#2a3f5f\",\"arrowhead\":0,\"arrowwidth\":1},\"geo\":{\"bgcolor\":\"white\",\"landcolor\":\"#E5ECF6\",\"subunitcolor\":\"white\",\"showland\":true,\"showlakes\":true,\"lakecolor\":\"white\"},\"title\":{\"x\":0.05},\"mapbox\":{\"style\":\"light\"}}},\"xaxis\":{\"anchor\":\"y\",\"domain\":[0.0,1.0],\"title\":{\"text\":\"Epi Week\"}},\"yaxis\":{\"anchor\":\"x\",\"domain\":[0.0,1.0],\"title\":{\"text\":\"Number of Tweets\"}},\"legend\":{\"title\":{\"text\":\"Country\"},\"tracegroupgap\":0},\"margin\":{\"t\":60},\"height\":500,\"width\":800},                        {\"responsive\": true}                    ).then(function(){\n",
       "                            \n",
       "var gd = document.getElementById('4e3caf00-b7a4-4caa-a0b2-ccf74b3243ec');\n",
       "var x = new MutationObserver(function (mutations, observer) {{\n",
       "        var display = window.getComputedStyle(gd).display;\n",
       "        if (!display || display === 'none') {{\n",
       "            console.log([gd, 'removed!']);\n",
       "            Plotly.purge(gd);\n",
       "            observer.disconnect();\n",
       "        }}\n",
       "}});\n",
       "\n",
       "// Listen for the removal of the full notebook cells\n",
       "var notebookContainer = gd.closest('#notebook-container');\n",
       "if (notebookContainer) {{\n",
       "    x.observe(notebookContainer, {childList: true});\n",
       "}}\n",
       "\n",
       "// Listen for the clearing of the current output cell\n",
       "var outputEl = gd.closest('.output');\n",
       "if (outputEl) {{\n",
       "    x.observe(outputEl, {childList: true});\n",
       "}}\n",
       "\n",
       "                        })                };                });            </script>        </div>"
      ]
     },
     "metadata": {},
     "output_type": "display_data"
    }
   ],
   "source": [
    "# Brazil over Epi Weeks - tweets\n",
    "\n",
    "from itertools import product\n",
    "import matplotlib.pyplot as plt\n",
    "\n",
    "#top_20 = common_countries.reset_index().rename({\"country\":\"counts\",\n",
    "#                                                \"index\":\"country\"},axis=1).loc[0:6,\"country\"].tolist()\n",
    "#df.place_country.value_counts().rename_axis('unique_values').reset_index(name='counts')\n",
    "#top_20 = top_20.loc[,0:20]\n",
    "#top_20 = top_20.loc[0:20, \"unique_values\"].tolist()\n",
    "#top_20\n",
    "\n",
    "import plotly.express as px\n",
    "\n",
    "loc_p = df[((df.place_country == \"Brazil\"))]\n",
    "loc_p = loc_p.groupby(['place_country', \"epi_week\"])[\"id\"].count().reset_index(name='counts')\n",
    "loc_p = loc_p.sort_values([\"epi_week\"], ascending=True).reset_index(drop=True)\n",
    "\n",
    "loc_temp = pd.DataFrame(list(product(loc_p.place_country.unique(), loc_p.epi_week.unique())), columns=['place_country', 'epi_week'])\n",
    "loc_temp[\"counts\"] = 0\n",
    "\n",
    "loc_p = pd.concat([loc_p, loc_temp]).drop_duplicates([\"place_country\", \"epi_week\"])#, ignore_index=True)\n",
    "loc_p = loc_p.sort_values([\"epi_week\"], ascending=True)\n",
    "\n",
    "#only_loc_p = df_loc[df_loc.place_country.isin(top_20)]\n",
    "#only_loc_p = only_loc_p.groupby(['place_country', \"epi_week\"])[\"id\"].count().reset_index(name='counts')\n",
    "# plot pie chart\n",
    "\n",
    "fig = px.line(loc_p, x=\"epi_week\", y=\"counts\", color=\"place_country\",\n",
    "                 labels={\n",
    "                     \"epi_week\": \"Epi Week\",\n",
    "                     \"counts\": \"Number of Tweets\",\n",
    "                     \"place_country\": \"Country\"},\n",
    "             width=800,\n",
    "             height=500)\n",
    "\n",
    "fig.write_image(\"geotagged_tweets_brazil_epi_week.png\")\n",
    "fig.write_html(\"html/geotagged_tweets_brazil_epi_week.html\")\n",
    "fig.show()"
   ]
  },
  {
   "cell_type": "code",
   "execution_count": 60,
   "id": "3597d754-a574-4b14-921d-080ae539f7b6",
   "metadata": {
    "tags": []
   },
   "outputs": [
    {
     "data": {
      "text/html": [
       "<div>\n",
       "<style scoped>\n",
       "    .dataframe tbody tr th:only-of-type {\n",
       "        vertical-align: middle;\n",
       "    }\n",
       "\n",
       "    .dataframe tbody tr th {\n",
       "        vertical-align: top;\n",
       "    }\n",
       "\n",
       "    .dataframe thead th {\n",
       "        text-align: right;\n",
       "    }\n",
       "</style>\n",
       "<table border=\"1\" class=\"dataframe\">\n",
       "  <thead>\n",
       "    <tr style=\"text-align: right;\">\n",
       "      <th></th>\n",
       "      <th>place_country</th>\n",
       "      <th>epi_week</th>\n",
       "      <th>counts</th>\n",
       "    </tr>\n",
       "  </thead>\n",
       "  <tbody>\n",
       "    <tr>\n",
       "      <th>7</th>\n",
       "      <td>Brazil</td>\n",
       "      <td>201540</td>\n",
       "      <td>94</td>\n",
       "    </tr>\n",
       "    <tr>\n",
       "      <th>9</th>\n",
       "      <td>Spain</td>\n",
       "      <td>201540</td>\n",
       "      <td>57</td>\n",
       "    </tr>\n",
       "    <tr>\n",
       "      <th>20</th>\n",
       "      <td>Chile</td>\n",
       "      <td>201540</td>\n",
       "      <td>75</td>\n",
       "    </tr>\n",
       "    <tr>\n",
       "      <th>25</th>\n",
       "      <td>Uruguay</td>\n",
       "      <td>201540</td>\n",
       "      <td>51</td>\n",
       "    </tr>\n",
       "    <tr>\n",
       "      <th>26</th>\n",
       "      <td>United States</td>\n",
       "      <td>201540</td>\n",
       "      <td>157</td>\n",
       "    </tr>\n",
       "    <tr>\n",
       "      <th>...</th>\n",
       "      <td>...</td>\n",
       "      <td>...</td>\n",
       "      <td>...</td>\n",
       "    </tr>\n",
       "    <tr>\n",
       "      <th>6712</th>\n",
       "      <td>Argentina</td>\n",
       "      <td>201644</td>\n",
       "      <td>17297</td>\n",
       "    </tr>\n",
       "    <tr>\n",
       "      <th>6741</th>\n",
       "      <td>United States</td>\n",
       "      <td>201644</td>\n",
       "      <td>68</td>\n",
       "    </tr>\n",
       "    <tr>\n",
       "      <th>6743</th>\n",
       "      <td>Mexico</td>\n",
       "      <td>201644</td>\n",
       "      <td>21</td>\n",
       "    </tr>\n",
       "    <tr>\n",
       "      <th>6749</th>\n",
       "      <td>Brazil</td>\n",
       "      <td>201644</td>\n",
       "      <td>32</td>\n",
       "    </tr>\n",
       "    <tr>\n",
       "      <th>6753</th>\n",
       "      <td>Uruguay</td>\n",
       "      <td>201644</td>\n",
       "      <td>24</td>\n",
       "    </tr>\n",
       "  </tbody>\n",
       "</table>\n",
       "<p>406 rows × 3 columns</p>\n",
       "</div>"
      ],
      "text/plain": [
       "      place_country epi_week  counts\n",
       "7            Brazil   201540      94\n",
       "9             Spain   201540      57\n",
       "20            Chile   201540      75\n",
       "25          Uruguay   201540      51\n",
       "26    United States   201540     157\n",
       "...             ...      ...     ...\n",
       "6712      Argentina   201644   17297\n",
       "6741  United States   201644      68\n",
       "6743         Mexico   201644      21\n",
       "6749         Brazil   201644      32\n",
       "6753        Uruguay   201644      24\n",
       "\n",
       "[406 rows x 3 columns]"
      ]
     },
     "execution_count": 60,
     "metadata": {},
     "output_type": "execute_result"
    }
   ],
   "source": [
    "cepi[(cepi.place_country.isin(top_20))]"
   ]
  },
  {
   "cell_type": "code",
   "execution_count": 66,
   "id": "69bdce71-c59e-4b98-b4b0-d7e276d39204",
   "metadata": {},
   "outputs": [
    {
     "data": {
      "application/vnd.plotly.v1+json": {
       "config": {
        "plotlyServerURL": "https://plot.ly"
       },
       "data": [
        {
         "hovertemplate": "Country=Brazil<br>Epi Week=%{x}<br>Number of Users in Country=%{y}<extra></extra>",
         "legendgroup": "Brazil",
         "line": {
          "color": "#636efa",
          "dash": "solid"
         },
         "marker": {
          "symbol": "circle"
         },
         "mode": "lines",
         "name": "Brazil",
         "orientation": "v",
         "showlegend": true,
         "type": "scatter",
         "x": [
          "201540",
          "201541",
          "201542",
          "201543",
          "201544",
          "201545",
          "201546",
          "201547",
          "201548",
          "201549",
          "201550",
          "201551",
          "201552",
          "201553",
          "201601",
          "201602",
          "201603",
          "201604",
          "201605",
          "201606",
          "201607",
          "201608",
          "201609",
          "201610",
          "201611",
          "201612",
          "201613",
          "201614",
          "201615",
          "201616",
          "201617",
          "201618",
          "201619",
          "201620",
          "201621",
          "201622",
          "201623",
          "201624",
          "201625",
          "201626",
          "201627",
          "201628",
          "201629",
          "201630",
          "201631",
          "201632",
          "201633",
          "201634",
          "201635",
          "201636",
          "201637",
          "201638",
          "201639",
          "201640",
          "201641",
          "201642",
          "201643",
          "201644"
         ],
         "xaxis": "x",
         "y": [
          94,
          146,
          170,
          140,
          116,
          140,
          167,
          146,
          148,
          154,
          155,
          172,
          250,
          408,
          662,
          899,
          995,
          937,
          764,
          693,
          634,
          528,
          385,
          314,
          277,
          300,
          249,
          183,
          176,
          148,
          170,
          158,
          170,
          128,
          110,
          113,
          148,
          172,
          157,
          145,
          150,
          191,
          213,
          199,
          199,
          248,
          228,
          176,
          152,
          172,
          139,
          150,
          146,
          174,
          180,
          142,
          141,
          32
         ],
         "yaxis": "y"
        },
        {
         "hovertemplate": "Country=Spain<br>Epi Week=%{x}<br>Number of Users in Country=%{y}<extra></extra>",
         "legendgroup": "Spain",
         "line": {
          "color": "#EF553B",
          "dash": "solid"
         },
         "marker": {
          "symbol": "circle"
         },
         "mode": "lines",
         "name": "Spain",
         "orientation": "v",
         "showlegend": true,
         "type": "scatter",
         "x": [
          "201540",
          "201541",
          "201542",
          "201543",
          "201544",
          "201545",
          "201546",
          "201547",
          "201548",
          "201549",
          "201550",
          "201551",
          "201552",
          "201553",
          "201601",
          "201602",
          "201603",
          "201604",
          "201605",
          "201606",
          "201607",
          "201608",
          "201609",
          "201610",
          "201611",
          "201612",
          "201613",
          "201614",
          "201615",
          "201616",
          "201617",
          "201618",
          "201619",
          "201620",
          "201621",
          "201622",
          "201623",
          "201624",
          "201625",
          "201626",
          "201627",
          "201628",
          "201629",
          "201630",
          "201631",
          "201632",
          "201633",
          "201634",
          "201635",
          "201636",
          "201637",
          "201638",
          "201639",
          "201640",
          "201641",
          "201642",
          "201643",
          "201644"
         ],
         "xaxis": "x",
         "y": [
          57,
          72,
          79,
          59,
          74,
          79,
          74,
          87,
          59,
          76,
          66,
          87,
          71,
          93,
          89,
          90,
          104,
          95,
          101,
          102,
          100,
          100,
          86,
          86,
          92,
          92,
          99,
          74,
          90,
          76,
          89,
          78,
          79,
          84,
          75,
          88,
          89,
          102,
          104,
          107,
          101,
          108,
          109,
          112,
          114,
          112,
          105,
          102,
          98,
          111,
          93,
          106,
          97,
          95,
          97,
          98,
          86,
          25
         ],
         "yaxis": "y"
        },
        {
         "hovertemplate": "Country=Chile<br>Epi Week=%{x}<br>Number of Users in Country=%{y}<extra></extra>",
         "legendgroup": "Chile",
         "line": {
          "color": "#00cc96",
          "dash": "solid"
         },
         "marker": {
          "symbol": "circle"
         },
         "mode": "lines",
         "name": "Chile",
         "orientation": "v",
         "showlegend": true,
         "type": "scatter",
         "x": [
          "201540",
          "201541",
          "201542",
          "201543",
          "201544",
          "201545",
          "201546",
          "201547",
          "201548",
          "201549",
          "201550",
          "201551",
          "201552",
          "201553",
          "201601",
          "201602",
          "201603",
          "201604",
          "201605",
          "201606",
          "201607",
          "201608",
          "201609",
          "201610",
          "201611",
          "201612",
          "201613",
          "201614",
          "201615",
          "201616",
          "201617",
          "201618",
          "201619",
          "201620",
          "201621",
          "201622",
          "201623",
          "201624",
          "201625",
          "201626",
          "201627",
          "201628",
          "201629",
          "201630",
          "201631",
          "201632",
          "201633",
          "201634",
          "201635",
          "201636",
          "201637",
          "201638",
          "201639",
          "201640",
          "201641",
          "201642",
          "201643",
          "201644"
         ],
         "xaxis": "x",
         "y": [
          75,
          106,
          131,
          103,
          100,
          110,
          101,
          107,
          122,
          118,
          116,
          107,
          132,
          199,
          243,
          313,
          325,
          316,
          259,
          249,
          214,
          175,
          151,
          141,
          128,
          201,
          152,
          133,
          113,
          110,
          109,
          112,
          83,
          106,
          87,
          91,
          100,
          111,
          109,
          92,
          122,
          138,
          179,
          128,
          119,
          126,
          125,
          105,
          103,
          105,
          109,
          107,
          118,
          125,
          148,
          100,
          117,
          29
         ],
         "yaxis": "y"
        },
        {
         "hovertemplate": "Country=Uruguay<br>Epi Week=%{x}<br>Number of Users in Country=%{y}<extra></extra>",
         "legendgroup": "Uruguay",
         "line": {
          "color": "#ab63fa",
          "dash": "solid"
         },
         "marker": {
          "symbol": "circle"
         },
         "mode": "lines",
         "name": "Uruguay",
         "orientation": "v",
         "showlegend": true,
         "type": "scatter",
         "x": [
          "201540",
          "201541",
          "201542",
          "201543",
          "201544",
          "201545",
          "201546",
          "201547",
          "201548",
          "201549",
          "201550",
          "201551",
          "201552",
          "201553",
          "201601",
          "201602",
          "201603",
          "201604",
          "201605",
          "201606",
          "201607",
          "201608",
          "201609",
          "201610",
          "201611",
          "201612",
          "201613",
          "201614",
          "201615",
          "201616",
          "201617",
          "201618",
          "201619",
          "201620",
          "201621",
          "201622",
          "201623",
          "201624",
          "201625",
          "201626",
          "201627",
          "201628",
          "201629",
          "201630",
          "201631",
          "201632",
          "201633",
          "201634",
          "201635",
          "201636",
          "201637",
          "201638",
          "201639",
          "201640",
          "201641",
          "201642",
          "201643",
          "201644"
         ],
         "xaxis": "x",
         "y": [
          51,
          72,
          82,
          56,
          72,
          58,
          64,
          73,
          82,
          103,
          95,
          83,
          131,
          249,
          267,
          269,
          233,
          230,
          222,
          241,
          181,
          136,
          102,
          78,
          81,
          159,
          94,
          62,
          58,
          57,
          63,
          59,
          77,
          58,
          47,
          52,
          38,
          70,
          68,
          44,
          60,
          77,
          93,
          88,
          52,
          53,
          47,
          43,
          50,
          65,
          69,
          67,
          59,
          73,
          79,
          56,
          62,
          24
         ],
         "yaxis": "y"
        },
        {
         "hovertemplate": "Country=United States<br>Epi Week=%{x}<br>Number of Users in Country=%{y}<extra></extra>",
         "legendgroup": "United States",
         "line": {
          "color": "#FFA15A",
          "dash": "solid"
         },
         "marker": {
          "symbol": "circle"
         },
         "mode": "lines",
         "name": "United States",
         "orientation": "v",
         "showlegend": true,
         "type": "scatter",
         "x": [
          "201540",
          "201541",
          "201542",
          "201543",
          "201544",
          "201545",
          "201546",
          "201547",
          "201548",
          "201549",
          "201550",
          "201551",
          "201552",
          "201553",
          "201601",
          "201602",
          "201603",
          "201604",
          "201605",
          "201606",
          "201607",
          "201608",
          "201609",
          "201610",
          "201611",
          "201612",
          "201613",
          "201614",
          "201615",
          "201616",
          "201617",
          "201618",
          "201619",
          "201620",
          "201621",
          "201622",
          "201623",
          "201624",
          "201625",
          "201626",
          "201627",
          "201628",
          "201629",
          "201630",
          "201631",
          "201632",
          "201633",
          "201634",
          "201635",
          "201636",
          "201637",
          "201638",
          "201639",
          "201640",
          "201641",
          "201642",
          "201643",
          "201644"
         ],
         "xaxis": "x",
         "y": [
          157,
          239,
          269,
          273,
          260,
          252,
          222,
          244,
          227,
          253,
          255,
          233,
          256,
          298,
          307,
          309,
          287,
          332,
          349,
          375,
          488,
          390,
          325,
          309,
          303,
          320,
          299,
          277,
          269,
          258,
          273,
          247,
          272,
          263,
          231,
          261,
          295,
          286,
          320,
          325,
          339,
          394,
          422,
          365,
          306,
          242,
          262,
          264,
          276,
          271,
          262,
          249,
          269,
          281,
          303,
          244,
          234,
          68
         ],
         "yaxis": "y"
        },
        {
         "hovertemplate": "Country=Mexico<br>Epi Week=%{x}<br>Number of Users in Country=%{y}<extra></extra>",
         "legendgroup": "Mexico",
         "line": {
          "color": "#19d3f3",
          "dash": "solid"
         },
         "marker": {
          "symbol": "circle"
         },
         "mode": "lines",
         "name": "Mexico",
         "orientation": "v",
         "showlegend": true,
         "type": "scatter",
         "x": [
          "201540",
          "201541",
          "201542",
          "201543",
          "201544",
          "201545",
          "201546",
          "201547",
          "201548",
          "201549",
          "201550",
          "201551",
          "201552",
          "201553",
          "201601",
          "201602",
          "201603",
          "201604",
          "201605",
          "201606",
          "201607",
          "201608",
          "201609",
          "201610",
          "201611",
          "201612",
          "201613",
          "201614",
          "201615",
          "201616",
          "201617",
          "201618",
          "201619",
          "201620",
          "201621",
          "201622",
          "201623",
          "201624",
          "201625",
          "201626",
          "201627",
          "201628",
          "201629",
          "201630",
          "201631",
          "201632",
          "201633",
          "201634",
          "201635",
          "201636",
          "201637",
          "201638",
          "201639",
          "201640",
          "201641",
          "201642",
          "201643",
          "201644"
         ],
         "xaxis": "x",
         "y": [
          32,
          62,
          61,
          52,
          66,
          74,
          58,
          70,
          67,
          70,
          75,
          63,
          68,
          81,
          77,
          82,
          85,
          83,
          80,
          71,
          85,
          80,
          94,
          86,
          94,
          86,
          87,
          80,
          74,
          75,
          75,
          84,
          74,
          71,
          62,
          77,
          80,
          95,
          98,
          97,
          99,
          101,
          94,
          96,
          87,
          85,
          83,
          79,
          84,
          72,
          79,
          96,
          80,
          82,
          66,
          87,
          78,
          21
         ],
         "yaxis": "y"
        }
       ],
       "layout": {
        "height": 500,
        "legend": {
         "title": {
          "text": "Country"
         },
         "tracegroupgap": 0
        },
        "margin": {
         "t": 60
        },
        "template": {
         "data": {
          "bar": [
           {
            "error_x": {
             "color": "#2a3f5f"
            },
            "error_y": {
             "color": "#2a3f5f"
            },
            "marker": {
             "line": {
              "color": "#E5ECF6",
              "width": 0.5
             },
             "pattern": {
              "fillmode": "overlay",
              "size": 10,
              "solidity": 0.2
             }
            },
            "type": "bar"
           }
          ],
          "barpolar": [
           {
            "marker": {
             "line": {
              "color": "#E5ECF6",
              "width": 0.5
             },
             "pattern": {
              "fillmode": "overlay",
              "size": 10,
              "solidity": 0.2
             }
            },
            "type": "barpolar"
           }
          ],
          "carpet": [
           {
            "aaxis": {
             "endlinecolor": "#2a3f5f",
             "gridcolor": "white",
             "linecolor": "white",
             "minorgridcolor": "white",
             "startlinecolor": "#2a3f5f"
            },
            "baxis": {
             "endlinecolor": "#2a3f5f",
             "gridcolor": "white",
             "linecolor": "white",
             "minorgridcolor": "white",
             "startlinecolor": "#2a3f5f"
            },
            "type": "carpet"
           }
          ],
          "choropleth": [
           {
            "colorbar": {
             "outlinewidth": 0,
             "ticks": ""
            },
            "type": "choropleth"
           }
          ],
          "contour": [
           {
            "colorbar": {
             "outlinewidth": 0,
             "ticks": ""
            },
            "colorscale": [
             [
              0,
              "#0d0887"
             ],
             [
              0.1111111111111111,
              "#46039f"
             ],
             [
              0.2222222222222222,
              "#7201a8"
             ],
             [
              0.3333333333333333,
              "#9c179e"
             ],
             [
              0.4444444444444444,
              "#bd3786"
             ],
             [
              0.5555555555555556,
              "#d8576b"
             ],
             [
              0.6666666666666666,
              "#ed7953"
             ],
             [
              0.7777777777777778,
              "#fb9f3a"
             ],
             [
              0.8888888888888888,
              "#fdca26"
             ],
             [
              1,
              "#f0f921"
             ]
            ],
            "type": "contour"
           }
          ],
          "contourcarpet": [
           {
            "colorbar": {
             "outlinewidth": 0,
             "ticks": ""
            },
            "type": "contourcarpet"
           }
          ],
          "heatmap": [
           {
            "colorbar": {
             "outlinewidth": 0,
             "ticks": ""
            },
            "colorscale": [
             [
              0,
              "#0d0887"
             ],
             [
              0.1111111111111111,
              "#46039f"
             ],
             [
              0.2222222222222222,
              "#7201a8"
             ],
             [
              0.3333333333333333,
              "#9c179e"
             ],
             [
              0.4444444444444444,
              "#bd3786"
             ],
             [
              0.5555555555555556,
              "#d8576b"
             ],
             [
              0.6666666666666666,
              "#ed7953"
             ],
             [
              0.7777777777777778,
              "#fb9f3a"
             ],
             [
              0.8888888888888888,
              "#fdca26"
             ],
             [
              1,
              "#f0f921"
             ]
            ],
            "type": "heatmap"
           }
          ],
          "heatmapgl": [
           {
            "colorbar": {
             "outlinewidth": 0,
             "ticks": ""
            },
            "colorscale": [
             [
              0,
              "#0d0887"
             ],
             [
              0.1111111111111111,
              "#46039f"
             ],
             [
              0.2222222222222222,
              "#7201a8"
             ],
             [
              0.3333333333333333,
              "#9c179e"
             ],
             [
              0.4444444444444444,
              "#bd3786"
             ],
             [
              0.5555555555555556,
              "#d8576b"
             ],
             [
              0.6666666666666666,
              "#ed7953"
             ],
             [
              0.7777777777777778,
              "#fb9f3a"
             ],
             [
              0.8888888888888888,
              "#fdca26"
             ],
             [
              1,
              "#f0f921"
             ]
            ],
            "type": "heatmapgl"
           }
          ],
          "histogram": [
           {
            "marker": {
             "pattern": {
              "fillmode": "overlay",
              "size": 10,
              "solidity": 0.2
             }
            },
            "type": "histogram"
           }
          ],
          "histogram2d": [
           {
            "colorbar": {
             "outlinewidth": 0,
             "ticks": ""
            },
            "colorscale": [
             [
              0,
              "#0d0887"
             ],
             [
              0.1111111111111111,
              "#46039f"
             ],
             [
              0.2222222222222222,
              "#7201a8"
             ],
             [
              0.3333333333333333,
              "#9c179e"
             ],
             [
              0.4444444444444444,
              "#bd3786"
             ],
             [
              0.5555555555555556,
              "#d8576b"
             ],
             [
              0.6666666666666666,
              "#ed7953"
             ],
             [
              0.7777777777777778,
              "#fb9f3a"
             ],
             [
              0.8888888888888888,
              "#fdca26"
             ],
             [
              1,
              "#f0f921"
             ]
            ],
            "type": "histogram2d"
           }
          ],
          "histogram2dcontour": [
           {
            "colorbar": {
             "outlinewidth": 0,
             "ticks": ""
            },
            "colorscale": [
             [
              0,
              "#0d0887"
             ],
             [
              0.1111111111111111,
              "#46039f"
             ],
             [
              0.2222222222222222,
              "#7201a8"
             ],
             [
              0.3333333333333333,
              "#9c179e"
             ],
             [
              0.4444444444444444,
              "#bd3786"
             ],
             [
              0.5555555555555556,
              "#d8576b"
             ],
             [
              0.6666666666666666,
              "#ed7953"
             ],
             [
              0.7777777777777778,
              "#fb9f3a"
             ],
             [
              0.8888888888888888,
              "#fdca26"
             ],
             [
              1,
              "#f0f921"
             ]
            ],
            "type": "histogram2dcontour"
           }
          ],
          "mesh3d": [
           {
            "colorbar": {
             "outlinewidth": 0,
             "ticks": ""
            },
            "type": "mesh3d"
           }
          ],
          "parcoords": [
           {
            "line": {
             "colorbar": {
              "outlinewidth": 0,
              "ticks": ""
             }
            },
            "type": "parcoords"
           }
          ],
          "pie": [
           {
            "automargin": true,
            "type": "pie"
           }
          ],
          "scatter": [
           {
            "fillpattern": {
             "fillmode": "overlay",
             "size": 10,
             "solidity": 0.2
            },
            "type": "scatter"
           }
          ],
          "scatter3d": [
           {
            "line": {
             "colorbar": {
              "outlinewidth": 0,
              "ticks": ""
             }
            },
            "marker": {
             "colorbar": {
              "outlinewidth": 0,
              "ticks": ""
             }
            },
            "type": "scatter3d"
           }
          ],
          "scattercarpet": [
           {
            "marker": {
             "colorbar": {
              "outlinewidth": 0,
              "ticks": ""
             }
            },
            "type": "scattercarpet"
           }
          ],
          "scattergeo": [
           {
            "marker": {
             "colorbar": {
              "outlinewidth": 0,
              "ticks": ""
             }
            },
            "type": "scattergeo"
           }
          ],
          "scattergl": [
           {
            "marker": {
             "colorbar": {
              "outlinewidth": 0,
              "ticks": ""
             }
            },
            "type": "scattergl"
           }
          ],
          "scattermapbox": [
           {
            "marker": {
             "colorbar": {
              "outlinewidth": 0,
              "ticks": ""
             }
            },
            "type": "scattermapbox"
           }
          ],
          "scatterpolar": [
           {
            "marker": {
             "colorbar": {
              "outlinewidth": 0,
              "ticks": ""
             }
            },
            "type": "scatterpolar"
           }
          ],
          "scatterpolargl": [
           {
            "marker": {
             "colorbar": {
              "outlinewidth": 0,
              "ticks": ""
             }
            },
            "type": "scatterpolargl"
           }
          ],
          "scatterternary": [
           {
            "marker": {
             "colorbar": {
              "outlinewidth": 0,
              "ticks": ""
             }
            },
            "type": "scatterternary"
           }
          ],
          "surface": [
           {
            "colorbar": {
             "outlinewidth": 0,
             "ticks": ""
            },
            "colorscale": [
             [
              0,
              "#0d0887"
             ],
             [
              0.1111111111111111,
              "#46039f"
             ],
             [
              0.2222222222222222,
              "#7201a8"
             ],
             [
              0.3333333333333333,
              "#9c179e"
             ],
             [
              0.4444444444444444,
              "#bd3786"
             ],
             [
              0.5555555555555556,
              "#d8576b"
             ],
             [
              0.6666666666666666,
              "#ed7953"
             ],
             [
              0.7777777777777778,
              "#fb9f3a"
             ],
             [
              0.8888888888888888,
              "#fdca26"
             ],
             [
              1,
              "#f0f921"
             ]
            ],
            "type": "surface"
           }
          ],
          "table": [
           {
            "cells": {
             "fill": {
              "color": "#EBF0F8"
             },
             "line": {
              "color": "white"
             }
            },
            "header": {
             "fill": {
              "color": "#C8D4E3"
             },
             "line": {
              "color": "white"
             }
            },
            "type": "table"
           }
          ]
         },
         "layout": {
          "annotationdefaults": {
           "arrowcolor": "#2a3f5f",
           "arrowhead": 0,
           "arrowwidth": 1
          },
          "autotypenumbers": "strict",
          "coloraxis": {
           "colorbar": {
            "outlinewidth": 0,
            "ticks": ""
           }
          },
          "colorscale": {
           "diverging": [
            [
             0,
             "#8e0152"
            ],
            [
             0.1,
             "#c51b7d"
            ],
            [
             0.2,
             "#de77ae"
            ],
            [
             0.3,
             "#f1b6da"
            ],
            [
             0.4,
             "#fde0ef"
            ],
            [
             0.5,
             "#f7f7f7"
            ],
            [
             0.6,
             "#e6f5d0"
            ],
            [
             0.7,
             "#b8e186"
            ],
            [
             0.8,
             "#7fbc41"
            ],
            [
             0.9,
             "#4d9221"
            ],
            [
             1,
             "#276419"
            ]
           ],
           "sequential": [
            [
             0,
             "#0d0887"
            ],
            [
             0.1111111111111111,
             "#46039f"
            ],
            [
             0.2222222222222222,
             "#7201a8"
            ],
            [
             0.3333333333333333,
             "#9c179e"
            ],
            [
             0.4444444444444444,
             "#bd3786"
            ],
            [
             0.5555555555555556,
             "#d8576b"
            ],
            [
             0.6666666666666666,
             "#ed7953"
            ],
            [
             0.7777777777777778,
             "#fb9f3a"
            ],
            [
             0.8888888888888888,
             "#fdca26"
            ],
            [
             1,
             "#f0f921"
            ]
           ],
           "sequentialminus": [
            [
             0,
             "#0d0887"
            ],
            [
             0.1111111111111111,
             "#46039f"
            ],
            [
             0.2222222222222222,
             "#7201a8"
            ],
            [
             0.3333333333333333,
             "#9c179e"
            ],
            [
             0.4444444444444444,
             "#bd3786"
            ],
            [
             0.5555555555555556,
             "#d8576b"
            ],
            [
             0.6666666666666666,
             "#ed7953"
            ],
            [
             0.7777777777777778,
             "#fb9f3a"
            ],
            [
             0.8888888888888888,
             "#fdca26"
            ],
            [
             1,
             "#f0f921"
            ]
           ]
          },
          "colorway": [
           "#636efa",
           "#EF553B",
           "#00cc96",
           "#ab63fa",
           "#FFA15A",
           "#19d3f3",
           "#FF6692",
           "#B6E880",
           "#FF97FF",
           "#FECB52"
          ],
          "font": {
           "color": "#2a3f5f"
          },
          "geo": {
           "bgcolor": "white",
           "lakecolor": "white",
           "landcolor": "#E5ECF6",
           "showlakes": true,
           "showland": true,
           "subunitcolor": "white"
          },
          "hoverlabel": {
           "align": "left"
          },
          "hovermode": "closest",
          "mapbox": {
           "style": "light"
          },
          "paper_bgcolor": "white",
          "plot_bgcolor": "#E5ECF6",
          "polar": {
           "angularaxis": {
            "gridcolor": "white",
            "linecolor": "white",
            "ticks": ""
           },
           "bgcolor": "#E5ECF6",
           "radialaxis": {
            "gridcolor": "white",
            "linecolor": "white",
            "ticks": ""
           }
          },
          "scene": {
           "xaxis": {
            "backgroundcolor": "#E5ECF6",
            "gridcolor": "white",
            "gridwidth": 2,
            "linecolor": "white",
            "showbackground": true,
            "ticks": "",
            "zerolinecolor": "white"
           },
           "yaxis": {
            "backgroundcolor": "#E5ECF6",
            "gridcolor": "white",
            "gridwidth": 2,
            "linecolor": "white",
            "showbackground": true,
            "ticks": "",
            "zerolinecolor": "white"
           },
           "zaxis": {
            "backgroundcolor": "#E5ECF6",
            "gridcolor": "white",
            "gridwidth": 2,
            "linecolor": "white",
            "showbackground": true,
            "ticks": "",
            "zerolinecolor": "white"
           }
          },
          "shapedefaults": {
           "line": {
            "color": "#2a3f5f"
           }
          },
          "ternary": {
           "aaxis": {
            "gridcolor": "white",
            "linecolor": "white",
            "ticks": ""
           },
           "baxis": {
            "gridcolor": "white",
            "linecolor": "white",
            "ticks": ""
           },
           "bgcolor": "#E5ECF6",
           "caxis": {
            "gridcolor": "white",
            "linecolor": "white",
            "ticks": ""
           }
          },
          "title": {
           "x": 0.05
          },
          "xaxis": {
           "automargin": true,
           "gridcolor": "white",
           "linecolor": "white",
           "ticks": "",
           "title": {
            "standoff": 15
           },
           "zerolinecolor": "white",
           "zerolinewidth": 2
          },
          "yaxis": {
           "automargin": true,
           "gridcolor": "white",
           "linecolor": "white",
           "ticks": "",
           "title": {
            "standoff": 15
           },
           "zerolinecolor": "white",
           "zerolinewidth": 2
          }
         }
        },
        "width": 800,
        "xaxis": {
         "anchor": "y",
         "autorange": true,
         "domain": [
          0,
          1
         ],
         "range": [
          0,
          57
         ],
         "title": {
          "text": "Epi Week"
         },
         "type": "category"
        },
        "yaxis": {
         "anchor": "x",
         "autorange": true,
         "domain": [
          0,
          1
         ],
         "range": [
          -33.111111111111114,
          1049.111111111111
         ],
         "title": {
          "text": "Number of Users in Country"
         },
         "type": "linear"
        }
       }
      },
      "image/png": "[encoded data removed]",
      "text/html": [
       "<div>                            <div id=\"dd4d4593-6736-44c0-8b7e-6745fc2968d5\" class=\"plotly-graph-div\" style=\"height:500px; width:800px;\"></div>            <script type=\"text/javascript\">                require([\"plotly\"], function(Plotly) {                    window.PLOTLYENV=window.PLOTLYENV || {};                                    if (document.getElementById(\"dd4d4593-6736-44c0-8b7e-6745fc2968d5\")) {                    Plotly.newPlot(                        \"dd4d4593-6736-44c0-8b7e-6745fc2968d5\",                        [{\"hovertemplate\":\"Country=Brazil<br>Epi Week=%{x}<br>Number of Users in Country=%{y}<extra></extra>\",\"legendgroup\":\"Brazil\",\"line\":{\"color\":\"#636efa\",\"dash\":\"solid\"},\"marker\":{\"symbol\":\"circle\"},\"mode\":\"lines\",\"name\":\"Brazil\",\"orientation\":\"v\",\"showlegend\":true,\"x\":[\"201540\",\"201541\",\"201542\",\"201543\",\"201544\",\"201545\",\"201546\",\"201547\",\"201548\",\"201549\",\"201550\",\"201551\",\"201552\",\"201553\",\"201601\",\"201602\",\"201603\",\"201604\",\"201605\",\"201606\",\"201607\",\"201608\",\"201609\",\"201610\",\"201611\",\"201612\",\"201613\",\"201614\",\"201615\",\"201616\",\"201617\",\"201618\",\"201619\",\"201620\",\"201621\",\"201622\",\"201623\",\"201624\",\"201625\",\"201626\",\"201627\",\"201628\",\"201629\",\"201630\",\"201631\",\"201632\",\"201633\",\"201634\",\"201635\",\"201636\",\"201637\",\"201638\",\"201639\",\"201640\",\"201641\",\"201642\",\"201643\",\"201644\"],\"xaxis\":\"x\",\"y\":[94,146,170,140,116,140,167,146,148,154,155,172,250,408,662,899,995,937,764,693,634,528,385,314,277,300,249,183,176,148,170,158,170,128,110,113,148,172,157,145,150,191,213,199,199,248,228,176,152,172,139,150,146,174,180,142,141,32],\"yaxis\":\"y\",\"type\":\"scatter\"},{\"hovertemplate\":\"Country=Spain<br>Epi Week=%{x}<br>Number of Users in Country=%{y}<extra></extra>\",\"legendgroup\":\"Spain\",\"line\":{\"color\":\"#EF553B\",\"dash\":\"solid\"},\"marker\":{\"symbol\":\"circle\"},\"mode\":\"lines\",\"name\":\"Spain\",\"orientation\":\"v\",\"showlegend\":true,\"x\":[\"201540\",\"201541\",\"201542\",\"201543\",\"201544\",\"201545\",\"201546\",\"201547\",\"201548\",\"201549\",\"201550\",\"201551\",\"201552\",\"201553\",\"201601\",\"201602\",\"201603\",\"201604\",\"201605\",\"201606\",\"201607\",\"201608\",\"201609\",\"201610\",\"201611\",\"201612\",\"201613\",\"201614\",\"201615\",\"201616\",\"201617\",\"201618\",\"201619\",\"201620\",\"201621\",\"201622\",\"201623\",\"201624\",\"201625\",\"201626\",\"201627\",\"201628\",\"201629\",\"201630\",\"201631\",\"201632\",\"201633\",\"201634\",\"201635\",\"201636\",\"201637\",\"201638\",\"201639\",\"201640\",\"201641\",\"201642\",\"201643\",\"201644\"],\"xaxis\":\"x\",\"y\":[57,72,79,59,74,79,74,87,59,76,66,87,71,93,89,90,104,95,101,102,100,100,86,86,92,92,99,74,90,76,89,78,79,84,75,88,89,102,104,107,101,108,109,112,114,112,105,102,98,111,93,106,97,95,97,98,86,25],\"yaxis\":\"y\",\"type\":\"scatter\"},{\"hovertemplate\":\"Country=Chile<br>Epi Week=%{x}<br>Number of Users in Country=%{y}<extra></extra>\",\"legendgroup\":\"Chile\",\"line\":{\"color\":\"#00cc96\",\"dash\":\"solid\"},\"marker\":{\"symbol\":\"circle\"},\"mode\":\"lines\",\"name\":\"Chile\",\"orientation\":\"v\",\"showlegend\":true,\"x\":[\"201540\",\"201541\",\"201542\",\"201543\",\"201544\",\"201545\",\"201546\",\"201547\",\"201548\",\"201549\",\"201550\",\"201551\",\"201552\",\"201553\",\"201601\",\"201602\",\"201603\",\"201604\",\"201605\",\"201606\",\"201607\",\"201608\",\"201609\",\"201610\",\"201611\",\"201612\",\"201613\",\"201614\",\"201615\",\"201616\",\"201617\",\"201618\",\"201619\",\"201620\",\"201621\",\"201622\",\"201623\",\"201624\",\"201625\",\"201626\",\"201627\",\"201628\",\"201629\",\"201630\",\"201631\",\"201632\",\"201633\",\"201634\",\"201635\",\"201636\",\"201637\",\"201638\",\"201639\",\"201640\",\"201641\",\"201642\",\"201643\",\"201644\"],\"xaxis\":\"x\",\"y\":[75,106,131,103,100,110,101,107,122,118,116,107,132,199,243,313,325,316,259,249,214,175,151,141,128,201,152,133,113,110,109,112,83,106,87,91,100,111,109,92,122,138,179,128,119,126,125,105,103,105,109,107,118,125,148,100,117,29],\"yaxis\":\"y\",\"type\":\"scatter\"},{\"hovertemplate\":\"Country=Uruguay<br>Epi Week=%{x}<br>Number of Users in Country=%{y}<extra></extra>\",\"legendgroup\":\"Uruguay\",\"line\":{\"color\":\"#ab63fa\",\"dash\":\"solid\"},\"marker\":{\"symbol\":\"circle\"},\"mode\":\"lines\",\"name\":\"Uruguay\",\"orientation\":\"v\",\"showlegend\":true,\"x\":[\"201540\",\"201541\",\"201542\",\"201543\",\"201544\",\"201545\",\"201546\",\"201547\",\"201548\",\"201549\",\"201550\",\"201551\",\"201552\",\"201553\",\"201601\",\"201602\",\"201603\",\"201604\",\"201605\",\"201606\",\"201607\",\"201608\",\"201609\",\"201610\",\"201611\",\"201612\",\"201613\",\"201614\",\"201615\",\"201616\",\"201617\",\"201618\",\"201619\",\"201620\",\"201621\",\"201622\",\"201623\",\"201624\",\"201625\",\"201626\",\"201627\",\"201628\",\"201629\",\"201630\",\"201631\",\"201632\",\"201633\",\"201634\",\"201635\",\"201636\",\"201637\",\"201638\",\"201639\",\"201640\",\"201641\",\"201642\",\"201643\",\"201644\"],\"xaxis\":\"x\",\"y\":[51,72,82,56,72,58,64,73,82,103,95,83,131,249,267,269,233,230,222,241,181,136,102,78,81,159,94,62,58,57,63,59,77,58,47,52,38,70,68,44,60,77,93,88,52,53,47,43,50,65,69,67,59,73,79,56,62,24],\"yaxis\":\"y\",\"type\":\"scatter\"},{\"hovertemplate\":\"Country=United States<br>Epi Week=%{x}<br>Number of Users in Country=%{y}<extra></extra>\",\"legendgroup\":\"United States\",\"line\":{\"color\":\"#FFA15A\",\"dash\":\"solid\"},\"marker\":{\"symbol\":\"circle\"},\"mode\":\"lines\",\"name\":\"United States\",\"orientation\":\"v\",\"showlegend\":true,\"x\":[\"201540\",\"201541\",\"201542\",\"201543\",\"201544\",\"201545\",\"201546\",\"201547\",\"201548\",\"201549\",\"201550\",\"201551\",\"201552\",\"201553\",\"201601\",\"201602\",\"201603\",\"201604\",\"201605\",\"201606\",\"201607\",\"201608\",\"201609\",\"201610\",\"201611\",\"201612\",\"201613\",\"201614\",\"201615\",\"201616\",\"201617\",\"201618\",\"201619\",\"201620\",\"201621\",\"201622\",\"201623\",\"201624\",\"201625\",\"201626\",\"201627\",\"201628\",\"201629\",\"201630\",\"201631\",\"201632\",\"201633\",\"201634\",\"201635\",\"201636\",\"201637\",\"201638\",\"201639\",\"201640\",\"201641\",\"201642\",\"201643\",\"201644\"],\"xaxis\":\"x\",\"y\":[157,239,269,273,260,252,222,244,227,253,255,233,256,298,307,309,287,332,349,375,488,390,325,309,303,320,299,277,269,258,273,247,272,263,231,261,295,286,320,325,339,394,422,365,306,242,262,264,276,271,262,249,269,281,303,244,234,68],\"yaxis\":\"y\",\"type\":\"scatter\"},{\"hovertemplate\":\"Country=Mexico<br>Epi Week=%{x}<br>Number of Users in Country=%{y}<extra></extra>\",\"legendgroup\":\"Mexico\",\"line\":{\"color\":\"#19d3f3\",\"dash\":\"solid\"},\"marker\":{\"symbol\":\"circle\"},\"mode\":\"lines\",\"name\":\"Mexico\",\"orientation\":\"v\",\"showlegend\":true,\"x\":[\"201540\",\"201541\",\"201542\",\"201543\",\"201544\",\"201545\",\"201546\",\"201547\",\"201548\",\"201549\",\"201550\",\"201551\",\"201552\",\"201553\",\"201601\",\"201602\",\"201603\",\"201604\",\"201605\",\"201606\",\"201607\",\"201608\",\"201609\",\"201610\",\"201611\",\"201612\",\"201613\",\"201614\",\"201615\",\"201616\",\"201617\",\"201618\",\"201619\",\"201620\",\"201621\",\"201622\",\"201623\",\"201624\",\"201625\",\"201626\",\"201627\",\"201628\",\"201629\",\"201630\",\"201631\",\"201632\",\"201633\",\"201634\",\"201635\",\"201636\",\"201637\",\"201638\",\"201639\",\"201640\",\"201641\",\"201642\",\"201643\",\"201644\"],\"xaxis\":\"x\",\"y\":[32,62,61,52,66,74,58,70,67,70,75,63,68,81,77,82,85,83,80,71,85,80,94,86,94,86,87,80,74,75,75,84,74,71,62,77,80,95,98,97,99,101,94,96,87,85,83,79,84,72,79,96,80,82,66,87,78,21],\"yaxis\":\"y\",\"type\":\"scatter\"}],                        {\"template\":{\"data\":{\"histogram2dcontour\":[{\"type\":\"histogram2dcontour\",\"colorbar\":{\"outlinewidth\":0,\"ticks\":\"\"},\"colorscale\":[[0.0,\"#0d0887\"],[0.1111111111111111,\"#46039f\"],[0.2222222222222222,\"#7201a8\"],[0.3333333333333333,\"#9c179e\"],[0.4444444444444444,\"#bd3786\"],[0.5555555555555556,\"#d8576b\"],[0.6666666666666666,\"#ed7953\"],[0.7777777777777778,\"#fb9f3a\"],[0.8888888888888888,\"#fdca26\"],[1.0,\"#f0f921\"]]}],\"choropleth\":[{\"type\":\"choropleth\",\"colorbar\":{\"outlinewidth\":0,\"ticks\":\"\"}}],\"histogram2d\":[{\"type\":\"histogram2d\",\"colorbar\":{\"outlinewidth\":0,\"ticks\":\"\"},\"colorscale\":[[0.0,\"#0d0887\"],[0.1111111111111111,\"#46039f\"],[0.2222222222222222,\"#7201a8\"],[0.3333333333333333,\"#9c179e\"],[0.4444444444444444,\"#bd3786\"],[0.5555555555555556,\"#d8576b\"],[0.6666666666666666,\"#ed7953\"],[0.7777777777777778,\"#fb9f3a\"],[0.8888888888888888,\"#fdca26\"],[1.0,\"#f0f921\"]]}],\"heatmap\":[{\"type\":\"heatmap\",\"colorbar\":{\"outlinewidth\":0,\"ticks\":\"\"},\"colorscale\":[[0.0,\"#0d0887\"],[0.1111111111111111,\"#46039f\"],[0.2222222222222222,\"#7201a8\"],[0.3333333333333333,\"#9c179e\"],[0.4444444444444444,\"#bd3786\"],[0.5555555555555556,\"#d8576b\"],[0.6666666666666666,\"#ed7953\"],[0.7777777777777778,\"#fb9f3a\"],[0.8888888888888888,\"#fdca26\"],[1.0,\"#f0f921\"]]}],\"heatmapgl\":[{\"type\":\"heatmapgl\",\"colorbar\":{\"outlinewidth\":0,\"ticks\":\"\"},\"colorscale\":[[0.0,\"#0d0887\"],[0.1111111111111111,\"#46039f\"],[0.2222222222222222,\"#7201a8\"],[0.3333333333333333,\"#9c179e\"],[0.4444444444444444,\"#bd3786\"],[0.5555555555555556,\"#d8576b\"],[0.6666666666666666,\"#ed7953\"],[0.7777777777777778,\"#fb9f3a\"],[0.8888888888888888,\"#fdca26\"],[1.0,\"#f0f921\"]]}],\"contourcarpet\":[{\"type\":\"contourcarpet\",\"colorbar\":{\"outlinewidth\":0,\"ticks\":\"\"}}],\"contour\":[{\"type\":\"contour\",\"colorbar\":{\"outlinewidth\":0,\"ticks\":\"\"},\"colorscale\":[[0.0,\"#0d0887\"],[0.1111111111111111,\"#46039f\"],[0.2222222222222222,\"#7201a8\"],[0.3333333333333333,\"#9c179e\"],[0.4444444444444444,\"#bd3786\"],[0.5555555555555556,\"#d8576b\"],[0.6666666666666666,\"#ed7953\"],[0.7777777777777778,\"#fb9f3a\"],[0.8888888888888888,\"#fdca26\"],[1.0,\"#f0f921\"]]}],\"surface\":[{\"type\":\"surface\",\"colorbar\":{\"outlinewidth\":0,\"ticks\":\"\"},\"colorscale\":[[0.0,\"#0d0887\"],[0.1111111111111111,\"#46039f\"],[0.2222222222222222,\"#7201a8\"],[0.3333333333333333,\"#9c179e\"],[0.4444444444444444,\"#bd3786\"],[0.5555555555555556,\"#d8576b\"],[0.6666666666666666,\"#ed7953\"],[0.7777777777777778,\"#fb9f3a\"],[0.8888888888888888,\"#fdca26\"],[1.0,\"#f0f921\"]]}],\"mesh3d\":[{\"type\":\"mesh3d\",\"colorbar\":{\"outlinewidth\":0,\"ticks\":\"\"}}],\"scatter\":[{\"fillpattern\":{\"fillmode\":\"overlay\",\"size\":10,\"solidity\":0.2},\"type\":\"scatter\"}],\"parcoords\":[{\"type\":\"parcoords\",\"line\":{\"colorbar\":{\"outlinewidth\":0,\"ticks\":\"\"}}}],\"scatterpolargl\":[{\"type\":\"scatterpolargl\",\"marker\":{\"colorbar\":{\"outlinewidth\":0,\"ticks\":\"\"}}}],\"bar\":[{\"error_x\":{\"color\":\"#2a3f5f\"},\"error_y\":{\"color\":\"#2a3f5f\"},\"marker\":{\"line\":{\"color\":\"#E5ECF6\",\"width\":0.5},\"pattern\":{\"fillmode\":\"overlay\",\"size\":10,\"solidity\":0.2}},\"type\":\"bar\"}],\"scattergeo\":[{\"type\":\"scattergeo\",\"marker\":{\"colorbar\":{\"outlinewidth\":0,\"ticks\":\"\"}}}],\"scatterpolar\":[{\"type\":\"scatterpolar\",\"marker\":{\"colorbar\":{\"outlinewidth\":0,\"ticks\":\"\"}}}],\"histogram\":[{\"marker\":{\"pattern\":{\"fillmode\":\"overlay\",\"size\":10,\"solidity\":0.2}},\"type\":\"histogram\"}],\"scattergl\":[{\"type\":\"scattergl\",\"marker\":{\"colorbar\":{\"outlinewidth\":0,\"ticks\":\"\"}}}],\"scatter3d\":[{\"type\":\"scatter3d\",\"line\":{\"colorbar\":{\"outlinewidth\":0,\"ticks\":\"\"}},\"marker\":{\"colorbar\":{\"outlinewidth\":0,\"ticks\":\"\"}}}],\"scattermapbox\":[{\"type\":\"scattermapbox\",\"marker\":{\"colorbar\":{\"outlinewidth\":0,\"ticks\":\"\"}}}],\"scatterternary\":[{\"type\":\"scatterternary\",\"marker\":{\"colorbar\":{\"outlinewidth\":0,\"ticks\":\"\"}}}],\"scattercarpet\":[{\"type\":\"scattercarpet\",\"marker\":{\"colorbar\":{\"outlinewidth\":0,\"ticks\":\"\"}}}],\"carpet\":[{\"aaxis\":{\"endlinecolor\":\"#2a3f5f\",\"gridcolor\":\"white\",\"linecolor\":\"white\",\"minorgridcolor\":\"white\",\"startlinecolor\":\"#2a3f5f\"},\"baxis\":{\"endlinecolor\":\"#2a3f5f\",\"gridcolor\":\"white\",\"linecolor\":\"white\",\"minorgridcolor\":\"white\",\"startlinecolor\":\"#2a3f5f\"},\"type\":\"carpet\"}],\"table\":[{\"cells\":{\"fill\":{\"color\":\"#EBF0F8\"},\"line\":{\"color\":\"white\"}},\"header\":{\"fill\":{\"color\":\"#C8D4E3\"},\"line\":{\"color\":\"white\"}},\"type\":\"table\"}],\"barpolar\":[{\"marker\":{\"line\":{\"color\":\"#E5ECF6\",\"width\":0.5},\"pattern\":{\"fillmode\":\"overlay\",\"size\":10,\"solidity\":0.2}},\"type\":\"barpolar\"}],\"pie\":[{\"automargin\":true,\"type\":\"pie\"}]},\"layout\":{\"autotypenumbers\":\"strict\",\"colorway\":[\"#636efa\",\"#EF553B\",\"#00cc96\",\"#ab63fa\",\"#FFA15A\",\"#19d3f3\",\"#FF6692\",\"#B6E880\",\"#FF97FF\",\"#FECB52\"],\"font\":{\"color\":\"#2a3f5f\"},\"hovermode\":\"closest\",\"hoverlabel\":{\"align\":\"left\"},\"paper_bgcolor\":\"white\",\"plot_bgcolor\":\"#E5ECF6\",\"polar\":{\"bgcolor\":\"#E5ECF6\",\"angularaxis\":{\"gridcolor\":\"white\",\"linecolor\":\"white\",\"ticks\":\"\"},\"radialaxis\":{\"gridcolor\":\"white\",\"linecolor\":\"white\",\"ticks\":\"\"}},\"ternary\":{\"bgcolor\":\"#E5ECF6\",\"aaxis\":{\"gridcolor\":\"white\",\"linecolor\":\"white\",\"ticks\":\"\"},\"baxis\":{\"gridcolor\":\"white\",\"linecolor\":\"white\",\"ticks\":\"\"},\"caxis\":{\"gridcolor\":\"white\",\"linecolor\":\"white\",\"ticks\":\"\"}},\"coloraxis\":{\"colorbar\":{\"outlinewidth\":0,\"ticks\":\"\"}},\"colorscale\":{\"sequential\":[[0.0,\"#0d0887\"],[0.1111111111111111,\"#46039f\"],[0.2222222222222222,\"#7201a8\"],[0.3333333333333333,\"#9c179e\"],[0.4444444444444444,\"#bd3786\"],[0.5555555555555556,\"#d8576b\"],[0.6666666666666666,\"#ed7953\"],[0.7777777777777778,\"#fb9f3a\"],[0.8888888888888888,\"#fdca26\"],[1.0,\"#f0f921\"]],\"sequentialminus\":[[0.0,\"#0d0887\"],[0.1111111111111111,\"#46039f\"],[0.2222222222222222,\"#7201a8\"],[0.3333333333333333,\"#9c179e\"],[0.4444444444444444,\"#bd3786\"],[0.5555555555555556,\"#d8576b\"],[0.6666666666666666,\"#ed7953\"],[0.7777777777777778,\"#fb9f3a\"],[0.8888888888888888,\"#fdca26\"],[1.0,\"#f0f921\"]],\"diverging\":[[0,\"#8e0152\"],[0.1,\"#c51b7d\"],[0.2,\"#de77ae\"],[0.3,\"#f1b6da\"],[0.4,\"#fde0ef\"],[0.5,\"#f7f7f7\"],[0.6,\"#e6f5d0\"],[0.7,\"#b8e186\"],[0.8,\"#7fbc41\"],[0.9,\"#4d9221\"],[1,\"#276419\"]]},\"xaxis\":{\"gridcolor\":\"white\",\"linecolor\":\"white\",\"ticks\":\"\",\"title\":{\"standoff\":15},\"zerolinecolor\":\"white\",\"automargin\":true,\"zerolinewidth\":2},\"yaxis\":{\"gridcolor\":\"white\",\"linecolor\":\"white\",\"ticks\":\"\",\"title\":{\"standoff\":15},\"zerolinecolor\":\"white\",\"automargin\":true,\"zerolinewidth\":2},\"scene\":{\"xaxis\":{\"backgroundcolor\":\"#E5ECF6\",\"gridcolor\":\"white\",\"linecolor\":\"white\",\"showbackground\":true,\"ticks\":\"\",\"zerolinecolor\":\"white\",\"gridwidth\":2},\"yaxis\":{\"backgroundcolor\":\"#E5ECF6\",\"gridcolor\":\"white\",\"linecolor\":\"white\",\"showbackground\":true,\"ticks\":\"\",\"zerolinecolor\":\"white\",\"gridwidth\":2},\"zaxis\":{\"backgroundcolor\":\"#E5ECF6\",\"gridcolor\":\"white\",\"linecolor\":\"white\",\"showbackground\":true,\"ticks\":\"\",\"zerolinecolor\":\"white\",\"gridwidth\":2}},\"shapedefaults\":{\"line\":{\"color\":\"#2a3f5f\"}},\"annotationdefaults\":{\"arrowcolor\":\"#2a3f5f\",\"arrowhead\":0,\"arrowwidth\":1},\"geo\":{\"bgcolor\":\"white\",\"landcolor\":\"#E5ECF6\",\"subunitcolor\":\"white\",\"showland\":true,\"showlakes\":true,\"lakecolor\":\"white\"},\"title\":{\"x\":0.05},\"mapbox\":{\"style\":\"light\"}}},\"xaxis\":{\"anchor\":\"y\",\"domain\":[0.0,1.0],\"title\":{\"text\":\"Epi Week\"}},\"yaxis\":{\"anchor\":\"x\",\"domain\":[0.0,1.0],\"title\":{\"text\":\"Number of Users in Country\"}},\"legend\":{\"title\":{\"text\":\"Country\"},\"tracegroupgap\":0},\"margin\":{\"t\":60},\"height\":500,\"width\":800},                        {\"responsive\": true}                    ).then(function(){\n",
       "                            \n",
       "var gd = document.getElementById('dd4d4593-6736-44c0-8b7e-6745fc2968d5');\n",
       "var x = new MutationObserver(function (mutations, observer) {{\n",
       "        var display = window.getComputedStyle(gd).display;\n",
       "        if (!display || display === 'none') {{\n",
       "            console.log([gd, 'removed!']);\n",
       "            Plotly.purge(gd);\n",
       "            observer.disconnect();\n",
       "        }}\n",
       "}});\n",
       "\n",
       "// Listen for the removal of the full notebook cells\n",
       "var notebookContainer = gd.closest('#notebook-container');\n",
       "if (notebookContainer) {{\n",
       "    x.observe(notebookContainer, {childList: true});\n",
       "}}\n",
       "\n",
       "// Listen for the clearing of the current output cell\n",
       "var outputEl = gd.closest('.output');\n",
       "if (outputEl) {{\n",
       "    x.observe(outputEl, {childList: true});\n",
       "}}\n",
       "\n",
       "                        })                };                });            </script>        </div>"
      ]
     },
     "metadata": {},
     "output_type": "display_data"
    }
   ],
   "source": [
    "# Countries over Epi Weeks - users\n",
    "\n",
    "import itertools\n",
    "\n",
    "cepi = df.drop_duplicates([\"username\", \"place_country\", \"epi_week\"])\n",
    "cepi = cepi.groupby(['place_country', \"epi_week\"])[\"username\"].count().reset_index(name='counts')\n",
    "cepi = cepi.sort_values([\"epi_week\"], ascending=True).reset_index(drop=True)\n",
    "\n",
    "top_20 = common_countries.reset_index().rename({\"country\":\"counts\", \"index\":\"country\"},axis=1).loc[0:6,\"country\"].tolist()\n",
    "#top_20 = cepi.place_country.value_counts().rename_axis('unique_values').reset_index(name='counts')\n",
    "#top_20 = top_20.loc[0:20, \"unique_values\"].tolist()\n",
    "\n",
    "import plotly.express as px\n",
    "\n",
    "loc_p = cepi[(cepi.place_country.isin(top_20)) & (cepi.place_country != \"Argentina\")]\n",
    "#loc_p = loc_p.groupby(['place_country', \"epi_week\"])[\"id\"].count().reset_index(name='counts')\n",
    "#loc_p = loc_p.sort_values([\"epi_week\"], ascending=True).reset_index(drop=True)\n",
    "\n",
    "loc_temp = pd.DataFrame(list(product(loc_p.place_country.unique(), loc_p.epi_week.unique())), columns=['place_country', 'epi_week'])\n",
    "loc_temp[\"counts\"] = 0\n",
    "\n",
    "loc_p = pd.concat([loc_p, loc_temp]).drop_duplicates([\"place_country\", \"epi_week\"])#, ignore_index=True)\n",
    "loc_p = loc_p.sort_values([\"epi_week\"], ascending=True)\n",
    "\n",
    "\n",
    "fig = px.line(loc_p, x=\"epi_week\", y=\"counts\", color=\"place_country\",\n",
    "                 labels={\n",
    "                     \"epi_week\": \"Epi Week\",\n",
    "                     \"counts\": \"Number of Users in Country\",\n",
    "                     \"place_country\": \"Country\"},\n",
    "             width=800,\n",
    "             height=500)\n",
    "\n",
    "fig.write_image(\"geotagged_users_country_epi_week.png\")\n",
    "fig.write_html(\"html/geotagged_users_country_epi_week.html\")\n",
    "fig.show()"
   ]
  },
  {
   "cell_type": "code",
   "execution_count": null,
   "id": "94181c31-c63a-4bf8-98af-08fa4d4799ac",
   "metadata": {
    "tags": []
   },
   "outputs": [],
   "source": [
    "# lower value counts of Place Object?"
   ]
  }
 ],
 "metadata": {
  "instance_type": "ml.m5.24xlarge",
  "kernelspec": {
   "display_name": "Python 3 (Data Science)",
   "language": "python",
   "name": "python3__SAGEMAKER_INTERNAL__arn:aws:sagemaker:eu-west-2:712779665605:image/datascience-1.0"
  },
  "language_info": {
   "codemirror_mode": {
    "name": "ipython",
    "version": 3
   },
   "file_extension": ".py",
   "mimetype": "text/x-python",
   "name": "python",
   "nbconvert_exporter": "python",
   "pygments_lexer": "ipython3",
   "version": "3.7.10"
  }
 },
 "nbformat": 4,
 "nbformat_minor": 5
}
