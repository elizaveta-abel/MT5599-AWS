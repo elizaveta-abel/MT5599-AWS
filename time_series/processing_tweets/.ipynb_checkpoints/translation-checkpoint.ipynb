{
 "cells": [
  {
   "cell_type": "code",
   "execution_count": 4,
   "id": "ca67cbe8-3133-443a-966f-a89c654f7541",
   "metadata": {
    "collapsed": true,
    "jupyter": {
     "outputs_hidden": true
    },
    "tags": []
   },
   "outputs": [
    {
     "data": {
      "text/html": [
       "<div>\n",
       "<style scoped>\n",
       "    .dataframe tbody tr th:only-of-type {\n",
       "        vertical-align: middle;\n",
       "    }\n",
       "\n",
       "    .dataframe tbody tr th {\n",
       "        vertical-align: top;\n",
       "    }\n",
       "\n",
       "    .dataframe thead th {\n",
       "        text-align: right;\n",
       "    }\n",
       "</style>\n",
       "<table border=\"1\" class=\"dataframe\">\n",
       "  <thead>\n",
       "    <tr style=\"text-align: right;\">\n",
       "      <th></th>\n",
       "      <th>index</th>\n",
       "      <th>id</th>\n",
       "      <th>DateTime</th>\n",
       "      <th>coordinates</th>\n",
       "      <th>place</th>\n",
       "      <th>username</th>\n",
       "      <th>user_id</th>\n",
       "      <th>user_location</th>\n",
       "      <th>tweet_content</th>\n",
       "      <th>lang</th>\n",
       "      <th>tweet_clean</th>\n",
       "      <th>place_full_name</th>\n",
       "      <th>place_name</th>\n",
       "      <th>place_type</th>\n",
       "      <th>place_country</th>\n",
       "      <th>place_country_code</th>\n",
       "      <th>coordinates_longitude</th>\n",
       "      <th>coordinates_latitude</th>\n",
       "      <th>ner_loc</th>\n",
       "    </tr>\n",
       "  </thead>\n",
       "  <tbody>\n",
       "    <tr>\n",
       "      <th>0</th>\n",
       "      <td>0</td>\n",
       "      <td>747587638551523328</td>\n",
       "      <td>2016-06-28 00:29:17+00:00</td>\n",
       "      <td>None</td>\n",
       "      <td>None</td>\n",
       "      <td>PamelaToso</td>\n",
       "      <td>304420394</td>\n",
       "      <td></td>\n",
       "      <td>Esta soledad me da ganas de retomar la escritu...</td>\n",
       "      <td>es</td>\n",
       "      <td>Esta soledad me da ganas de retomar la escritura</td>\n",
       "      <td>None</td>\n",
       "      <td>None</td>\n",
       "      <td>None</td>\n",
       "      <td>None</td>\n",
       "      <td>None</td>\n",
       "      <td>NaN</td>\n",
       "      <td>NaN</td>\n",
       "      <td>None</td>\n",
       "    </tr>\n",
       "    <tr>\n",
       "      <th>1</th>\n",
       "      <td>1</td>\n",
       "      <td>746759884654395392</td>\n",
       "      <td>2016-06-25 17:40:05+00:00</td>\n",
       "      <td>None</td>\n",
       "      <td>None</td>\n",
       "      <td>PamelaToso</td>\n",
       "      <td>304420394</td>\n",
       "      <td></td>\n",
       "      <td>@TosoJuan mis amigas anoche se comieron tu pos...</td>\n",
       "      <td>es</td>\n",
       "      <td>mis amigas anoche se comieron tu postre!</td>\n",
       "      <td>None</td>\n",
       "      <td>None</td>\n",
       "      <td>None</td>\n",
       "      <td>None</td>\n",
       "      <td>None</td>\n",
       "      <td>NaN</td>\n",
       "      <td>NaN</td>\n",
       "      <td>None</td>\n",
       "    </tr>\n",
       "    <tr>\n",
       "      <th>2</th>\n",
       "      <td>2</td>\n",
       "      <td>745623746518618112</td>\n",
       "      <td>2016-06-22 14:25:28+00:00</td>\n",
       "      <td>None</td>\n",
       "      <td>None</td>\n",
       "      <td>PamelaToso</td>\n",
       "      <td>304420394</td>\n",
       "      <td></td>\n",
       "      <td>Que lindo que mañana tenemos cita ✌🙌 https://t...</td>\n",
       "      <td>es</td>\n",
       "      <td>Que lindo que maana tenemos cita</td>\n",
       "      <td>None</td>\n",
       "      <td>None</td>\n",
       "      <td>None</td>\n",
       "      <td>None</td>\n",
       "      <td>None</td>\n",
       "      <td>NaN</td>\n",
       "      <td>NaN</td>\n",
       "      <td>None</td>\n",
       "    </tr>\n",
       "    <tr>\n",
       "      <th>3</th>\n",
       "      <td>3</td>\n",
       "      <td>745566278962843648</td>\n",
       "      <td>2016-06-22 10:37:07+00:00</td>\n",
       "      <td>None</td>\n",
       "      <td>None</td>\n",
       "      <td>PamelaToso</td>\n",
       "      <td>304420394</td>\n",
       "      <td></td>\n",
       "      <td>Hola miércoles! Buen día..</td>\n",
       "      <td>es</td>\n",
       "      <td>Hola mircoles! Buen da..</td>\n",
       "      <td>None</td>\n",
       "      <td>None</td>\n",
       "      <td>None</td>\n",
       "      <td>None</td>\n",
       "      <td>None</td>\n",
       "      <td>NaN</td>\n",
       "      <td>NaN</td>\n",
       "      <td>None</td>\n",
       "    </tr>\n",
       "    <tr>\n",
       "      <th>4</th>\n",
       "      <td>4</td>\n",
       "      <td>745041055742103552</td>\n",
       "      <td>2016-06-20 23:50:04+00:00</td>\n",
       "      <td>None</td>\n",
       "      <td>None</td>\n",
       "      <td>PamelaToso</td>\n",
       "      <td>304420394</td>\n",
       "      <td></td>\n",
       "      <td>No será mucho? Más la que se robaron.. https:/...</td>\n",
       "      <td>es</td>\n",
       "      <td>No ser mucho? Ms la que se robaron..</td>\n",
       "      <td>None</td>\n",
       "      <td>None</td>\n",
       "      <td>None</td>\n",
       "      <td>None</td>\n",
       "      <td>None</td>\n",
       "      <td>NaN</td>\n",
       "      <td>NaN</td>\n",
       "      <td>None</td>\n",
       "    </tr>\n",
       "    <tr>\n",
       "      <th>...</th>\n",
       "      <td>...</td>\n",
       "      <td>...</td>\n",
       "      <td>...</td>\n",
       "      <td>...</td>\n",
       "      <td>...</td>\n",
       "      <td>...</td>\n",
       "      <td>...</td>\n",
       "      <td>...</td>\n",
       "      <td>...</td>\n",
       "      <td>...</td>\n",
       "      <td>...</td>\n",
       "      <td>...</td>\n",
       "      <td>...</td>\n",
       "      <td>...</td>\n",
       "      <td>...</td>\n",
       "      <td>...</td>\n",
       "      <td>...</td>\n",
       "      <td>...</td>\n",
       "      <td>...</td>\n",
       "    </tr>\n",
       "    <tr>\n",
       "      <th>442541</th>\n",
       "      <td>110870</td>\n",
       "      <td>649439634557149184</td>\n",
       "      <td>2015-10-01 04:24:09+00:00</td>\n",
       "      <td>Coordinates(longitude=-58.5317922, latitude=-3...</td>\n",
       "      <td>Place(fullName='Ciudad Autónoma de Buenos Aire...</td>\n",
       "      <td>Adelfaisnotdead</td>\n",
       "      <td>191311783</td>\n",
       "      <td></td>\n",
       "      <td>Cuando hablo de Steve McQueen hablo de el inig...</td>\n",
       "      <td>es</td>\n",
       "      <td>Cuando hablo de Steve McQueen hablo de el inig...</td>\n",
       "      <td>Ciudad Autónoma de Buenos Aires, Argentina</td>\n",
       "      <td>Ciudad Autónoma de Buenos Aires</td>\n",
       "      <td>city</td>\n",
       "      <td>Argentina</td>\n",
       "      <td>AR</td>\n",
       "      <td>-58.531792</td>\n",
       "      <td>-34.674453</td>\n",
       "      <td>None</td>\n",
       "    </tr>\n",
       "    <tr>\n",
       "      <th>442542</th>\n",
       "      <td>110871</td>\n",
       "      <td>649439376271900672</td>\n",
       "      <td>2015-10-01 04:23:07+00:00</td>\n",
       "      <td>Coordinates(longitude=-58.5317922, latitude=-3...</td>\n",
       "      <td>Place(fullName='Ciudad Autónoma de Buenos Aire...</td>\n",
       "      <td>Adelfaisnotdead</td>\n",
       "      <td>191311783</td>\n",
       "      <td></td>\n",
       "      <td>Pensar que esos tipos creen que afuera los van...</td>\n",
       "      <td>es</td>\n",
       "      <td>Pensar que esos tipos creen que afuera los van...</td>\n",
       "      <td>Ciudad Autónoma de Buenos Aires, Argentina</td>\n",
       "      <td>Ciudad Autónoma de Buenos Aires</td>\n",
       "      <td>city</td>\n",
       "      <td>Argentina</td>\n",
       "      <td>AR</td>\n",
       "      <td>-58.531792</td>\n",
       "      <td>-34.674453</td>\n",
       "      <td>None</td>\n",
       "    </tr>\n",
       "    <tr>\n",
       "      <th>442543</th>\n",
       "      <td>110872</td>\n",
       "      <td>649431170749497344</td>\n",
       "      <td>2015-10-01 03:50:31+00:00</td>\n",
       "      <td>Coordinates(longitude=-58.5317922, latitude=-3...</td>\n",
       "      <td>Place(fullName='Ciudad Autónoma de Buenos Aire...</td>\n",
       "      <td>Adelfaisnotdead</td>\n",
       "      <td>191311783</td>\n",
       "      <td></td>\n",
       "      <td>Timothy Olyphant siempre tiene cara de que va ...</td>\n",
       "      <td>es</td>\n",
       "      <td>Timothy Olyphant siempre tiene cara de que va ...</td>\n",
       "      <td>Ciudad Autónoma de Buenos Aires, Argentina</td>\n",
       "      <td>Ciudad Autónoma de Buenos Aires</td>\n",
       "      <td>city</td>\n",
       "      <td>Argentina</td>\n",
       "      <td>AR</td>\n",
       "      <td>-58.531792</td>\n",
       "      <td>-34.674453</td>\n",
       "      <td>None</td>\n",
       "    </tr>\n",
       "    <tr>\n",
       "      <th>442544</th>\n",
       "      <td>110873</td>\n",
       "      <td>649388321442033664</td>\n",
       "      <td>2015-10-01 01:00:15+00:00</td>\n",
       "      <td>Coordinates(longitude=-58.5317922, latitude=-3...</td>\n",
       "      <td>Place(fullName='Ciudad Autónoma de Buenos Aire...</td>\n",
       "      <td>Adelfaisnotdead</td>\n",
       "      <td>191311783</td>\n",
       "      <td></td>\n",
       "      <td>@elmetalesasi @joaquinvismara Tenían más ratin...</td>\n",
       "      <td>es</td>\n",
       "      <td>Tenan ms rating Malu Kikuchi y Hugo Anzorregu...</td>\n",
       "      <td>Ciudad Autónoma de Buenos Aires, Argentina</td>\n",
       "      <td>Ciudad Autónoma de Buenos Aires</td>\n",
       "      <td>city</td>\n",
       "      <td>Argentina</td>\n",
       "      <td>AR</td>\n",
       "      <td>-58.531792</td>\n",
       "      <td>-34.674453</td>\n",
       "      <td>None</td>\n",
       "    </tr>\n",
       "    <tr>\n",
       "      <th>442545</th>\n",
       "      <td>110874</td>\n",
       "      <td>649388109596086272</td>\n",
       "      <td>2015-10-01 00:59:25+00:00</td>\n",
       "      <td>Coordinates(longitude=-58.5317922, latitude=-3...</td>\n",
       "      <td>Place(fullName='Ciudad Autónoma de Buenos Aire...</td>\n",
       "      <td>Adelfaisnotdead</td>\n",
       "      <td>191311783</td>\n",
       "      <td></td>\n",
       "      <td>@elmetalesasi @joaquinvismara Me da una pena i...</td>\n",
       "      <td>es</td>\n",
       "      <td>Me da una pena inconmensurable estos chicos q...</td>\n",
       "      <td>Ciudad Autónoma de Buenos Aires, Argentina</td>\n",
       "      <td>Ciudad Autónoma de Buenos Aires</td>\n",
       "      <td>city</td>\n",
       "      <td>Argentina</td>\n",
       "      <td>AR</td>\n",
       "      <td>-58.531792</td>\n",
       "      <td>-34.674453</td>\n",
       "      <td>None</td>\n",
       "    </tr>\n",
       "  </tbody>\n",
       "</table>\n",
       "<p>442546 rows × 19 columns</p>\n",
       "</div>"
      ],
      "text/plain": [
       "         index                  id                  DateTime  \\\n",
       "0            0  747587638551523328 2016-06-28 00:29:17+00:00   \n",
       "1            1  746759884654395392 2016-06-25 17:40:05+00:00   \n",
       "2            2  745623746518618112 2016-06-22 14:25:28+00:00   \n",
       "3            3  745566278962843648 2016-06-22 10:37:07+00:00   \n",
       "4            4  745041055742103552 2016-06-20 23:50:04+00:00   \n",
       "...        ...                 ...                       ...   \n",
       "442541  110870  649439634557149184 2015-10-01 04:24:09+00:00   \n",
       "442542  110871  649439376271900672 2015-10-01 04:23:07+00:00   \n",
       "442543  110872  649431170749497344 2015-10-01 03:50:31+00:00   \n",
       "442544  110873  649388321442033664 2015-10-01 01:00:15+00:00   \n",
       "442545  110874  649388109596086272 2015-10-01 00:59:25+00:00   \n",
       "\n",
       "                                              coordinates  \\\n",
       "0                                                    None   \n",
       "1                                                    None   \n",
       "2                                                    None   \n",
       "3                                                    None   \n",
       "4                                                    None   \n",
       "...                                                   ...   \n",
       "442541  Coordinates(longitude=-58.5317922, latitude=-3...   \n",
       "442542  Coordinates(longitude=-58.5317922, latitude=-3...   \n",
       "442543  Coordinates(longitude=-58.5317922, latitude=-3...   \n",
       "442544  Coordinates(longitude=-58.5317922, latitude=-3...   \n",
       "442545  Coordinates(longitude=-58.5317922, latitude=-3...   \n",
       "\n",
       "                                                    place         username  \\\n",
       "0                                                    None       PamelaToso   \n",
       "1                                                    None       PamelaToso   \n",
       "2                                                    None       PamelaToso   \n",
       "3                                                    None       PamelaToso   \n",
       "4                                                    None       PamelaToso   \n",
       "...                                                   ...              ...   \n",
       "442541  Place(fullName='Ciudad Autónoma de Buenos Aire...  Adelfaisnotdead   \n",
       "442542  Place(fullName='Ciudad Autónoma de Buenos Aire...  Adelfaisnotdead   \n",
       "442543  Place(fullName='Ciudad Autónoma de Buenos Aire...  Adelfaisnotdead   \n",
       "442544  Place(fullName='Ciudad Autónoma de Buenos Aire...  Adelfaisnotdead   \n",
       "442545  Place(fullName='Ciudad Autónoma de Buenos Aire...  Adelfaisnotdead   \n",
       "\n",
       "          user_id user_location  \\\n",
       "0       304420394                 \n",
       "1       304420394                 \n",
       "2       304420394                 \n",
       "3       304420394                 \n",
       "4       304420394                 \n",
       "...           ...           ...   \n",
       "442541  191311783                 \n",
       "442542  191311783                 \n",
       "442543  191311783                 \n",
       "442544  191311783                 \n",
       "442545  191311783                 \n",
       "\n",
       "                                            tweet_content lang  \\\n",
       "0       Esta soledad me da ganas de retomar la escritu...   es   \n",
       "1       @TosoJuan mis amigas anoche se comieron tu pos...   es   \n",
       "2       Que lindo que mañana tenemos cita ✌🙌 https://t...   es   \n",
       "3                              Hola miércoles! Buen día..   es   \n",
       "4       No será mucho? Más la que se robaron.. https:/...   es   \n",
       "...                                                   ...  ...   \n",
       "442541  Cuando hablo de Steve McQueen hablo de el inig...   es   \n",
       "442542  Pensar que esos tipos creen que afuera los van...   es   \n",
       "442543  Timothy Olyphant siempre tiene cara de que va ...   es   \n",
       "442544  @elmetalesasi @joaquinvismara Tenían más ratin...   es   \n",
       "442545  @elmetalesasi @joaquinvismara Me da una pena i...   es   \n",
       "\n",
       "                                              tweet_clean  \\\n",
       "0       Esta soledad me da ganas de retomar la escritura    \n",
       "1               mis amigas anoche se comieron tu postre!    \n",
       "2                       Que lindo que maana tenemos cita    \n",
       "3                                Hola mircoles! Buen da..   \n",
       "4                   No ser mucho? Ms la que se robaron..    \n",
       "...                                                   ...   \n",
       "442541  Cuando hablo de Steve McQueen hablo de el inig...   \n",
       "442542  Pensar que esos tipos creen que afuera los van...   \n",
       "442543  Timothy Olyphant siempre tiene cara de que va ...   \n",
       "442544   Tenan ms rating Malu Kikuchi y Hugo Anzorregu...   \n",
       "442545   Me da una pena inconmensurable estos chicos q...   \n",
       "\n",
       "                                   place_full_name  \\\n",
       "0                                             None   \n",
       "1                                             None   \n",
       "2                                             None   \n",
       "3                                             None   \n",
       "4                                             None   \n",
       "...                                            ...   \n",
       "442541  Ciudad Autónoma de Buenos Aires, Argentina   \n",
       "442542  Ciudad Autónoma de Buenos Aires, Argentina   \n",
       "442543  Ciudad Autónoma de Buenos Aires, Argentina   \n",
       "442544  Ciudad Autónoma de Buenos Aires, Argentina   \n",
       "442545  Ciudad Autónoma de Buenos Aires, Argentina   \n",
       "\n",
       "                             place_name place_type place_country  \\\n",
       "0                                  None       None          None   \n",
       "1                                  None       None          None   \n",
       "2                                  None       None          None   \n",
       "3                                  None       None          None   \n",
       "4                                  None       None          None   \n",
       "...                                 ...        ...           ...   \n",
       "442541  Ciudad Autónoma de Buenos Aires       city     Argentina   \n",
       "442542  Ciudad Autónoma de Buenos Aires       city     Argentina   \n",
       "442543  Ciudad Autónoma de Buenos Aires       city     Argentina   \n",
       "442544  Ciudad Autónoma de Buenos Aires       city     Argentina   \n",
       "442545  Ciudad Autónoma de Buenos Aires       city     Argentina   \n",
       "\n",
       "       place_country_code  coordinates_longitude  coordinates_latitude ner_loc  \n",
       "0                    None                    NaN                   NaN    None  \n",
       "1                    None                    NaN                   NaN    None  \n",
       "2                    None                    NaN                   NaN    None  \n",
       "3                    None                    NaN                   NaN    None  \n",
       "4                    None                    NaN                   NaN    None  \n",
       "...                   ...                    ...                   ...     ...  \n",
       "442541                 AR             -58.531792            -34.674453    None  \n",
       "442542                 AR             -58.531792            -34.674453    None  \n",
       "442543                 AR             -58.531792            -34.674453    None  \n",
       "442544                 AR             -58.531792            -34.674453    None  \n",
       "442545                 AR             -58.531792            -34.674453    None  \n",
       "\n",
       "[442546 rows x 19 columns]"
      ]
     },
     "execution_count": 4,
     "metadata": {},
     "output_type": "execute_result"
    }
   ],
   "source": [
    "import boto3\n",
    "import pandas as pd\n",
    "\n",
    "df = pd.read_feather(\"s3://mt5599/tweets/spanish_tweets_2016_75_processed_wcontent_ner.feather\")\n",
    "df"
   ]
  },
  {
   "cell_type": "code",
   "execution_count": 7,
   "id": "1ddc3c6f-5007-4fa3-8eaf-13e485a9da6d",
   "metadata": {
    "tags": []
   },
   "outputs": [
    {
     "data": {
      "text/plain": [
       "[]"
      ]
     },
     "execution_count": 7,
     "metadata": {},
     "output_type": "execute_result"
    }
   ],
   "source": [
    "missed_files"
   ]
  },
  {
   "cell_type": "code",
   "execution_count": 5,
   "id": "1f3d81cf-1c31-49b8-9bbe-5464c5d844d9",
   "metadata": {
    "tags": []
   },
   "outputs": [
    {
     "data": {
      "text/plain": [
       "NaN                  423141\n",
       "Argentina              1054\n",
       "Mendoza                 651\n",
       "Yelp                    587\n",
       "Buenos Aires            440\n",
       "                      ...  \n",
       "Lake                      1\n",
       "Francisco                 1\n",
       "Almagro City              1\n",
       "Ituzaingo B               1\n",
       "Palermo Hollywood         1\n",
       "Name: ner_loc, Length: 6416, dtype: int64"
      ]
     },
     "execution_count": 5,
     "metadata": {},
     "output_type": "execute_result"
    }
   ],
   "source": [
    "df.ner_loc.value_counts(dropna=False)"
   ]
  },
  {
   "cell_type": "code",
   "execution_count": null,
   "id": "e6e778d4-178e-4e5d-bf48-8e3a95eb7692",
   "metadata": {
    "collapsed": true,
    "jupyter": {
     "outputs_hidden": true
    },
    "tags": []
   },
   "outputs": [],
   "source": [
    "!pip install transformers"
   ]
  },
  {
   "cell_type": "code",
   "execution_count": null,
   "id": "44ae1ba7-2a37-4cf8-a699-b148f1c9d7c1",
   "metadata": {
    "tags": []
   },
   "outputs": [],
   "source": [
    "from transformers import AutoTokenizer\n",
    "\n",
    "model_ckpt = \"Davlan/bert-base-multilingual-cased-ner-hrl\"\n",
    "tokenizer = AutoTokenizer.from_pretrained(model_ckpt)"
   ]
  },
  {
   "cell_type": "code",
   "execution_count": null,
   "id": "3c25437c-4c9c-439b-8282-de9777b60aac",
   "metadata": {
    "tags": []
   },
   "outputs": [],
   "source": [
    "text = \"I am good at writing sentences.\"\n",
    "\n",
    "encoded_text = tokenizer(text)\n",
    "print(encoded_text)"
   ]
  },
  {
   "cell_type": "code",
   "execution_count": null,
   "id": "acf1fb6e-c788-40a9-8875-e221b0a3b67d",
   "metadata": {
    "tags": []
   },
   "outputs": [],
   "source": [
    "tokens = tokenizer.convert_ids_to_tokens(encoded_text.input_ids)\n",
    "print(tokens)"
   ]
  },
  {
   "cell_type": "code",
   "execution_count": 6,
   "id": "bb9625b2-5f82-41c2-a859-c8e2119c9b42",
   "metadata": {
    "tags": []
   },
   "outputs": [
    {
     "data": {
      "text/plain": [
       "119547"
      ]
     },
     "execution_count": 6,
     "metadata": {},
     "output_type": "execute_result"
    }
   ],
   "source": [
    "tokenizer.vocab_size"
   ]
  },
  {
   "cell_type": "code",
   "execution_count": 12,
   "id": "bf3b3479-e048-4403-aeac-3fdef5f6721f",
   "metadata": {
    "tags": []
   },
   "outputs": [
    {
     "name": "stdout",
     "output_type": "stream",
     "text": [
      "Keyring is skipped due to an exception: 'keyring.backends'\n",
      "Collecting torch\n"
     ]
    }
   ],
   "source": [
    "!pip install torch torchvision torchaudio"
   ]
  },
  {
   "cell_type": "code",
   "execution_count": 7,
   "id": "8a3dfaa7-8fb0-44c5-b08f-4743fb8f8961",
   "metadata": {
    "tags": []
   },
   "outputs": [
    {
     "ename": "ModuleNotFoundError",
     "evalue": "No module named 'torch'",
     "output_type": "error",
     "traceback": [
      "\u001b[0;31m---------------------------------------------------------------------------\u001b[0m",
      "\u001b[0;31mModuleNotFoundError\u001b[0m                       Traceback (most recent call last)",
      "\u001b[0;32m<ipython-input-7-8688f2cfeb36>\u001b[0m in \u001b[0;36m<module>\u001b[0;34m\u001b[0m\n\u001b[0;32m----> 1\u001b[0;31m \u001b[0;32mfrom\u001b[0m \u001b[0mtorch\u001b[0m \u001b[0;32mimport\u001b[0m \u001b[0mnn\u001b[0m\u001b[0;34m\u001b[0m\u001b[0;34m\u001b[0m\u001b[0m\n\u001b[0m\u001b[1;32m      2\u001b[0m \u001b[0;32mfrom\u001b[0m \u001b[0mtransformers\u001b[0m \u001b[0;32mimport\u001b[0m \u001b[0mAutoConfig\u001b[0m\u001b[0;34m\u001b[0m\u001b[0;34m\u001b[0m\u001b[0m\n\u001b[1;32m      3\u001b[0m \u001b[0;34m\u001b[0m\u001b[0m\n\u001b[1;32m      4\u001b[0m \u001b[0mconfig\u001b[0m \u001b[0;34m=\u001b[0m \u001b[0mAutoConfig\u001b[0m\u001b[0;34m.\u001b[0m\u001b[0mfrom_pretrained\u001b[0m\u001b[0;34m(\u001b[0m\u001b[0mmodel_ckpt\u001b[0m\u001b[0;34m)\u001b[0m\u001b[0;34m\u001b[0m\u001b[0;34m\u001b[0m\u001b[0m\n\u001b[1;32m      5\u001b[0m \u001b[0mtoken_emb\u001b[0m \u001b[0;34m=\u001b[0m \u001b[0mnn\u001b[0m\u001b[0;34m.\u001b[0m\u001b[0mEmbedding\u001b[0m\u001b[0;34m(\u001b[0m\u001b[0mconfig\u001b[0m\u001b[0;34m.\u001b[0m\u001b[0mvocab_size\u001b[0m\u001b[0;34m,\u001b[0m \u001b[0mconfig\u001b[0m\u001b[0;34m.\u001b[0m\u001b[0mhidden_size\u001b[0m\u001b[0;34m)\u001b[0m\u001b[0;34m\u001b[0m\u001b[0;34m\u001b[0m\u001b[0m\n",
      "\u001b[0;31mModuleNotFoundError\u001b[0m: No module named 'torch'"
     ]
    }
   ],
   "source": [
    "from torch import nn\n",
    "from transformers import AutoConfig\n",
    "\n",
    "config = AutoConfig.from_pretrained(model_ckpt)\n",
    "token_emb = nn.Embedding(config.vocab_size, config.hidden_size)"
   ]
  },
  {
   "cell_type": "code",
   "execution_count": null,
   "id": "3bf329bd-8588-4c38-9f96-7872ffe6dab7",
   "metadata": {},
   "outputs": [],
   "source": [
    "inputs = {k:v.to(device) for k,v in tokens.items()}\n",
    "wi"
   ]
  },
  {
   "cell_type": "code",
   "execution_count": null,
   "id": "f6b97afd-6b7a-47c0-8e22-1949e4b26e32",
   "metadata": {},
   "outputs": [],
   "source": []
  },
  {
   "cell_type": "code",
   "execution_count": null,
   "id": "daf01e4b-ad87-42ed-a905-7e16e7dcaed6",
   "metadata": {},
   "outputs": [],
   "source": []
  },
  {
   "cell_type": "code",
   "execution_count": 2,
   "id": "2fc833b5-3f5e-475d-bb6e-17b02ce8efdb",
   "metadata": {},
   "outputs": [],
   "source": [
    "# read in dataset\n",
    "\n",
    "import boto3\n",
    "import pandas as pd\n",
    "from sagemaker import get_execution_role\n",
    "\n",
    "df = pd.read_feather(\"../../data/df_2016_tweets_cleaned_with_place.feather\")"
   ]
  },
  {
   "cell_type": "code",
   "execution_count": 3,
   "id": "4b4e953d-fd34-481d-9a61-aa17d1086511",
   "metadata": {},
   "outputs": [
    {
     "data": {
      "text/plain": [
       "es     5598666\n",
       "en      874472\n",
       "und     441829\n",
       "pt      125326\n",
       "zxx      83202\n",
       "ca       68466\n",
       "qme      67087\n",
       "in       56222\n",
       "fr       53781\n",
       "it       41321\n",
       "tl       38741\n",
       "art      37610\n",
       "ht       30650\n",
       "qht      14607\n",
       "eu       14588\n",
       "qst      14304\n",
       "et       12779\n",
       "qam       9672\n",
       "de        9402\n",
       "cy        9132\n",
       "sv        7652\n",
       "nl        7564\n",
       "ro        6769\n",
       "tr        6485\n",
       "hu        6392\n",
       "th        6360\n",
       "da        6153\n",
       "lt        6112\n",
       "pl        4835\n",
       "cs        3940\n",
       "fi        3639\n",
       "no        2885\n",
       "lv        2782\n",
       "ja        2261\n",
       "is        2106\n",
       "sl        1893\n",
       "ru        1589\n",
       "hi        1400\n",
       "vi        1229\n",
       "ar        1111\n",
       "zh        1019\n",
       "ko         353\n",
       "uk          82\n",
       "el          32\n",
       "bg          17\n",
       "iw          12\n",
       "fa           6\n",
       "sr           4\n",
       "kn           2\n",
       "hy           1\n",
       "mr           1\n",
       "Name: lang, dtype: int64"
      ]
     },
     "execution_count": 3,
     "metadata": {},
     "output_type": "execute_result"
    }
   ],
   "source": [
    "# seeing language distribution of tweets\n",
    "df.lang.value_counts(dropna = False)\n",
    "# most of them are in spanish (understandably as this was the original search parameter)\n",
    "# and it would be a lot more work translating from multiple languages, so we just filter out\n",
    "# tweets that aren't in spanish"
   ]
  },
  {
   "cell_type": "code",
   "execution_count": 6,
   "id": "56fe6230-3d59-440f-b626-ac7085010d51",
   "metadata": {},
   "outputs": [],
   "source": [
    "# filtering out all tweets that aren't in spanish\n",
    "df_es = df[df.lang == \"es\"].reset_index(drop=True)"
   ]
  },
  {
   "cell_type": "markdown",
   "id": "e81b4d5c-d3ff-4bf1-8f4d-d0ca426f5660",
   "metadata": {},
   "source": [
    "https://huggingface.co/docs/transformers/tasks/translation"
   ]
  },
  {
   "cell_type": "code",
   "execution_count": 5,
   "id": "647e513f-5e78-4365-99fb-cafbd75482b5",
   "metadata": {},
   "outputs": [
    {
     "name": "stdout",
     "output_type": "stream",
     "text": [
      "-----!"
     ]
    },
    {
     "data": {
      "text/plain": [
       "[{'translation_text': 'My name is Bob.'}]"
      ]
     },
     "execution_count": 5,
     "metadata": {},
     "output_type": "execute_result"
    }
   ],
   "source": [
    "# deploying model from HuggingFace\n",
    "\n",
    "from sagemaker.huggingface import HuggingFaceModel\n",
    "import sagemaker\n",
    "\n",
    "role = sagemaker.get_execution_role()\n",
    "# Hub Model configuration. https://huggingface.co/models\n",
    "hub = {\n",
    "\t'HF_MODEL_ID':'Helsinki-NLP/opus-mt-es-en',\n",
    "\t'HF_TASK':'translation'\n",
    "}\n",
    "\n",
    "# create Hugging Face Model Class\n",
    "huggingface_model = HuggingFaceModel(\n",
    "\ttransformers_version='4.17.0',\n",
    "\tpytorch_version='1.10.2',\n",
    "\tpy_version='py38',\n",
    "\tenv=hub,\n",
    "\trole=role, \n",
    ")\n",
    "\n",
    "# deploy model to SageMaker Inference\n",
    "predictor = huggingface_model.deploy(\n",
    "\tinitial_instance_count=1, # number of instances\n",
    "\tinstance_type='ml.m5.xlarge' # ec2 instance type\n",
    ")\n",
    "\n",
    "predictor.predict({\n",
    "    'inputs': \"Me llamo Bob.\"\n",
    "})"
   ]
  },
  {
   "cell_type": "code",
   "execution_count": 7,
   "id": "362c192d-9d89-43ee-b3a9-d9ac49a28b5d",
   "metadata": {
    "tags": []
   },
   "outputs": [],
   "source": [
    "import numpy as np\n",
    "\n",
    "# df.shape[0]\n",
    "# 7686543\n",
    "\n",
    "preferred_batch_no = 50\n",
    "\n",
    "batch_number = round(len(df_es.index)/preferred_batch_no)\n",
    "\n",
    "arr = np.array_split(df_es.index, batch_number)"
   ]
  },
  {
   "cell_type": "code",
   "execution_count": null,
   "id": "c9cb46f9-b555-466b-8d2e-9172630c03b4",
   "metadata": {
    "tags": []
   },
   "outputs": [],
   "source": [
    "!pip install feather-format"
   ]
  },
  {
   "cell_type": "code",
   "execution_count": 17,
   "id": "4aecaaeb-c570-44f5-bd1e-6ab032988edd",
   "metadata": {
    "tags": []
   },
   "outputs": [
    {
     "name": "stderr",
     "output_type": "stream",
     "text": [
      "\n",
      "\n",
      "\n",
      "\n",
      "\n",
      "  0%|          | 0/111967 [00:00<?, ?it/s]\u001b[A\u001b[A\u001b[A\u001b[A\u001b[A"
     ]
    },
    {
     "ename": "ModelError",
     "evalue": "An error occurred (ModelError) when calling the InvokeEndpoint operation: Received server error (0) from primary with message \"Your invocation timed out while waiting for a response from container primary. Review the latency metrics for each container in Amazon CloudWatch, resolve the issue, and try again.\". See https://eu-west-2.console.aws.amazon.com/cloudwatch/home?region=eu-west-2#logEventViewer:group=/aws/sagemaker/Endpoints/huggingface-pytorch-inference-2022-12-31-16-43-32-650 in account 937484630899 for more information.",
     "output_type": "error",
     "traceback": [
      "\u001b[0;31m---------------------------------------------------------------------------\u001b[0m",
      "\u001b[0;31mModelError\u001b[0m                                Traceback (most recent call last)",
      "\u001b[0;32m<ipython-input-17-bb760bf3aa59>\u001b[0m in \u001b[0;36m<module>\u001b[0;34m\u001b[0m\n\u001b[1;32m      5\u001b[0m     \u001b[0mdf1\u001b[0m \u001b[0;34m=\u001b[0m \u001b[0mdf_es\u001b[0m\u001b[0;34m.\u001b[0m\u001b[0mloc\u001b[0m\u001b[0;34m[\u001b[0m\u001b[0mindices\u001b[0m\u001b[0;34m]\u001b[0m\u001b[0;34m.\u001b[0m\u001b[0mreset_index\u001b[0m\u001b[0;34m(\u001b[0m\u001b[0mdrop\u001b[0m\u001b[0;34m=\u001b[0m\u001b[0;32mTrue\u001b[0m\u001b[0;34m)\u001b[0m\u001b[0;34m\u001b[0m\u001b[0;34m\u001b[0m\u001b[0m\n\u001b[1;32m      6\u001b[0m     \u001b[0mspanish_tweets\u001b[0m \u001b[0;34m=\u001b[0m \u001b[0mdf1\u001b[0m\u001b[0;34m.\u001b[0m\u001b[0mtweet\u001b[0m\u001b[0;34m.\u001b[0m\u001b[0mtolist\u001b[0m\u001b[0;34m(\u001b[0m\u001b[0;34m)\u001b[0m\u001b[0;34m\u001b[0m\u001b[0;34m\u001b[0m\u001b[0m\n\u001b[0;32m----> 7\u001b[0;31m     \u001b[0menglish_tweets\u001b[0m \u001b[0;34m=\u001b[0m \u001b[0mpredictor\u001b[0m\u001b[0;34m.\u001b[0m\u001b[0mpredict\u001b[0m\u001b[0;34m(\u001b[0m\u001b[0;34m{\u001b[0m\u001b[0;34m'inputs'\u001b[0m\u001b[0;34m:\u001b[0m \u001b[0mspanish_tweets\u001b[0m\u001b[0;34m}\u001b[0m\u001b[0;34m)\u001b[0m\u001b[0;34m\u001b[0m\u001b[0;34m\u001b[0m\u001b[0m\n\u001b[0m\u001b[1;32m      8\u001b[0m \u001b[0;34m\u001b[0m\u001b[0m\n\u001b[1;32m      9\u001b[0m     \u001b[0;32mfor\u001b[0m \u001b[0mi\u001b[0m \u001b[0;32min\u001b[0m \u001b[0mrange\u001b[0m\u001b[0;34m(\u001b[0m\u001b[0mlen\u001b[0m\u001b[0;34m(\u001b[0m\u001b[0menglish_tweets\u001b[0m\u001b[0;34m)\u001b[0m\u001b[0;34m)\u001b[0m\u001b[0;34m:\u001b[0m\u001b[0;34m\u001b[0m\u001b[0;34m\u001b[0m\u001b[0m\n",
      "\u001b[0;32m/opt/conda/lib/python3.7/site-packages/sagemaker/predictor.py\u001b[0m in \u001b[0;36mpredict\u001b[0;34m(self, data, initial_args, target_model, target_variant, inference_id)\u001b[0m\n\u001b[1;32m    159\u001b[0m             \u001b[0mdata\u001b[0m\u001b[0;34m,\u001b[0m \u001b[0minitial_args\u001b[0m\u001b[0;34m,\u001b[0m \u001b[0mtarget_model\u001b[0m\u001b[0;34m,\u001b[0m \u001b[0mtarget_variant\u001b[0m\u001b[0;34m,\u001b[0m \u001b[0minference_id\u001b[0m\u001b[0;34m\u001b[0m\u001b[0;34m\u001b[0m\u001b[0m\n\u001b[1;32m    160\u001b[0m         )\n\u001b[0;32m--> 161\u001b[0;31m         \u001b[0mresponse\u001b[0m \u001b[0;34m=\u001b[0m \u001b[0mself\u001b[0m\u001b[0;34m.\u001b[0m\u001b[0msagemaker_session\u001b[0m\u001b[0;34m.\u001b[0m\u001b[0msagemaker_runtime_client\u001b[0m\u001b[0;34m.\u001b[0m\u001b[0minvoke_endpoint\u001b[0m\u001b[0;34m(\u001b[0m\u001b[0;34m**\u001b[0m\u001b[0mrequest_args\u001b[0m\u001b[0;34m)\u001b[0m\u001b[0;34m\u001b[0m\u001b[0;34m\u001b[0m\u001b[0m\n\u001b[0m\u001b[1;32m    162\u001b[0m         \u001b[0;32mreturn\u001b[0m \u001b[0mself\u001b[0m\u001b[0;34m.\u001b[0m\u001b[0m_handle_response\u001b[0m\u001b[0;34m(\u001b[0m\u001b[0mresponse\u001b[0m\u001b[0;34m)\u001b[0m\u001b[0;34m\u001b[0m\u001b[0;34m\u001b[0m\u001b[0m\n\u001b[1;32m    163\u001b[0m \u001b[0;34m\u001b[0m\u001b[0m\n",
      "\u001b[0;32m/opt/conda/lib/python3.7/site-packages/botocore/client.py\u001b[0m in \u001b[0;36m_api_call\u001b[0;34m(self, *args, **kwargs)\u001b[0m\n\u001b[1;32m    528\u001b[0m                 )\n\u001b[1;32m    529\u001b[0m             \u001b[0;31m# The \"self\" in this scope is referring to the BaseClient.\u001b[0m\u001b[0;34m\u001b[0m\u001b[0;34m\u001b[0m\u001b[0;34m\u001b[0m\u001b[0m\n\u001b[0;32m--> 530\u001b[0;31m             \u001b[0;32mreturn\u001b[0m \u001b[0mself\u001b[0m\u001b[0;34m.\u001b[0m\u001b[0m_make_api_call\u001b[0m\u001b[0;34m(\u001b[0m\u001b[0moperation_name\u001b[0m\u001b[0;34m,\u001b[0m \u001b[0mkwargs\u001b[0m\u001b[0;34m)\u001b[0m\u001b[0;34m\u001b[0m\u001b[0;34m\u001b[0m\u001b[0m\n\u001b[0m\u001b[1;32m    531\u001b[0m \u001b[0;34m\u001b[0m\u001b[0m\n\u001b[1;32m    532\u001b[0m         \u001b[0m_api_call\u001b[0m\u001b[0;34m.\u001b[0m\u001b[0m__name__\u001b[0m \u001b[0;34m=\u001b[0m \u001b[0mstr\u001b[0m\u001b[0;34m(\u001b[0m\u001b[0mpy_operation_name\u001b[0m\u001b[0;34m)\u001b[0m\u001b[0;34m\u001b[0m\u001b[0;34m\u001b[0m\u001b[0m\n",
      "\u001b[0;32m/opt/conda/lib/python3.7/site-packages/botocore/client.py\u001b[0m in \u001b[0;36m_make_api_call\u001b[0;34m(self, operation_name, api_params)\u001b[0m\n\u001b[1;32m    958\u001b[0m             \u001b[0merror_code\u001b[0m \u001b[0;34m=\u001b[0m \u001b[0mparsed_response\u001b[0m\u001b[0;34m.\u001b[0m\u001b[0mget\u001b[0m\u001b[0;34m(\u001b[0m\u001b[0;34m\"Error\"\u001b[0m\u001b[0;34m,\u001b[0m \u001b[0;34m{\u001b[0m\u001b[0;34m}\u001b[0m\u001b[0;34m)\u001b[0m\u001b[0;34m.\u001b[0m\u001b[0mget\u001b[0m\u001b[0;34m(\u001b[0m\u001b[0;34m\"Code\"\u001b[0m\u001b[0;34m)\u001b[0m\u001b[0;34m\u001b[0m\u001b[0;34m\u001b[0m\u001b[0m\n\u001b[1;32m    959\u001b[0m             \u001b[0merror_class\u001b[0m \u001b[0;34m=\u001b[0m \u001b[0mself\u001b[0m\u001b[0;34m.\u001b[0m\u001b[0mexceptions\u001b[0m\u001b[0;34m.\u001b[0m\u001b[0mfrom_code\u001b[0m\u001b[0;34m(\u001b[0m\u001b[0merror_code\u001b[0m\u001b[0;34m)\u001b[0m\u001b[0;34m\u001b[0m\u001b[0;34m\u001b[0m\u001b[0m\n\u001b[0;32m--> 960\u001b[0;31m             \u001b[0;32mraise\u001b[0m \u001b[0merror_class\u001b[0m\u001b[0;34m(\u001b[0m\u001b[0mparsed_response\u001b[0m\u001b[0;34m,\u001b[0m \u001b[0moperation_name\u001b[0m\u001b[0;34m)\u001b[0m\u001b[0;34m\u001b[0m\u001b[0;34m\u001b[0m\u001b[0m\n\u001b[0m\u001b[1;32m    961\u001b[0m         \u001b[0;32melse\u001b[0m\u001b[0;34m:\u001b[0m\u001b[0;34m\u001b[0m\u001b[0;34m\u001b[0m\u001b[0m\n\u001b[1;32m    962\u001b[0m             \u001b[0;32mreturn\u001b[0m \u001b[0mparsed_response\u001b[0m\u001b[0;34m\u001b[0m\u001b[0;34m\u001b[0m\u001b[0m\n",
      "\u001b[0;31mModelError\u001b[0m: An error occurred (ModelError) when calling the InvokeEndpoint operation: Received server error (0) from primary with message \"Your invocation timed out while waiting for a response from container primary. Review the latency metrics for each container in Amazon CloudWatch, resolve the issue, and try again.\". See https://eu-west-2.console.aws.amazon.com/cloudwatch/home?region=eu-west-2#logEventViewer:group=/aws/sagemaker/Endpoints/huggingface-pytorch-inference-2022-12-31-16-43-32-650 in account 937484630899 for more information."
     ]
    }
   ],
   "source": [
    "import tqdm\n",
    "import feather\n",
    "\n",
    "for indices in tqdm.tqdm(arr[6:]):\n",
    "    df1 = df_es.loc[indices].reset_index(drop=True)\n",
    "    spanish_tweets = df1.tweet.tolist()\n",
    "    english_tweets = predictor.predict({'inputs': spanish_tweets})\n",
    "    \n",
    "    for i in range(len(english_tweets)):\n",
    "        if spanish_tweets[i] == ' ':\n",
    "            english_tweets[i]['translation_text'] = ' '\n",
    "        total_translated_tweets.append(english_tweets[i]['translation_text'])"
   ]
  },
  {
   "cell_type": "code",
   "execution_count": 16,
   "id": "14ef8060-c628-43b4-a8b0-32fdb6688f46",
   "metadata": {
    "tags": []
   },
   "outputs": [
    {
     "data": {
      "text/plain": [
       "51"
      ]
     },
     "execution_count": 16,
     "metadata": {},
     "output_type": "execute_result"
    }
   ],
   "source": [
    "len(total_translated_tweets)"
   ]
  },
  {
   "cell_type": "code",
   "execution_count": null,
   "id": "d12ea97a-f919-4df9-8f44-5c03f222e38c",
   "metadata": {
    "tags": []
   },
   "outputs": [],
   "source": [
    "english_tweets[0]['translation_text']"
   ]
  },
  {
   "cell_type": "code",
   "execution_count": null,
   "id": "12ffc0b2-e123-481e-81e7-b2b604fdf713",
   "metadata": {
    "tags": []
   },
   "outputs": [],
   "source": [
    "spanish_tweets[0]"
   ]
  },
  {
   "cell_type": "code",
   "execution_count": null,
   "id": "9685a812-4e3c-4e62-a49b-b7b80e8d148a",
   "metadata": {
    "tags": []
   },
   "outputs": [],
   "source": [
    "df.index"
   ]
  },
  {
   "cell_type": "code",
   "execution_count": null,
   "id": "f54cb956-eaeb-4513-849a-3cbf2b7a0c31",
   "metadata": {
    "tags": []
   },
   "outputs": [],
   "source": [
    "from transformers import pipeline\n",
    "from transformers import AutoTokenizer, AutoModel\n",
    "import torch\n",
    "import sentencepiece\n",
    "\n",
    "\n",
    "model = AutoModel.from_pretrained(\"Helsinki-NLP/opus-mt-es-en\")\n",
    "tokenizer = AutoTokenizer.from_pretrained(\"Helsinki-NLP/opus-mt-es-en\")\n",
    "\n",
    "es_en_translator = pipeline(\"translation\", model=model, tokenizer=tokenizer)\n",
    "es_en_translator(\"Como estas\")"
   ]
  },
  {
   "cell_type": "code",
   "execution_count": null,
   "id": "e526ddc0-b5fa-48e4-84ba-dc6852ada2f8",
   "metadata": {
    "tags": []
   },
   "outputs": [],
   "source": [
    "english_tweets = df1.apply(lambda x: predictor.predict({\"inputs\": x['tweet_content']})[0]['translation_text'], axis=1)\n",
    "english_tweets"
   ]
  },
  {
   "cell_type": "code",
   "execution_count": null,
   "id": "6b2db356-660a-4f30-8548-abf55775dc72",
   "metadata": {
    "tags": []
   },
   "outputs": [],
   "source": [
    "q = df1.tweet_content.tolist()[0:10]"
   ]
  },
  {
   "cell_type": "code",
   "execution_count": null,
   "id": "88c57825-7eb8-44a8-812c-8f3023fc610d",
   "metadata": {
    "tags": []
   },
   "outputs": [],
   "source": [
    "df.place.value_counts(dropna=False)"
   ]
  },
  {
   "cell_type": "code",
   "execution_count": null,
   "id": "4420587d-d54e-4351-874f-71aef8faaed9",
   "metadata": {
    "tags": []
   },
   "outputs": [],
   "source": [
    "predictor.predict({\"inputs\": df.tweet_content.tolist()[0:100]})"
   ]
  },
  {
   "cell_type": "code",
   "execution_count": null,
   "id": "274d1834-3e37-4644-9646-acfcb8fe0264",
   "metadata": {},
   "outputs": [],
   "source": [
    "df1['tweet_content_en'] = english_tweets\n",
    "df1[['tweet_content', 'tweet_content_en']]"
   ]
  },
  {
   "cell_type": "code",
   "execution_count": null,
   "id": "5d4953f0-d13d-463b-8277-3990036d0416",
   "metadata": {},
   "outputs": [],
   "source": [
    "import feather\n",
    "\n",
    "df.to_feather(\"../../data/df_2016.feather\")\n",
    "boto3.Session().resource('s3').Bucket(\"mt5599\").Object(\"tweets/df_2016.feather\").upload_file(\"../../data/df_2016.feather\")"
   ]
  }
 ],
 "metadata": {
  "instance_type": "ml.g4dn.2xlarge",
  "kernelspec": {
   "display_name": "Python 3 (Data Science)",
   "language": "python",
   "name": "python3__SAGEMAKER_INTERNAL__arn:aws:sagemaker:eu-west-2:712779665605:image/datascience-1.0"
  },
  "language_info": {
   "codemirror_mode": {
    "name": "ipython",
    "version": 3
   },
   "file_extension": ".py",
   "mimetype": "text/x-python",
   "name": "python",
   "nbconvert_exporter": "python",
   "pygments_lexer": "ipython3",
   "version": "3.7.10"
  }
 },
 "nbformat": 4,
 "nbformat_minor": 5
}
