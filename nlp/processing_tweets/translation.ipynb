{
 "cells": [
  {
   "cell_type": "code",
   "execution_count": 7,
   "id": "c0b4b650-a612-40f0-b8f4-86a864cabc3b",
   "metadata": {
    "collapsed": true,
    "jupyter": {
     "outputs_hidden": true
    },
    "tags": []
   },
   "outputs": [
    {
     "data": {
      "text/html": [
       "<div>\n",
       "<style scoped>\n",
       "    .dataframe tbody tr th:only-of-type {\n",
       "        vertical-align: middle;\n",
       "    }\n",
       "\n",
       "    .dataframe tbody tr th {\n",
       "        vertical-align: top;\n",
       "    }\n",
       "\n",
       "    .dataframe thead th {\n",
       "        text-align: right;\n",
       "    }\n",
       "</style>\n",
       "<table border=\"1\" class=\"dataframe\">\n",
       "  <thead>\n",
       "    <tr style=\"text-align: right;\">\n",
       "      <th></th>\n",
       "      <th>id</th>\n",
       "      <th>DateTime</th>\n",
       "      <th>tweet_content</th>\n",
       "      <th>cashtags</th>\n",
       "      <th>coordinates</th>\n",
       "      <th>hashtags</th>\n",
       "      <th>lang</th>\n",
       "      <th>like_count</th>\n",
       "      <th>media</th>\n",
       "      <th>mentioned_users</th>\n",
       "      <th>...</th>\n",
       "      <th>user_profile_image_url</th>\n",
       "      <th>user_profile_banner_url</th>\n",
       "      <th>user_label</th>\n",
       "      <th>resident/visitor</th>\n",
       "      <th>tweet</th>\n",
       "      <th>place_full_name</th>\n",
       "      <th>place_name</th>\n",
       "      <th>place_type</th>\n",
       "      <th>place_country</th>\n",
       "      <th>place_country_code</th>\n",
       "    </tr>\n",
       "  </thead>\n",
       "  <tbody>\n",
       "    <tr>\n",
       "      <th>0</th>\n",
       "      <td>743561801745338368</td>\n",
       "      <td>2016-06-16 21:52:02</td>\n",
       "      <td>😁 https://t.co/eq2i7lxQkD</td>\n",
       "      <td>None</td>\n",
       "      <td>Coordinates(longitude=-85.3044586, latitude=8....</td>\n",
       "      <td>None</td>\n",
       "      <td>und</td>\n",
       "      <td>1</td>\n",
       "      <td>[Photo(previewUrl='https://pbs.twimg.com/media...</td>\n",
       "      <td>None</td>\n",
       "      <td>...</td>\n",
       "      <td>https://pbs.twimg.com/profile_images/154994465...</td>\n",
       "      <td>https://pbs.twimg.com/profile_banners/59929935...</td>\n",
       "      <td>None</td>\n",
       "      <td>visitor</td>\n",
       "      <td></td>\n",
       "      <td>Puntarenas, Costa Rica</td>\n",
       "      <td>Puntarenas</td>\n",
       "      <td>admin</td>\n",
       "      <td>Costa Rica</td>\n",
       "      <td>CR</td>\n",
       "    </tr>\n",
       "    <tr>\n",
       "      <th>1</th>\n",
       "      <td>743064119754919936</td>\n",
       "      <td>2016-06-15 12:54:26</td>\n",
       "      <td>Morning ☕️🌲🍂🌾🍃</td>\n",
       "      <td>None</td>\n",
       "      <td>Coordinates(longitude=-85.3044586, latitude=8....</td>\n",
       "      <td>None</td>\n",
       "      <td>en</td>\n",
       "      <td>0</td>\n",
       "      <td>None</td>\n",
       "      <td>None</td>\n",
       "      <td>...</td>\n",
       "      <td>https://pbs.twimg.com/profile_images/154994465...</td>\n",
       "      <td>https://pbs.twimg.com/profile_banners/59929935...</td>\n",
       "      <td>None</td>\n",
       "      <td>visitor</td>\n",
       "      <td>morning</td>\n",
       "      <td>Puntarenas, Costa Rica</td>\n",
       "      <td>Puntarenas</td>\n",
       "      <td>admin</td>\n",
       "      <td>Costa Rica</td>\n",
       "      <td>CR</td>\n",
       "    </tr>\n",
       "    <tr>\n",
       "      <th>2</th>\n",
       "      <td>742934385624809472</td>\n",
       "      <td>2016-06-15 04:18:55</td>\n",
       "      <td>👬👭❤️🤗 https://t.co/nMQNrePMXZ</td>\n",
       "      <td>None</td>\n",
       "      <td>None</td>\n",
       "      <td>None</td>\n",
       "      <td>und</td>\n",
       "      <td>0</td>\n",
       "      <td>[Photo(previewUrl='https://pbs.twimg.com/media...</td>\n",
       "      <td>None</td>\n",
       "      <td>...</td>\n",
       "      <td>https://pbs.twimg.com/profile_images/154994465...</td>\n",
       "      <td>https://pbs.twimg.com/profile_banners/59929935...</td>\n",
       "      <td>None</td>\n",
       "      <td>visitor</td>\n",
       "      <td></td>\n",
       "      <td>None</td>\n",
       "      <td>None</td>\n",
       "      <td>None</td>\n",
       "      <td>None</td>\n",
       "      <td>None</td>\n",
       "    </tr>\n",
       "    <tr>\n",
       "      <th>3</th>\n",
       "      <td>726430125286264832</td>\n",
       "      <td>2016-04-30 15:16:52</td>\n",
       "      <td>Se van los 25 :/ https://t.co/RddGa6gT4T</td>\n",
       "      <td>None</td>\n",
       "      <td>None</td>\n",
       "      <td>None</td>\n",
       "      <td>es</td>\n",
       "      <td>3</td>\n",
       "      <td>[Photo(previewUrl='https://pbs.twimg.com/media...</td>\n",
       "      <td>None</td>\n",
       "      <td>...</td>\n",
       "      <td>https://pbs.twimg.com/profile_images/154994465...</td>\n",
       "      <td>https://pbs.twimg.com/profile_banners/59929935...</td>\n",
       "      <td>None</td>\n",
       "      <td>visitor</td>\n",
       "      <td>se van los 25 :/</td>\n",
       "      <td>None</td>\n",
       "      <td>None</td>\n",
       "      <td>None</td>\n",
       "      <td>None</td>\n",
       "      <td>None</td>\n",
       "    </tr>\n",
       "    <tr>\n",
       "      <th>4</th>\n",
       "      <td>684363985974464512</td>\n",
       "      <td>2016-01-05 13:21:03</td>\n",
       "      <td>Godo Morning 👓</td>\n",
       "      <td>None</td>\n",
       "      <td>Coordinates(longitude=-84.851172, latitude=9.9...</td>\n",
       "      <td>None</td>\n",
       "      <td>en</td>\n",
       "      <td>1</td>\n",
       "      <td>None</td>\n",
       "      <td>None</td>\n",
       "      <td>...</td>\n",
       "      <td>https://pbs.twimg.com/profile_images/154994465...</td>\n",
       "      <td>https://pbs.twimg.com/profile_banners/59929935...</td>\n",
       "      <td>None</td>\n",
       "      <td>visitor</td>\n",
       "      <td>godo morning</td>\n",
       "      <td>Puntarenas, Costa Rica</td>\n",
       "      <td>Puntarenas</td>\n",
       "      <td>city</td>\n",
       "      <td>Costa Rica</td>\n",
       "      <td>CR</td>\n",
       "    </tr>\n",
       "    <tr>\n",
       "      <th>...</th>\n",
       "      <td>...</td>\n",
       "      <td>...</td>\n",
       "      <td>...</td>\n",
       "      <td>...</td>\n",
       "      <td>...</td>\n",
       "      <td>...</td>\n",
       "      <td>...</td>\n",
       "      <td>...</td>\n",
       "      <td>...</td>\n",
       "      <td>...</td>\n",
       "      <td>...</td>\n",
       "      <td>...</td>\n",
       "      <td>...</td>\n",
       "      <td>...</td>\n",
       "      <td>...</td>\n",
       "      <td>...</td>\n",
       "      <td>...</td>\n",
       "      <td>...</td>\n",
       "      <td>...</td>\n",
       "      <td>...</td>\n",
       "      <td>...</td>\n",
       "    </tr>\n",
       "    <tr>\n",
       "      <th>7686538</th>\n",
       "      <td>649582930189156352</td>\n",
       "      <td>2015-10-01 13:53:33</td>\n",
       "      <td>El bus va vacío pero no me voy a sentar  com t...</td>\n",
       "      <td>None</td>\n",
       "      <td>Coordinates(longitude=-84.2022247, latitude=9....</td>\n",
       "      <td>None</td>\n",
       "      <td>es</td>\n",
       "      <td>0</td>\n",
       "      <td>None</td>\n",
       "      <td>None</td>\n",
       "      <td>...</td>\n",
       "      <td>https://pbs.twimg.com/profile_images/157661616...</td>\n",
       "      <td>https://pbs.twimg.com/profile_banners/84109116...</td>\n",
       "      <td>None</td>\n",
       "      <td>resident</td>\n",
       "      <td>el bus va vaco pero no me voy a sentar com tal...</td>\n",
       "      <td>Heredia, Costa Rica</td>\n",
       "      <td>Heredia</td>\n",
       "      <td>admin</td>\n",
       "      <td>Costa Rica</td>\n",
       "      <td>CR</td>\n",
       "    </tr>\n",
       "    <tr>\n",
       "      <th>7686539</th>\n",
       "      <td>649561708587954176</td>\n",
       "      <td>2015-10-01 12:29:14</td>\n",
       "      <td>Buenos días ! \\nbienvenido octubre 👏🏼</td>\n",
       "      <td>None</td>\n",
       "      <td>Coordinates(longitude=-85.4422302, latitude=9....</td>\n",
       "      <td>None</td>\n",
       "      <td>es</td>\n",
       "      <td>0</td>\n",
       "      <td>None</td>\n",
       "      <td>None</td>\n",
       "      <td>...</td>\n",
       "      <td>https://pbs.twimg.com/profile_images/157661616...</td>\n",
       "      <td>https://pbs.twimg.com/profile_banners/84109116...</td>\n",
       "      <td>None</td>\n",
       "      <td>resident</td>\n",
       "      <td>buenos das ! bienvenido octubre</td>\n",
       "      <td>Alajuela, Costa Rica</td>\n",
       "      <td>Alajuela</td>\n",
       "      <td>admin</td>\n",
       "      <td>Costa Rica</td>\n",
       "      <td>CR</td>\n",
       "    </tr>\n",
       "    <tr>\n",
       "      <th>7686540</th>\n",
       "      <td>649446900601483264</td>\n",
       "      <td>2015-10-01 04:53:01</td>\n",
       "      <td>Y terminar comiendo una Queso de Mc 😊 😋🍔</td>\n",
       "      <td>None</td>\n",
       "      <td>None</td>\n",
       "      <td>None</td>\n",
       "      <td>es</td>\n",
       "      <td>0</td>\n",
       "      <td>None</td>\n",
       "      <td>None</td>\n",
       "      <td>...</td>\n",
       "      <td>https://pbs.twimg.com/profile_images/157661616...</td>\n",
       "      <td>https://pbs.twimg.com/profile_banners/84109116...</td>\n",
       "      <td>None</td>\n",
       "      <td>resident</td>\n",
       "      <td>y terminar comiendo una queso de mc</td>\n",
       "      <td>None</td>\n",
       "      <td>None</td>\n",
       "      <td>None</td>\n",
       "      <td>None</td>\n",
       "      <td>None</td>\n",
       "    </tr>\n",
       "    <tr>\n",
       "      <th>7686541</th>\n",
       "      <td>649435258853527552</td>\n",
       "      <td>2015-10-01 04:06:46</td>\n",
       "      <td>Gracias Mae por su culpa estoy que me vomito 😤</td>\n",
       "      <td>None</td>\n",
       "      <td>Coordinates(longitude=-84.1299362, latitude=9....</td>\n",
       "      <td>None</td>\n",
       "      <td>es</td>\n",
       "      <td>0</td>\n",
       "      <td>None</td>\n",
       "      <td>None</td>\n",
       "      <td>...</td>\n",
       "      <td>https://pbs.twimg.com/profile_images/157661616...</td>\n",
       "      <td>https://pbs.twimg.com/profile_banners/84109116...</td>\n",
       "      <td>None</td>\n",
       "      <td>resident</td>\n",
       "      <td>gracias mae por su culpa estoy que me vomito</td>\n",
       "      <td>Heredia, Costa Rica</td>\n",
       "      <td>Heredia</td>\n",
       "      <td>city</td>\n",
       "      <td>Costa Rica</td>\n",
       "      <td>CR</td>\n",
       "    </tr>\n",
       "    <tr>\n",
       "      <th>7686542</th>\n",
       "      <td>649434917596631040</td>\n",
       "      <td>2015-10-01 04:05:24</td>\n",
       "      <td>Un Mae se acaba de echar un una clase de perfu...</td>\n",
       "      <td>None</td>\n",
       "      <td>Coordinates(longitude=-84.1299362, latitude=9....</td>\n",
       "      <td>None</td>\n",
       "      <td>es</td>\n",
       "      <td>0</td>\n",
       "      <td>None</td>\n",
       "      <td>None</td>\n",
       "      <td>...</td>\n",
       "      <td>https://pbs.twimg.com/profile_images/157661616...</td>\n",
       "      <td>https://pbs.twimg.com/profile_banners/84109116...</td>\n",
       "      <td>None</td>\n",
       "      <td>resident</td>\n",
       "      <td>un mae se acaba de echar un una clase de perfu...</td>\n",
       "      <td>Heredia, Costa Rica</td>\n",
       "      <td>Heredia</td>\n",
       "      <td>city</td>\n",
       "      <td>Costa Rica</td>\n",
       "      <td>CR</td>\n",
       "    </tr>\n",
       "  </tbody>\n",
       "</table>\n",
       "<p>7686543 rows × 45 columns</p>\n",
       "</div>"
      ],
      "text/plain": [
       "                         id            DateTime  \\\n",
       "0        743561801745338368 2016-06-16 21:52:02   \n",
       "1        743064119754919936 2016-06-15 12:54:26   \n",
       "2        742934385624809472 2016-06-15 04:18:55   \n",
       "3        726430125286264832 2016-04-30 15:16:52   \n",
       "4        684363985974464512 2016-01-05 13:21:03   \n",
       "...                     ...                 ...   \n",
       "7686538  649582930189156352 2015-10-01 13:53:33   \n",
       "7686539  649561708587954176 2015-10-01 12:29:14   \n",
       "7686540  649446900601483264 2015-10-01 04:53:01   \n",
       "7686541  649435258853527552 2015-10-01 04:06:46   \n",
       "7686542  649434917596631040 2015-10-01 04:05:24   \n",
       "\n",
       "                                             tweet_content cashtags  \\\n",
       "0                                😁 https://t.co/eq2i7lxQkD     None   \n",
       "1                                           Morning ☕️🌲🍂🌾🍃     None   \n",
       "2                            👬👭❤️🤗 https://t.co/nMQNrePMXZ     None   \n",
       "3                 Se van los 25 :/ https://t.co/RddGa6gT4T     None   \n",
       "4                                           Godo Morning 👓     None   \n",
       "...                                                    ...      ...   \n",
       "7686538  El bus va vacío pero no me voy a sentar  com t...     None   \n",
       "7686539              Buenos días ! \\nbienvenido octubre 👏🏼     None   \n",
       "7686540           Y terminar comiendo una Queso de Mc 😊 😋🍔     None   \n",
       "7686541     Gracias Mae por su culpa estoy que me vomito 😤     None   \n",
       "7686542  Un Mae se acaba de echar un una clase de perfu...     None   \n",
       "\n",
       "                                               coordinates hashtags lang  \\\n",
       "0        Coordinates(longitude=-85.3044586, latitude=8....     None  und   \n",
       "1        Coordinates(longitude=-85.3044586, latitude=8....     None   en   \n",
       "2                                                     None     None  und   \n",
       "3                                                     None     None   es   \n",
       "4        Coordinates(longitude=-84.851172, latitude=9.9...     None   en   \n",
       "...                                                    ...      ...  ...   \n",
       "7686538  Coordinates(longitude=-84.2022247, latitude=9....     None   es   \n",
       "7686539  Coordinates(longitude=-85.4422302, latitude=9....     None   es   \n",
       "7686540                                               None     None   es   \n",
       "7686541  Coordinates(longitude=-84.1299362, latitude=9....     None   es   \n",
       "7686542  Coordinates(longitude=-84.1299362, latitude=9....     None   es   \n",
       "\n",
       "         like_count                                              media  \\\n",
       "0                 1  [Photo(previewUrl='https://pbs.twimg.com/media...   \n",
       "1                 0                                               None   \n",
       "2                 0  [Photo(previewUrl='https://pbs.twimg.com/media...   \n",
       "3                 3  [Photo(previewUrl='https://pbs.twimg.com/media...   \n",
       "4                 1                                               None   \n",
       "...             ...                                                ...   \n",
       "7686538           0                                               None   \n",
       "7686539           0                                               None   \n",
       "7686540           0                                               None   \n",
       "7686541           0                                               None   \n",
       "7686542           0                                               None   \n",
       "\n",
       "        mentioned_users  ...  \\\n",
       "0                  None  ...   \n",
       "1                  None  ...   \n",
       "2                  None  ...   \n",
       "3                  None  ...   \n",
       "4                  None  ...   \n",
       "...                 ...  ...   \n",
       "7686538            None  ...   \n",
       "7686539            None  ...   \n",
       "7686540            None  ...   \n",
       "7686541            None  ...   \n",
       "7686542            None  ...   \n",
       "\n",
       "                                    user_profile_image_url  \\\n",
       "0        https://pbs.twimg.com/profile_images/154994465...   \n",
       "1        https://pbs.twimg.com/profile_images/154994465...   \n",
       "2        https://pbs.twimg.com/profile_images/154994465...   \n",
       "3        https://pbs.twimg.com/profile_images/154994465...   \n",
       "4        https://pbs.twimg.com/profile_images/154994465...   \n",
       "...                                                    ...   \n",
       "7686538  https://pbs.twimg.com/profile_images/157661616...   \n",
       "7686539  https://pbs.twimg.com/profile_images/157661616...   \n",
       "7686540  https://pbs.twimg.com/profile_images/157661616...   \n",
       "7686541  https://pbs.twimg.com/profile_images/157661616...   \n",
       "7686542  https://pbs.twimg.com/profile_images/157661616...   \n",
       "\n",
       "                                   user_profile_banner_url user_label  \\\n",
       "0        https://pbs.twimg.com/profile_banners/59929935...       None   \n",
       "1        https://pbs.twimg.com/profile_banners/59929935...       None   \n",
       "2        https://pbs.twimg.com/profile_banners/59929935...       None   \n",
       "3        https://pbs.twimg.com/profile_banners/59929935...       None   \n",
       "4        https://pbs.twimg.com/profile_banners/59929935...       None   \n",
       "...                                                    ...        ...   \n",
       "7686538  https://pbs.twimg.com/profile_banners/84109116...       None   \n",
       "7686539  https://pbs.twimg.com/profile_banners/84109116...       None   \n",
       "7686540  https://pbs.twimg.com/profile_banners/84109116...       None   \n",
       "7686541  https://pbs.twimg.com/profile_banners/84109116...       None   \n",
       "7686542  https://pbs.twimg.com/profile_banners/84109116...       None   \n",
       "\n",
       "        resident/visitor                                              tweet  \\\n",
       "0                visitor                                                      \n",
       "1                visitor                                           morning    \n",
       "2                visitor                                                      \n",
       "3                visitor                                  se van los 25 :/    \n",
       "4                visitor                                      godo morning    \n",
       "...                  ...                                                ...   \n",
       "7686538         resident  el bus va vaco pero no me voy a sentar com tal...   \n",
       "7686539         resident                   buenos das ! bienvenido octubre    \n",
       "7686540         resident               y terminar comiendo una queso de mc    \n",
       "7686541         resident      gracias mae por su culpa estoy que me vomito    \n",
       "7686542         resident  un mae se acaba de echar un una clase de perfu...   \n",
       "\n",
       "                place_full_name  place_name place_type place_country  \\\n",
       "0        Puntarenas, Costa Rica  Puntarenas      admin    Costa Rica   \n",
       "1        Puntarenas, Costa Rica  Puntarenas      admin    Costa Rica   \n",
       "2                          None        None       None          None   \n",
       "3                          None        None       None          None   \n",
       "4        Puntarenas, Costa Rica  Puntarenas       city    Costa Rica   \n",
       "...                         ...         ...        ...           ...   \n",
       "7686538     Heredia, Costa Rica     Heredia      admin    Costa Rica   \n",
       "7686539    Alajuela, Costa Rica    Alajuela      admin    Costa Rica   \n",
       "7686540                    None        None       None          None   \n",
       "7686541     Heredia, Costa Rica     Heredia       city    Costa Rica   \n",
       "7686542     Heredia, Costa Rica     Heredia       city    Costa Rica   \n",
       "\n",
       "        place_country_code  \n",
       "0                       CR  \n",
       "1                       CR  \n",
       "2                     None  \n",
       "3                     None  \n",
       "4                       CR  \n",
       "...                    ...  \n",
       "7686538                 CR  \n",
       "7686539                 CR  \n",
       "7686540               None  \n",
       "7686541                 CR  \n",
       "7686542                 CR  \n",
       "\n",
       "[7686543 rows x 45 columns]"
      ]
     },
     "execution_count": 7,
     "metadata": {},
     "output_type": "execute_result"
    }
   ],
   "source": [
    "import pandas as pd\n",
    "\n",
    "df = pd.read_feather(\"s3://mt5599/raw_tweets/2016/df_2016_tweets_cleaned_with_place.feather\")\n",
    "df"
   ]
  },
  {
   "cell_type": "code",
   "execution_count": 20,
   "id": "1fb18150-a37d-4d9b-8e8e-6cc4a7b2790c",
   "metadata": {
    "tags": []
   },
   "outputs": [
    {
     "name": "stdout",
     "output_type": "stream",
     "text": [
      "Keyring is skipped due to an exception: 'keyring.backends'\n",
      "Collecting geotext\n",
      "  Using cached geotext-0.4.0-py2.py3-none-any.whl (2.0 MB)\n",
      "Installing collected packages: geotext\n",
      "Successfully installed geotext-0.4.0\n",
      "\u001b[33mWARNING: Running pip as the 'root' user can result in broken permissions and conflicting behaviour with the system package manager. It is recommended to use a virtual environment instead: https://pip.pypa.io/warnings/venv\u001b[0m\u001b[33m\n",
      "\u001b[0m"
     ]
    }
   ],
   "source": [
    "!pip install geotext"
   ]
  },
  {
   "cell_type": "code",
   "execution_count": 24,
   "id": "e2851608-2e3e-477c-b7c2-1b4b9f36de94",
   "metadata": {
    "tags": []
   },
   "outputs": [
    {
     "data": {
      "text/plain": [
       "['Rio de Janeiro']"
      ]
     },
     "execution_count": 24,
     "metadata": {},
     "output_type": "execute_result"
    }
   ],
   "source": [
    "from geotext import GeoText\n",
    "\n",
    "places = GeoText(\"Rio de Janeiro\")\n",
    "places.cities"
   ]
  },
  {
   "cell_type": "code",
   "execution_count": null,
   "id": "602d0f27-b06a-4a74-93a5-dd29fe1848ee",
   "metadata": {},
   "outputs": [],
   "source": [
    "from geotext import GeoText\n",
    "\n",
    "places = GeoText(\"London is a great city\")\n",
    "places.cities\n",
    "# \"London\"\n",
    "\n",
    "# filter by country code\n",
    "result = GeoText('I loved Rio de Janeiro and Havana', 'BR').cities\n",
    "# 'Rio de Janeiro'\n",
    "\n",
    "GeoText('New York, Texas, and also China').country_mentions\n",
    "# OrderedDict([(u'US', 2), (u'CN', 1)])"
   ]
  },
  {
   "cell_type": "code",
   "execution_count": 1,
   "id": "68f91fcc-1a69-4671-8477-74ecbdcb7a01",
   "metadata": {
    "collapsed": true,
    "jupyter": {
     "outputs_hidden": true
    },
    "tags": []
   },
   "outputs": [
    {
     "name": "stdout",
     "output_type": "stream",
     "text": [
      "Keyring is skipped due to an exception: 'keyring.backends'\n",
      "Collecting translators\n",
      "  Downloading translators-5.5.5-py3-none-any.whl (32 kB)\n",
      "Requirement already satisfied: cryptography>=38.0.1 in /opt/conda/lib/python3.7/site-packages (from translators) (38.0.4)\n",
      "Requirement already satisfied: requests>=2.28.1 in /opt/conda/lib/python3.7/site-packages (from translators) (2.28.1)\n",
      "Collecting PyExecJS>=1.5.1\n",
      "  Downloading PyExecJS-1.5.1.tar.gz (13 kB)\n",
      "  Preparing metadata (setup.py) ... \u001b[?25ldone\n",
      "\u001b[?25hRequirement already satisfied: pathos>=0.2.9 in /opt/conda/lib/python3.7/site-packages (from translators) (0.3.0)\n",
      "Requirement already satisfied: lxml>=4.9.1 in /opt/conda/lib/python3.7/site-packages (from translators) (4.9.1)\n",
      "Requirement already satisfied: cffi>=1.12 in /opt/conda/lib/python3.7/site-packages (from cryptography>=38.0.1->translators) (1.15.0)\n",
      "Requirement already satisfied: multiprocess>=0.70.14 in /opt/conda/lib/python3.7/site-packages (from pathos>=0.2.9->translators) (0.70.14)\n",
      "Requirement already satisfied: ppft>=1.7.6.6 in /opt/conda/lib/python3.7/site-packages (from pathos>=0.2.9->translators) (1.7.6.6)\n",
      "Requirement already satisfied: dill>=0.3.6 in /opt/conda/lib/python3.7/site-packages (from pathos>=0.2.9->translators) (0.3.6)\n",
      "Requirement already satisfied: pox>=0.3.2 in /opt/conda/lib/python3.7/site-packages (from pathos>=0.2.9->translators) (0.3.2)\n",
      "Requirement already satisfied: six>=1.10.0 in /opt/conda/lib/python3.7/site-packages (from PyExecJS>=1.5.1->translators) (1.14.0)\n",
      "Requirement already satisfied: idna<4,>=2.5 in /opt/conda/lib/python3.7/site-packages (from requests>=2.28.1->translators) (2.8)\n",
      "Requirement already satisfied: charset-normalizer<3,>=2 in /opt/conda/lib/python3.7/site-packages (from requests>=2.28.1->translators) (2.0.4)\n",
      "Requirement already satisfied: urllib3<1.27,>=1.21.1 in /opt/conda/lib/python3.7/site-packages (from requests>=2.28.1->translators) (1.26.13)\n",
      "Requirement already satisfied: certifi>=2017.4.17 in /opt/conda/lib/python3.7/site-packages (from requests>=2.28.1->translators) (2022.9.24)\n",
      "Requirement already satisfied: pycparser in /opt/conda/lib/python3.7/site-packages (from cffi>=1.12->cryptography>=38.0.1->translators) (2.19)\n",
      "Building wheels for collected packages: PyExecJS\n",
      "  Building wheel for PyExecJS (setup.py) ... \u001b[?25ldone\n",
      "\u001b[?25h  Created wheel for PyExecJS: filename=PyExecJS-1.5.1-py3-none-any.whl size=14597 sha256=cfd55285a696db25cff23215f07ade807f2bb90c09c5de4900d9f43564c8a84e\n",
      "  Stored in directory: /root/.cache/pip/wheels/f5/0a/56/096f1e82ba95e25919f133af1cdaaabf3a438c766405db7c34\n",
      "Successfully built PyExecJS\n",
      "Installing collected packages: PyExecJS, translators\n",
      "Successfully installed PyExecJS-1.5.1 translators-5.5.5\n",
      "\u001b[33mWARNING: Running pip as the 'root' user can result in broken permissions and conflicting behaviour with the system package manager. It is recommended to use a virtual environment instead: https://pip.pypa.io/warnings/venv\u001b[0m\u001b[33m\n",
      "\u001b[0m"
     ]
    }
   ],
   "source": [
    "!pip install translators --upgrade"
   ]
  },
  {
   "cell_type": "code",
   "execution_count": 18,
   "id": "b17d6585-0786-41ee-af61-bb45b2e86a1e",
   "metadata": {
    "collapsed": true,
    "jupyter": {
     "outputs_hidden": true
    },
    "tags": []
   },
   "outputs": [
    {
     "name": "stdout",
     "output_type": "stream",
     "text": [
      "Keyring is skipped due to an exception: 'keyring.backends'\n",
      "Requirement already satisfied: mordecai in /opt/conda/lib/python3.7/site-packages (2.1.0)\n",
      "Requirement already satisfied: elasticsearch==5.4.0 in /opt/conda/lib/python3.7/site-packages (from mordecai) (5.4.0)\n",
      "Requirement already satisfied: tqdm>=4.28.1 in /opt/conda/lib/python3.7/site-packages (from mordecai) (4.42.1)\n",
      "Requirement already satisfied: numpy>=1.12 in /opt/conda/lib/python3.7/site-packages (from mordecai) (1.21.6)\n",
      "Requirement already satisfied: pandas>=0.24.2 in /opt/conda/lib/python3.7/site-packages (from mordecai) (1.3.5)\n",
      "Requirement already satisfied: h5py>=2.10.0 in /opt/conda/lib/python3.7/site-packages (from mordecai) (2.10.0)\n",
      "Requirement already satisfied: spacy<3.0,>=2.3 in /opt/conda/lib/python3.7/site-packages (from mordecai) (2.3.9)\n",
      "Requirement already satisfied: elasticsearch-dsl==5.3.0 in /opt/conda/lib/python3.7/site-packages (from mordecai) (5.3.0)\n",
      "Requirement already satisfied: tensorflow>=2.2.0 in /opt/conda/lib/python3.7/site-packages (from mordecai) (2.11.0)\n",
      "Requirement already satisfied: editdistance>=0.5.3 in /opt/conda/lib/python3.7/site-packages (from mordecai) (0.6.2)\n",
      "Requirement already satisfied: urllib3<2.0,>=1.8 in /opt/conda/lib/python3.7/site-packages (from elasticsearch==5.4.0->mordecai) (1.26.13)\n",
      "Requirement already satisfied: six in /opt/conda/lib/python3.7/site-packages (from elasticsearch-dsl==5.3.0->mordecai) (1.14.0)\n",
      "Requirement already satisfied: python-dateutil in /opt/conda/lib/python3.7/site-packages (from elasticsearch-dsl==5.3.0->mordecai) (2.8.2)\n",
      "Requirement already satisfied: pytz>=2017.3 in /opt/conda/lib/python3.7/site-packages (from pandas>=0.24.2->mordecai) (2019.3)\n",
      "Requirement already satisfied: preshed<3.1.0,>=3.0.2 in /opt/conda/lib/python3.7/site-packages (from spacy<3.0,>=2.3->mordecai) (3.0.8)\n",
      "Requirement already satisfied: wasabi<1.1.0,>=0.4.0 in /opt/conda/lib/python3.7/site-packages (from spacy<3.0,>=2.3->mordecai) (0.10.1)\n",
      "Requirement already satisfied: blis<0.8.0,>=0.4.0 in /opt/conda/lib/python3.7/site-packages (from spacy<3.0,>=2.3->mordecai) (0.7.9)\n",
      "Requirement already satisfied: thinc<7.5.0,>=7.4.1 in /opt/conda/lib/python3.7/site-packages (from spacy<3.0,>=2.3->mordecai) (7.4.6)\n",
      "Requirement already satisfied: murmurhash<1.1.0,>=0.28.0 in /opt/conda/lib/python3.7/site-packages (from spacy<3.0,>=2.3->mordecai) (1.0.9)\n",
      "Requirement already satisfied: requests<3.0.0,>=2.13.0 in /opt/conda/lib/python3.7/site-packages (from spacy<3.0,>=2.3->mordecai) (2.28.1)\n",
      "Requirement already satisfied: catalogue<1.1.0,>=0.0.7 in /opt/conda/lib/python3.7/site-packages (from spacy<3.0,>=2.3->mordecai) (1.0.2)\n",
      "Requirement already satisfied: setuptools in /opt/conda/lib/python3.7/site-packages (from spacy<3.0,>=2.3->mordecai) (59.3.0)\n",
      "Requirement already satisfied: srsly<1.1.0,>=1.0.2 in /opt/conda/lib/python3.7/site-packages (from spacy<3.0,>=2.3->mordecai) (1.0.6)\n",
      "Requirement already satisfied: cymem<2.1.0,>=2.0.2 in /opt/conda/lib/python3.7/site-packages (from spacy<3.0,>=2.3->mordecai) (2.0.7)\n",
      "Requirement already satisfied: plac<1.2.0,>=0.9.6 in /opt/conda/lib/python3.7/site-packages (from spacy<3.0,>=2.3->mordecai) (1.1.3)\n",
      "Requirement already satisfied: absl-py>=1.0.0 in /opt/conda/lib/python3.7/site-packages (from tensorflow>=2.2.0->mordecai) (1.3.0)\n",
      "Requirement already satisfied: gast<=0.4.0,>=0.2.1 in /opt/conda/lib/python3.7/site-packages (from tensorflow>=2.2.0->mordecai) (0.4.0)\n",
      "Requirement already satisfied: grpcio<2.0,>=1.24.3 in /opt/conda/lib/python3.7/site-packages (from tensorflow>=2.2.0->mordecai) (1.51.1)\n",
      "Requirement already satisfied: keras<2.12,>=2.11.0 in /opt/conda/lib/python3.7/site-packages (from tensorflow>=2.2.0->mordecai) (2.11.0)\n",
      "Requirement already satisfied: google-pasta>=0.1.1 in /opt/conda/lib/python3.7/site-packages (from tensorflow>=2.2.0->mordecai) (0.2.0)\n",
      "Requirement already satisfied: flatbuffers>=2.0 in /opt/conda/lib/python3.7/site-packages (from tensorflow>=2.2.0->mordecai) (22.12.6)\n",
      "Requirement already satisfied: tensorflow-estimator<2.12,>=2.11.0 in /opt/conda/lib/python3.7/site-packages (from tensorflow>=2.2.0->mordecai) (2.11.0)\n",
      "Requirement already satisfied: astunparse>=1.6.0 in /opt/conda/lib/python3.7/site-packages (from tensorflow>=2.2.0->mordecai) (1.6.3)\n",
      "Requirement already satisfied: opt-einsum>=2.3.2 in /opt/conda/lib/python3.7/site-packages (from tensorflow>=2.2.0->mordecai) (3.3.0)\n",
      "Requirement already satisfied: typing-extensions>=3.6.6 in /opt/conda/lib/python3.7/site-packages (from tensorflow>=2.2.0->mordecai) (4.4.0)\n",
      "Requirement already satisfied: protobuf<3.20,>=3.9.2 in /opt/conda/lib/python3.7/site-packages (from tensorflow>=2.2.0->mordecai) (3.19.6)\n",
      "Requirement already satisfied: libclang>=13.0.0 in /opt/conda/lib/python3.7/site-packages (from tensorflow>=2.2.0->mordecai) (14.0.6)\n",
      "Requirement already satisfied: termcolor>=1.1.0 in /opt/conda/lib/python3.7/site-packages (from tensorflow>=2.2.0->mordecai) (2.2.0)\n",
      "Requirement already satisfied: packaging in /opt/conda/lib/python3.7/site-packages (from tensorflow>=2.2.0->mordecai) (20.1)\n",
      "Requirement already satisfied: wrapt>=1.11.0 in /opt/conda/lib/python3.7/site-packages (from tensorflow>=2.2.0->mordecai) (1.11.2)\n",
      "Requirement already satisfied: tensorflow-io-gcs-filesystem>=0.23.1 in /opt/conda/lib/python3.7/site-packages (from tensorflow>=2.2.0->mordecai) (0.29.0)\n",
      "Requirement already satisfied: tensorboard<2.12,>=2.11 in /opt/conda/lib/python3.7/site-packages (from tensorflow>=2.2.0->mordecai) (2.11.0)\n",
      "Requirement already satisfied: wheel<1.0,>=0.23.0 in /opt/conda/lib/python3.7/site-packages (from astunparse>=1.6.0->tensorflow>=2.2.0->mordecai) (0.34.2)\n",
      "Requirement already satisfied: zipp>=0.5 in /opt/conda/lib/python3.7/site-packages (from catalogue<1.1.0,>=0.0.7->spacy<3.0,>=2.3->mordecai) (3.11.0)\n",
      "Requirement already satisfied: idna<4,>=2.5 in /opt/conda/lib/python3.7/site-packages (from requests<3.0.0,>=2.13.0->spacy<3.0,>=2.3->mordecai) (2.8)\n",
      "Requirement already satisfied: certifi>=2017.4.17 in /opt/conda/lib/python3.7/site-packages (from requests<3.0.0,>=2.13.0->spacy<3.0,>=2.3->mordecai) (2022.9.24)\n",
      "Requirement already satisfied: charset-normalizer<3,>=2 in /opt/conda/lib/python3.7/site-packages (from requests<3.0.0,>=2.13.0->spacy<3.0,>=2.3->mordecai) (2.0.4)\n",
      "Requirement already satisfied: tensorboard-data-server<0.7.0,>=0.6.0 in /opt/conda/lib/python3.7/site-packages (from tensorboard<2.12,>=2.11->tensorflow>=2.2.0->mordecai) (0.6.1)\n",
      "Requirement already satisfied: tensorboard-plugin-wit>=1.6.0 in /opt/conda/lib/python3.7/site-packages (from tensorboard<2.12,>=2.11->tensorflow>=2.2.0->mordecai) (1.8.1)\n",
      "Requirement already satisfied: google-auth-oauthlib<0.5,>=0.4.1 in /opt/conda/lib/python3.7/site-packages (from tensorboard<2.12,>=2.11->tensorflow>=2.2.0->mordecai) (0.4.6)\n",
      "Requirement already satisfied: werkzeug>=1.0.1 in /opt/conda/lib/python3.7/site-packages (from tensorboard<2.12,>=2.11->tensorflow>=2.2.0->mordecai) (2.2.2)\n",
      "Requirement already satisfied: markdown>=2.6.8 in /opt/conda/lib/python3.7/site-packages (from tensorboard<2.12,>=2.11->tensorflow>=2.2.0->mordecai) (3.4.1)\n",
      "Requirement already satisfied: google-auth<3,>=1.6.3 in /opt/conda/lib/python3.7/site-packages (from tensorboard<2.12,>=2.11->tensorflow>=2.2.0->mordecai) (2.15.0)\n",
      "Requirement already satisfied: pyparsing>=2.0.2 in /opt/conda/lib/python3.7/site-packages (from packaging->tensorflow>=2.2.0->mordecai) (2.4.6)\n",
      "Requirement already satisfied: rsa<5,>=3.1.4 in /opt/conda/lib/python3.7/site-packages (from google-auth<3,>=1.6.3->tensorboard<2.12,>=2.11->tensorflow>=2.2.0->mordecai) (4.9)\n",
      "Requirement already satisfied: cachetools<6.0,>=2.0.0 in /opt/conda/lib/python3.7/site-packages (from google-auth<3,>=1.6.3->tensorboard<2.12,>=2.11->tensorflow>=2.2.0->mordecai) (5.2.0)\n",
      "Requirement already satisfied: pyasn1-modules>=0.2.1 in /opt/conda/lib/python3.7/site-packages (from google-auth<3,>=1.6.3->tensorboard<2.12,>=2.11->tensorflow>=2.2.0->mordecai) (0.2.8)\n",
      "Requirement already satisfied: requests-oauthlib>=0.7.0 in /opt/conda/lib/python3.7/site-packages (from google-auth-oauthlib<0.5,>=0.4.1->tensorboard<2.12,>=2.11->tensorflow>=2.2.0->mordecai) (1.3.1)\n",
      "Requirement already satisfied: importlib-metadata>=4.4 in /opt/conda/lib/python3.7/site-packages (from markdown>=2.6.8->tensorboard<2.12,>=2.11->tensorflow>=2.2.0->mordecai) (5.1.0)\n",
      "Requirement already satisfied: MarkupSafe>=2.1.1 in /opt/conda/lib/python3.7/site-packages (from werkzeug>=1.0.1->tensorboard<2.12,>=2.11->tensorflow>=2.2.0->mordecai) (2.1.1)\n",
      "Requirement already satisfied: pyasn1<0.5.0,>=0.4.6 in /opt/conda/lib/python3.7/site-packages (from pyasn1-modules>=0.2.1->google-auth<3,>=1.6.3->tensorboard<2.12,>=2.11->tensorflow>=2.2.0->mordecai) (0.4.8)\n",
      "Requirement already satisfied: oauthlib>=3.0.0 in /opt/conda/lib/python3.7/site-packages (from requests-oauthlib>=0.7.0->google-auth-oauthlib<0.5,>=0.4.1->tensorboard<2.12,>=2.11->tensorflow>=2.2.0->mordecai) (3.2.2)\n",
      "\u001b[33mWARNING: Running pip as the 'root' user can result in broken permissions and conflicting behaviour with the system package manager. It is recommended to use a virtual environment instead: https://pip.pypa.io/warnings/venv\u001b[0m\u001b[33m\n",
      "\u001b[0m"
     ]
    }
   ],
   "source": [
    "!pip install mordecai --upgrade"
   ]
  },
  {
   "cell_type": "code",
   "execution_count": 10,
   "id": "b32090fc-5565-4de9-adb6-263594988662",
   "metadata": {
    "collapsed": true,
    "jupyter": {
     "outputs_hidden": true
    },
    "tags": []
   },
   "outputs": [
    {
     "name": "stdout",
     "output_type": "stream",
     "text": [
      "Keyring is skipped due to an exception: 'keyring.backends'\n",
      "Collecting en_core_web_lg==2.3.1\n",
      "  Downloading https://github.com/explosion/spacy-models/releases/download/en_core_web_lg-2.3.1/en_core_web_lg-2.3.1.tar.gz (782.7 MB)\n",
      "\u001b[2K     \u001b[90m━━━━━━━━━━━━━━━━━━━━━━━━━━━━━━━━━━━━━━━\u001b[0m \u001b[32m782.7/782.7 MB\u001b[0m \u001b[31m1.1 MB/s\u001b[0m eta \u001b[36m0:00:00\u001b[0m00:01\u001b[0m00:02\u001b[0m\n",
      "\u001b[?25h  Preparing metadata (setup.py) ... \u001b[?25ldone\n",
      "\u001b[?25hRequirement already satisfied: spacy<2.4.0,>=2.3.0 in /opt/conda/lib/python3.7/site-packages (from en_core_web_lg==2.3.1) (2.3.9)\n",
      "Requirement already satisfied: blis<0.8.0,>=0.4.0 in /opt/conda/lib/python3.7/site-packages (from spacy<2.4.0,>=2.3.0->en_core_web_lg==2.3.1) (0.7.9)\n",
      "Requirement already satisfied: thinc<7.5.0,>=7.4.1 in /opt/conda/lib/python3.7/site-packages (from spacy<2.4.0,>=2.3.0->en_core_web_lg==2.3.1) (7.4.6)\n",
      "Requirement already satisfied: requests<3.0.0,>=2.13.0 in /opt/conda/lib/python3.7/site-packages (from spacy<2.4.0,>=2.3.0->en_core_web_lg==2.3.1) (2.28.1)\n",
      "Requirement already satisfied: catalogue<1.1.0,>=0.0.7 in /opt/conda/lib/python3.7/site-packages (from spacy<2.4.0,>=2.3.0->en_core_web_lg==2.3.1) (1.0.2)\n",
      "Requirement already satisfied: tqdm<5.0.0,>=4.38.0 in /opt/conda/lib/python3.7/site-packages (from spacy<2.4.0,>=2.3.0->en_core_web_lg==2.3.1) (4.42.1)\n",
      "Requirement already satisfied: numpy>=1.15.0 in /opt/conda/lib/python3.7/site-packages (from spacy<2.4.0,>=2.3.0->en_core_web_lg==2.3.1) (1.21.6)\n",
      "Requirement already satisfied: plac<1.2.0,>=0.9.6 in /opt/conda/lib/python3.7/site-packages (from spacy<2.4.0,>=2.3.0->en_core_web_lg==2.3.1) (1.1.3)\n",
      "Requirement already satisfied: preshed<3.1.0,>=3.0.2 in /opt/conda/lib/python3.7/site-packages (from spacy<2.4.0,>=2.3.0->en_core_web_lg==2.3.1) (3.0.8)\n",
      "Requirement already satisfied: wasabi<1.1.0,>=0.4.0 in /opt/conda/lib/python3.7/site-packages (from spacy<2.4.0,>=2.3.0->en_core_web_lg==2.3.1) (0.10.1)\n",
      "Requirement already satisfied: murmurhash<1.1.0,>=0.28.0 in /opt/conda/lib/python3.7/site-packages (from spacy<2.4.0,>=2.3.0->en_core_web_lg==2.3.1) (1.0.9)\n",
      "Requirement already satisfied: srsly<1.1.0,>=1.0.2 in /opt/conda/lib/python3.7/site-packages (from spacy<2.4.0,>=2.3.0->en_core_web_lg==2.3.1) (1.0.6)\n",
      "Requirement already satisfied: cymem<2.1.0,>=2.0.2 in /opt/conda/lib/python3.7/site-packages (from spacy<2.4.0,>=2.3.0->en_core_web_lg==2.3.1) (2.0.7)\n",
      "Requirement already satisfied: setuptools in /opt/conda/lib/python3.7/site-packages (from spacy<2.4.0,>=2.3.0->en_core_web_lg==2.3.1) (59.3.0)\n",
      "Requirement already satisfied: zipp>=0.5 in /opt/conda/lib/python3.7/site-packages (from catalogue<1.1.0,>=0.0.7->spacy<2.4.0,>=2.3.0->en_core_web_lg==2.3.1) (3.11.0)\n",
      "Requirement already satisfied: typing-extensions>=3.6.4 in /opt/conda/lib/python3.7/site-packages (from catalogue<1.1.0,>=0.0.7->spacy<2.4.0,>=2.3.0->en_core_web_lg==2.3.1) (4.4.0)\n",
      "Requirement already satisfied: certifi>=2017.4.17 in /opt/conda/lib/python3.7/site-packages (from requests<3.0.0,>=2.13.0->spacy<2.4.0,>=2.3.0->en_core_web_lg==2.3.1) (2022.9.24)\n",
      "Requirement already satisfied: charset-normalizer<3,>=2 in /opt/conda/lib/python3.7/site-packages (from requests<3.0.0,>=2.13.0->spacy<2.4.0,>=2.3.0->en_core_web_lg==2.3.1) (2.0.4)\n",
      "Requirement already satisfied: urllib3<1.27,>=1.21.1 in /opt/conda/lib/python3.7/site-packages (from requests<3.0.0,>=2.13.0->spacy<2.4.0,>=2.3.0->en_core_web_lg==2.3.1) (1.26.13)\n",
      "Requirement already satisfied: idna<4,>=2.5 in /opt/conda/lib/python3.7/site-packages (from requests<3.0.0,>=2.13.0->spacy<2.4.0,>=2.3.0->en_core_web_lg==2.3.1) (2.8)\n",
      "Building wheels for collected packages: en_core_web_lg\n",
      "  Building wheel for en_core_web_lg (setup.py) ... \u001b[?25ldone\n",
      "\u001b[?25h  Created wheel for en_core_web_lg: filename=en_core_web_lg-2.3.1-py3-none-any.whl size=782936122 sha256=efaed4dca739acbfebdeb6e268623bf8b5f5f39aa699908bef153ff37d3803a9\n",
      "  Stored in directory: /root/.cache/pip/wheels/41/75/77/c4a98e18b2c317a2a13931cbbea7e3ca7f3a21efc36adc1d71\n",
      "Successfully built en_core_web_lg\n",
      "Installing collected packages: en_core_web_lg\n",
      "Successfully installed en_core_web_lg-2.3.1\n",
      "\u001b[33mWARNING: Running pip as the 'root' user can result in broken permissions and conflicting behaviour with the system package manager. It is recommended to use a virtual environment instead: https://pip.pypa.io/warnings/venv\u001b[0m\u001b[33m\n",
      "\u001b[0m\u001b[38;5;2m✔ Download and installation successful\u001b[0m\n",
      "You can now load the model via spacy.load('en_core_web_lg')\n",
      "/opt/conda/lib/python3.7/site-packages/pkg_resources/__init__.py:119: PkgResourcesDeprecationWarning: 4.0.0-unsupported is an invalid version and will not be supported in a future release\n",
      "  PkgResourcesDeprecationWarning,\n"
     ]
    }
   ],
   "source": [
    "!python -m spacy download en_core_web_lg"
   ]
  },
  {
   "cell_type": "code",
   "execution_count": 6,
   "id": "c4b13728-8b2d-4228-8050-ed61cda3caca",
   "metadata": {
    "tags": []
   },
   "outputs": [
    {
     "data": {
      "text/plain": [
       "\"Mae'r llwynog brown cyflym yn neidio dros y ci diog.\""
      ]
     },
     "execution_count": 6,
     "metadata": {},
     "output_type": "execute_result"
    }
   ],
   "source": [
    "import translators.server as ts\n",
    "\n",
    "phrase = 'The quick brown fox jumps over the lazy dog.'\n",
    "ts.google(phrase, from_language='en', to_language='cy')"
   ]
  },
  {
   "cell_type": "code",
   "execution_count": 16,
   "id": "4b231a66-201f-49fd-920d-5e079d6471b4",
   "metadata": {
    "tags": []
   },
   "outputs": [],
   "source": [
    "import en_core_web_lg\n",
    "nlp = en_core_web_lg.load()"
   ]
  },
  {
   "cell_type": "code",
   "execution_count": 19,
   "id": "a3474aef-274a-484b-ae39-ecdff3272a2e",
   "metadata": {
    "tags": []
   },
   "outputs": [
    {
     "ename": "OSError",
     "evalue": "[E050] Can't find model 'en_core_web_lg'. It doesn't seem to be a shortcut link, a Python package or a valid path to a data directory.",
     "output_type": "error",
     "traceback": [
      "\u001b[0;31m---------------------------------------------------------------------------\u001b[0m",
      "\u001b[0;31mNameError\u001b[0m                                 Traceback (most recent call last)",
      "\u001b[0;32m/opt/conda/lib/python3.7/site-packages/mordecai/utilities.py\u001b[0m in \u001b[0;36m<module>\u001b[0;34m\u001b[0m\n\u001b[1;32m     14\u001b[0m \u001b[0;32mtry\u001b[0m\u001b[0;34m:\u001b[0m\u001b[0;34m\u001b[0m\u001b[0;34m\u001b[0m\u001b[0m\n\u001b[0;32m---> 15\u001b[0;31m     \u001b[0mnlp\u001b[0m\u001b[0;34m\u001b[0m\u001b[0;34m\u001b[0m\u001b[0m\n\u001b[0m\u001b[1;32m     16\u001b[0m \u001b[0;32mexcept\u001b[0m \u001b[0mNameError\u001b[0m\u001b[0;34m:\u001b[0m\u001b[0;34m\u001b[0m\u001b[0;34m\u001b[0m\u001b[0m\n",
      "\u001b[0;31mNameError\u001b[0m: name 'nlp' is not defined",
      "\nDuring handling of the above exception, another exception occurred:\n",
      "\u001b[0;31mOSError\u001b[0m                                   Traceback (most recent call last)",
      "\u001b[0;32m<ipython-input-19-d17ebaf37f3d>\u001b[0m in \u001b[0;36m<module>\u001b[0;34m\u001b[0m\n\u001b[0;32m----> 1\u001b[0;31m \u001b[0;32mfrom\u001b[0m \u001b[0mmordecai\u001b[0m \u001b[0;32mimport\u001b[0m \u001b[0mGeoparser\u001b[0m\u001b[0;34m\u001b[0m\u001b[0;34m\u001b[0m\u001b[0m\n\u001b[0m\u001b[1;32m      2\u001b[0m \u001b[0mgeo\u001b[0m \u001b[0;34m=\u001b[0m \u001b[0mGeoparser\u001b[0m\u001b[0;34m(\u001b[0m\u001b[0;34m)\u001b[0m\u001b[0;34m\u001b[0m\u001b[0;34m\u001b[0m\u001b[0m\n\u001b[1;32m      3\u001b[0m \u001b[0mgeo\u001b[0m\u001b[0;34m.\u001b[0m\u001b[0mgeoparse\u001b[0m\u001b[0;34m(\u001b[0m\u001b[0;34m\"I traveled from Oxford to Ottawa.\"\u001b[0m\u001b[0;34m)\u001b[0m\u001b[0;34m\u001b[0m\u001b[0;34m\u001b[0m\u001b[0m\n\u001b[1;32m      4\u001b[0m \u001b[0;34m\u001b[0m\u001b[0m\n\u001b[1;32m      5\u001b[0m '''\n",
      "\u001b[0;32m/opt/conda/lib/python3.7/site-packages/mordecai/__init__.py\u001b[0m in \u001b[0;36m<module>\u001b[0;34m\u001b[0m\n\u001b[0;32m----> 1\u001b[0;31m \u001b[0;32mfrom\u001b[0m \u001b[0;34m.\u001b[0m\u001b[0mgeoparse\u001b[0m \u001b[0;32mimport\u001b[0m \u001b[0mGeoparser\u001b[0m\u001b[0;34m\u001b[0m\u001b[0;34m\u001b[0m\u001b[0m\n\u001b[0m\u001b[1;32m      2\u001b[0m \u001b[0;34m\u001b[0m\u001b[0m\n\u001b[1;32m      3\u001b[0m \u001b[0m__version__\u001b[0m \u001b[0;34m=\u001b[0m \u001b[0;34m\"2.1.0\"\u001b[0m\u001b[0;34m\u001b[0m\u001b[0;34m\u001b[0m\u001b[0m\n",
      "\u001b[0;32m/opt/conda/lib/python3.7/site-packages/mordecai/geoparse.py\u001b[0m in \u001b[0;36m<module>\u001b[0;34m\u001b[0m\n\u001b[1;32m      6\u001b[0m \u001b[0;32mimport\u001b[0m \u001b[0mpkg_resources\u001b[0m\u001b[0;34m\u001b[0m\u001b[0;34m\u001b[0m\u001b[0m\n\u001b[1;32m      7\u001b[0m \u001b[0;32mimport\u001b[0m \u001b[0mspacy\u001b[0m\u001b[0;34m\u001b[0m\u001b[0;34m\u001b[0m\u001b[0m\n\u001b[0;32m----> 8\u001b[0;31m \u001b[0;32mfrom\u001b[0m \u001b[0;34m.\u001b[0m \u001b[0;32mimport\u001b[0m \u001b[0mutilities\u001b[0m\u001b[0;34m\u001b[0m\u001b[0;34m\u001b[0m\u001b[0m\n\u001b[0m\u001b[1;32m      9\u001b[0m \u001b[0;32mfrom\u001b[0m \u001b[0mmultiprocessing\u001b[0m\u001b[0;34m.\u001b[0m\u001b[0mpool\u001b[0m \u001b[0;32mimport\u001b[0m \u001b[0mThreadPool\u001b[0m\u001b[0;34m\u001b[0m\u001b[0;34m\u001b[0m\u001b[0m\n\u001b[1;32m     10\u001b[0m \u001b[0;32mfrom\u001b[0m \u001b[0melasticsearch\u001b[0m\u001b[0;34m.\u001b[0m\u001b[0mexceptions\u001b[0m \u001b[0;32mimport\u001b[0m \u001b[0mConnectionTimeout\u001b[0m\u001b[0;34m,\u001b[0m \u001b[0mConnectionError\u001b[0m\u001b[0;34m\u001b[0m\u001b[0;34m\u001b[0m\u001b[0m\n",
      "\u001b[0;32m/opt/conda/lib/python3.7/site-packages/mordecai/utilities.py\u001b[0m in \u001b[0;36m<module>\u001b[0;34m\u001b[0m\n\u001b[1;32m     15\u001b[0m     \u001b[0mnlp\u001b[0m\u001b[0;34m\u001b[0m\u001b[0;34m\u001b[0m\u001b[0m\n\u001b[1;32m     16\u001b[0m \u001b[0;32mexcept\u001b[0m \u001b[0mNameError\u001b[0m\u001b[0;34m:\u001b[0m\u001b[0;34m\u001b[0m\u001b[0;34m\u001b[0m\u001b[0m\n\u001b[0;32m---> 17\u001b[0;31m     \u001b[0mnlp\u001b[0m \u001b[0;34m=\u001b[0m \u001b[0mspacy\u001b[0m\u001b[0;34m.\u001b[0m\u001b[0mload\u001b[0m\u001b[0;34m(\u001b[0m\u001b[0;34m'en_core_web_lg'\u001b[0m\u001b[0;34m)\u001b[0m\u001b[0;34m\u001b[0m\u001b[0;34m\u001b[0m\u001b[0m\n\u001b[0m\u001b[1;32m     18\u001b[0m \u001b[0;34m\u001b[0m\u001b[0m\n\u001b[1;32m     19\u001b[0m \u001b[0;34m\u001b[0m\u001b[0m\n",
      "\u001b[0;32m/opt/conda/lib/python3.7/site-packages/spacy/__init__.py\u001b[0m in \u001b[0;36mload\u001b[0;34m(name, **overrides)\u001b[0m\n\u001b[1;32m     28\u001b[0m     \u001b[0;32mif\u001b[0m \u001b[0mdepr_path\u001b[0m \u001b[0;32mnot\u001b[0m \u001b[0;32min\u001b[0m \u001b[0;34m(\u001b[0m\u001b[0;32mTrue\u001b[0m\u001b[0;34m,\u001b[0m \u001b[0;32mFalse\u001b[0m\u001b[0;34m,\u001b[0m \u001b[0;32mNone\u001b[0m\u001b[0;34m)\u001b[0m\u001b[0;34m:\u001b[0m\u001b[0;34m\u001b[0m\u001b[0;34m\u001b[0m\u001b[0m\n\u001b[1;32m     29\u001b[0m         \u001b[0mwarnings\u001b[0m\u001b[0;34m.\u001b[0m\u001b[0mwarn\u001b[0m\u001b[0;34m(\u001b[0m\u001b[0mWarnings\u001b[0m\u001b[0;34m.\u001b[0m\u001b[0mW001\u001b[0m\u001b[0;34m.\u001b[0m\u001b[0mformat\u001b[0m\u001b[0;34m(\u001b[0m\u001b[0mpath\u001b[0m\u001b[0;34m=\u001b[0m\u001b[0mdepr_path\u001b[0m\u001b[0;34m)\u001b[0m\u001b[0;34m,\u001b[0m \u001b[0mDeprecationWarning\u001b[0m\u001b[0;34m)\u001b[0m\u001b[0;34m\u001b[0m\u001b[0;34m\u001b[0m\u001b[0m\n\u001b[0;32m---> 30\u001b[0;31m     \u001b[0;32mreturn\u001b[0m \u001b[0mutil\u001b[0m\u001b[0;34m.\u001b[0m\u001b[0mload_model\u001b[0m\u001b[0;34m(\u001b[0m\u001b[0mname\u001b[0m\u001b[0;34m,\u001b[0m \u001b[0;34m**\u001b[0m\u001b[0moverrides\u001b[0m\u001b[0;34m)\u001b[0m\u001b[0;34m\u001b[0m\u001b[0;34m\u001b[0m\u001b[0m\n\u001b[0m\u001b[1;32m     31\u001b[0m \u001b[0;34m\u001b[0m\u001b[0m\n\u001b[1;32m     32\u001b[0m \u001b[0;34m\u001b[0m\u001b[0m\n",
      "\u001b[0;32m/opt/conda/lib/python3.7/site-packages/spacy/util.py\u001b[0m in \u001b[0;36mload_model\u001b[0;34m(name, **overrides)\u001b[0m\n\u001b[1;32m    173\u001b[0m     \u001b[0;32melif\u001b[0m \u001b[0mhasattr\u001b[0m\u001b[0;34m(\u001b[0m\u001b[0mname\u001b[0m\u001b[0;34m,\u001b[0m \u001b[0;34m\"exists\"\u001b[0m\u001b[0;34m)\u001b[0m\u001b[0;34m:\u001b[0m  \u001b[0;31m# Path or Path-like to model data\u001b[0m\u001b[0;34m\u001b[0m\u001b[0;34m\u001b[0m\u001b[0m\n\u001b[1;32m    174\u001b[0m         \u001b[0;32mreturn\u001b[0m \u001b[0mload_model_from_path\u001b[0m\u001b[0;34m(\u001b[0m\u001b[0mname\u001b[0m\u001b[0;34m,\u001b[0m \u001b[0;34m**\u001b[0m\u001b[0moverrides\u001b[0m\u001b[0;34m)\u001b[0m\u001b[0;34m\u001b[0m\u001b[0;34m\u001b[0m\u001b[0m\n\u001b[0;32m--> 175\u001b[0;31m     \u001b[0;32mraise\u001b[0m \u001b[0mIOError\u001b[0m\u001b[0;34m(\u001b[0m\u001b[0mErrors\u001b[0m\u001b[0;34m.\u001b[0m\u001b[0mE050\u001b[0m\u001b[0;34m.\u001b[0m\u001b[0mformat\u001b[0m\u001b[0;34m(\u001b[0m\u001b[0mname\u001b[0m\u001b[0;34m=\u001b[0m\u001b[0mname\u001b[0m\u001b[0;34m)\u001b[0m\u001b[0;34m)\u001b[0m\u001b[0;34m\u001b[0m\u001b[0;34m\u001b[0m\u001b[0m\n\u001b[0m\u001b[1;32m    176\u001b[0m \u001b[0;34m\u001b[0m\u001b[0m\n\u001b[1;32m    177\u001b[0m \u001b[0;34m\u001b[0m\u001b[0m\n",
      "\u001b[0;31mOSError\u001b[0m: [E050] Can't find model 'en_core_web_lg'. It doesn't seem to be a shortcut link, a Python package or a valid path to a data directory."
     ]
    }
   ],
   "source": [
    "from mordecai import Geoparser\n",
    "geo = Geoparser()\n",
    "geo.geoparse(\"I traveled from Oxford to Ottawa.\")\n",
    "\n",
    "'''\n",
    "[{'country_conf': 0.96474487,\n",
    "  'country_predicted': 'GBR',\n",
    "  'geo': {'admin1': 'England',\n",
    "   'country_code3': 'GBR',\n",
    "   'feature_class': 'P',\n",
    "   'feature_code': 'PPLA2',\n",
    "   'geonameid': '2640729',\n",
    "   'lat': '51.75222',\n",
    "   'lon': '-1.25596',\n",
    "   'place_name': 'Oxford'},\n",
    "  'spans': [{'end': 22, 'start': 16}],\n",
    "  'word': 'Oxford'},\n",
    " {'country_conf': 0.83302397,\n",
    "  'country_predicted': 'CAN',\n",
    "  'geo': {'admin1': 'Ontario',\n",
    "   'country_code3': 'CAN',\n",
    "   'feature_class': 'P',\n",
    "   'feature_code': 'PPLC',\n",
    "   'geonameid': '6094817',\n",
    "   'lat': '45.41117',\n",
    "   'lon': '-75.69812',\n",
    "   'place_name': 'Ottawa'},\n",
    "  'spans': [{'end': 32, 'start': 26}],\n",
    "  'word': 'Ottawa'}]\n",
    "'''"
   ]
  },
  {
   "cell_type": "code",
   "execution_count": null,
   "id": "506543dd-e00c-4df3-ac4c-c915c37edffc",
   "metadata": {
    "tags": []
   },
   "outputs": [],
   "source": [
    "df_es = df[df.lang == \"es\"]"
   ]
  },
  {
   "cell_type": "code",
   "execution_count": null,
   "id": "6b20848a-e422-4594-8be8-cf292b7e241a",
   "metadata": {
    "tags": []
   },
   "outputs": [],
   "source": [
    "df_es.reset_index(inplace=True, drop=True)\n",
    "df_es"
   ]
  },
  {
   "cell_type": "code",
   "execution_count": null,
   "id": "d40fa8ef-15df-45d6-b66f-e6230896cc76",
   "metadata": {
    "tags": []
   },
   "outputs": [],
   "source": [
    "df1 = df_es[df_es.tweet.str.len() >= 5]"
   ]
  },
  {
   "cell_type": "code",
   "execution_count": 5,
   "id": "ef018c68-a72b-4164-b9c1-2075abf41d62",
   "metadata": {
    "collapsed": true,
    "jupyter": {
     "outputs_hidden": true
    },
    "tags": []
   },
   "outputs": [
    {
     "name": "stdout",
     "output_type": "stream",
     "text": [
      "Keyring is skipped due to an exception: 'keyring.backends'\n",
      "Collecting googletrans==4.0.0-rc1\n",
      "  Using cached googletrans-4.0.0rc1-py3-none-any.whl\n",
      "Requirement already satisfied: httpx==0.13.3 in /opt/conda/lib/python3.7/site-packages (from googletrans==4.0.0-rc1) (0.13.3)\n",
      "Requirement already satisfied: sniffio in /opt/conda/lib/python3.7/site-packages (from httpx==0.13.3->googletrans==4.0.0-rc1) (1.3.0)\n",
      "Requirement already satisfied: rfc3986<2,>=1.3 in /opt/conda/lib/python3.7/site-packages (from httpx==0.13.3->googletrans==4.0.0-rc1) (1.5.0)\n",
      "Requirement already satisfied: hstspreload in /opt/conda/lib/python3.7/site-packages (from httpx==0.13.3->googletrans==4.0.0-rc1) (2023.1.1)\n",
      "Requirement already satisfied: chardet==3.* in /opt/conda/lib/python3.7/site-packages (from httpx==0.13.3->googletrans==4.0.0-rc1) (3.0.4)\n",
      "Requirement already satisfied: certifi in /opt/conda/lib/python3.7/site-packages (from httpx==0.13.3->googletrans==4.0.0-rc1) (2022.9.24)\n",
      "Requirement already satisfied: httpcore==0.9.* in /opt/conda/lib/python3.7/site-packages (from httpx==0.13.3->googletrans==4.0.0-rc1) (0.9.1)\n",
      "Requirement already satisfied: idna==2.* in /opt/conda/lib/python3.7/site-packages (from httpx==0.13.3->googletrans==4.0.0-rc1) (2.8)\n",
      "Requirement already satisfied: h11<0.10,>=0.8 in /opt/conda/lib/python3.7/site-packages (from httpcore==0.9.*->httpx==0.13.3->googletrans==4.0.0-rc1) (0.9.0)\n",
      "Requirement already satisfied: h2==3.* in /opt/conda/lib/python3.7/site-packages (from httpcore==0.9.*->httpx==0.13.3->googletrans==4.0.0-rc1) (3.2.0)\n",
      "Requirement already satisfied: hpack<4,>=3.0 in /opt/conda/lib/python3.7/site-packages (from h2==3.*->httpcore==0.9.*->httpx==0.13.3->googletrans==4.0.0-rc1) (3.0.0)\n",
      "Requirement already satisfied: hyperframe<6,>=5.2.0 in /opt/conda/lib/python3.7/site-packages (from h2==3.*->httpcore==0.9.*->httpx==0.13.3->googletrans==4.0.0-rc1) (5.2.0)\n",
      "Installing collected packages: googletrans\n",
      "  Attempting uninstall: googletrans\n",
      "    Found existing installation: googletrans 3.0.0\n",
      "    Uninstalling googletrans-3.0.0:\n",
      "      Successfully uninstalled googletrans-3.0.0\n",
      "Successfully installed googletrans-4.0.0rc1\n",
      "\u001b[33mWARNING: Running pip as the 'root' user can result in broken permissions and conflicting behaviour with the system package manager. It is recommended to use a virtual environment instead: https://pip.pypa.io/warnings/venv\u001b[0m\u001b[33m\n",
      "\u001b[0m"
     ]
    }
   ],
   "source": [
    "!pip install googletrans==4.0.0-rc1"
   ]
  },
  {
   "cell_type": "code",
   "execution_count": 6,
   "id": "ddc97ba4-8c21-4c2c-812d-64b31b88ab6c",
   "metadata": {
    "tags": []
   },
   "outputs": [
    {
     "ename": "AttributeError",
     "evalue": "'NoneType' object has no attribute 'group'",
     "output_type": "error",
     "traceback": [
      "\u001b[0;31m---------------------------------------------------------------------------\u001b[0m",
      "\u001b[0;31mAttributeError\u001b[0m                            Traceback (most recent call last)",
      "\u001b[0;32m<ipython-input-6-40c3d41d0c15>\u001b[0m in \u001b[0;36m<module>\u001b[0;34m\u001b[0m\n\u001b[1;32m      1\u001b[0m \u001b[0;32mfrom\u001b[0m \u001b[0mgoogletrans\u001b[0m \u001b[0;32mimport\u001b[0m \u001b[0mTranslator\u001b[0m\u001b[0;34m\u001b[0m\u001b[0;34m\u001b[0m\u001b[0m\n\u001b[1;32m      2\u001b[0m \u001b[0mtranslator\u001b[0m \u001b[0;34m=\u001b[0m \u001b[0mTranslator\u001b[0m\u001b[0;34m(\u001b[0m\u001b[0;34m)\u001b[0m\u001b[0;34m\u001b[0m\u001b[0;34m\u001b[0m\u001b[0m\n\u001b[0;32m----> 3\u001b[0;31m \u001b[0mtranslator\u001b[0m\u001b[0;34m.\u001b[0m\u001b[0mdetect\u001b[0m\u001b[0;34m(\u001b[0m\u001b[0;34m'이 문장은 한글로 쓰여졌습니다.'\u001b[0m\u001b[0;34m)\u001b[0m\u001b[0;34m\u001b[0m\u001b[0;34m\u001b[0m\u001b[0m\n\u001b[0m\u001b[1;32m      4\u001b[0m \u001b[0mprint\u001b[0m\u001b[0;34m(\u001b[0m\u001b[0mtranslator\u001b[0m\u001b[0;34m.\u001b[0m\u001b[0mdetect\u001b[0m\u001b[0;34m(\u001b[0m\u001b[0;34m'이 문장은 한글로 쓰여졌습니다.'\u001b[0m\u001b[0;34m)\u001b[0m\u001b[0;34m)\u001b[0m\u001b[0;34m\u001b[0m\u001b[0;34m\u001b[0m\u001b[0m\n",
      "\u001b[0;32m/opt/conda/lib/python3.7/site-packages/googletrans/client.py\u001b[0m in \u001b[0;36mdetect\u001b[0;34m(self, text, **kwargs)\u001b[0m\n\u001b[1;32m    253\u001b[0m             \u001b[0;34m'parts'\u001b[0m\u001b[0;34m:\u001b[0m \u001b[0mtranslated_parts\u001b[0m\u001b[0;34m,\u001b[0m\u001b[0;34m\u001b[0m\u001b[0;34m\u001b[0m\u001b[0m\n\u001b[1;32m    254\u001b[0m             \u001b[0;34m'origin_pronunciation'\u001b[0m\u001b[0;34m:\u001b[0m \u001b[0morigin_pronunciation\u001b[0m\u001b[0;34m,\u001b[0m\u001b[0;34m\u001b[0m\u001b[0;34m\u001b[0m\u001b[0m\n\u001b[0;32m--> 255\u001b[0;31m             \u001b[0;34m'parsed'\u001b[0m\u001b[0;34m:\u001b[0m \u001b[0mparsed\u001b[0m\u001b[0;34m,\u001b[0m\u001b[0;34m\u001b[0m\u001b[0;34m\u001b[0m\u001b[0m\n\u001b[0m\u001b[1;32m    256\u001b[0m         }\n\u001b[1;32m    257\u001b[0m         result = Translated(src=src, dest=dest, origin=origin,\n",
      "\u001b[0;32m/opt/conda/lib/python3.7/site-packages/googletrans/client.py\u001b[0m in \u001b[0;36m_translate\u001b[0;34m(self, text, dest, src, override)\u001b[0m\n\u001b[1;32m     76\u001b[0m         \u001b[0;32mif\u001b[0m \u001b[0mtimeout\u001b[0m \u001b[0;32mis\u001b[0m \u001b[0;32mnot\u001b[0m \u001b[0;32mNone\u001b[0m\u001b[0;34m:\u001b[0m\u001b[0;34m\u001b[0m\u001b[0;34m\u001b[0m\u001b[0m\n\u001b[1;32m     77\u001b[0m             \u001b[0mself\u001b[0m\u001b[0;34m.\u001b[0m\u001b[0mclient\u001b[0m\u001b[0;34m.\u001b[0m\u001b[0mtimeout\u001b[0m \u001b[0;34m=\u001b[0m \u001b[0mtimeout\u001b[0m\u001b[0;34m\u001b[0m\u001b[0;34m\u001b[0m\u001b[0m\n\u001b[0;32m---> 78\u001b[0;31m \u001b[0;34m\u001b[0m\u001b[0m\n\u001b[0m\u001b[1;32m     79\u001b[0m         \u001b[0;32mif\u001b[0m \u001b[0muse_fallback\u001b[0m\u001b[0;34m:\u001b[0m\u001b[0;34m\u001b[0m\u001b[0;34m\u001b[0m\u001b[0m\n\u001b[1;32m     80\u001b[0m             \u001b[0mself\u001b[0m\u001b[0;34m.\u001b[0m\u001b[0mservice_urls\u001b[0m \u001b[0;34m=\u001b[0m \u001b[0mDEFAULT_FALLBACK_SERVICE_URLS\u001b[0m\u001b[0;34m\u001b[0m\u001b[0;34m\u001b[0m\u001b[0m\n",
      "\u001b[0;32m/opt/conda/lib/python3.7/site-packages/googletrans/gtoken.py\u001b[0m in \u001b[0;36mdo\u001b[0;34m(self, text)\u001b[0m\n\u001b[1;32m    192\u001b[0m         \u001b[0;32mif\u001b[0m \u001b[0ma\u001b[0m \u001b[0;34m<\u001b[0m \u001b[0;36m0\u001b[0m\u001b[0;34m:\u001b[0m  \u001b[0;31m# pragma: nocover\u001b[0m\u001b[0;34m\u001b[0m\u001b[0;34m\u001b[0m\u001b[0m\n\u001b[1;32m    193\u001b[0m             \u001b[0ma\u001b[0m \u001b[0;34m=\u001b[0m \u001b[0;34m(\u001b[0m\u001b[0ma\u001b[0m \u001b[0;34m&\u001b[0m \u001b[0;36m2147483647\u001b[0m\u001b[0;34m)\u001b[0m \u001b[0;34m+\u001b[0m \u001b[0;36m2147483648\u001b[0m\u001b[0;34m\u001b[0m\u001b[0;34m\u001b[0m\u001b[0m\n\u001b[0;32m--> 194\u001b[0;31m         \u001b[0ma\u001b[0m \u001b[0;34m%=\u001b[0m \u001b[0;36m1000000\u001b[0m  \u001b[0;31m# int(1E6)\u001b[0m\u001b[0;34m\u001b[0m\u001b[0;34m\u001b[0m\u001b[0m\n\u001b[0m\u001b[1;32m    195\u001b[0m \u001b[0;34m\u001b[0m\u001b[0m\n\u001b[1;32m    196\u001b[0m         \u001b[0;32mreturn\u001b[0m \u001b[0;34m'{}.{}'\u001b[0m\u001b[0;34m.\u001b[0m\u001b[0mformat\u001b[0m\u001b[0;34m(\u001b[0m\u001b[0ma\u001b[0m\u001b[0;34m,\u001b[0m \u001b[0ma\u001b[0m \u001b[0;34m^\u001b[0m \u001b[0mb\u001b[0m\u001b[0;34m)\u001b[0m\u001b[0;34m\u001b[0m\u001b[0;34m\u001b[0m\u001b[0m\n",
      "\u001b[0;32m/opt/conda/lib/python3.7/site-packages/googletrans/gtoken.py\u001b[0m in \u001b[0;36m_update\u001b[0;34m(self)\u001b[0m\n\u001b[1;32m     60\u001b[0m \u001b[0;34m\u001b[0m\u001b[0m\n\u001b[1;32m     61\u001b[0m         \u001b[0;32mtry\u001b[0m\u001b[0;34m:\u001b[0m\u001b[0;34m\u001b[0m\u001b[0;34m\u001b[0m\u001b[0m\n\u001b[0;32m---> 62\u001b[0;31m             \u001b[0;31m# this will be the same as python code after stripping out a reserved word 'var'\u001b[0m\u001b[0;34m\u001b[0m\u001b[0;34m\u001b[0m\u001b[0;34m\u001b[0m\u001b[0m\n\u001b[0m\u001b[1;32m     63\u001b[0m             \u001b[0mcode\u001b[0m \u001b[0;34m=\u001b[0m \u001b[0mself\u001b[0m\u001b[0;34m.\u001b[0m\u001b[0mRE_TKK\u001b[0m\u001b[0;34m.\u001b[0m\u001b[0msearch\u001b[0m\u001b[0;34m(\u001b[0m\u001b[0mr\u001b[0m\u001b[0;34m.\u001b[0m\u001b[0mtext\u001b[0m\u001b[0;34m)\u001b[0m\u001b[0;34m.\u001b[0m\u001b[0mgroup\u001b[0m\u001b[0;34m(\u001b[0m\u001b[0;36m1\u001b[0m\u001b[0;34m)\u001b[0m\u001b[0;34m.\u001b[0m\u001b[0mreplace\u001b[0m\u001b[0;34m(\u001b[0m\u001b[0;34m'var '\u001b[0m\u001b[0;34m,\u001b[0m \u001b[0;34m''\u001b[0m\u001b[0;34m)\u001b[0m\u001b[0;34m\u001b[0m\u001b[0;34m\u001b[0m\u001b[0m\n\u001b[1;32m     64\u001b[0m             \u001b[0;31m# unescape special ascii characters such like a \\x3d(=)\u001b[0m\u001b[0;34m\u001b[0m\u001b[0;34m\u001b[0m\u001b[0;34m\u001b[0m\u001b[0m\n",
      "\u001b[0;31mAttributeError\u001b[0m: 'NoneType' object has no attribute 'group'"
     ]
    }
   ],
   "source": [
    "from googletrans import Translator\n",
    "translator = Translator()\n",
    "translator.detect('이 문장은 한글로 쓰여졌습니다.')\n",
    "print(translator.detect('이 문장은 한글로 쓰여졌습니다.'))"
   ]
  },
  {
   "cell_type": "code",
   "execution_count": null,
   "id": "c501aefb-b367-4bbb-9f79-c93bcceed063",
   "metadata": {
    "tags": []
   },
   "outputs": [],
   "source": [
    "df1.tweet"
   ]
  },
  {
   "cell_type": "code",
   "execution_count": null,
   "id": "53aa69d0-3bf8-4e05-9973-241cb1e12dfc",
   "metadata": {
    "tags": []
   },
   "outputs": [],
   "source": [
    "translator.translate(\"se van los 25 :/\", src='es', dest='en')"
   ]
  },
  {
   "cell_type": "code",
   "execution_count": null,
   "id": "d91ee357-4004-46e5-b79c-4a91f49cfbff",
   "metadata": {
    "tags": []
   },
   "outputs": [],
   "source": [
    "from googletrans import Translator\n",
    "translator = Translator()\n",
    "\n",
    "english = df1['tweet'].apply(translator.translate, src='es', dest='en').apply(getattr, args=('text',))\n",
    "\n",
    "english"
   ]
  },
  {
   "cell_type": "code",
   "execution_count": null,
   "id": "2bfafa6a-c105-4119-b847-33616e54158a",
   "metadata": {
    "tags": []
   },
   "outputs": [],
   "source": [
    "!pip install torch torchvision torchaudio"
   ]
  },
  {
   "cell_type": "code",
   "execution_count": null,
   "id": "5e8ceeb0-6110-490e-a96c-95a175b5729e",
   "metadata": {
    "tags": []
   },
   "outputs": [],
   "source": [
    "!pip3 install tensorflow"
   ]
  },
  {
   "cell_type": "code",
   "execution_count": null,
   "id": "05754038-5c09-4b06-b49f-3e499bf81c8b",
   "metadata": {
    "tags": []
   },
   "outputs": [],
   "source": [
    "!pip3 install sentencepiece"
   ]
  },
  {
   "cell_type": "code",
   "execution_count": null,
   "id": "b166e191-1282-49b5-9786-71d9d83f7ec0",
   "metadata": {
    "tags": []
   },
   "outputs": [],
   "source": [
    "!pip3 install transformers[sentencepiece]"
   ]
  },
  {
   "cell_type": "code",
   "execution_count": null,
   "id": "ac4c63c2-78b6-48d0-835d-7617b925a292",
   "metadata": {
    "tags": []
   },
   "outputs": [],
   "source": [
    "from transformers import pipeline\n",
    "\n",
    "# source & destination languages\n",
    "src = \"en\"\n",
    "dst = \"es\"\n",
    "\n",
    "task_name = f\"translation_{src}_to_{dst}\"\n",
    "model_name = f\"Helsinki-NLP/opus-mt-{src}-{dst}\""
   ]
  },
  {
   "cell_type": "code",
   "execution_count": null,
   "id": "40a86fd7-9ea0-470e-aad6-d20fec69ae10",
   "metadata": {
    "tags": []
   },
   "outputs": [],
   "source": [
    "translator  = pipeline(task_name, model=model_name, tokenizer=model_name)"
   ]
  },
  {
   "cell_type": "code",
   "execution_count": null,
   "id": "0ffd2a8c-677a-4f4d-bf65-746c49c84740",
   "metadata": {},
   "outputs": [],
   "source": [
    "translator(\"You're a genius.\")[0][\"translation_text\"]"
   ]
  }
 ],
 "metadata": {
  "instance_type": "ml.m5.2xlarge",
  "kernelspec": {
   "display_name": "Python 3 (Data Science)",
   "language": "python",
   "name": "python3__SAGEMAKER_INTERNAL__arn:aws:sagemaker:eu-west-2:712779665605:image/datascience-1.0"
  },
  "language_info": {
   "codemirror_mode": {
    "name": "ipython",
    "version": 3
   },
   "file_extension": ".py",
   "mimetype": "text/x-python",
   "name": "python",
   "nbconvert_exporter": "python",
   "pygments_lexer": "ipython3",
   "version": "3.7.10"
  }
 },
 "nbformat": 4,
 "nbformat_minor": 5
}
