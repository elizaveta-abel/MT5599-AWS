{
 "cells": [
  {
   "cell_type": "code",
   "execution_count": 2,
   "id": "b64a5671-fb15-4d14-a349-afee1bce7a58",
   "metadata": {
    "tags": []
   },
   "outputs": [
    {
     "name": "stderr",
     "output_type": "stream",
     "text": [
      "/opt/conda/lib/python3.7/site-packages/IPython/core/interactiveshell.py:3553: DtypeWarning: Columns (0,1,2,3,4,6,8,9,10,11,12,13,14,15,16,17,18,19,20,21,22,23,24,25,26,27,28,29,30,31,32,33,34,35,38,39,40,41,42,43,44,45,46,47) have mixed types.Specify dtype option on import or set low_memory=False.\n",
      "  exec(code_obj, self.user_global_ns, self.user_ns)\n"
     ]
    }
   ],
   "source": [
    "import boto3\n",
    "import pandas as pd\n",
    "from sagemaker import get_execution_role\n",
    "\n",
    "role = get_execution_role()\n",
    "bucket='mt5599'\n",
    "df_2016 = 'df_2016.csv'\n",
    "df_2019 = 'df_2019.csv'\n",
    "data_location_2016 = 's3://{}/{}'.format(bucket, df_2016)\n",
    "data_location_2019 = 's3://{}/{}'.format(bucket, df_2019)\n",
    "\n",
    "df_2016 = pd.read_csv(data_location_2016)\n",
    "#df_2019 = pd.read_csv(data_location_2019)"
   ]
  },
  {
   "cell_type": "code",
   "execution_count": 3,
   "id": "c1ea1748-f254-4cca-9c65-940af48051d6",
   "metadata": {},
   "outputs": [
    {
     "data": {
      "text/plain": [
       "Index(['Unnamed: 0', 'url', 'date', 'content', 'renderedContent', 'id', 'user',\n",
       "       'replyCount', 'retweetCount', 'likeCount', 'quoteCount',\n",
       "       'conversationId', 'lang', 'source', 'sourceUrl', 'sourceLabel',\n",
       "       'outlinks', 'tcooutlinks', 'media', 'retweetedTweet', 'quotedTweet',\n",
       "       'inReplyToTweetId', 'inReplyToUser', 'mentionedUsers', 'coordinates',\n",
       "       'place', 'hashtags', 'cashtags', 'username', 'user_location', 'user_id',\n",
       "       'displayname', 'user_description', 'user_description_urls',\n",
       "       'user_verified', 'user_created', 'user_followers_count',\n",
       "       'user_friends_count', 'user_statuses_count', 'user_favourites_count',\n",
       "       'user_listed_count', 'user_media_count', 'user_protected',\n",
       "       'user_link_url', 'link_tcourl', 'user_profile_image_url',\n",
       "       'user_profile_banner_url', 'user_label'],\n",
       "      dtype='object')"
      ]
     },
     "execution_count": 3,
     "metadata": {},
     "output_type": "execute_result"
    }
   ],
   "source": [
    "df_2016.columns"
   ]
  },
  {
   "cell_type": "code",
   "execution_count": 5,
   "id": "7652920f-96ca-40e0-9a53-6a49d9fdc138",
   "metadata": {},
   "outputs": [],
   "source": [
    "import boto3\n",
    "\n",
    "bucket='mt5599'\n",
    "\n",
    "boto3.Session().resource('s3').Bucket(bucket).Object('df_2016.csv').upload_file('../../data/df_2016.csv')"
   ]
  },
  {
   "cell_type": "code",
   "execution_count": null,
   "id": "e1819bf5-d844-4582-88d3-a6ccb8df94d4",
   "metadata": {},
   "outputs": [],
   "source": [
    "import numpy as np\n",
    "\n",
    "exp = \"AR\"\n",
    "\n",
    "df_2016['Place_Flag'] = np.where(df_2016['place'].str.contains(exp, case=False, na=False), 'T', '')\n",
    "\n",
    "df_2016.Place_Flag.value_counts(dropna=False)"
   ]
  },
  {
   "cell_type": "code",
   "execution_count": null,
   "id": "87f8dbce-0609-4f15-8a37-f16903ee22da",
   "metadata": {},
   "outputs": [],
   "source": [
    "import numpy as np\n",
    "\n",
    "exp = \"AR\"\n",
    "\n",
    "df_2019['Place_Flag'] = np.where(df_2019['place'].str.contains(exp, case=False, na=False), 'T', '')\n",
    "\n",
    "df_2019.Place_Flag.value_counts(dropna=False)"
   ]
  },
  {
   "cell_type": "code",
   "execution_count": null,
   "id": "c1658e6f-7096-46a8-8406-98da02465514",
   "metadata": {},
   "outputs": [],
   "source": [
    "place_df_2016 = df_2016[df_2016.Place_Flag == 'T']\n",
    "place_df_2019 = df_2019[df_2019.Place_Flag == 'T']"
   ]
  },
  {
   "cell_type": "code",
   "execution_count": null,
   "id": "42d04c51-2436-42d2-bc98-181404cba185",
   "metadata": {},
   "outputs": [],
   "source": [
    "place_usernames_2016 = place_df_2016.username.unique()\n",
    "place_usernames_2019 = place_df_2019.username.unique()"
   ]
  },
  {
   "cell_type": "code",
   "execution_count": null,
   "id": "3bfbba99-33c1-4d67-af93-2b5fd71b4115",
   "metadata": {
    "tags": []
   },
   "outputs": [],
   "source": [
    "import tqdm\n",
    "\n",
    "place_username_proportions_2016 = dict()\n",
    "\n",
    "for username in tqdm.tqdm(place_usernames):\n",
    "    if df_2016[(df_2016.username == username)].shape[0] >=10:\n",
    "        tweets_in_argentina = df_2016[(df_2016.username == username) & (df_2016.Place_Flag == 'T')].shape[0]\n",
    "        total_tweets = df_2016[(df_2016.username == username)].shape[0]\n",
    "        proportion_of_tweets = tweets_in_argentina/total_tweets\n",
    "        place_username_proportions_2016[username] = proportion_of_tweets\n",
    "place_username_proportions_2016"
   ]
  },
  {
   "cell_type": "code",
   "execution_count": null,
   "id": "1803813c-4964-4ead-9c81-4a4fabd0deb5",
   "metadata": {},
   "outputs": [],
   "source": [
    "import tqdm\n",
    "\n",
    "place_username_proportions_2019 = dict()\n",
    "\n",
    "for username in tqdm.tqdm(place_usernames):\n",
    "    if df_2019[(df_2019.username == username)].shape[0] >=10:\n",
    "        tweets_in_argentina = df_2019[(df_2019.username == username) & (df_2019.Place_Flag == 'T')].shape[0]\n",
    "        total_tweets = df_2019[(df_2019.username == username)].shape[0]\n",
    "        proportion_of_tweets = tweets_in_argentina/total_tweets\n",
    "        place_username_proportions_2019[username] = proportion_of_tweets\n",
    "place_username_proportions_2019"
   ]
  },
  {
   "cell_type": "code",
   "execution_count": null,
   "id": "7df8571b-7015-40f3-b166-a7556013828b",
   "metadata": {
    "tags": []
   },
   "outputs": [],
   "source": [
    "d_2016 = dict((k, v) for k, v in place_username_proportions_2016.items() if v >= 0.3)\n",
    "d_2019 = dict((k, v) for k, v in place_username_proportions_2019.items() if v >= 0.3)"
   ]
  },
  {
   "cell_type": "code",
   "execution_count": null,
   "id": "b1a2c93e-add6-4167-91dc-75189b515cee",
   "metadata": {},
   "outputs": [],
   "source": [
    "sum(place_username_proportions_2016.values()) / len(place_username_proportions_2016)"
   ]
  },
  {
   "cell_type": "code",
   "execution_count": null,
   "id": "918a4d1e-0685-4b2f-9ee9-bf6d255181bc",
   "metadata": {},
   "outputs": [],
   "source": [
    "sum(place_username_proportions_2019.values()) / len(place_username_proportions_2019)"
   ]
  },
  {
   "cell_type": "code",
   "execution_count": null,
   "id": "85a9ce09-5b61-4b9c-969b-228767830ef6",
   "metadata": {},
   "outputs": [],
   "source": [
    "sum(d_2016.values()) / len(d_2016)"
   ]
  },
  {
   "cell_type": "code",
   "execution_count": null,
   "id": "2a848d65-9faa-4653-b643-e47de657e477",
   "metadata": {},
   "outputs": [],
   "source": [
    "sum(d_2019.values()) / len(d_2019)"
   ]
  },
  {
   "cell_type": "code",
   "execution_count": null,
   "id": "868c8a76-aab0-42c3-ae11-151760528a0a",
   "metadata": {},
   "outputs": [],
   "source": [
    "len(d_2016)"
   ]
  },
  {
   "cell_type": "code",
   "execution_count": null,
   "id": "ac6313cc-0df6-4b97-ac7e-ce507f10152b",
   "metadata": {},
   "outputs": [],
   "source": [
    "len(place_username_proportions_2019)"
   ]
  },
  {
   "cell_type": "code",
   "execution_count": null,
   "id": "98a6dfcf-074a-41fa-8d6c-0acbee53236a",
   "metadata": {},
   "outputs": [],
   "source": [
    "with open(\"../../data/argentina_residents_by_place_2016.txt\", \"w\") as f:\n",
    "    for handle, v in d_2016.items():\n",
    "        f.write(f\"{handle}\\n\")"
   ]
  },
  {
   "cell_type": "code",
   "execution_count": null,
   "id": "9d53261f-fec8-49dc-b3b8-c06e79c48ef6",
   "metadata": {},
   "outputs": [],
   "source": [
    "with open(\"../../data/argentina_residents_by_place_2019.txt\", \"w\") as f:\n",
    "    for handle, v in d_2019.items():\n",
    "        f.write(f\"{handle}\\n\")"
   ]
  },
  {
   "cell_type": "code",
   "execution_count": null,
   "id": "7e87e2b0-461e-40fc-93a3-958f8aa0ac62",
   "metadata": {
    "tags": []
   },
   "outputs": [],
   "source": [
    "not_cr = df_2019[df_2019.user_location.str.contains(\"costa|rica|cr\", case=False, na=False) == False]\n",
    "not_cr"
   ]
  },
  {
   "cell_type": "code",
   "execution_count": null,
   "id": "a644ec56-9f4a-4db7-a889-ed5013daf1a9",
   "metadata": {
    "tags": []
   },
   "outputs": [],
   "source": [
    "pd.set_option('display.max_rows', None)\n",
    "\n",
    "not_cr.user_location.value_counts(dropna=False)"
   ]
  },
  {
   "cell_type": "code",
   "execution_count": null,
   "id": "66cd429e-7df3-462f-9e00-48815cc3acea",
   "metadata": {},
   "outputs": [],
   "source": [
    "import numpy as np\n",
    "\n",
    "exp = \"\"\"argentina|Buenos Aires|Almirante Brown|Bahía Blanca|Caseros|Ezeiza|General San Martín|Junín|Lanús|La Plata|Lomas de Zamora|Luján|Lujan|Mar del Plata|Merlo|Morón|Moron|Olivos|Pergamino|Quilmes|San Isidro|San Justo|San Nicolás de los Arroyos|San Nicolas de los Arroyos|Tandil|Tigre|Zárate|Zarate|Catamarca|Catamarca|Chaco|Resistencia|Ciudad de Buenos Aires|Chubut|Comodoro Rivadavia|Rawson|Córdoba|Córdoba|Río Cuarto|Rio Cuarto|Villa María|Villa Maria|Corrientes|Entre Ríos|Entre Rios|Concepción del Uruguay|Concepcion del Uruguay|Concordia|Gualeguaychú|Gualeguaychu|Paraná|Parana|Formosa|Formosa|Jujuy|San Salvador de Jujuy|Mendoza|Godoy Cruz|Mendoza|San Rafael|Villa Nueva|Misiones|Posadas|Neuquén|Neuquén|La Pampa|Santa Rosa|La Rioja|Río Negro|Rio Negro|San Carlos de Bariloche|Viedma|Salta|San Juan|San Juan|San Luis|Mercedes|San Luis|Santa Cruz|Río Gallegos|Santa Fe|Rosario|San Lorenzo|Santa Fe|Santiago del Estero|Santiago del Estero|Tierra del Fuego|Ushuaia|Tucumán|Tucuman|San Miguel de Tucumán\"\"\"\n",
    "\n",
    "df_2016['Argentina_Flag'] = np.where(df_2016['user_location'].str.contains(exp, case=False, na=False), 'T', '')\n",
    "\n",
    "df_2016.Argentina_Flag.value_counts(dropna=False)"
   ]
  },
  {
   "cell_type": "code",
   "execution_count": null,
   "id": "8d35988d-4495-4c48-a1c9-fb3933db27e2",
   "metadata": {},
   "outputs": [],
   "source": [
    "location_username_2016 = df_2016.loc[df_2016.Argentina_Flag == 'T', \"username\"].unique()"
   ]
  },
  {
   "cell_type": "code",
   "execution_count": null,
   "id": "eddf3460-9815-4e81-8fe5-0a23753f07fa",
   "metadata": {},
   "outputs": [],
   "source": [
    "import numpy as np\n",
    "\n",
    "exp = \"\"\"argentina|Buenos Aires|Almirante Brown|Bahía Blanca|Caseros|Ezeiza|General San Martín|Junín|Lanús|La Plata|Lomas de Zamora|Luján|Lujan|Mar del Plata|Merlo|Morón|Moron|Olivos|Pergamino|Quilmes|San Isidro|San Justo|San Nicolás de los Arroyos|San Nicolas de los Arroyos|Tandil|Tigre|Zárate|Zarate|Catamarca|Catamarca|Chaco|Resistencia|Ciudad de Buenos Aires|Chubut|Comodoro Rivadavia|Rawson|Córdoba|Córdoba|Río Cuarto|Rio Cuarto|Villa María|Villa Maria|Corrientes|Entre Ríos|Entre Rios|Concepción del Uruguay|Concepcion del Uruguay|Concordia|Gualeguaychú|Gualeguaychu|Paraná|Parana|Formosa|Formosa|Jujuy|San Salvador de Jujuy|Mendoza|Godoy Cruz|Mendoza|San Rafael|Villa Nueva|Misiones|Posadas|Neuquén|Neuquén|La Pampa|Santa Rosa|La Rioja|Río Negro|Rio Negro|San Carlos de Bariloche|Viedma|Salta|San Juan|San Juan|San Luis|Mercedes|San Luis|Santa Cruz|Río Gallegos|Santa Fe|Rosario|San Lorenzo|Santa Fe|Santiago del Estero|Santiago del Estero|Tierra del Fuego|Ushuaia|Tucumán|Tucuman|San Miguel de Tucumán\"\"\"\n",
    "\n",
    "df_2019['Argentina_Flag'] = np.where(df_2019['user_location'].str.contains(exp, case=False, na=False), 'T', '')\n",
    "\n",
    "df_2019.Argentina_Flag.value_counts(dropna=False)"
   ]
  },
  {
   "cell_type": "code",
   "execution_count": null,
   "id": "ba18e435-5072-4f99-a864-52c8afdbe99a",
   "metadata": {},
   "outputs": [],
   "source": [
    "location_username_2019 = df_2019.loc[df_2019.Argentina_Flag == 'T', \"username\"].unique()"
   ]
  },
  {
   "cell_type": "code",
   "execution_count": null,
   "id": "8468b61d-f20e-489e-b322-18aaf175cf87",
   "metadata": {},
   "outputs": [],
   "source": [
    "len(location_username_2016)"
   ]
  },
  {
   "cell_type": "code",
   "execution_count": null,
   "id": "a67bda5d-bf53-4aad-a358-764086bb2e1c",
   "metadata": {},
   "outputs": [],
   "source": [
    "with open(\"../../data/argentina_residents_by_user_location_2016.txt\", \"w\") as f:\n",
    "    for handle in location_username_2016:\n",
    "        f.write(f\"{handle}\\n\")"
   ]
  },
  {
   "cell_type": "code",
   "execution_count": null,
   "id": "6394a4a0-a4de-4537-9adb-2dea4d31ea24",
   "metadata": {},
   "outputs": [],
   "source": [
    "with open(\"../../data/argentina_residents_by_user_location_2019.txt\", \"w\") as f:\n",
    "    for handle in location_username_2019:\n",
    "        f.write(f\"{handle}\\n\")"
   ]
  }
 ],
 "metadata": {
  "instance_type": "ml.m5.2xlarge",
  "kernelspec": {
   "display_name": "Python 3 (Data Science)",
   "language": "python",
   "name": "python3__SAGEMAKER_INTERNAL__arn:aws:sagemaker:eu-west-2:712779665605:image/datascience-1.0"
  },
  "language_info": {
   "codemirror_mode": {
    "name": "ipython",
    "version": 3
   },
   "file_extension": ".py",
   "mimetype": "text/x-python",
   "name": "python",
   "nbconvert_exporter": "python",
   "pygments_lexer": "ipython3",
   "version": "3.7.10"
  }
 },
 "nbformat": 4,
 "nbformat_minor": 5
}
