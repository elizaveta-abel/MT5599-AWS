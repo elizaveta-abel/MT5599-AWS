{
 "cells": [
  {
   "cell_type": "code",
   "execution_count": null,
   "id": "22c434bb-9ceb-430f-b67d-fa713137454d",
   "metadata": {},
   "outputs": [],
   "source": [
    "import pandas as pd\n",
    "\n",
    "df_2016 = pd.read_feather(\"../data/df_2016_cleaned_with_place.feather\")\n",
    "df_2016"
   ]
  },
  {
   "cell_type": "code",
   "execution_count": null,
   "id": "2d98f866-7ad1-4218-bd76-6d7a384b67a0",
   "metadata": {},
   "outputs": [],
   "source": [
    "df_2016.coordinates"
   ]
  },
  {
   "cell_type": "code",
   "execution_count": 4,
   "id": "9d89904c-5766-4176-aab6-49c47ff74ef1",
   "metadata": {},
   "outputs": [
    {
     "name": "stdout",
     "output_type": "stream",
     "text": [
      "2016-10-31 23:59:47 2015-10-01 00:00:00\n"
     ]
    }
   ],
   "source": [
    "print(df_2016.DateTime.max(), df_2016.DateTime.min())"
   ]
  },
  {
   "cell_type": "code",
   "execution_count": 5,
   "id": "d8555f7b-3dd4-4725-8019-d6224ddae166",
   "metadata": {
    "collapsed": true,
    "jupyter": {
     "outputs_hidden": true
    },
    "tags": []
   },
   "outputs": [
    {
     "data": {
      "text/plain": [
       "es     5598666\n",
       "en      874472\n",
       "und     441829\n",
       "pt      125326\n",
       "zxx      83202\n",
       "ca       68466\n",
       "qme      67087\n",
       "in       56222\n",
       "fr       53781\n",
       "it       41321\n",
       "tl       38741\n",
       "art      37610\n",
       "ht       30650\n",
       "qht      14607\n",
       "eu       14588\n",
       "qst      14304\n",
       "et       12779\n",
       "qam       9672\n",
       "de        9402\n",
       "cy        9132\n",
       "sv        7652\n",
       "nl        7564\n",
       "ro        6769\n",
       "tr        6485\n",
       "hu        6392\n",
       "th        6360\n",
       "da        6153\n",
       "lt        6112\n",
       "pl        4835\n",
       "cs        3940\n",
       "fi        3639\n",
       "no        2885\n",
       "lv        2782\n",
       "ja        2261\n",
       "is        2106\n",
       "sl        1893\n",
       "ru        1589\n",
       "hi        1400\n",
       "vi        1229\n",
       "ar        1111\n",
       "zh        1019\n",
       "ko         353\n",
       "uk          82\n",
       "el          32\n",
       "bg          17\n",
       "iw          12\n",
       "fa           6\n",
       "sr           4\n",
       "kn           2\n",
       "hy           1\n",
       "mr           1\n",
       "Name: lang, dtype: int64"
      ]
     },
     "execution_count": 5,
     "metadata": {},
     "output_type": "execute_result"
    }
   ],
   "source": [
    "df_2016.lang.value_counts(dropna=False)"
   ]
  },
  {
   "cell_type": "code",
   "execution_count": 6,
   "id": "feef622c-34bd-464e-b5a3-4015966d077e",
   "metadata": {},
   "outputs": [
    {
     "data": {
      "text/plain": [
       "visitor     7539706\n",
       "resident     146837\n",
       "Name: resident/visitor, dtype: int64"
      ]
     },
     "execution_count": 6,
     "metadata": {},
     "output_type": "execute_result"
    }
   ],
   "source": [
    "df_2016[\"resident/visitor\"].value_counts(dropna=False)"
   ]
  },
  {
   "cell_type": "code",
   "execution_count": 7,
   "id": "d3dec4ba-4c11-404d-b60f-c3d5b97e4f8d",
   "metadata": {},
   "outputs": [
    {
     "data": {
      "text/plain": [
       "Index(['id', 'DateTime', 'tweet_content', 'cashtags', 'coordinates',\n",
       "       'hashtags', 'lang', 'like_count', 'media', 'mentioned_users', 'place',\n",
       "       'quoteCount', 'quotedTweet', 'renderedContent', 'replyCount',\n",
       "       'retweetCount', 'retweetedTweet', 'source', 'username', 'user_location',\n",
       "       'user_id', 'user_displayname', 'user_description',\n",
       "       'user_description_urls', 'user_verified', 'user_created',\n",
       "       'user_followers_count', 'user_friends_count', 'user_statuses_count',\n",
       "       'user_favourites_count', 'user_listed_count', 'user_media_count',\n",
       "       'user_protected', 'user_link_url', 'user_link_tcourl',\n",
       "       'user_profile_image_url', 'user_profile_banner_url', 'user_label',\n",
       "       'resident/visitor', 'tweet'],\n",
       "      dtype='object')"
      ]
     },
     "execution_count": 7,
     "metadata": {},
     "output_type": "execute_result"
    }
   ],
   "source": [
    "df_2016.columns"
   ]
  },
  {
   "cell_type": "code",
   "execution_count": 8,
   "id": "36b15202-3fc3-4996-9dbf-0a484d8cdcba",
   "metadata": {},
   "outputs": [
    {
     "data": {
      "text/plain": [
       "None                                                                                                                                            5689456\n",
       "Place(fullName='San José, Costa Rica', name='San José', type='admin', country='Costa Rica', countryCode='CR')                                    395457\n",
       "Place(fullName='Cartago, Costa Rica', name='Cartago', type='admin', country='Costa Rica', countryCode='CR')                                      268623\n",
       "Place(fullName='Alajuela, Costa Rica', name='Alajuela', type='admin', country='Costa Rica', countryCode='CR')                                    194067\n",
       "Place(fullName='Puntarenas, Costa Rica', name='Puntarenas', type='admin', country='Costa Rica', countryCode='CR')                                159518\n",
       "                                                                                                                                                 ...   \n",
       "Place(fullName='Niskayuna, NY', name='Niskayuna', type='city', country='United States', countryCode='US')                                             1\n",
       "Place(fullName='Sandestin Golf & Beach Resort', name='Sandestin Golf & Beach Resort', type='poi', country='United States', countryCode='US')          1\n",
       "Place(fullName='Perris, CA', name='Perris', type='city', country='United States', countryCode='US')                                                   1\n",
       "Place(fullName='Machelen, België', name='Machelen', type='city', country='Belgium', countryCode='BE')                                                 1\n",
       "Place(fullName='Seoul, Republic of Korea', name='Seoul', type='admin', country='Republic of Korea', countryCode='KR')                                 1\n",
       "Name: place, Length: 16337, dtype: int64"
      ]
     },
     "execution_count": 8,
     "metadata": {},
     "output_type": "execute_result"
    }
   ],
   "source": [
    "df_2016.place.value_counts(dropna=False)"
   ]
  }
 ],
 "metadata": {
  "instance_type": "ml.m5.12xlarge",
  "kernelspec": {
   "display_name": "Python 3 (Data Science)",
   "language": "python",
   "name": "python3__SAGEMAKER_INTERNAL__arn:aws:sagemaker:eu-west-2:712779665605:image/datascience-1.0"
  },
  "language_info": {
   "codemirror_mode": {
    "name": "ipython",
    "version": 3
   },
   "file_extension": ".py",
   "mimetype": "text/x-python",
   "name": "python",
   "nbconvert_exporter": "python",
   "pygments_lexer": "ipython3",
   "version": "3.7.10"
  }
 },
 "nbformat": 4,
 "nbformat_minor": 5
}
