{
 "cells": [
  {
   "cell_type": "code",
   "execution_count": 3,
   "id": "b64a5671-fb15-4d14-a349-afee1bce7a58",
   "metadata": {
    "tags": []
   },
   "outputs": [
    {
     "name": "stderr",
     "output_type": "stream",
     "text": [
      "/opt/conda/lib/python3.7/site-packages/IPython/core/interactiveshell.py:3553: DtypeWarning: Columns (0,1,2,3,4,6,8,9,10,11,12,13,14,15,16,17,18,19,20,21,22,23,24,25,26,27,28,29,30,31,32,33,34,35,38,39,40,41,42,43,44,45,46,47) have mixed types.Specify dtype option on import or set low_memory=False.\n",
      "  exec(code_obj, self.user_global_ns, self.user_ns)\n",
      "/opt/conda/lib/python3.7/site-packages/IPython/core/interactiveshell.py:3553: DtypeWarning: Columns (27) have mixed types.Specify dtype option on import or set low_memory=False.\n",
      "  exec(code_obj, self.user_global_ns, self.user_ns)\n"
     ]
    }
   ],
   "source": [
    "import boto3\n",
    "import pandas as pd\n",
    "from sagemaker import get_execution_role\n",
    "\n",
    "role = get_execution_role()\n",
    "bucket='mt5599'\n",
    "df_2016 = 'df_2016.csv'\n",
    "df_2019 = 'df_2019.csv'\n",
    "data_location_2016 = 's3://{}/{}'.format(bucket, df_2016)\n",
    "data_location_2019 = 's3://{}/{}'.format(bucket, df_2019)\n",
    "\n",
    "df_2016 = pd.read_csv(data_location_2016)\n",
    "df_2019 = pd.read_csv(data_location_2019)"
   ]
  },
  {
   "cell_type": "code",
   "execution_count": null,
   "id": "c1ea1748-f254-4cca-9c65-940af48051d6",
   "metadata": {},
   "outputs": [],
   "source": [
    "df_2016.columns"
   ]
  },
  {
   "cell_type": "code",
   "execution_count": 5,
   "id": "7652920f-96ca-40e0-9a53-6a49d9fdc138",
   "metadata": {},
   "outputs": [],
   "source": [
    "import boto3\n",
    "\n",
    "bucket='mt5599'\n",
    "\n",
    "boto3.Session().resource('s3').Bucket(bucket).Object('df_2016.csv').upload_file('../../data/df_2016.csv')"
   ]
  },
  {
   "cell_type": "code",
   "execution_count": 4,
   "id": "e1819bf5-d844-4582-88d3-a6ccb8df94d4",
   "metadata": {},
   "outputs": [
    {
     "data": {
      "text/plain": [
       "     821364\n",
       "T    236056\n",
       "Name: Place_Flag, dtype: int64"
      ]
     },
     "execution_count": 4,
     "metadata": {},
     "output_type": "execute_result"
    }
   ],
   "source": [
    "import numpy as np\n",
    "\n",
    "exp = \"AR\"\n",
    "\n",
    "df_2016['Place_Flag'] = np.where(df_2016['place'].str.contains(exp, case=False, na=False), 'T', '')\n",
    "\n",
    "df_2016.Place_Flag.value_counts(dropna=False)"
   ]
  },
  {
   "cell_type": "code",
   "execution_count": 5,
   "id": "87f8dbce-0609-4f15-8a37-f16903ee22da",
   "metadata": {},
   "outputs": [
    {
     "data": {
      "text/plain": [
       "     188962\n",
       "T     40560\n",
       "Name: Place_Flag, dtype: int64"
      ]
     },
     "execution_count": 5,
     "metadata": {},
     "output_type": "execute_result"
    }
   ],
   "source": [
    "import numpy as np\n",
    "\n",
    "exp = \"AR\"\n",
    "\n",
    "df_2019['Place_Flag'] = np.where(df_2019['place'].str.contains(exp, case=False, na=False), 'T', '')\n",
    "\n",
    "df_2019.Place_Flag.value_counts(dropna=False)"
   ]
  },
  {
   "cell_type": "code",
   "execution_count": 6,
   "id": "c1658e6f-7096-46a8-8406-98da02465514",
   "metadata": {},
   "outputs": [],
   "source": [
    "place_df_2016 = df_2016[df_2016.Place_Flag == 'T']\n",
    "place_df_2019 = df_2019[df_2019.Place_Flag == 'T']"
   ]
  },
  {
   "cell_type": "code",
   "execution_count": 7,
   "id": "42d04c51-2436-42d2-bc98-181404cba185",
   "metadata": {},
   "outputs": [],
   "source": [
    "place_usernames_2016 = place_df_2016.username.unique()\n",
    "place_usernames_2019 = place_df_2019.username.unique()"
   ]
  },
  {
   "cell_type": "code",
   "execution_count": 8,
   "id": "8464d4fe-0ecc-43be-a2cf-6331eacfee59",
   "metadata": {},
   "outputs": [
    {
     "data": {
      "text/plain": [
       "5518"
      ]
     },
     "execution_count": 8,
     "metadata": {},
     "output_type": "execute_result"
    }
   ],
   "source": [
    "len(place_usernames_2016)"
   ]
  },
  {
   "cell_type": "code",
   "execution_count": 9,
   "id": "6550baf5-7b80-428a-91ee-7433bf3fe618",
   "metadata": {},
   "outputs": [
    {
     "data": {
      "text/plain": [
       "2772"
      ]
     },
     "execution_count": 9,
     "metadata": {},
     "output_type": "execute_result"
    }
   ],
   "source": [
    "len(place_usernames_2019)"
   ]
  },
  {
   "cell_type": "code",
   "execution_count": 10,
   "id": "98a6dfcf-074a-41fa-8d6c-0acbee53236a",
   "metadata": {},
   "outputs": [],
   "source": [
    "with open(\"../../data/simpler_argentina_residents_by_place_2016.txt\", \"w\") as f:\n",
    "    for handle in place_df_2016:\n",
    "        f.write(f\"{handle}\\n\")"
   ]
  },
  {
   "cell_type": "code",
   "execution_count": 17,
   "id": "f03204e4-705b-4374-b117-d2d789b20563",
   "metadata": {},
   "outputs": [
    {
     "data": {
      "text/plain": [
       "18"
      ]
     },
     "execution_count": 17,
     "metadata": {},
     "output_type": "execute_result"
    }
   ],
   "source": [
    "round(5518/300)"
   ]
  },
  {
   "cell_type": "code",
   "execution_count": 18,
   "id": "841a7965-9e4b-47ef-bceb-b8daa7fab536",
   "metadata": {
    "collapsed": true,
    "jupyter": {
     "outputs_hidden": true
    },
    "tags": []
   },
   "outputs": [
    {
     "data": {
      "text/plain": [
       "array(['ferrg25', 'soyacuaria', 'MoralesL_', 'niallsblyz', 'RlByron',\n",
       "       'MonttMonica', 'andresM3cr', 'migue160', 'Joss896',\n",
       "       'medina_andrws', 'Niki11_', 'octavious_iam', 'AndresCotico',\n",
       "       'kendall_abrenes', 'Rolly__', 'mmeelsi', 'MeliiC26',\n",
       "       'JeanCarloMolin1', '_juliette23', 'rogerbrod', 'martin10p',\n",
       "       '14_jasonvd', 'alon_ag', 't_montero18', 'kth_95', 'YeilynEspinoza',\n",
       "       'acampos997', 'CanessaMarchena', 'erickobando96', 'Mari_Montero21',\n",
       "       'CosmeF13', 'cr_failure', 'Marcelo0894', 'PaoTwi', 'xMityx',\n",
       "       'NatyeBregom', 'andres_oso96', 'guillermowong21', 'Emialarcon07',\n",
       "       'Itsvalevs', 'NanOrTgaa', 'AngieCalvo16', 'marimendez88',\n",
       "       'A4alonso03', '_Ale21', 'MaryGutRod', 'sirenitus',\n",
       "       'Fulanitodetalcr', 'coco_g', 'edu_cordero_', 'Tabis2911',\n",
       "       'JeffAraya', 'deibynwtf', 'fuentes_nela', 'FonsecaXi', 'DaniAux',\n",
       "       'MonBrenes', 'Maniguetaaaaaaa', 'Brenes0791', 'D_Ramirez99',\n",
       "       'FranselaCastill', 'KavalesValeska', 'pcarballo28', 'crisvillabre',\n",
       "       'ChevezDiego', 'ariel_madrigals', 'luandarias', 'Neiyid',\n",
       "       'afrohue98', 'claristrigueros', 'ivannmz_', 'MigueEsMigue',\n",
       "       'arrietamaria16', 'jpvargas1906', 'OlgaHidalgo5', 'franobando57',\n",
       "       'wengarita', 'Jenn3103', 'antoniobrenes09', 'seblop19',\n",
       "       'KRISTAJIMENEZ', 'keeqr89', 'francinileiva', 'SoyLaColoo',\n",
       "       'r_diaz07', 'OwenCR', 'katyfabi', 'DiegoChino1108', 'alemasism',\n",
       "       '2Serginho9', 'GloMonteNa', 'jauo09', 'karinazos', 'al_Moro',\n",
       "       'BekaBrenesM', 'DomingoAljean', 'masr1591', 'carrivera89',\n",
       "       'oskarsolanob', 'NaoTomlinson26', 'LandoArmijo', 'DilanaGarita',\n",
       "       'Ayrtonrq', 'evem_06', 'esemaemauri', 'marcelacanterov',\n",
       "       'eddobarrantes', 'Alydance05', 'NanaMRod', 'joeargut', 'c_clatm',\n",
       "       'ma_jose_CC', 'TeobaJz', 'marianacarvajl', 'SurfEsteban', 'ScYuli',\n",
       "       'camil_mo', 'Digame_Nina', 'diegoram73', 'mapz_zesta',\n",
       "       'mariamalia2010', 'yecojov', 'Javiio29', 'iukuk2', 'ivanmezak',\n",
       "       'vcardenasorozco', 'ArianaBrenes18', 'Dire27Li', 'RoesLuis',\n",
       "       'DanielaLoriaV', 'Esparzano25', 'mariivegagz', '_fabiancampos',\n",
       "       'aguilar_a05', 'sebas_steiner', 'RerenderODimm', 'valesanchezgu',\n",
       "       'Irojas20', 'melraffael', 'aldairvargas95', 'Vale_Alfaro_',\n",
       "       'PaVisQue', 'aArOnSiLeS', 'RanAguirre', 'Meyjisa',\n",
       "       'michaelesteba16', 'RicardoVargasM1', 'tayesnam70', 'mario06_76',\n",
       "       'agosalcr', 'm_gattgens', 'CaroChavesA', 'SaraCarpio70', 'mndz_e',\n",
       "       'gabypuravida', 'silmartinez96', 'xmvhsx', 'alonso28cr',\n",
       "       'HarveyBirdman03', 'gmata25', 'antony__owen', 'conhthomas',\n",
       "       'MariellFdz', 'faperez82', 'Mdesi06', 'valesolis1601', 'oskarzm82',\n",
       "       'fabroqr', 'kamehamememo', 'MonteroAlanis', 'carolinabfn',\n",
       "       'chantillyAF', 'yockgeng', 'joejimenezcr', 'ArceTiti', 'Ericks_96',\n",
       "       'shinyredsun', 'CastilloDesired', '299Melanie', 'SlythxrinGirl',\n",
       "       'klim08', 'mechuda_crc', 'showmustgopauli', 'fer__gw', 'FrnkMoyA',\n",
       "       'Oscar_Andres_93', 'nicole18j', 'kcandray_07', 'joselinsolano_',\n",
       "       'kenperji', 'mabrm', 'erickmaltez', 'enorth13', 'jmesen8',\n",
       "       'MilaPV29', 'VlopezCR', 'fiorella2698', 'AndresRojas_S',\n",
       "       'oscar_6_27', 'Tammvalv', 'andreygaga06', 'RaquelMurillo07',\n",
       "       'josecazu___', 'tiffanyseguram', 'eddiegonzalezm', 'lidieth_cc',\n",
       "       'pausanabriag', 'alerw_rojas', 'vikyro18', 'ninarogu',\n",
       "       'Diana__acuna', 'jhooncr', 'Nash_calvo', 'sumendezr',\n",
       "       'nicole_molina18', 'martems_', 'tool8711', 'Luiscaortiz', 'arir28',\n",
       "       'Daher03', 'humbertovargas_', 'katherinepb_', 'ivo_pine11',\n",
       "       'melanyalvarez24', 'Lukzvarela', 'mafe_rodrigueza',\n",
       "       'carlitosmurque', 'fabri1029cr', 'tutabarca', 'serranokeylor',\n",
       "       'MariaJoseMarche', 'LuisFra_cr', 'glozume', 'NelsonSegura',\n",
       "       'hilla_serrano', 'aaronjz21', 'jimenezalvarez6', 'johana_morera21',\n",
       "       'danchaverri', 'jazminsol_b', 'Joaquin_29', 'tamy_bat', 'Ian_1203',\n",
       "       'SolanoJeffry', 'ali_vargas_', 'novich04', 'tutimoas', 'DianaMR99',\n",
       "       'JoseManuelMejaC', 'Clau_Ramirez19', 'joha_acr', 'jime1221',\n",
       "       'palomamb11', 'jgc75', 'valevh17', 'Alejandro__Ge', 'killomar',\n",
       "       'dianamohi19', 'MendezCRC', 'fabincastillo3', 'EsmeraldaEsqu17',\n",
       "       'BanAnaSegnini', 'Liix22Lixia', 'rogerguti17', 'shabenavides',\n",
       "       'Daniel_Ara56', 'johdzr', 'Euuret', 'DSophi10', '4Alanls',\n",
       "       'irolaesteban', 'catefaba', '_abicamo_', 'Nana_NanaBatman',\n",
       "       'ldiegogonzalez5', '97Marcomeneses', 'LaurenSalisbury', 'Loanha',\n",
       "       '18na', 'andres0_6', 'IvonneBolivarN', 'JaleBerahimi',\n",
       "       'c_lililoza', 'Jota_Soy', 'VeroFonsecaG1', 'alejandrodqs',\n",
       "       'gonzalez16', 'jrodriguezcr1', 'estebque', 'gasafondocr',\n",
       "       'Yo_soy_Sil', 'carlaorozcoodio', 'campos_briancy', 'RiverPlateCR',\n",
       "       'JorMonterortiz', 'Ri04', 'fabiolamgq', 'dvelasquez07_',\n",
       "       'NicoleAguilar23', 'Chino237', 'Ramirez13G', 'ga_hernandezc',\n",
       "       'ManuelSolano8', 'tiffmenc', '_andrey_ale', 'KerlynGut23',\n",
       "       'Melseok1802'], dtype=object)"
      ]
     },
     "execution_count": 18,
     "metadata": {},
     "output_type": "execute_result"
    }
   ],
   "source": [
    "import numpy as np\n",
    "\n",
    "preferred_handles = 300\n",
    "handles_per_batch = round(len(place_usernames_2016)/preferred_handles)\n",
    "new_arr = np.array_split(place_usernames_2016, handles_per_batch)"
   ]
  },
  {
   "cell_type": "code",
   "execution_count": 21,
   "id": "636e51e7-1594-4c72-9f8f-013076499303",
   "metadata": {},
   "outputs": [
    {
     "name": "stdout",
     "output_type": "stream",
     "text": [
      "yes 3\n"
     ]
    }
   ],
   "source": [
    "print(\"yes\", 1+2)"
   ]
  },
  {
   "cell_type": "code",
   "execution_count": 11,
   "id": "9d53261f-fec8-49dc-b3b8-c06e79c48ef6",
   "metadata": {},
   "outputs": [],
   "source": [
    "with open(\"../../data/simpler_argentina_residents_by_place_2019.txt\", \"w\") as f:\n",
    "    for handle in place_df_2019:\n",
    "        f.write(f\"{handle}\\n\")"
   ]
  },
  {
   "cell_type": "code",
   "execution_count": null,
   "id": "7e87e2b0-461e-40fc-93a3-958f8aa0ac62",
   "metadata": {
    "tags": []
   },
   "outputs": [],
   "source": [
    "not_cr = df_2019[df_2019.user_location.str.contains(\"costa|rica|cr\", case=False, na=False) == False]\n",
    "not_cr"
   ]
  },
  {
   "cell_type": "code",
   "execution_count": null,
   "id": "a644ec56-9f4a-4db7-a889-ed5013daf1a9",
   "metadata": {
    "tags": []
   },
   "outputs": [],
   "source": [
    "pd.set_option('display.max_rows', None)\n",
    "\n",
    "not_cr.user_location.value_counts(dropna=False)"
   ]
  },
  {
   "cell_type": "code",
   "execution_count": null,
   "id": "66cd429e-7df3-462f-9e00-48815cc3acea",
   "metadata": {},
   "outputs": [],
   "source": [
    "import numpy as np\n",
    "\n",
    "exp = \"\"\"argentina|Buenos Aires|Almirante Brown|Bahía Blanca|Caseros|Ezeiza|General San Martín|Junín|Lanús|La Plata|Lomas de Zamora|Luján|Lujan|Mar del Plata|Merlo|Morón|Moron|Olivos|Pergamino|Quilmes|San Isidro|San Justo|San Nicolás de los Arroyos|San Nicolas de los Arroyos|Tandil|Tigre|Zárate|Zarate|Catamarca|Catamarca|Chaco|Resistencia|Ciudad de Buenos Aires|Chubut|Comodoro Rivadavia|Rawson|Córdoba|Córdoba|Río Cuarto|Rio Cuarto|Villa María|Villa Maria|Corrientes|Entre Ríos|Entre Rios|Concepción del Uruguay|Concepcion del Uruguay|Concordia|Gualeguaychú|Gualeguaychu|Paraná|Parana|Formosa|Formosa|Jujuy|San Salvador de Jujuy|Mendoza|Godoy Cruz|Mendoza|San Rafael|Villa Nueva|Misiones|Posadas|Neuquén|Neuquén|La Pampa|Santa Rosa|La Rioja|Río Negro|Rio Negro|San Carlos de Bariloche|Viedma|Salta|San Juan|San Juan|San Luis|Mercedes|San Luis|Santa Cruz|Río Gallegos|Santa Fe|Rosario|San Lorenzo|Santa Fe|Santiago del Estero|Santiago del Estero|Tierra del Fuego|Ushuaia|Tucumán|Tucuman|San Miguel de Tucumán\"\"\"\n",
    "\n",
    "df_2016['Argentina_Flag'] = np.where(df_2016['user_location'].str.contains(exp, case=False, na=False), 'T', '')\n",
    "\n",
    "df_2016.Argentina_Flag.value_counts(dropna=False)"
   ]
  },
  {
   "cell_type": "code",
   "execution_count": null,
   "id": "8d35988d-4495-4c48-a1c9-fb3933db27e2",
   "metadata": {},
   "outputs": [],
   "source": [
    "location_username_2016 = df_2016.loc[df_2016.Argentina_Flag == 'T', \"username\"].unique()"
   ]
  },
  {
   "cell_type": "code",
   "execution_count": null,
   "id": "eddf3460-9815-4e81-8fe5-0a23753f07fa",
   "metadata": {},
   "outputs": [],
   "source": [
    "import numpy as np\n",
    "\n",
    "exp = \"\"\"argentina|Buenos Aires|Almirante Brown|Bahía Blanca|Caseros|Ezeiza|General San Martín|Junín|Lanús|La Plata|Lomas de Zamora|Luján|Lujan|Mar del Plata|Merlo|Morón|Moron|Olivos|Pergamino|Quilmes|San Isidro|San Justo|San Nicolás de los Arroyos|San Nicolas de los Arroyos|Tandil|Tigre|Zárate|Zarate|Catamarca|Catamarca|Chaco|Resistencia|Ciudad de Buenos Aires|Chubut|Comodoro Rivadavia|Rawson|Córdoba|Córdoba|Río Cuarto|Rio Cuarto|Villa María|Villa Maria|Corrientes|Entre Ríos|Entre Rios|Concepción del Uruguay|Concepcion del Uruguay|Concordia|Gualeguaychú|Gualeguaychu|Paraná|Parana|Formosa|Formosa|Jujuy|San Salvador de Jujuy|Mendoza|Godoy Cruz|Mendoza|San Rafael|Villa Nueva|Misiones|Posadas|Neuquén|Neuquén|La Pampa|Santa Rosa|La Rioja|Río Negro|Rio Negro|San Carlos de Bariloche|Viedma|Salta|San Juan|San Juan|San Luis|Mercedes|San Luis|Santa Cruz|Río Gallegos|Santa Fe|Rosario|San Lorenzo|Santa Fe|Santiago del Estero|Santiago del Estero|Tierra del Fuego|Ushuaia|Tucumán|Tucuman|San Miguel de Tucumán\"\"\"\n",
    "\n",
    "df_2019['Argentina_Flag'] = np.where(df_2019['user_location'].str.contains(exp, case=False, na=False), 'T', '')\n",
    "\n",
    "df_2019.Argentina_Flag.value_counts(dropna=False)"
   ]
  },
  {
   "cell_type": "code",
   "execution_count": null,
   "id": "ba18e435-5072-4f99-a864-52c8afdbe99a",
   "metadata": {},
   "outputs": [],
   "source": [
    "location_username_2019 = df_2019.loc[df_2019.Argentina_Flag == 'T', \"username\"].unique()"
   ]
  },
  {
   "cell_type": "code",
   "execution_count": null,
   "id": "8468b61d-f20e-489e-b322-18aaf175cf87",
   "metadata": {},
   "outputs": [],
   "source": [
    "len(location_username_2016)"
   ]
  },
  {
   "cell_type": "code",
   "execution_count": null,
   "id": "a67bda5d-bf53-4aad-a358-764086bb2e1c",
   "metadata": {},
   "outputs": [],
   "source": [
    "with open(\"../../data/argentina_residents_by_user_location_2016.txt\", \"w\") as f:\n",
    "    for handle in location_username_2016:\n",
    "        f.write(f\"{handle}\\n\")"
   ]
  },
  {
   "cell_type": "code",
   "execution_count": null,
   "id": "6394a4a0-a4de-4537-9adb-2dea4d31ea24",
   "metadata": {},
   "outputs": [],
   "source": [
    "with open(\"../../data/argentina_residents_by_user_location_2019.txt\", \"w\") as f:\n",
    "    for handle in location_username_2019:\n",
    "        f.write(f\"{handle}\\n\")"
   ]
  }
 ],
 "metadata": {
  "instance_type": "ml.m5.8xlarge",
  "kernelspec": {
   "display_name": "Python 3 (Data Science)",
   "language": "python",
   "name": "python3__SAGEMAKER_INTERNAL__arn:aws:sagemaker:eu-west-2:712779665605:image/datascience-1.0"
  },
  "language_info": {
   "codemirror_mode": {
    "name": "ipython",
    "version": 3
   },
   "file_extension": ".py",
   "mimetype": "text/x-python",
   "name": "python",
   "nbconvert_exporter": "python",
   "pygments_lexer": "ipython3",
   "version": "3.7.10"
  }
 },
 "nbformat": 4,
 "nbformat_minor": 5
}
