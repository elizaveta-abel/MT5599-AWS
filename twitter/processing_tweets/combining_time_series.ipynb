{
 "cells": [
  {
   "cell_type": "code",
   "execution_count": null,
   "id": "8d6db536-ef0f-483e-b030-fbcf987401be",
   "metadata": {},
   "outputs": [],
   "source": [
    "# uploading raw and cleaned files to S3\n",
    "\n",
    "import pandas as pd\n",
    "\n",
    "import boto3\n",
    "import pandas as pd\n",
    "from sagemaker import get_execution_role\n",
    "import tqdm\n",
    "\n",
    "missed_files = []\n",
    "for i in tqdm.tqdm(range(0, 567)):\n",
    "    try:\n",
    "        obj1 = \"spanish_tweets_2016_\" + str(i) + \".json\"\n",
    "        obj_loc1 = \"../../data/\" + obj2\n",
    "        boto3.Session().resource('s3').Bucket(\"mt5599\").Object(\"tweets/\" + obj1).upload_file(obj_loc1)\n",
    "\n",
    "        obj2 = \"spanish_tweets_2016_\" + str(i) + \"_processed.feather\"\n",
    "        obj_loc2 = \"../../data/\" + obj2\n",
    "        boto3.Session().resource('s3').Bucket(\"mt5599\").Object(\"tweets/\" + obj2).upload_file(obj_loc2)\n",
    "    except:\n",
    "        missed_files.append(i)\n",
    "        continue"
   ]
  },
  {
   "cell_type": "code",
   "execution_count": null,
   "id": "d877cac1-fada-488e-a451-94c04eadda1c",
   "metadata": {},
   "outputs": [],
   "source": [
    "# reading in cleaned files for combining into one dataframe\n",
    "\n",
    "dfs = []\n",
    "\n",
    "for i in tqdm.tqdm(range(0, 567)):\n",
    "    try:\n",
    "        df = pd.read_feather(\"../../data/spanish_tweets_2016_\" + str(i) + \"_processed.feather\")\n",
    "        dfs.append(df)\n",
    "    except:\n",
    "        missed_files.append(i)\n",
    "        continue"
   ]
  },
  {
   "cell_type": "code",
   "execution_count": null,
   "id": "b352e4b7-b10e-4920-a012-feb1dd980316",
   "metadata": {},
   "outputs": [],
   "source": [
    "# combining cleaned files into one dataframe\n",
    "\n",
    "main_df = pd.concat(dfs, axis=0)"
   ]
  }
 ],
 "metadata": {
  "instance_type": "ml.t3.medium",
  "kernelspec": {
   "display_name": "Python 3 (Data Science)",
   "language": "python",
   "name": "python3__SAGEMAKER_INTERNAL__arn:aws:sagemaker:eu-west-2:712779665605:image/datascience-1.0"
  },
  "language_info": {
   "codemirror_mode": {
    "name": "ipython",
    "version": 3
   },
   "file_extension": ".py",
   "mimetype": "text/x-python",
   "name": "python",
   "nbconvert_exporter": "python",
   "pygments_lexer": "ipython3",
   "version": "3.7.10"
  }
 },
 "nbformat": 4,
 "nbformat_minor": 5
}
