{
 "cells": [
  {
   "cell_type": "code",
   "execution_count": 2,
   "id": "2fc833b5-3f5e-475d-bb6e-17b02ce8efdb",
   "metadata": {},
   "outputs": [],
   "source": [
    "# COPY\n",
    "\n",
    "# read in dataset\n",
    "\n",
    "import boto3\n",
    "import pandas as pd\n",
    "from sagemaker import get_execution_role\n",
    "\n",
    "df = pd.read_feather(\"../../data/df_2016_tweets_cleaned_with_place.feather\")"
   ]
  },
  {
   "cell_type": "code",
   "execution_count": null,
   "id": "d154e8e1-f96b-4f12-858b-ff998b6bcfaa",
   "metadata": {},
   "outputs": [],
   "source": [
    "df.place"
   ]
  },
  {
   "cell_type": "code",
   "execution_count": null,
   "id": "72c83973-ad7a-4977-b60b-54d1465d2eab",
   "metadata": {},
   "outputs": [],
   "source": [
    "df1 = df[0:100]\n",
    "\n",
    "\n",
    "from multiprocessing import Pool # multithreading\n",
    "import tqdm\n",
    "\n",
    "# extracting place components\n",
    "def extract_place(df):\n",
    "    \n",
    "    df_coord = df\n",
    "    \n",
    "    df_coord['place_full_name'] = \"None\"\n",
    "    df_coord['place_name'] = \"None\"\n",
    "    df_coord['place_type'] = \"None\"\n",
    "    df_coord['place_country'] = \"None\"\n",
    "    df_coord['place_country_code'] = \"None\"\n",
    "\n",
    "    for i in range(df_coord.shape[0]):\n",
    "\n",
    "        if df_coord.place[i] != \"None\":\n",
    "            try:\n",
    "                split_by = \"Place\\(fullName='|', name='|', type='|', country='|', countryCode='|'\\)\"\n",
    "                temp = re.split(split_by, df_coord.place[i])\n",
    "\n",
    "                df_coord['place_full_name'][i] = temp[1]\n",
    "                df_coord['place_name'][i] = temp[2]\n",
    "                df_coord['place_type'][i] = temp[3]\n",
    "                df_coord['place_country'][i] = temp[4]\n",
    "                df_coord['place_country_code'][i] = temp[5]\n",
    "            except:\n",
    "                df_coord['place_full_name'][i] = None\n",
    "                df_coord['place_name'][i] = None\n",
    "                df_coord['place_type'][i] = None\n",
    "                df_coord['place_country'][i] = None\n",
    "                df_coord['place_country_code'][i] = None\n",
    "                \n",
    "    return df_coord\n",
    "\n",
    "\n",
    "\n",
    "def filepaths(df):\n",
    "    return df[\"place\"]\n",
    "\n",
    "\n",
    "for result in tqdm.tqdm(pool.imap_unordered(df1, filepaths), total=len(filepaths)):\n",
    "    print(result)"
   ]
  },
  {
   "cell_type": "code",
   "execution_count": 3,
   "id": "4b4e953d-fd34-481d-9a61-aa17d1086511",
   "metadata": {
    "collapsed": true,
    "jupyter": {
     "outputs_hidden": true
    },
    "tags": []
   },
   "outputs": [
    {
     "data": {
      "text/plain": [
       "es     5598666\n",
       "en      874472\n",
       "und     441829\n",
       "pt      125326\n",
       "zxx      83202\n",
       "ca       68466\n",
       "qme      67087\n",
       "in       56222\n",
       "fr       53781\n",
       "it       41321\n",
       "tl       38741\n",
       "art      37610\n",
       "ht       30650\n",
       "qht      14607\n",
       "eu       14588\n",
       "qst      14304\n",
       "et       12779\n",
       "qam       9672\n",
       "de        9402\n",
       "cy        9132\n",
       "sv        7652\n",
       "nl        7564\n",
       "ro        6769\n",
       "tr        6485\n",
       "hu        6392\n",
       "th        6360\n",
       "da        6153\n",
       "lt        6112\n",
       "pl        4835\n",
       "cs        3940\n",
       "fi        3639\n",
       "no        2885\n",
       "lv        2782\n",
       "ja        2261\n",
       "is        2106\n",
       "sl        1893\n",
       "ru        1589\n",
       "hi        1400\n",
       "vi        1229\n",
       "ar        1111\n",
       "zh        1019\n",
       "ko         353\n",
       "uk          82\n",
       "el          32\n",
       "bg          17\n",
       "iw          12\n",
       "fa           6\n",
       "sr           4\n",
       "kn           2\n",
       "hy           1\n",
       "mr           1\n",
       "Name: lang, dtype: int64"
      ]
     },
     "execution_count": 3,
     "metadata": {},
     "output_type": "execute_result"
    }
   ],
   "source": [
    "# seeing language distribution of tweets\n",
    "df.lang.value_counts(dropna = False)\n",
    "# most of them are in spanish (understandably as this was the original search parameter)\n",
    "# and it would be a lot more work translating from multiple languages, so we just filter out\n",
    "# tweets that aren't in spanish, but also keep english ones"
   ]
  },
  {
   "cell_type": "code",
   "execution_count": 4,
   "id": "56fe6230-3d59-440f-b626-ac7085010d51",
   "metadata": {},
   "outputs": [],
   "source": [
    "# filtering out all tweets that aren't in spanish\n",
    "df_es = df[df.lang == \"es\"]\n",
    "\n",
    "# creating separate df with english tweets\n",
    "df_en = df[df.lang == \"en\"]"
   ]
  },
  {
   "cell_type": "code",
   "execution_count": 5,
   "id": "02767a3a-8f7e-4743-898e-a0e568a9756c",
   "metadata": {},
   "outputs": [
    {
     "name": "stderr",
     "output_type": "stream",
     "text": [
      "/opt/conda/lib/python3.7/site-packages/pandas/core/indexing.py:1817: SettingWithCopyWarning: \n",
      "A value is trying to be set on a copy of a slice from a DataFrame.\n",
      "Try using .loc[row_indexer,col_indexer] = value instead\n",
      "\n",
      "See the caveats in the documentation: https://pandas.pydata.org/pandas-docs/stable/user_guide/indexing.html#returning-a-view-versus-a-copy\n",
      "  self._setitem_single_column(loc, value, pi)\n"
     ]
    },
    {
     "data": {
      "text/plain": [
       "None    4317143\n",
       "Yes     1281523\n",
       "Name: coordinates, dtype: int64"
      ]
     },
     "execution_count": 5,
     "metadata": {},
     "output_type": "execute_result"
    }
   ],
   "source": [
    "df1 = df_es\n",
    "\n",
    "df1.loc[df1.coordinates != \"None\",\"coordinates\"] = \"Yes\"  \n",
    "df1.coordinates.value_counts(dropna=False)"
   ]
  },
  {
   "cell_type": "markdown",
   "id": "e81b4d5c-d3ff-4bf1-8f4d-d0ca426f5660",
   "metadata": {},
   "source": [
    "https://huggingface.co/docs/transformers/tasks/translation"
   ]
  },
  {
   "cell_type": "code",
   "execution_count": 6,
   "id": "647e513f-5e78-4365-99fb-cafbd75482b5",
   "metadata": {},
   "outputs": [
    {
     "name": "stdout",
     "output_type": "stream",
     "text": [
      "-----!"
     ]
    },
    {
     "data": {
      "text/plain": [
       "[{'translation_text': 'My name is Bob.'}]"
      ]
     },
     "execution_count": 6,
     "metadata": {},
     "output_type": "execute_result"
    }
   ],
   "source": [
    "# deploying model from HuggingFace\n",
    "\n",
    "from sagemaker.huggingface import HuggingFaceModel\n",
    "import sagemaker\n",
    "\n",
    "role = sagemaker.get_execution_role()\n",
    "# Hub Model configuration. https://huggingface.co/models\n",
    "hub = {\n",
    "\t'HF_MODEL_ID':'Helsinki-NLP/opus-mt-es-en',\n",
    "\t'HF_TASK':'translation'\n",
    "}\n",
    "\n",
    "# create Hugging Face Model Class\n",
    "huggingface_model = HuggingFaceModel(\n",
    "\ttransformers_version='4.17.0',\n",
    "\tpytorch_version='1.10.2',\n",
    "\tpy_version='py38',\n",
    "\tenv=hub,\n",
    "\trole=role, \n",
    ")\n",
    "\n",
    "# deploy model to SageMaker Inference\n",
    "predictor = huggingface_model.deploy(\n",
    "\tinitial_instance_count=1, # number of instances\n",
    "\tinstance_type='ml.m5.xlarge' # ec2 instance type\n",
    ")\n",
    "\n",
    "predictor.predict({\n",
    "\t'inputs': \"Me llamo Bob.\"\n",
    "})"
   ]
  },
  {
   "cell_type": "code",
   "execution_count": 13,
   "id": "50eb5942-a3fc-4c66-84c1-13d5306aecac",
   "metadata": {
    "tags": []
   },
   "outputs": [
    {
     "name": "stdout",
     "output_type": "stream",
     "text": [
      "Name: pandas\n",
      "Version: 1.3.5\n",
      "Summary: Powerful data structures for data analysis, time series, and statistics\n",
      "Home-page: https://pandas.pydata.org\n",
      "Author: The Pandas Development Team\n",
      "Author-email: pandas-dev@python.org\n",
      "License: BSD-3-Clause\n",
      "Location: /opt/conda/lib/python3.7/site-packages\n",
      "Requires: numpy, python-dateutil, pytz\n",
      "Required-by: autovizwidget, hdijupyterutils, sagemaker, sagemaker-data-insights, seaborn, smclarify, sparkmagic, statsmodels\n"
     ]
    }
   ],
   "source": [
    "! pip show pandas"
   ]
  },
  {
   "cell_type": "code",
   "execution_count": null,
   "id": "e526ddc0-b5fa-48e4-84ba-dc6852ada2f8",
   "metadata": {
    "tags": []
   },
   "outputs": [],
   "source": [
    "import pandas as pd\n",
    "import numpy as np\n",
    "from tqdm import tqdm\n",
    "\n",
    "# Register `pandas.progress_apply` and `pandas.Series.map_apply` with `tqdm`\n",
    "# (can use `tqdm.gui.tqdm`, `tqdm.notebook.tqdm`, optional kwargs, etc.)\n",
    "\n",
    "df_es[\"tweet_en\"] = df_es.apply(lambda x: predictor.predict({\"inputs\": x['tweet_content']})[0]['translation_text'], axis=1)\n",
    "df_es[\"tweet_en\"]"
   ]
  },
  {
   "cell_type": "code",
   "execution_count": 50,
   "id": "6b2db356-660a-4f30-8548-abf55775dc72",
   "metadata": {
    "tags": []
   },
   "outputs": [],
   "source": [
    "q = df1.tweet_content.tolist()[0:10]"
   ]
  },
  {
   "cell_type": "code",
   "execution_count": 55,
   "id": "88c57825-7eb8-44a8-812c-8f3023fc610d",
   "metadata": {
    "tags": []
   },
   "outputs": [
    {
     "data": {
      "text/plain": [
       "None                                                                                                                                                        511647\n",
       "Place(fullName='Rosario, Argentina', name='Rosario', type='city', country='Argentina', countryCode='AR')                                                     43528\n",
       "Place(fullName='Ciudad Autónoma de Buenos Aires, Argentina', name='Ciudad Autónoma de Buenos Aires', type='city', country='Argentina', countryCode='AR')     39017\n",
       "Place(fullName='Buenos Aires, Argentina', name='Buenos Aires', type='admin', country='Argentina', countryCode='AR')                                          21395\n",
       "Place(fullName='Córdoba, Argentina', name='Córdoba', type='admin', country='Argentina', countryCode='AR')                                                    12712\n",
       "                                                                                                                                                             ...  \n",
       "Place(fullName='Costa Mesa, CA', name='Costa Mesa', type='city', country='United States', countryCode='US')                                                      1\n",
       "Place(fullName='San Justo, Argentina', name='San Justo', type='city', country='Argentina', countryCode='AR')                                                     1\n",
       "Place(fullName='Hooters', name='Hooters', type='poi', country='United States', countryCode='US')                                                                 1\n",
       "Place(fullName='Orlando, FL', name='Orlando', type='city', country='United States', countryCode='US')                                                            1\n",
       "Place(fullName='Guatemala', name='Guatemala', type='country', country='Guatemala', countryCode='GT')                                                             1\n",
       "Name: place, Length: 277, dtype: int64"
      ]
     },
     "execution_count": 55,
     "metadata": {},
     "output_type": "execute_result"
    }
   ],
   "source": [
    "df.place.value_counts(dropna=False)"
   ]
  },
  {
   "cell_type": "code",
   "execution_count": 57,
   "id": "4420587d-d54e-4351-874f-71aef8faaed9",
   "metadata": {
    "tags": []
   },
   "outputs": [
    {
     "ename": "ModelError",
     "evalue": "An error occurred (ModelError) when calling the InvokeEndpoint operation: Received server error (0) from primary with message \"Your invocation timed out while waiting for a response from container primary. Review the latency metrics for each container in Amazon CloudWatch, resolve the issue, and try again.\". See https://eu-west-2.console.aws.amazon.com/cloudwatch/home?region=eu-west-2#logEventViewer:group=/aws/sagemaker/Endpoints/huggingface-pytorch-inference-2022-12-27-16-01-36-180 in account 937484630899 for more information.",
     "output_type": "error",
     "traceback": [
      "\u001b[0;31m---------------------------------------------------------------------------\u001b[0m",
      "\u001b[0;31mModelError\u001b[0m                                Traceback (most recent call last)",
      "\u001b[0;32m<ipython-input-57-1c38adc0d965>\u001b[0m in \u001b[0;36m<module>\u001b[0;34m\u001b[0m\n\u001b[0;32m----> 1\u001b[0;31m \u001b[0mpredictor\u001b[0m\u001b[0;34m.\u001b[0m\u001b[0mpredict\u001b[0m\u001b[0;34m(\u001b[0m\u001b[0;34m{\u001b[0m\u001b[0;34m\"inputs\"\u001b[0m\u001b[0;34m:\u001b[0m \u001b[0mdf\u001b[0m\u001b[0;34m.\u001b[0m\u001b[0mtweet_content\u001b[0m\u001b[0;34m.\u001b[0m\u001b[0mtolist\u001b[0m\u001b[0;34m(\u001b[0m\u001b[0;34m)\u001b[0m\u001b[0;34m[\u001b[0m\u001b[0;36m0\u001b[0m\u001b[0;34m:\u001b[0m\u001b[0;36m100\u001b[0m\u001b[0;34m]\u001b[0m\u001b[0;34m}\u001b[0m\u001b[0;34m)\u001b[0m\u001b[0;34m\u001b[0m\u001b[0;34m\u001b[0m\u001b[0m\n\u001b[0m",
      "\u001b[0;32m/opt/conda/lib/python3.7/site-packages/sagemaker/predictor.py\u001b[0m in \u001b[0;36mpredict\u001b[0;34m(self, data, initial_args, target_model, target_variant, inference_id)\u001b[0m\n\u001b[1;32m    159\u001b[0m             \u001b[0mdata\u001b[0m\u001b[0;34m,\u001b[0m \u001b[0minitial_args\u001b[0m\u001b[0;34m,\u001b[0m \u001b[0mtarget_model\u001b[0m\u001b[0;34m,\u001b[0m \u001b[0mtarget_variant\u001b[0m\u001b[0;34m,\u001b[0m \u001b[0minference_id\u001b[0m\u001b[0;34m\u001b[0m\u001b[0;34m\u001b[0m\u001b[0m\n\u001b[1;32m    160\u001b[0m         )\n\u001b[0;32m--> 161\u001b[0;31m         \u001b[0mresponse\u001b[0m \u001b[0;34m=\u001b[0m \u001b[0mself\u001b[0m\u001b[0;34m.\u001b[0m\u001b[0msagemaker_session\u001b[0m\u001b[0;34m.\u001b[0m\u001b[0msagemaker_runtime_client\u001b[0m\u001b[0;34m.\u001b[0m\u001b[0minvoke_endpoint\u001b[0m\u001b[0;34m(\u001b[0m\u001b[0;34m**\u001b[0m\u001b[0mrequest_args\u001b[0m\u001b[0;34m)\u001b[0m\u001b[0;34m\u001b[0m\u001b[0;34m\u001b[0m\u001b[0m\n\u001b[0m\u001b[1;32m    162\u001b[0m         \u001b[0;32mreturn\u001b[0m \u001b[0mself\u001b[0m\u001b[0;34m.\u001b[0m\u001b[0m_handle_response\u001b[0m\u001b[0;34m(\u001b[0m\u001b[0mresponse\u001b[0m\u001b[0;34m)\u001b[0m\u001b[0;34m\u001b[0m\u001b[0;34m\u001b[0m\u001b[0m\n\u001b[1;32m    163\u001b[0m \u001b[0;34m\u001b[0m\u001b[0m\n",
      "\u001b[0;32m/opt/conda/lib/python3.7/site-packages/botocore/client.py\u001b[0m in \u001b[0;36m_api_call\u001b[0;34m(self, *args, **kwargs)\u001b[0m\n\u001b[1;32m    528\u001b[0m                 )\n\u001b[1;32m    529\u001b[0m             \u001b[0;31m# The \"self\" in this scope is referring to the BaseClient.\u001b[0m\u001b[0;34m\u001b[0m\u001b[0;34m\u001b[0m\u001b[0;34m\u001b[0m\u001b[0m\n\u001b[0;32m--> 530\u001b[0;31m             \u001b[0;32mreturn\u001b[0m \u001b[0mself\u001b[0m\u001b[0;34m.\u001b[0m\u001b[0m_make_api_call\u001b[0m\u001b[0;34m(\u001b[0m\u001b[0moperation_name\u001b[0m\u001b[0;34m,\u001b[0m \u001b[0mkwargs\u001b[0m\u001b[0;34m)\u001b[0m\u001b[0;34m\u001b[0m\u001b[0;34m\u001b[0m\u001b[0m\n\u001b[0m\u001b[1;32m    531\u001b[0m \u001b[0;34m\u001b[0m\u001b[0m\n\u001b[1;32m    532\u001b[0m         \u001b[0m_api_call\u001b[0m\u001b[0;34m.\u001b[0m\u001b[0m__name__\u001b[0m \u001b[0;34m=\u001b[0m \u001b[0mstr\u001b[0m\u001b[0;34m(\u001b[0m\u001b[0mpy_operation_name\u001b[0m\u001b[0;34m)\u001b[0m\u001b[0;34m\u001b[0m\u001b[0;34m\u001b[0m\u001b[0m\n",
      "\u001b[0;32m/opt/conda/lib/python3.7/site-packages/botocore/client.py\u001b[0m in \u001b[0;36m_make_api_call\u001b[0;34m(self, operation_name, api_params)\u001b[0m\n\u001b[1;32m    958\u001b[0m             \u001b[0merror_code\u001b[0m \u001b[0;34m=\u001b[0m \u001b[0mparsed_response\u001b[0m\u001b[0;34m.\u001b[0m\u001b[0mget\u001b[0m\u001b[0;34m(\u001b[0m\u001b[0;34m\"Error\"\u001b[0m\u001b[0;34m,\u001b[0m \u001b[0;34m{\u001b[0m\u001b[0;34m}\u001b[0m\u001b[0;34m)\u001b[0m\u001b[0;34m.\u001b[0m\u001b[0mget\u001b[0m\u001b[0;34m(\u001b[0m\u001b[0;34m\"Code\"\u001b[0m\u001b[0;34m)\u001b[0m\u001b[0;34m\u001b[0m\u001b[0;34m\u001b[0m\u001b[0m\n\u001b[1;32m    959\u001b[0m             \u001b[0merror_class\u001b[0m \u001b[0;34m=\u001b[0m \u001b[0mself\u001b[0m\u001b[0;34m.\u001b[0m\u001b[0mexceptions\u001b[0m\u001b[0;34m.\u001b[0m\u001b[0mfrom_code\u001b[0m\u001b[0;34m(\u001b[0m\u001b[0merror_code\u001b[0m\u001b[0;34m)\u001b[0m\u001b[0;34m\u001b[0m\u001b[0;34m\u001b[0m\u001b[0m\n\u001b[0;32m--> 960\u001b[0;31m             \u001b[0;32mraise\u001b[0m \u001b[0merror_class\u001b[0m\u001b[0;34m(\u001b[0m\u001b[0mparsed_response\u001b[0m\u001b[0;34m,\u001b[0m \u001b[0moperation_name\u001b[0m\u001b[0;34m)\u001b[0m\u001b[0;34m\u001b[0m\u001b[0;34m\u001b[0m\u001b[0m\n\u001b[0m\u001b[1;32m    961\u001b[0m         \u001b[0;32melse\u001b[0m\u001b[0;34m:\u001b[0m\u001b[0;34m\u001b[0m\u001b[0;34m\u001b[0m\u001b[0m\n\u001b[1;32m    962\u001b[0m             \u001b[0;32mreturn\u001b[0m \u001b[0mparsed_response\u001b[0m\u001b[0;34m\u001b[0m\u001b[0;34m\u001b[0m\u001b[0m\n",
      "\u001b[0;31mModelError\u001b[0m: An error occurred (ModelError) when calling the InvokeEndpoint operation: Received server error (0) from primary with message \"Your invocation timed out while waiting for a response from container primary. Review the latency metrics for each container in Amazon CloudWatch, resolve the issue, and try again.\". See https://eu-west-2.console.aws.amazon.com/cloudwatch/home?region=eu-west-2#logEventViewer:group=/aws/sagemaker/Endpoints/huggingface-pytorch-inference-2022-12-27-16-01-36-180 in account 937484630899 for more information."
     ]
    }
   ],
   "source": [
    "predictor.predict({\"inputs\": df.tweet_content.tolist()[0:100]})"
   ]
  },
  {
   "cell_type": "code",
   "execution_count": null,
   "id": "274d1834-3e37-4644-9646-acfcb8fe0264",
   "metadata": {},
   "outputs": [],
   "source": [
    "df1['tweet_content_en'] = english_tweets\n",
    "df1[['tweet_content', 'tweet_content_en']]"
   ]
  },
  {
   "cell_type": "code",
   "execution_count": null,
   "id": "5d4953f0-d13d-463b-8277-3990036d0416",
   "metadata": {},
   "outputs": [],
   "source": [
    "import feather\n",
    "\n",
    "df.to_feather(\"../../data/df_2016.feather\")\n",
    "boto3.Session().resource('s3').Bucket(\"mt5599\").Object(\"tweets/df_2016.feather\").upload_file(\"../../data/df_2016.feather\")"
   ]
  }
 ],
 "metadata": {
  "kernelspec": {
   "display_name": "Python 3 (Data Science)",
   "language": "python",
   "name": "python3__SAGEMAKER_INTERNAL__arn:aws:sagemaker:eu-west-2:712779665605:image/datascience-1.0"
  },
  "language_info": {
   "codemirror_mode": {
    "name": "ipython",
    "version": 3
   },
   "file_extension": ".py",
   "mimetype": "text/x-python",
   "name": "python",
   "nbconvert_exporter": "python",
   "pygments_lexer": "ipython3",
   "version": "3.7.10"
  }
 },
 "nbformat": 4,
 "nbformat_minor": 5
}
